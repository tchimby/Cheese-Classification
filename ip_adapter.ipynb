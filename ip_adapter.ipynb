{
 "cells": [
  {
   "cell_type": "code",
   "execution_count": 1,
   "id": "411c59b3-f177-4a10-8925-d931ce572eaa",
   "metadata": {},
   "outputs": [
    {
     "name": "stderr",
     "output_type": "stream",
     "text": [
      "2024-06-10 07:49:58.017811: I tensorflow/core/platform/cpu_feature_guard.cc:210] This TensorFlow binary is optimized to use available CPU instructions in performance-critical operations.\n",
      "To enable the following instructions: AVX2 FMA, in other operations, rebuild TensorFlow with the appropriate compiler flags.\n",
      "2024-06-10 07:49:58.533218: W tensorflow/compiler/tf2tensorrt/utils/py_utils.cc:38] TF-TRT Warning: Could not find TensorRT\n",
      "/Data/hala.gamouh/env/lib/python3.12/site-packages/diffusers/utils/outputs.py:63: UserWarning: torch.utils._pytree._register_pytree_node is deprecated. Please use torch.utils._pytree.register_pytree_node instead.\n",
      "  torch.utils._pytree._register_pytree_node(\n"
     ]
    }
   ],
   "source": [
    "import torch\n",
    "from diffusers import StableDiffusionPipeline, StableDiffusionImg2ImgPipeline, StableDiffusionInpaintPipelineLegacy, DDIMScheduler, AutoencoderKL\n",
    "from PIL import Image\n",
    "\n",
    "from ip_adapter import IPAdapter"
   ]
  },
  {
   "cell_type": "code",
   "execution_count": 2,
   "id": "6b6dc69c-192d-4d74-8b1e-f0d9ccfbdb49",
   "metadata": {},
   "outputs": [],
   "source": [
    "base_model_path = \"SG161222/Realistic_Vision_V4.0_noVAE\"\n",
    "vae_model_path = \"stabilityai/sd-vae-ft-mse\"\n",
    "image_encoder_path = \"models/image_encoder/\"\n",
    "ip_ckpt = \"models/ip-adapter_sd15.bin\"\n",
    "device = \"cuda\""
   ]
  },
  {
   "cell_type": "code",
   "execution_count": 3,
   "id": "63ec542f-8474-4f38-9457-073425578073",
   "metadata": {},
   "outputs": [
    {
     "name": "stderr",
     "output_type": "stream",
     "text": [
      "/Data/hala.gamouh/env/lib/python3.12/site-packages/huggingface_hub/file_download.py:1132: FutureWarning: `resume_download` is deprecated and will be removed in version 1.0.0. Downloads always resume when possible. If you want to force a new download, use `force_download=True`.\n",
      "  warnings.warn(\n"
     ]
    }
   ],
   "source": [
    "def image_grid(imgs, rows, cols):\n",
    "    assert len(imgs) == rows*cols\n",
    "\n",
    "    w, h = imgs[0].size\n",
    "    grid = Image.new('RGB', size=(cols*w, rows*h))\n",
    "    grid_w, grid_h = grid.size\n",
    "    \n",
    "    for i, img in enumerate(imgs):\n",
    "        grid.paste(img, box=(i%cols*w, i//cols*h))\n",
    "    return grid\n",
    "\n",
    "noise_scheduler = DDIMScheduler(\n",
    "    num_train_timesteps=1000,\n",
    "    beta_start=0.00085,\n",
    "    beta_end=0.012,\n",
    "    beta_schedule=\"scaled_linear\",\n",
    "    clip_sample=False,\n",
    "    set_alpha_to_one=False,\n",
    "    steps_offset=1,\n",
    ")\n",
    "vae = AutoencoderKL.from_pretrained(vae_model_path).to(dtype=torch.float16)"
   ]
  },
  {
   "cell_type": "code",
   "execution_count": 4,
   "id": "3849f9d0-5f68-4a49-9190-69dd50720cae",
   "metadata": {},
   "outputs": [
    {
     "data": {
      "application/vnd.jupyter.widget-view+json": {
       "model_id": "ab70f101953440338e80a53b73eac674",
       "version_major": 2,
       "version_minor": 0
      },
      "text/plain": [
       "Loading pipeline components...:   0%|          | 0/5 [00:00<?, ?it/s]"
      ]
     },
     "metadata": {},
     "output_type": "display_data"
    }
   ],
   "source": [
    "# load SD pipeline\n",
    "pipe = StableDiffusionPipeline.from_pretrained(\n",
    "    base_model_path,\n",
    "    torch_dtype=torch.float16,\n",
    "    scheduler=noise_scheduler,\n",
    "    vae=vae,\n",
    "    feature_extractor=None,\n",
    "    safety_checker=None\n",
    ")"
   ]
  },
  {
   "cell_type": "code",
   "execution_count": 5,
   "id": "a23de3d2-169e-470b-8012-960e3d07b04b",
   "metadata": {},
   "outputs": [],
   "source": [
    "# load ip-adapter\n",
    "ip_model = IPAdapter(pipe, image_encoder_path, ip_ckpt, device)"
   ]
  },
  {
   "cell_type": "code",
   "execution_count": 6,
   "id": "ed17c694",
   "metadata": {},
   "outputs": [],
   "source": [
    "simple_cheese_prompts = {\n",
    "    \"BRIE DE MELUN\": [\n",
    "        \"image of Brie de Melun on a white plate, with a plain white background, seen from above\",\n",
    "        \"image of Brie de Melun on a wooden plate, with a kitchen background, seen from a side view\",\n",
    "        \"image of Brie de Melun on a marble plate, with a shop background, seen from an angled shot\",\n",
    "        \"image of Brie de Melun on a slate board, with a cheese cave background, seen from above\",\n",
    "        \"image of Brie de Melun on a plain white background, with a plain white background, seen from a face view\",\n",
    "        \"image of Brie de Melun on a white plate, with a cheese factory background, seen from an angled shot\",\n",
    "        \"image of Brie de Melun on a wooden plate, with a plain white background, seen from above\",\n",
    "        \"image of Brie de Melun on a marble plate, with a kitchen background, seen from a side view\",\n",
    "        \"image of Brie de Melun on a slate board, with a shop background, seen from above\",\n",
    "        \"image of Brie de Melun on a plain white background, with a cheese cave background, seen from a side view\",\n",
    "        \"in its packaging\"\n",
    "    ],\n",
    "    \"CAMEMBERT\": [\n",
    "        \"image of Camembert on a white plate, with a plain white background, seen from above\",\n",
    "        \"image of Camembert on a wooden plate, with a kitchen background, seen from a side view\",\n",
    "        \"image of Camembert on a marble plate, with a shop background, seen from an angled shot\",\n",
    "        \"image of Camembert on a slate board, with a cheese cave background, seen from above\",\n",
    "        \"image of Camembert on a plain white background, with a plain white background, seen from a face view\",\n",
    "        \"image of Camembert on a white plate, with a cheese factory background, seen from an angled shot\",\n",
    "        \"image of Camembert on a wooden plate, with a plain white background, seen from above\",\n",
    "        \"image of Camembert on a marble plate, with a kitchen background, seen from a side view\",\n",
    "        \"image of Camembert on a slate board, with a shop background, seen from above\",\n",
    "        \"image of Camembert on a plain white background, with a cheese cave background, seen from a side view\"\n",
    "    ],\n",
    "    \"EPOISSES\": [\n",
    "        \"image of Epoisses on a white plate, with a plain white background, seen from above\",\n",
    "        \"image of Epoisses on a wooden plate, with a kitchen background, seen from a side view\",\n",
    "        \"image of Epoisses on a marble plate, with a shop background, seen from an angled shot\",\n",
    "        \"image of Epoisses on a slate board, with a cheese cave background, seen from above\",\n",
    "        \"image of Epoisses on a plain white background, with a plain white background, seen from a face view\",\n",
    "        \"image of Epoisses on a white plate, with a cheese factory background, seen from an angled shot\",\n",
    "        \"image of Epoisses on a wooden plate, with a plain white background, seen from above\",\n",
    "        \"image of Epoisses on a marble plate, with a kitchen background, seen from a side view\",\n",
    "        \"image of Epoisses on a slate board, with a shop background, seen from above\",\n",
    "        \"image of Epoisses on a plain white background, with a cheese cave background, seen from a side view\",\n",
    "        \"in its packaging\"\n",
    "    ],\n",
    "    \"FOURME D’AMBERT\": [\n",
    "        \"image of Fourme d'Ambert on a white plate, with a plain white background, seen from above\",\n",
    "        \"image of Fourme d'Ambert on a wooden plate, with a kitchen background, seen from a side view\",\n",
    "        \"image of Fourme d'Ambert on a marble plate, with a shop background, seen from an angled shot\",\n",
    "        \"image of Fourme d'Ambert on a slate board, with a cheese cave background, seen from above\",\n",
    "        \"image of Fourme d'Ambert on a plain white background, with a plain white background, seen from a face view\",\n",
    "        \"image of Fourme d'Ambert on a white plate, with a cheese factory background, seen from an angled shot\",\n",
    "        \"image of Fourme d'Ambert on a wooden plate, with a plain white background, seen from above\",\n",
    "        \"image of Fourme d'Ambert on a marble plate, with a kitchen background, seen from a side view\",\n",
    "        \"image of Fourme d'Ambert on a slate board, with a shop background, seen from above\",\n",
    "        \"image of Fourme d'Ambert on a plain white background, with a cheese cave background, seen from a side view\",\n",
    "        \"in its packaging\"\n",
    "    ],\n",
    "    \"RACLETTE\": [\n",
    "        \"image of Raclette on a white plate, with a plain white background, seen from above\",\n",
    "        \"image of Raclette on a wooden plate, with a kitchen background, seen from a side view\",\n",
    "        \"image of Raclette on a marble plate, with a shop background, seen from an angled shot\",\n",
    "        \"image of Raclette on a slate board, with a cheese cave background, seen from above\",\n",
    "        \"image of Raclette on a plain white background, with a plain white background, seen from a face view\",\n",
    "        \"image of Raclette on a white plate, with a cheese factory background, seen from an angled shot\",\n",
    "        \"image of Raclette on a wooden plate, with a plain white background, seen from above\",\n",
    "        \"image of Raclette on a marble plate, with a kitchen background, seen from a side view\",\n",
    "        \"image of Raclette on a slate board, with a shop background, seen from above\",\n",
    "        \"image of Raclette on a plain white background, with a cheese cave background, seen from a side view\",\n",
    "        \"in its packaging\"\n",
    "    ],\n",
    "    \"MORBIER\": [\n",
    "        \"image of Morbier on a white plate, with a plain white background, seen from above\",\n",
    "        \"image of Morbier on a wooden plate, with a kitchen background, seen from a side view\",\n",
    "        \"image of Morbier on a marble plate, with a shop background, seen from an angled shot\",\n",
    "        \"image of Morbier on a slate board, with a cheese cave background, seen from above\",\n",
    "        \"image of Morbier on a plain white background, with a plain white background, seen from a face view\",\n",
    "        \"image of Morbier on a white plate, with a cheese factory background, seen from an angled shot\",\n",
    "        \"image of Morbier on a wooden plate, with a plain white background, seen from above\",\n",
    "        \"image of Morbier on a marble plate, with a kitchen background, seen from a side view\",\n",
    "        \"image of Morbier on a slate board, with a shop background, seen from above\",\n",
    "        \"image of Morbier on a plain white background, with a cheese cave background, seen from a side view\",\n",
    "        \"in its packaging\"\n",
    "    ],\n",
    "    \"SAINT-NECTAIRE\": [ \n",
    "     \"image of Saint-Nectaire on a white plate, with a plain white background, seen from above\",\n",
    "\"image of Saint-Nectaire on a wooden plate, with a kitchen background, seen from a side view\",\n",
    "\"image of Saint-Nectaire on a marble plate, with a shop background, seen from an angled shot\",\n",
    "\"image of Saint-Nectaire on a slate board, with a cheese cave background, seen from above\",\n",
    "\"image of Saint-Nectaire on a plain white background, with a plain white background, seen from a face view\",\n",
    "\"image of Saint-Nectaire on a white plate, with a cheese factory background, seen from an angled shot\",\n",
    "\"image of Saint-Nectaire on a wooden plate, with a plain white background, seen from above\",\n",
    "\"image of Saint-Nectaire on a marble plate, with a kitchen background, seen from a side view\",\n",
    "\"image of Saint-Nectaire on a slate board, with a shop background, seen from above\",\n",
    "\"image of Saint-Nectaire on a plain white background, with a cheese cave background, seen from a side view\",\n",
    "\"in its packaging\"\n",
    "],\n",
    "\"POULIGNY SAINT- PIERRE\": [\n",
    "\"image of Pouligny Saint-Pierre on a white plate, with a plain white background, seen from above\",\n",
    "\"image of Pouligny Saint-Pierre on a wooden plate, with a kitchen background, seen from a side view\",\n",
    "\"image of Pouligny Saint-Pierre on a marble plate, with a shop background, seen from an angled shot\",\n",
    "\"image of Pouligny Saint-Pierre on a slate board, with a cheese cave background, seen from above\",\n",
    "\"image of Pouligny Saint-Pierre on a plain white background, with a plain white background, seen from a face view\",\n",
    "\"image of Pouligny Saint-Pierre on a white plate, with a cheese factory background, seen from an angled shot\",\n",
    "\"image of Pouligny Saint-Pierre on a wooden plate, with\",\n",
    "\"in its packaging\"\n",
    "],\n",
    "\"ROQUEFORT\": [\n",
    "        \"image of Roquefort on a white plate, with a plain white background, seen from above\",\n",
    "        \"image of Roquefort on a wooden plate, with a kitchen background, seen from a side view\",\n",
    "        \"image of Roquefort on a marble plate, with a shop background, seen from an angled shot\",\n",
    "        \"image of Roquefort on a slate board, with a cheese cave background, seen from above\",\n",
    "        \"image of Roquefort on a plain white background, with a plain white background, seen from a face view\",\n",
    "        \"image of Roquefort on a white plate, with a cheese factory background, seen from an angled shot\",\n",
    "        \"image of Roquefort on a wooden plate, with a plain white background, seen from above\",\n",
    "        \"image of Roquefort on a marble plate, with a kitchen background, seen from a side view\",\n",
    "        \"image of Roquefort on a slate board, with a shop background, seen from above\",\n",
    "        \"image of Roquefort on a plain white background, with a cheese cave background, seen from a side view\",\n",
    "        \"in its packaging\"\n",
    "    ],\n",
    "    \"COMTÉ\": [\n",
    "        \"image of Comté on a white plate, with a plain white background, seen from above\",\n",
    "        \"image of Comté on a wooden plate, with a kitchen background, seen from a side view\",\n",
    "        \"image of Comté on a marble plate, with a shop background, seen from an angled shot\",\n",
    "        \"image of Comté on a slate board, with a cheese cave background, seen from above\",\n",
    "        \"image of Comté on a plain white background, with a plain white background, seen from a face view\",\n",
    "        \"image of Comté on a white plate, with a cheese factory background, seen from an angled shot\",\n",
    "        \"image of Comté on a wooden plate, with a plain white background, seen from above\",\n",
    "        \"image of Comté on a marble plate, with a kitchen background, seen from a side view\",\n",
    "        \"image of Comté on a slate board, with a shop background, seen from above\",\n",
    "        \"image of Comté on a plain white background, with a cheese cave background, seen from a side view\",\n",
    "        \"in its packaging\"\n",
    "    ],\n",
    "    \"CHÈVRE\": [\n",
    "        \"image of Chèvre on a white plate, with a plain white background, seen from above\",\n",
    "        \"image of Chèvre on a wooden plate, with a kitchen background, seen from a side view\",\n",
    "        \"image of Chèvre on a marble plate, with a shop background, seen from an angled shot\",\n",
    "        \"image of Chèvre on a slate board, with a cheese cave background, seen from above\",\n",
    "        \"image of Chèvre on a plain white background, with a plain white background, seen from a face view\",\n",
    "        \"image of Chèvre on a white plate, with a cheese factory background, seen from an angled shot\",\n",
    "        \"image of Chèvre on a wooden plate, with a plain white background, seen from above\",\n",
    "        \"image of Chèvre on a marble plate, with a kitchen background, seen from a side view\",\n",
    "        \"image of Chèvre on a slate board, with a shop background, seen from above\",\n",
    "        \"image of Chèvre on a plain white background, with a cheese cave background, seen from a side view\",\n",
    "        \"in its packaging\"\n",
    "    ],\n",
    "    \"PECORINO\": [\n",
    "    \"image of Pecorino on a white plate, with a plain white background, seen from above\",\n",
    "    \"image of Pecorino on a wooden plate, with a kitchen background, seen from a side view\",\n",
    "    \"image of Pecorino on a marble plate, with a shop background, seen from an angled shot\",\n",
    "    \"image of Pecorino on a slate board, with a cheese cave background, seen from above\",\n",
    "    \"image of Pecorino on a plain white background, with a plain white background, seen from a face view\",\n",
    "    \"image of Pecorino on a white plate, with a cheese factory background, seen from an angled shot\",\n",
    "    \"image of Pecorino on a wooden plate, with a plain white background, seen from above\",\n",
    "    \"image of Pecorino on a marble plate, with a kitchen background, seen from a side view\",\n",
    "    \"image of Pecorino on a slate board, with a shop background, seen from above\",\n",
    "    \"image of Pecorino on a plain white background, with a cheese cave background, seen from a side view\",\n",
    "    \"in its packaging\"\n",
    "],\n",
    "    \"NEUFCHATEL\": [\n",
    "        \"image of Neufchatel on a white plate, with a plain white background, seen from above\",\n",
    "        \"image of Neufchatel on a wooden plate, with a kitchen background, seen from a side view\",\n",
    "        \"image of Neufchatel on a marble plate, with a shop background, seen from an angled shot\",\n",
    "        \"image of Neufchatel on a slate board, with a cheese cave background, seen from above\",\n",
    "        \"image of Neufchatel on a plain white background, with a plain white background, seen from a face view\",\n",
    "        \"image of Neufchatel on a white plate, with a cheese factory background, seen from an angled shot\",\n",
    "        \"image of Neufchatel on a wooden plate, with a plain white background, seen from above\",\n",
    "        \"image of Neufchatel on a marble plate, with a kitchen background, seen from a side view\",\n",
    "        \"image of Neufchatel on a slate board, with a shop background, seen from above\",\n",
    "        \"image of Neufchatel on a plain white background, with a cheese cave background, seen from a side view\",\n",
    "        \"in its packaging\"\n",
    "    ],\n",
    "    \"CHEDDAR\": [\n",
    "        \"image of Cheddar on a white plate, with a plain white background, seen from above\",\n",
    "        \"image of Cheddar on a wooden plate, with a kitchen background, seen from a side view\",\n",
    "        \"image of Cheddar on a marble plate, with a shop background, seen from an angled shot\",\n",
    "        \"image of Cheddar on a slate board, with a cheese cave background, seen from above\",\n",
    "        \"image of Cheddar on a plain white background, with a plain white background, seen from a face view\",\n",
    "        \"image of Cheddar on a white plate, with a cheese factory background, seen from an angled shot\",\n",
    "        \"image of Cheddar on a wooden plate, with a plain white background, seen from above\",\n",
    "        \"image of Cheddar on a marble plate, with a kitchen background, seen from a side view\",\n",
    "        \"image of Cheddar on a slate board, with a shop background, seen from above\",\n",
    "        \"image of Cheddar on a plain white background, with a cheese cave background, seen from a side view\",\n",
    "        \"in its packaging\"\n",
    "    ],\n",
    "    \"BÛCHETTE DE CHÈVRE\": [\n",
    "        \"image of Buchette de Chèvre on a white plate, with a plain white background, seen from above\",\n",
    "        \"image of Buchette de Chèvre on a wooden plate, with a kitchen background, seen from a side view\",\n",
    "        \"image of Buchette de Chèvre on a marble plate, with a shop background, seen from an angled shot\",\n",
    "        \"image of Buchette de Chèvre on a slate board, with a cheese cave background, seen from above\",\n",
    "        \"image of Buchette de Chèvre on a plain white background, with a plain white background, seen from a face view\",\n",
    "        \"image of Buchette de Chèvre on a white plate, with a cheese factory background, seen from an angled shot\",\n",
    "        \"image of Buchette de Chèvre on a wooden plate, with a plain white background, seen from above\",\n",
    "        \"image of Buchette de Chèvre on a marble plate, with a kitchen background, seen from a side view\",\n",
    "        \"image of Buchette de Chèvre on a slate board, with a shop background, seen from above\",\n",
    "        \"image of Buchette de Chèvre on a plain white background, with a cheese cave background, seen from a side view\",\n",
    "        \"in its packaging\"\n",
    "    ],\n",
    "    \"PARMESAN\": [\n",
    "        \"image of Parmesan on a white plate, with a plain white background, seen from above\",\n",
    "        \"image of Parmesan on a wooden plate, with a kitchen background, seen from a side view\",\n",
    "\"image of Parmesan on a marble plate, with a shop background, seen from an angled shot\",\n",
    "\"image of Parmesan on a slate board, with a cheese cave background, seen from above\",\n",
    "\"image of Parmesan on a plain white background, with a plain white background, seen from a face view\",\n",
    "\"image of Parmesan on a white plate, with a cheese factory background, seen from an angled shot\",\n",
    "\"image of Parmesan on a wooden plate, with a plain white background, seen from above\",\n",
    "\"image of Parmesan on a marble plate, with a kitchen background, seen from a side view\",\n",
    "\"image of Parmesan on a slate board, with a shop background, seen from above\",\n",
    "\"image of Parmesan on a plain white background, with a cheese cave background, seen from a side view\",\n",
    "\"in its packaging\"\n",
    "],\n",
    "\"SAINT- FÉLICIEN\": [\n",
    "        \"image of Saint-Félicien on a white plate, with a plain white background, seen from above\",\n",
    "        \"image of Saint-Félicien on a wooden plate, with a kitchen background, seen from a side view\",\n",
    "        \"image of Saint-Félicien on a marble plate, with a shop background, seen from an angled shot\",\n",
    "        \"image of Saint-Félicien on a slate board, with a cheese cave background, seen from above\",\n",
    "        \"image of Saint-Félicien on a plain white background, with a plain white background, seen from a face view\",\n",
    "        \"image of Saint-Félicien on a white plate, with a cheese factory background, seen from an angled shot\",\n",
    "        \"image of Saint-Félicien on a wooden plate, with a plain white background, seen from above\",\n",
    "        \"image of Saint-Félicien on a marble plate, with a kitchen background, seen from a side view\",\n",
    "        \"image of Saint-Félicien on a slate board, with a shop background, seen from above\",\n",
    "        \"image of Saint-Félicien on a plain white background, with a cheese cave background, seen from a side view\",\n",
    "        \"in its packaging\"\n",
    "    ],\n",
    "\"MONT D’OR\": [\n",
    "        \"image of Mont d'Or on a white plate, with a plain white background, seen from above\",\n",
    "        \"image of Mont d'Or on a wooden plate, with a kitchen background, seen from a side view\",\n",
    "        \"image of Mont d'Or on a marble plate, with a shop background, seen from an angled shot\",\n",
    "        \"image of Mont d'Or on a slate board, with a cheese cave background, seen from above\",\n",
    "        \"image of Mont d'Or on a plain white background, with a plain white background, seen from a face view\",\n",
    "        \"image of Mont d'Or on a white plate, with a cheese factory background, seen from an angled shot\",\n",
    "        \"image of Mont d'Or on a wooden plate, with a plain white background, seen from above\",\n",
    "        \"image of Mont d'Or on a marble plate, with a kitchen background, seen from a side view\",\n",
    "        \"image of Mont d'Or on a slate board, with a shop background, seen from above\",\n",
    "        \"image of Mont d'Or on a plain white background, with a cheese cave background, seen from a side view\",\n",
    "        \"in its packaging\"\n",
    "    ],\n",
    "    \"STILTON\": [\n",
    "        \"image of Stilton on a white plate, with a plain white background, seen from above\",\n",
    "        \"image of Stilton on a wooden plate, with a kitchen background, seen from a side view\",\n",
    "        \"image of Stilton on a marble plate, with a shop background, seen from an angled shot\",\n",
    "        \"image of Stilton on a slate board, with a cheese cave background, seen from above\",\n",
    "        \"image of Stilton on a plain white background, with a plain white background, seen from a face view\",\n",
    "        \"image of Stilton on a white plate, with a cheese factory background, seen from an angled shot\",\n",
    "        \"image of Stilton on a wooden plate, with a plain white background, seen from above\",\n",
    "        \"image of Stilton on a marble plate, with a kitchen background, seen from a side view\",\n",
    "        \"image of Stilton on a slate board, with a shop background, seen from above\",\n",
    "        \"image of Stilton on a plain white background, with a cheese cave background, seen from a side view\",\n",
    "        \"in its packaging\"\n",
    "    \n",
    "    ],\n",
    "    \"SCARMOZA\": [\n",
    "        \"image of Scamorza on a white plate, with a plain white background, seen from above\",\n",
    "        \"image of Scamorza on a wooden plate, with a kitchen background, seen from a side view\",\n",
    "        \"image of Scamorza on a marble plate, with a shop background, seen from an angled shot\",\n",
    "        \"image of Scamorza on a slate board, with a cheese cave background, seen from above\",\n",
    "        \"image of Scamorza on a plain white background, with a plain white background, seen from a face view\",\n",
    "        \"image of Scamorza on a white plate, with a cheese factory background, seen from an angled shot\",\n",
    "        \"image of Scamorza on a wooden plate, with a plain white background, seen from above\",\n",
    "        \"image of Scamorza on a marble plate, with a kitchen background, seen from a side view\",\n",
    "        \"image of Scamorza on a slate board, with a shop background, seen from above\",\n",
    "        \"image of Scamorza on a plain white background, with a cheese cave background, seen from a side view\",\n",
    "        \"in its packaging\"\n",
    "    ],\n",
    "    \"CABECOU\": [\n",
    "        \"image of Cabecou on a white plate, with a plain white background, seen from above\",\n",
    "        \"image of Cabecou on a wooden plate, with a kitchen background, seen from a side view\",\n",
    "        \"image of Cabecou on a marble plate, with a shop background, seen from an angled shot\",\n",
    "        \"image of Cabecou on a slate board, with a cheese cave background, seen from above\",\n",
    "        \"image of Cabecou on a plain white background, with a plain white background, seen from a face view\",\n",
    "        \"image of Cabecou on a white plate, with a cheese factory background, seen from an angled shot\",\n",
    "        \"image of Cabecou on a wooden plate, with a plain white background, seen from above\",\n",
    "        \"image of Cabecou on a marble plate, with a kitchen background, seen from a side view\",\n",
    "        \"image of Cabecou on aslate board, with a shop background, seen from above\",\n",
    "\"image of Cabecou on a plain white background, with a cheese cave background, seen from a side view\",\n",
    "\"in its packaging\"\n",
    "],\n",
    "\"BEAUFORT\": [\n",
    "\"image of Beaufort on a white plate, with a plain white background, seen from above\",\n",
    "\"image of Beaufort on a wooden plate, with a kitchen background, seen from a side view\",\n",
    "\"image of Beaufort on a marble plate, with a shop background, seen from an angled shot\",\n",
    "\"image of Beaufort on a slate board, with a cheese cave background, seen from above\",\n",
    "\"image of Beaufort on a plain white background, with a plain white background, seen from a face view\",\n",
    "\"image of Beaufort on a white plate, with a cheese factory background, seen from an angled shot\",\n",
    "\"image of Beaufort on a wooden plate, with a plain white background, seen from above\",\n",
    "\"image of Beaufort on a marble plate, with a kitchen background, seen from a side view\",\n",
    "\"image of Beaufort on a slate board, with a shop background, seen from above\",\n",
    "\"image of Beaufort on a plain white background, with a cheese cave background, seen from a side view\",\n",
    "\"in its packaging\"\n",
    "],\n",
    "\"MUNSTER\": [\n",
    "\"image of Munster on a white plate, with a plain white background, seen from above\",\n",
    "\"image of Munster on a wooden plate, with a kitchen background, seen from a side view\",\n",
    "\"image of Munster on a marble plate, with a shop background, seen from an angled shot\",\n",
    "\"image of Munster on a slate board, with a cheese cave background, seen from above\",\n",
    "\"image of Munster on a plain white background, with a plain white background, seen from a face view\",\n",
    "\"image of Munster on a white plate, with a cheese factory background, seen from an angled shot\",\n",
    "\"image of Munster on a wooden plate, with a plain white background, seen from above\",\n",
    "\"image of Munster on a marble plate, with a kitchen background, seen from a side view\",\n",
    "\"image of Munster on a slate board, with a shop background, seen from above\",\n",
    "\"image of Munster on a plain white background, with a cheese cave background, seen from a side view\",\n",
    "\"in its packaging\"\n",
    "],\n",
    "\"CHABICHOU\": [\n",
    "\"image of Chabichou on a white plate, with a plain white background, seen from above\",\n",
    "\"image of Chabichou on a wooden plate, with a kitchen background, seen from a side view\",\n",
    "\"image of Chabichou on a marble plate, with a shop background, seen from an angled shot\",\n",
    "\"image of Chabichou on a slate board, with a cheese cave background, seen from above\",\n",
    "\"image of Chabichou on a plain white background, with a plain white background, seen from a face view\",\n",
    "\"image of Chabichou on a white plate, with a cheese factory background, seen from an angled shot\",\n",
    "\"image of Chabichou on a wooden plate, with a plain white background, seen from above\",\n",
    "\"image of Chabichou on a marble plate, with a kitchen background, seen from a side view\",\n",
    "\"image of Chabichou on a slate board, with a shop background, seen from above\",\n",
    "\"image of Chabichou on a plain white background, with a cheese cave background, seen from a side view\",\n",
    "\"in its packaging\"\n",
    "],\n",
    "\"TOMME DE VACHE\": [\n",
    "\"image of Tomme de Vache on a white plate, with a plain white background, seen from above\",\n",
    "\"image of Tomme de Vache on a wooden plate, with a kitchen background, seen from a side view\",\n",
    "\"image of Tomme de Vache on a marble plate, with a shop background, seen from an angled shot\",\n",
    "\"image of Tomme de Vache on a slate board, with a cheese cave background, seen from above\",\n",
    "\"image of Tomme de Vache on a plain white background, with a plain white background, seen from a face view\",\n",
    "\"image of Tomme de Vache on a white plate, with a cheese factory background, seen from an angled shot\",\n",
    "\"image of Tomme de Vache on a wooden plate, with a plain white background, seen from above\",\n",
    "\"image of Tomme de Vache on a marble plate, with a kitchen background, seen from a side view\",\n",
    "\"image of Tomme de Vache on a slate board, with a shop background, seen from above\",\n",
    "\"image of Tomme de Vache on a plain white background, with a cheese cave background, seen from a side view\",\n",
    "\"in its packaging\"\n",
    "],\n",
    "\"REBLOCHON\": [\n",
    "\"image of Reblochon on a white plate, with a plain white background, seen from above\",\n",
    "\"image of Reblochon on a wooden plate, with a kitchen background, seen from a side view\",\n",
    "\"image of Reblochon on a marble plate, with a shop background, seen from an angled shot\",\n",
    "\"image of Reblochon on a slate board, with a cheese cave background, seen from above\",\n",
    "\"image of Reblochon on a plain white background, with a plain white background, seen from a face view\",\n",
    "\"image of Reblochon on a white plate, with a cheese factory background, seen from an angled shot\",\n",
    "\"image of Reblochon on a wooden plate, with a plain white background, seen from above\",\n",
    "\"image of Reblochon on a marble plate, with a kitchen background, seen from a side view\",\n",
    "\"image of Reblochon on a slate board, with a shop background, seen from above\",\n",
    "\"image of Reblochon on a plain white background, with a cheese cave background, seen from a side view\",\n",
    "\"in its packaging\"\n",
    "],\n",
    "\"EMMENTAL\": [\n",
    "\"image of Emmental on a white plate, with a plain white background, seen from above\",\n",
    "\"image of Emmental on a wooden plate, with a kitchen background, seen from a side view\",\n",
    "\"image of Emmental on a marble plate, with a shop background, seen from an angled shot\",\n",
    "\"image of Emmental on a slate board, with a cheese cave background, seen from above\",\n",
    "\"image of Emmental on a plain white background, with a plain white background, seen from a face view\",\n",
    "\"image of Emmental on a white plate, with a cheese factory background, seen from an angled shot\",\n",
    "\"image of Emmental on a wooden plate, with a plain white background, seen from above\",\n",
    "\"image of Emmental on a marble plate, with a kitchen background, seen from a side view\",\n",
    "\"image of Emmental on a slate board, with a shop background, seen from above\",\n",
    "\"image of Emmental on a plain white background, with a cheese cave background, seen from a side view\",\n",
    "\"in its packaging\"\n",
    "],\n",
    "\"FETA\": [\n",
    "\"image of Feta on a white plate, with a plain white background, seen from above\",\n",
    "\"image of Feta on a wooden plate, with a kitchen background, seen from a side view\",\n",
    "\"image of Feta on a marble plate, with a shop background, seen from an angled shot\",\n",
    "\"image of Feta on a slate board, with a cheese cave background, seen from above\",\n",
    "\"image of Feta on a plain white background, with a plain white background, seen from a face view\",\n",
    "\"image of Feta on a white plate, with a cheese factory background, seen from an angled shot\",\n",
    "\"image of Feta on a wooden plate, with a plain white background, seen from above\",\n",
    "\"image of Feta on a marble plate, with a kitchen background, seen from a side view\",\n",
    "\"image of Feta on a slate board, with a shop background, seen from above\",\n",
    "\"image of Feta on a plain white background, with a cheese cave background, seen from a side view\",\n",
    "\"in its packaging\"\n",
    "],\n",
    "\"OSSAU- IRATY\": [\n",
    "\"image of Ossau-Iraty on a white plate, with a plain white background, seen from above\",\n",
    "\"image of Ossau-Iraty on a wooden plate, with a kitchen background, seen from a side view\",\n",
    "\"image of Ossau-Iraty on a marble plate, with a shop background, seen from an angled shot\",\n",
    "\"image of Ossau-Iraty on a slate board, with a cheese cave background, seen from above\",\n",
    "\"image of Ossau-Iraty on a plain white background, with a plain white background, seen from a face view\",\n",
    "\"image of Ossau-Iraty on a white plate, with a cheese factory background, seen from an angled shot\",\n",
    "\"image of Ossau-Iraty on a wooden plate, with a plain white background, seen from above\",\n",
    "\"image of Ossau-Iraty on a marble plate, with a kitchen background, seen from a side view\",\n",
    "\"image of Ossau-Iraty on a slate board, with a shop background, seen from above\",\n",
    "\"image of Ossau-Iraty on a plain white background, with a cheese cave background, seen from a side view\",\n",
    "\"in its packaging\"\n",
    "],\n",
    "\"MIMOLETTE\": [\n",
    "\"image of Mimolette on a white plate, with a plain white background, seen from above\",\n",
    "\"image of Mimolette on a wooden plate, with a kitchen background, seen from a side view\",\n",
    "\"image of Mimolette on a marble plate, with a shop background, seen from an angled shot\",\n",
    "\"image of Mimolette on a slate board, with a cheese cave background, seen from above\",\n",
    "\"image of Mimolette on a plain white background, with a plain white background, seen from a face view\",\n",
    "\"image of Mimolette on a white plate, with a cheese factory background, seen from an angled shot\",\n",
    "\"image of Mimolette on a wooden plate, with a plain white background, seen from above\",\n",
    "\"image of Mimolette on a marble plate, with a kitchen background, seen from a side view\",\n",
    "\"image of Mimolette on a slate board, with ashop background, seen from above\",\n",
    "\"image of Mimolette on a plain white background, with a cheese cave background, seen from a side view\",\n",
    "\"in its packaging\"\n",
    "],\n",
    "\"MAROILLES\": [\n",
    "\"image of Maroilles on a white plate, with a plain white background, seen from above\",\n",
    "\"image of Maroilles on a wooden plate, with a kitchen background, seen from a side view\",\n",
    "\"image of Maroilles on a marble plate, with a shop background, seen from an angled shot\",\n",
    "\"image of Maroilles on a slate board, with a cheese cave background, seen from above\",\n",
    "\"image of Maroilles on a plain white background, with a plain white background, seen from a face view\",\n",
    "\"image of Maroilles on a white plate, with a cheese factory background, seen from an angled shot\",\n",
    "\"image of Maroilles on a wooden plate, with a plain white background, seen from above\",\n",
    "\"image of Maroilles on a marble plate, with a kitchen background, seen from a side view\",\n",
    "\"image of Maroilles on a slate board, with a shop background, seen from above\",\n",
    "\"image of Maroilles on a plain white background, with a cheese cave background, seen from a side view\",\n",
    "\"in its packaging\"\n",
    "],\n",
    "\"GRUYÈRE\": [\n",
    "\"image of Gruyère on a white plate, with a plain white background, seen from above\",\n",
    "\"image of Gruyère on a wooden plate, with a kitchen background, seen from a side view\",\n",
    "\"image of Gruyère on a marble plate, with a shop background, seen from an angled shot\",\n",
    "\"image of Gruyère on a slate board, with a cheese cave background, seen from above\",\n",
    "\"image of Gruyère on a plain white background, with a plain white background, seen from a face view\",\n",
    "\"image of Gruyère on a white plate, with a cheese factory background, seen from an angled shot\",\n",
    "\"image of Gruyère on a wooden plate, with a plain white background, seen from above\",\n",
    "\"image of Gruyère on a marble plate, with a kitchen background, seen from a side view\",\n",
    "\"image of Gruyère on a slate board, with a shop background, seen from above\",\n",
    "\"image of Gruyère on a plain white background, with a cheese cave background, seen from a side view\",\n",
    "\"in its packaging\"\n",
    "],\n",
    "\"MOTHAIS\": [\n",
    "\"image of Mothais on a white plate, with a plain white background, seen from above\",\n",
    "\"image of Mothais on a wooden plate, with a kitchen background, seen from a side view\",\n",
    "\"image of Mothais on a marble plate, with a shop background, seen from an angled shot\",\n",
    "\"image of Mothais on a slate board, with a cheese cave background, seen from above\",\n",
    "\"image of Mothais on a plain white background, with a plain white background, seen from a face view\",\n",
    "\"image of Mothais on a white plate, with a cheese factory background, seen from an angled shot\",\n",
    "\"image of Mothais on a wooden plate, with a plain white background, seen from above\",\n",
    "\"image of Mothais on a marble plate, with a kitchen background, seen from a side view\",\n",
    "\"image of Mothais on a slate board, with a shop background, seen from above\",\n",
    "\"image of Mothais on a plain white background, with a cheese cave background, seen from a side view\",\n",
    "\"in its packaging\"\n",
    "],\n",
    "\"VACHERIN\": [\n",
    "\"image of Vacherin on a white plate, with a plain white background, seen from above\",\n",
    "\"image of Vacherin on a wooden plate, with a kitchen background, seen from a side view\",\n",
    "\"image of Vacherin on a marble plate, with a shop background, seen from an angled shot\",\n",
    "\"image of Vacherin on a slate board, with a cheese cave background, seen from above\",\n",
    "\"image of Vacherin on a plain white background, with a plain white background, seen from a face view\",\n",
    "\"image of Vacherin on a white plate, with a cheese factory background, seen from an angled shot\",\n",
    "\"image of Vacherin on a wooden plate, with a plain white background, seen from above\",\n",
    "\"image of Vacherin on a marble plate, with a kitchen background, seen from a side view\",\n",
    "\"image of Vacherin on a slate board, with a shop background, seen from above\",\n",
    "\"image of Vacherin on a plain white background, with a cheese cave background, seen from a side view\",\n",
    "\"in its packaging\"\n",
    "],\n",
    "\"MOZZARELLA\": [\n",
    "\"image of Mozzarella on a white plate, with a plain white background, seen from above\",\n",
    "\"image of Mozzarella on a wooden plate, with a kitchen background, seen from a side view\",\n",
    "\"image of Mozzarella on a marble plate, with a shop background, seen from an angled shot\",\n",
    "\"image of Mozzarella on a slate board, with a cheese cave background, seen from above\",\n",
    "\"image of Mozzarella on a plain white background, with a plain white background, seen from a face view\",\n",
    "\"image of Mozzarella on a white plate, with a cheese factory background, seen from an angled shot\",\n",
    "\"image of Mozzarella on a wooden plate, with a plain white background, seen from above\",\n",
    "\"image of Mozzarella on a marble plate, with a kitchen background, seen from a side view\",\n",
    "\"image of Mozzarella on a slate board, with a shop background, seen from above\",\n",
    "\"image of Mozzarella on a plain white background, with a cheese cave background, seen from a side view\",\n",
    "\"in its packaging\"\n",
    "],\n",
    "\"TÊTE DE MOINES\": [\n",
    "\"image of Tête de Moine on a white plate, with a plain white background, seen from above\",\n",
    "\"image of Tête de Moine on a wooden plate, with a kitchen background, seen from a side view\",\n",
    "\"image of Tête de Moine on a marble plate, with a shop background, seen from an angled shot\",\n",
    "\"image of Tête de Moine on a slate board, with a cheese cave background, seen from above\",\n",
    "\"image of Tête de Moine on a plain white background, with a plain white background, seen from a face view\",\n",
    "\"image of Tête de Moine on a white plate, with a cheese factory background, seen from an angled shot\",\n",
    "\"image of Tête de Moine on a wooden plate, with a plain white background, seen from above\",\n",
    "\"image of Tête de Moine on a marble plate, with a kitchen background, seen from a side view\",\n",
    "\"image of Tête de Moine on a slate board, with a shop background, seen from above\",\n",
    "\"image of Tête de Moine on a plain white background, with a cheese cave background, seen from a side view\",\n",
    "\"in its packaging\"\n",
    "],\n",
    "\"FROMAGE FRAIS\": [\n",
    "\"image of Fromage Frais on a white plate, with a plain white background, seen from above\",\n",
    "\"image of Fromage Frais on a wooden plate, with a kitchen background, seen from a side view\",\n",
    "\"image of Fromage Frais on a marble plate, with a shop background, seen from an angled shot\",\n",
    "\"image of Fromage Frais on a slate board, with a cheese cave background, seen from above\",\n",
    "\"image of Fromage Frais on a plain white background, with a plain white background, seen from a face view\",\n",
    "\"image of Fromage Frais on a white plate, with a cheese factory background, seen from an angled shot\",\n",
    "\"image of Fromage Frais on a wooden plate, with a plain white background, seen from above\",\n",
    "\"image of Fromage Frais on a marble plate, with a kitchen background, seen from a side view\",\n",
    "\"image of Fromage Frais on a slate board, with a shop background, seen from above\",\n",
    "\"image of Fromage Frais on a plain white background, with a cheese cave background, seen from a side view\",\n",
    "\"in its packaging\"\n",
    "]\n",
    "}\n",
    "\n",
    "\n",
    "\n",
    "\n",
    "\n"
   ]
  },
  {
   "cell_type": "code",
   "execution_count": 9,
   "id": "7367a520",
   "metadata": {},
   "outputs": [
    {
     "name": "stdout",
     "output_type": "stream",
     "text": [
      "/Data/hala.gamouh/cheese_classification_challenge/dataset/val/FOURME D’AMBERT/000000.jpg\n",
      "generating images for FOURME D’AMBERT with prompt: best quality, high quality, image of Fourme d'Ambert on a plain white background, with a cheese cave background, seen from a side view\n"
     ]
    },
    {
     "data": {
      "application/vnd.jupyter.widget-view+json": {
       "model_id": "73c915ebdae4489a99e329729423937c",
       "version_major": 2,
       "version_minor": 0
      },
      "text/plain": [
       "  0%|          | 0/20 [00:00<?, ?it/s]"
      ]
     },
     "metadata": {},
     "output_type": "display_data"
    },
    {
     "name": "stdout",
     "output_type": "stream",
     "text": [
      "generating images for FOURME D’AMBERT with prompt: best quality, high quality, image of Fourme d'Ambert on a plain white background, with a plain white background, seen from a face view\n"
     ]
    },
    {
     "data": {
      "application/vnd.jupyter.widget-view+json": {
       "model_id": "a53d197c0c69424fbd4722345cbcf1a5",
       "version_major": 2,
       "version_minor": 0
      },
      "text/plain": [
       "  0%|          | 0/20 [00:00<?, ?it/s]"
      ]
     },
     "metadata": {},
     "output_type": "display_data"
    },
    {
     "name": "stdout",
     "output_type": "stream",
     "text": [
      "generating images for FOURME D’AMBERT with prompt: best quality, high quality, image of Fourme d'Ambert on a plain white background, with a cheese cave background, seen from a side view\n"
     ]
    },
    {
     "data": {
      "application/vnd.jupyter.widget-view+json": {
       "model_id": "e8ddf0e3261149c4bce61cd1a153fa0b",
       "version_major": 2,
       "version_minor": 0
      },
      "text/plain": [
       "  0%|          | 0/20 [00:00<?, ?it/s]"
      ]
     },
     "metadata": {},
     "output_type": "display_data"
    },
    {
     "name": "stdout",
     "output_type": "stream",
     "text": [
      "/Data/hala.gamouh/cheese_classification_challenge/dataset/val/FOURME D’AMBERT/000001.jpg\n",
      "generating images for FOURME D’AMBERT with prompt: best quality, high quality, image of Fourme d'Ambert on a white plate, with a cheese factory background, seen from an angled shot\n"
     ]
    },
    {
     "data": {
      "application/vnd.jupyter.widget-view+json": {
       "model_id": "2d1e083bc3614c4a9ba2c094e8e96fdf",
       "version_major": 2,
       "version_minor": 0
      },
      "text/plain": [
       "  0%|          | 0/20 [00:00<?, ?it/s]"
      ]
     },
     "metadata": {},
     "output_type": "display_data"
    },
    {
     "name": "stdout",
     "output_type": "stream",
     "text": [
      "generating images for FOURME D’AMBERT with prompt: best quality, high quality, image of Fourme d'Ambert on a plain white background, with a plain white background, seen from a face view\n"
     ]
    },
    {
     "data": {
      "application/vnd.jupyter.widget-view+json": {
       "model_id": "735241936bb64279a9bc3213665bd842",
       "version_major": 2,
       "version_minor": 0
      },
      "text/plain": [
       "  0%|          | 0/20 [00:00<?, ?it/s]"
      ]
     },
     "metadata": {},
     "output_type": "display_data"
    },
    {
     "name": "stdout",
     "output_type": "stream",
     "text": [
      "generating images for FOURME D’AMBERT with prompt: best quality, high quality, image of Fourme d'Ambert on a white plate, with a plain white background, seen from above\n"
     ]
    },
    {
     "data": {
      "application/vnd.jupyter.widget-view+json": {
       "model_id": "93666475249442679853e59a31faf3b8",
       "version_major": 2,
       "version_minor": 0
      },
      "text/plain": [
       "  0%|          | 0/20 [00:00<?, ?it/s]"
      ]
     },
     "metadata": {},
     "output_type": "display_data"
    },
    {
     "name": "stdout",
     "output_type": "stream",
     "text": [
      "/Data/hala.gamouh/cheese_classification_challenge/dataset/val/FOURME D’AMBERT/000002.jpg\n",
      "generating images for FOURME D’AMBERT with prompt: best quality, high quality, image of Fourme d'Ambert on a plain white background, with a plain white background, seen from a face view\n"
     ]
    },
    {
     "data": {
      "application/vnd.jupyter.widget-view+json": {
       "model_id": "12d4c7d40b90456796fa5530e60f26ed",
       "version_major": 2,
       "version_minor": 0
      },
      "text/plain": [
       "  0%|          | 0/20 [00:00<?, ?it/s]"
      ]
     },
     "metadata": {},
     "output_type": "display_data"
    },
    {
     "name": "stdout",
     "output_type": "stream",
     "text": [
      "generating images for FOURME D’AMBERT with prompt: best quality, high quality, image of Fourme d'Ambert on a white plate, with a plain white background, seen from above\n"
     ]
    },
    {
     "data": {
      "application/vnd.jupyter.widget-view+json": {
       "model_id": "11533c3dbd6e4b7f82618704cc93e5a2",
       "version_major": 2,
       "version_minor": 0
      },
      "text/plain": [
       "  0%|          | 0/20 [00:00<?, ?it/s]"
      ]
     },
     "metadata": {},
     "output_type": "display_data"
    },
    {
     "name": "stdout",
     "output_type": "stream",
     "text": [
      "generating images for FOURME D’AMBERT with prompt: best quality, high quality, image of Fourme d'Ambert on a marble plate, with a kitchen background, seen from a side view\n"
     ]
    },
    {
     "data": {
      "application/vnd.jupyter.widget-view+json": {
       "model_id": "08d7f3b31a784eb2915630ca83af0644",
       "version_major": 2,
       "version_minor": 0
      },
      "text/plain": [
       "  0%|          | 0/20 [00:00<?, ?it/s]"
      ]
     },
     "metadata": {},
     "output_type": "display_data"
    },
    {
     "name": "stdout",
     "output_type": "stream",
     "text": [
      "/Data/hala.gamouh/cheese_classification_challenge/dataset/val/FOURME D’AMBERT/000003.jpg\n",
      "generating images for FOURME D’AMBERT with prompt: best quality, high quality, image of Fourme d'Ambert on a slate board, with a cheese cave background, seen from above\n"
     ]
    },
    {
     "data": {
      "application/vnd.jupyter.widget-view+json": {
       "model_id": "7b97148c6b104cbbad4b7ba478fb0b09",
       "version_major": 2,
       "version_minor": 0
      },
      "text/plain": [
       "  0%|          | 0/20 [00:00<?, ?it/s]"
      ]
     },
     "metadata": {},
     "output_type": "display_data"
    },
    {
     "name": "stdout",
     "output_type": "stream",
     "text": [
      "generating images for FOURME D’AMBERT with prompt: best quality, high quality, in its packaging\n"
     ]
    },
    {
     "data": {
      "application/vnd.jupyter.widget-view+json": {
       "model_id": "1346bcf2f93241f889836f5bb75257ba",
       "version_major": 2,
       "version_minor": 0
      },
      "text/plain": [
       "  0%|          | 0/20 [00:00<?, ?it/s]"
      ]
     },
     "metadata": {},
     "output_type": "display_data"
    },
    {
     "name": "stdout",
     "output_type": "stream",
     "text": [
      "generating images for FOURME D’AMBERT with prompt: best quality, high quality, image of Fourme d'Ambert on a wooden plate, with a kitchen background, seen from a side view\n"
     ]
    },
    {
     "data": {
      "application/vnd.jupyter.widget-view+json": {
       "model_id": "b4f128bf870a478ca98534b6335b51e2",
       "version_major": 2,
       "version_minor": 0
      },
      "text/plain": [
       "  0%|          | 0/20 [00:00<?, ?it/s]"
      ]
     },
     "metadata": {},
     "output_type": "display_data"
    },
    {
     "name": "stdout",
     "output_type": "stream",
     "text": [
      "/Data/hala.gamouh/cheese_classification_challenge/dataset/val/FOURME D’AMBERT/000004.jpg\n",
      "generating images for FOURME D’AMBERT with prompt: best quality, high quality, in its packaging\n"
     ]
    },
    {
     "data": {
      "application/vnd.jupyter.widget-view+json": {
       "model_id": "8817ffc7445f40b8a3f22ad6a8e9bfab",
       "version_major": 2,
       "version_minor": 0
      },
      "text/plain": [
       "  0%|          | 0/20 [00:00<?, ?it/s]"
      ]
     },
     "metadata": {},
     "output_type": "display_data"
    },
    {
     "name": "stdout",
     "output_type": "stream",
     "text": [
      "generating images for FOURME D’AMBERT with prompt: best quality, high quality, image of Fourme d'Ambert on a plain white background, with a plain white background, seen from a face view\n"
     ]
    },
    {
     "data": {
      "application/vnd.jupyter.widget-view+json": {
       "model_id": "56441697359e41af88027b3f7c5f69bb",
       "version_major": 2,
       "version_minor": 0
      },
      "text/plain": [
       "  0%|          | 0/20 [00:00<?, ?it/s]"
      ]
     },
     "metadata": {},
     "output_type": "display_data"
    },
    {
     "name": "stdout",
     "output_type": "stream",
     "text": [
      "generating images for FOURME D’AMBERT with prompt: best quality, high quality, image of Fourme d'Ambert on a wooden plate, with a kitchen background, seen from a side view\n"
     ]
    },
    {
     "data": {
      "application/vnd.jupyter.widget-view+json": {
       "model_id": "84412797fd994f7598705278b53ff4ae",
       "version_major": 2,
       "version_minor": 0
      },
      "text/plain": [
       "  0%|          | 0/20 [00:00<?, ?it/s]"
      ]
     },
     "metadata": {},
     "output_type": "display_data"
    },
    {
     "name": "stdout",
     "output_type": "stream",
     "text": [
      "/Data/hala.gamouh/cheese_classification_challenge/dataset/val/FOURME D’AMBERT/000005.jpg\n",
      "generating images for FOURME D’AMBERT with prompt: best quality, high quality, image of Fourme d'Ambert on a marble plate, with a kitchen background, seen from a side view\n"
     ]
    },
    {
     "data": {
      "application/vnd.jupyter.widget-view+json": {
       "model_id": "4d53d3ea9d234b909b0fa9f77cb97ce9",
       "version_major": 2,
       "version_minor": 0
      },
      "text/plain": [
       "  0%|          | 0/20 [00:00<?, ?it/s]"
      ]
     },
     "metadata": {},
     "output_type": "display_data"
    },
    {
     "name": "stdout",
     "output_type": "stream",
     "text": [
      "generating images for FOURME D’AMBERT with prompt: best quality, high quality, image of Fourme d'Ambert on a white plate, with a plain white background, seen from above\n"
     ]
    },
    {
     "data": {
      "application/vnd.jupyter.widget-view+json": {
       "model_id": "dd717b68fc124ca0ad10b65b33742da6",
       "version_major": 2,
       "version_minor": 0
      },
      "text/plain": [
       "  0%|          | 0/20 [00:00<?, ?it/s]"
      ]
     },
     "metadata": {},
     "output_type": "display_data"
    },
    {
     "name": "stdout",
     "output_type": "stream",
     "text": [
      "generating images for FOURME D’AMBERT with prompt: best quality, high quality, image of Fourme d'Ambert on a wooden plate, with a plain white background, seen from above\n"
     ]
    },
    {
     "data": {
      "application/vnd.jupyter.widget-view+json": {
       "model_id": "607f56c3895141629b2f329aab423338",
       "version_major": 2,
       "version_minor": 0
      },
      "text/plain": [
       "  0%|          | 0/20 [00:00<?, ?it/s]"
      ]
     },
     "metadata": {},
     "output_type": "display_data"
    },
    {
     "name": "stdout",
     "output_type": "stream",
     "text": [
      "/Data/hala.gamouh/cheese_classification_challenge/dataset/val/FOURME D’AMBERT/000006.jpg\n",
      "generating images for FOURME D’AMBERT with prompt: best quality, high quality, image of Fourme d'Ambert on a wooden plate, with a plain white background, seen from above\n"
     ]
    },
    {
     "data": {
      "application/vnd.jupyter.widget-view+json": {
       "model_id": "662340f1457442128e7dac2b31a9e027",
       "version_major": 2,
       "version_minor": 0
      },
      "text/plain": [
       "  0%|          | 0/20 [00:00<?, ?it/s]"
      ]
     },
     "metadata": {},
     "output_type": "display_data"
    },
    {
     "name": "stdout",
     "output_type": "stream",
     "text": [
      "generating images for FOURME D’AMBERT with prompt: best quality, high quality, in its packaging\n"
     ]
    },
    {
     "data": {
      "application/vnd.jupyter.widget-view+json": {
       "model_id": "4bf45b13864444f89358271df56c5687",
       "version_major": 2,
       "version_minor": 0
      },
      "text/plain": [
       "  0%|          | 0/20 [00:00<?, ?it/s]"
      ]
     },
     "metadata": {},
     "output_type": "display_data"
    },
    {
     "name": "stdout",
     "output_type": "stream",
     "text": [
      "generating images for FOURME D’AMBERT with prompt: best quality, high quality, image of Fourme d'Ambert on a plain white background, with a cheese cave background, seen from a side view\n"
     ]
    },
    {
     "data": {
      "application/vnd.jupyter.widget-view+json": {
       "model_id": "e33e16e6ccc74c01aa4969051b223fba",
       "version_major": 2,
       "version_minor": 0
      },
      "text/plain": [
       "  0%|          | 0/20 [00:00<?, ?it/s]"
      ]
     },
     "metadata": {},
     "output_type": "display_data"
    },
    {
     "name": "stdout",
     "output_type": "stream",
     "text": [
      "/Data/hala.gamouh/cheese_classification_challenge/dataset/val/FOURME D’AMBERT/000007.jpg\n",
      "generating images for FOURME D’AMBERT with prompt: best quality, high quality, image of Fourme d'Ambert on a wooden plate, with a plain white background, seen from above\n"
     ]
    },
    {
     "data": {
      "application/vnd.jupyter.widget-view+json": {
       "model_id": "e2a4288ad42e42e587f047a3a654d184",
       "version_major": 2,
       "version_minor": 0
      },
      "text/plain": [
       "  0%|          | 0/20 [00:00<?, ?it/s]"
      ]
     },
     "metadata": {},
     "output_type": "display_data"
    },
    {
     "name": "stdout",
     "output_type": "stream",
     "text": [
      "generating images for FOURME D’AMBERT with prompt: best quality, high quality, image of Fourme d'Ambert on a wooden plate, with a kitchen background, seen from a side view\n"
     ]
    },
    {
     "data": {
      "application/vnd.jupyter.widget-view+json": {
       "model_id": "6fa9d542b2af459db6fc9093bd048d4d",
       "version_major": 2,
       "version_minor": 0
      },
      "text/plain": [
       "  0%|          | 0/20 [00:00<?, ?it/s]"
      ]
     },
     "metadata": {},
     "output_type": "display_data"
    },
    {
     "name": "stdout",
     "output_type": "stream",
     "text": [
      "generating images for FOURME D’AMBERT with prompt: best quality, high quality, image of Fourme d'Ambert on a wooden plate, with a kitchen background, seen from a side view\n"
     ]
    },
    {
     "data": {
      "application/vnd.jupyter.widget-view+json": {
       "model_id": "01ce1429c0c5487bb5a15e944a1c4e0d",
       "version_major": 2,
       "version_minor": 0
      },
      "text/plain": [
       "  0%|          | 0/20 [00:00<?, ?it/s]"
      ]
     },
     "metadata": {},
     "output_type": "display_data"
    },
    {
     "name": "stdout",
     "output_type": "stream",
     "text": [
      "/Data/hala.gamouh/cheese_classification_challenge/dataset/val/FOURME D’AMBERT/000008.jpg\n",
      "generating images for FOURME D’AMBERT with prompt: best quality, high quality, image of Fourme d'Ambert on a plain white background, with a cheese cave background, seen from a side view\n"
     ]
    },
    {
     "data": {
      "application/vnd.jupyter.widget-view+json": {
       "model_id": "d67c1e2413fc4d8eb54297a2f8543364",
       "version_major": 2,
       "version_minor": 0
      },
      "text/plain": [
       "  0%|          | 0/20 [00:00<?, ?it/s]"
      ]
     },
     "metadata": {},
     "output_type": "display_data"
    },
    {
     "name": "stdout",
     "output_type": "stream",
     "text": [
      "generating images for FOURME D’AMBERT with prompt: best quality, high quality, image of Fourme d'Ambert on a plain white background, with a cheese cave background, seen from a side view\n"
     ]
    },
    {
     "data": {
      "application/vnd.jupyter.widget-view+json": {
       "model_id": "d736a8d8f08f4d8ea91e23684bc5148d",
       "version_major": 2,
       "version_minor": 0
      },
      "text/plain": [
       "  0%|          | 0/20 [00:00<?, ?it/s]"
      ]
     },
     "metadata": {},
     "output_type": "display_data"
    },
    {
     "name": "stdout",
     "output_type": "stream",
     "text": [
      "generating images for FOURME D’AMBERT with prompt: best quality, high quality, image of Fourme d'Ambert on a slate board, with a cheese cave background, seen from above\n"
     ]
    },
    {
     "data": {
      "application/vnd.jupyter.widget-view+json": {
       "model_id": "608471addc044c33b4e7dcc5a12f2371",
       "version_major": 2,
       "version_minor": 0
      },
      "text/plain": [
       "  0%|          | 0/20 [00:00<?, ?it/s]"
      ]
     },
     "metadata": {},
     "output_type": "display_data"
    },
    {
     "name": "stdout",
     "output_type": "stream",
     "text": [
      "/Data/hala.gamouh/cheese_classification_challenge/dataset/val/FOURME D’AMBERT/000009.jpg\n",
      "generating images for FOURME D’AMBERT with prompt: best quality, high quality, image of Fourme d'Ambert on a marble plate, with a kitchen background, seen from a side view\n"
     ]
    },
    {
     "data": {
      "application/vnd.jupyter.widget-view+json": {
       "model_id": "df6106ba39f2451cae6babd5284748d2",
       "version_major": 2,
       "version_minor": 0
      },
      "text/plain": [
       "  0%|          | 0/20 [00:00<?, ?it/s]"
      ]
     },
     "metadata": {},
     "output_type": "display_data"
    },
    {
     "name": "stdout",
     "output_type": "stream",
     "text": [
      "generating images for FOURME D’AMBERT with prompt: best quality, high quality, image of Fourme d'Ambert on a marble plate, with a shop background, seen from an angled shot\n"
     ]
    },
    {
     "data": {
      "application/vnd.jupyter.widget-view+json": {
       "model_id": "58dee0451d414cf0b0cba3c5c9e77e66",
       "version_major": 2,
       "version_minor": 0
      },
      "text/plain": [
       "  0%|          | 0/20 [00:00<?, ?it/s]"
      ]
     },
     "metadata": {},
     "output_type": "display_data"
    },
    {
     "name": "stdout",
     "output_type": "stream",
     "text": [
      "generating images for FOURME D’AMBERT with prompt: best quality, high quality, image of Fourme d'Ambert on a marble plate, with a shop background, seen from an angled shot\n"
     ]
    },
    {
     "data": {
      "application/vnd.jupyter.widget-view+json": {
       "model_id": "28806f26f1f64e09b7bf4fdd80e7e9b8",
       "version_major": 2,
       "version_minor": 0
      },
      "text/plain": [
       "  0%|          | 0/20 [00:00<?, ?it/s]"
      ]
     },
     "metadata": {},
     "output_type": "display_data"
    },
    {
     "name": "stdout",
     "output_type": "stream",
     "text": [
      "/Data/hala.gamouh/cheese_classification_challenge/dataset/val/FOURME D’AMBERT/000010.jpg\n",
      "generating images for FOURME D’AMBERT with prompt: best quality, high quality, image of Fourme d'Ambert on a slate board, with a cheese cave background, seen from above\n"
     ]
    },
    {
     "data": {
      "application/vnd.jupyter.widget-view+json": {
       "model_id": "44cf682938e24b8088b38de7add1dd35",
       "version_major": 2,
       "version_minor": 0
      },
      "text/plain": [
       "  0%|          | 0/20 [00:00<?, ?it/s]"
      ]
     },
     "metadata": {},
     "output_type": "display_data"
    },
    {
     "name": "stdout",
     "output_type": "stream",
     "text": [
      "generating images for FOURME D’AMBERT with prompt: best quality, high quality, image of Fourme d'Ambert on a white plate, with a plain white background, seen from above\n"
     ]
    },
    {
     "data": {
      "application/vnd.jupyter.widget-view+json": {
       "model_id": "84cb11d0394f40eb9b59f9b5fef49094",
       "version_major": 2,
       "version_minor": 0
      },
      "text/plain": [
       "  0%|          | 0/20 [00:00<?, ?it/s]"
      ]
     },
     "metadata": {},
     "output_type": "display_data"
    },
    {
     "name": "stdout",
     "output_type": "stream",
     "text": [
      "generating images for FOURME D’AMBERT with prompt: best quality, high quality, image of Fourme d'Ambert on a marble plate, with a kitchen background, seen from a side view\n"
     ]
    },
    {
     "data": {
      "application/vnd.jupyter.widget-view+json": {
       "model_id": "10cdaedb3218499581f603f044ac15f6",
       "version_major": 2,
       "version_minor": 0
      },
      "text/plain": [
       "  0%|          | 0/20 [00:00<?, ?it/s]"
      ]
     },
     "metadata": {},
     "output_type": "display_data"
    },
    {
     "name": "stdout",
     "output_type": "stream",
     "text": [
      "/Data/hala.gamouh/cheese_classification_challenge/dataset/val/FOURME D’AMBERT/000011.jpg\n",
      "generating images for FOURME D’AMBERT with prompt: best quality, high quality, image of Fourme d'Ambert on a plain white background, with a plain white background, seen from a face view\n"
     ]
    },
    {
     "data": {
      "application/vnd.jupyter.widget-view+json": {
       "model_id": "5dadcae0566640688b7a5d06db209cea",
       "version_major": 2,
       "version_minor": 0
      },
      "text/plain": [
       "  0%|          | 0/20 [00:00<?, ?it/s]"
      ]
     },
     "metadata": {},
     "output_type": "display_data"
    },
    {
     "name": "stdout",
     "output_type": "stream",
     "text": [
      "generating images for FOURME D’AMBERT with prompt: best quality, high quality, image of Fourme d'Ambert on a slate board, with a shop background, seen from above\n"
     ]
    },
    {
     "data": {
      "application/vnd.jupyter.widget-view+json": {
       "model_id": "841653f268c844bcba0334ca3995bbd5",
       "version_major": 2,
       "version_minor": 0
      },
      "text/plain": [
       "  0%|          | 0/20 [00:00<?, ?it/s]"
      ]
     },
     "metadata": {},
     "output_type": "display_data"
    },
    {
     "name": "stdout",
     "output_type": "stream",
     "text": [
      "generating images for FOURME D’AMBERT with prompt: best quality, high quality, image of Fourme d'Ambert on a plain white background, with a cheese cave background, seen from a side view\n"
     ]
    },
    {
     "data": {
      "application/vnd.jupyter.widget-view+json": {
       "model_id": "52518e0fa13a4c2b9bc60536e1f0d3c7",
       "version_major": 2,
       "version_minor": 0
      },
      "text/plain": [
       "  0%|          | 0/20 [00:00<?, ?it/s]"
      ]
     },
     "metadata": {},
     "output_type": "display_data"
    },
    {
     "name": "stdout",
     "output_type": "stream",
     "text": [
      "/Data/hala.gamouh/cheese_classification_challenge/dataset/val/FOURME D’AMBERT/000012.jpg\n",
      "generating images for FOURME D’AMBERT with prompt: best quality, high quality, image of Fourme d'Ambert on a marble plate, with a kitchen background, seen from a side view\n"
     ]
    },
    {
     "data": {
      "application/vnd.jupyter.widget-view+json": {
       "model_id": "85f458231b11414a84c3d03d790c015c",
       "version_major": 2,
       "version_minor": 0
      },
      "text/plain": [
       "  0%|          | 0/20 [00:00<?, ?it/s]"
      ]
     },
     "metadata": {},
     "output_type": "display_data"
    },
    {
     "name": "stdout",
     "output_type": "stream",
     "text": [
      "generating images for FOURME D’AMBERT with prompt: best quality, high quality, image of Fourme d'Ambert on a wooden plate, with a kitchen background, seen from a side view\n"
     ]
    },
    {
     "data": {
      "application/vnd.jupyter.widget-view+json": {
       "model_id": "71df8e9447c74988b23c3eed3702f527",
       "version_major": 2,
       "version_minor": 0
      },
      "text/plain": [
       "  0%|          | 0/20 [00:00<?, ?it/s]"
      ]
     },
     "metadata": {},
     "output_type": "display_data"
    },
    {
     "name": "stdout",
     "output_type": "stream",
     "text": [
      "generating images for FOURME D’AMBERT with prompt: best quality, high quality, image of Fourme d'Ambert on a wooden plate, with a plain white background, seen from above\n"
     ]
    },
    {
     "data": {
      "application/vnd.jupyter.widget-view+json": {
       "model_id": "2978296e066842bb996a3536db2161f1",
       "version_major": 2,
       "version_minor": 0
      },
      "text/plain": [
       "  0%|          | 0/20 [00:00<?, ?it/s]"
      ]
     },
     "metadata": {},
     "output_type": "display_data"
    },
    {
     "name": "stdout",
     "output_type": "stream",
     "text": [
      "/Data/hala.gamouh/cheese_classification_challenge/dataset/val/FOURME D’AMBERT/000013.jpg\n",
      "generating images for FOURME D’AMBERT with prompt: best quality, high quality, image of Fourme d'Ambert on a slate board, with a cheese cave background, seen from above\n"
     ]
    },
    {
     "data": {
      "application/vnd.jupyter.widget-view+json": {
       "model_id": "99e5178a1f6145b6a54561a845946f26",
       "version_major": 2,
       "version_minor": 0
      },
      "text/plain": [
       "  0%|          | 0/20 [00:00<?, ?it/s]"
      ]
     },
     "metadata": {},
     "output_type": "display_data"
    },
    {
     "name": "stdout",
     "output_type": "stream",
     "text": [
      "generating images for FOURME D’AMBERT with prompt: best quality, high quality, image of Fourme d'Ambert on a wooden plate, with a plain white background, seen from above\n"
     ]
    },
    {
     "data": {
      "application/vnd.jupyter.widget-view+json": {
       "model_id": "9838563c2c264a469699360d7eacd724",
       "version_major": 2,
       "version_minor": 0
      },
      "text/plain": [
       "  0%|          | 0/20 [00:00<?, ?it/s]"
      ]
     },
     "metadata": {},
     "output_type": "display_data"
    },
    {
     "name": "stdout",
     "output_type": "stream",
     "text": [
      "generating images for FOURME D’AMBERT with prompt: best quality, high quality, image of Fourme d'Ambert on a wooden plate, with a kitchen background, seen from a side view\n"
     ]
    },
    {
     "data": {
      "application/vnd.jupyter.widget-view+json": {
       "model_id": "e8a34dd5f0c249c5aa8a9c1c406a3313",
       "version_major": 2,
       "version_minor": 0
      },
      "text/plain": [
       "  0%|          | 0/20 [00:00<?, ?it/s]"
      ]
     },
     "metadata": {},
     "output_type": "display_data"
    },
    {
     "name": "stdout",
     "output_type": "stream",
     "text": [
      "/Data/hala.gamouh/cheese_classification_challenge/dataset/val/FOURME D’AMBERT/000014.jpg\n",
      "generating images for FOURME D’AMBERT with prompt: best quality, high quality, image of Fourme d'Ambert on a white plate, with a cheese factory background, seen from an angled shot\n"
     ]
    },
    {
     "data": {
      "application/vnd.jupyter.widget-view+json": {
       "model_id": "995a606b103a4c0e89a603418ec27428",
       "version_major": 2,
       "version_minor": 0
      },
      "text/plain": [
       "  0%|          | 0/20 [00:00<?, ?it/s]"
      ]
     },
     "metadata": {},
     "output_type": "display_data"
    },
    {
     "name": "stdout",
     "output_type": "stream",
     "text": [
      "generating images for FOURME D’AMBERT with prompt: best quality, high quality, image of Fourme d'Ambert on a slate board, with a cheese cave background, seen from above\n"
     ]
    },
    {
     "data": {
      "application/vnd.jupyter.widget-view+json": {
       "model_id": "81612a67902846caa5365dc3ac91e363",
       "version_major": 2,
       "version_minor": 0
      },
      "text/plain": [
       "  0%|          | 0/20 [00:00<?, ?it/s]"
      ]
     },
     "metadata": {},
     "output_type": "display_data"
    },
    {
     "name": "stdout",
     "output_type": "stream",
     "text": [
      "generating images for FOURME D’AMBERT with prompt: best quality, high quality, image of Fourme d'Ambert on a wooden plate, with a plain white background, seen from above\n"
     ]
    },
    {
     "data": {
      "application/vnd.jupyter.widget-view+json": {
       "model_id": "6bacf6bf612442adab8c581e39f207e5",
       "version_major": 2,
       "version_minor": 0
      },
      "text/plain": [
       "  0%|          | 0/20 [00:00<?, ?it/s]"
      ]
     },
     "metadata": {},
     "output_type": "display_data"
    },
    {
     "name": "stdout",
     "output_type": "stream",
     "text": [
      "/Data/hala.gamouh/cheese_classification_challenge/dataset/val/FOURME D’AMBERT/000015.jpg\n",
      "generating images for FOURME D’AMBERT with prompt: best quality, high quality, image of Fourme d'Ambert on a marble plate, with a shop background, seen from an angled shot\n"
     ]
    },
    {
     "data": {
      "application/vnd.jupyter.widget-view+json": {
       "model_id": "04ad4c48a598499789fd3fe49eaeb674",
       "version_major": 2,
       "version_minor": 0
      },
      "text/plain": [
       "  0%|          | 0/20 [00:00<?, ?it/s]"
      ]
     },
     "metadata": {},
     "output_type": "display_data"
    },
    {
     "name": "stdout",
     "output_type": "stream",
     "text": [
      "generating images for FOURME D’AMBERT with prompt: best quality, high quality, image of Fourme d'Ambert on a white plate, with a plain white background, seen from above\n"
     ]
    },
    {
     "data": {
      "application/vnd.jupyter.widget-view+json": {
       "model_id": "c8d3be4580ea40239e55a3df5ec6ab7a",
       "version_major": 2,
       "version_minor": 0
      },
      "text/plain": [
       "  0%|          | 0/20 [00:00<?, ?it/s]"
      ]
     },
     "metadata": {},
     "output_type": "display_data"
    },
    {
     "name": "stdout",
     "output_type": "stream",
     "text": [
      "generating images for FOURME D’AMBERT with prompt: best quality, high quality, image of Fourme d'Ambert on a wooden plate, with a plain white background, seen from above\n"
     ]
    },
    {
     "data": {
      "application/vnd.jupyter.widget-view+json": {
       "model_id": "3b43bf06fc104ff2bf9e4b20aeffa462",
       "version_major": 2,
       "version_minor": 0
      },
      "text/plain": [
       "  0%|          | 0/20 [00:00<?, ?it/s]"
      ]
     },
     "metadata": {},
     "output_type": "display_data"
    },
    {
     "name": "stdout",
     "output_type": "stream",
     "text": [
      "/Data/hala.gamouh/cheese_classification_challenge/dataset/val/FOURME D’AMBERT/000016.jpg\n",
      "generating images for FOURME D’AMBERT with prompt: best quality, high quality, image of Fourme d'Ambert on a marble plate, with a kitchen background, seen from a side view\n"
     ]
    },
    {
     "data": {
      "application/vnd.jupyter.widget-view+json": {
       "model_id": "7239384f02f348d180b57f43dd78c372",
       "version_major": 2,
       "version_minor": 0
      },
      "text/plain": [
       "  0%|          | 0/20 [00:00<?, ?it/s]"
      ]
     },
     "metadata": {},
     "output_type": "display_data"
    },
    {
     "name": "stdout",
     "output_type": "stream",
     "text": [
      "generating images for FOURME D’AMBERT with prompt: best quality, high quality, image of Fourme d'Ambert on a wooden plate, with a plain white background, seen from above\n"
     ]
    },
    {
     "data": {
      "application/vnd.jupyter.widget-view+json": {
       "model_id": "fbf9f7c1b310423fb3f9d3d58d389f87",
       "version_major": 2,
       "version_minor": 0
      },
      "text/plain": [
       "  0%|          | 0/20 [00:00<?, ?it/s]"
      ]
     },
     "metadata": {},
     "output_type": "display_data"
    },
    {
     "name": "stdout",
     "output_type": "stream",
     "text": [
      "generating images for FOURME D’AMBERT with prompt: best quality, high quality, image of Fourme d'Ambert on a slate board, with a shop background, seen from above\n"
     ]
    },
    {
     "data": {
      "application/vnd.jupyter.widget-view+json": {
       "model_id": "caa710ba280847aea598dbca29465248",
       "version_major": 2,
       "version_minor": 0
      },
      "text/plain": [
       "  0%|          | 0/20 [00:00<?, ?it/s]"
      ]
     },
     "metadata": {},
     "output_type": "display_data"
    },
    {
     "name": "stdout",
     "output_type": "stream",
     "text": [
      "/Data/hala.gamouh/cheese_classification_challenge/dataset/val/FOURME D’AMBERT/000017.jpg\n",
      "generating images for FOURME D’AMBERT with prompt: best quality, high quality, image of Fourme d'Ambert on a marble plate, with a shop background, seen from an angled shot\n"
     ]
    },
    {
     "data": {
      "application/vnd.jupyter.widget-view+json": {
       "model_id": "2e77ce8f524e4e26840cdbea51d59cca",
       "version_major": 2,
       "version_minor": 0
      },
      "text/plain": [
       "  0%|          | 0/20 [00:00<?, ?it/s]"
      ]
     },
     "metadata": {},
     "output_type": "display_data"
    },
    {
     "name": "stdout",
     "output_type": "stream",
     "text": [
      "generating images for FOURME D’AMBERT with prompt: best quality, high quality, image of Fourme d'Ambert on a white plate, with a plain white background, seen from above\n"
     ]
    },
    {
     "data": {
      "application/vnd.jupyter.widget-view+json": {
       "model_id": "c949576a022641de9ed1b58362cad5e5",
       "version_major": 2,
       "version_minor": 0
      },
      "text/plain": [
       "  0%|          | 0/20 [00:00<?, ?it/s]"
      ]
     },
     "metadata": {},
     "output_type": "display_data"
    },
    {
     "name": "stdout",
     "output_type": "stream",
     "text": [
      "generating images for FOURME D’AMBERT with prompt: best quality, high quality, image of Fourme d'Ambert on a slate board, with a shop background, seen from above\n"
     ]
    },
    {
     "data": {
      "application/vnd.jupyter.widget-view+json": {
       "model_id": "b04a5d806d2c423ebf50a14962650ad5",
       "version_major": 2,
       "version_minor": 0
      },
      "text/plain": [
       "  0%|          | 0/20 [00:00<?, ?it/s]"
      ]
     },
     "metadata": {},
     "output_type": "display_data"
    },
    {
     "name": "stdout",
     "output_type": "stream",
     "text": [
      "/Data/hala.gamouh/cheese_classification_challenge/dataset/val/FOURME D’AMBERT/000018.jpg\n",
      "generating images for FOURME D’AMBERT with prompt: best quality, high quality, image of Fourme d'Ambert on a wooden plate, with a kitchen background, seen from a side view\n"
     ]
    },
    {
     "data": {
      "application/vnd.jupyter.widget-view+json": {
       "model_id": "d4b1fe09e895474b93d28daa92126fdb",
       "version_major": 2,
       "version_minor": 0
      },
      "text/plain": [
       "  0%|          | 0/20 [00:00<?, ?it/s]"
      ]
     },
     "metadata": {},
     "output_type": "display_data"
    },
    {
     "name": "stdout",
     "output_type": "stream",
     "text": [
      "generating images for FOURME D’AMBERT with prompt: best quality, high quality, image of Fourme d'Ambert on a white plate, with a cheese factory background, seen from an angled shot\n"
     ]
    },
    {
     "data": {
      "application/vnd.jupyter.widget-view+json": {
       "model_id": "f3c17f5b510f43c8bae160fc388977f4",
       "version_major": 2,
       "version_minor": 0
      },
      "text/plain": [
       "  0%|          | 0/20 [00:00<?, ?it/s]"
      ]
     },
     "metadata": {},
     "output_type": "display_data"
    },
    {
     "name": "stdout",
     "output_type": "stream",
     "text": [
      "generating images for FOURME D’AMBERT with prompt: best quality, high quality, in its packaging\n"
     ]
    },
    {
     "data": {
      "application/vnd.jupyter.widget-view+json": {
       "model_id": "953cd309e7aa4005be818298e1172e29",
       "version_major": 2,
       "version_minor": 0
      },
      "text/plain": [
       "  0%|          | 0/20 [00:00<?, ?it/s]"
      ]
     },
     "metadata": {},
     "output_type": "display_data"
    },
    {
     "name": "stdout",
     "output_type": "stream",
     "text": [
      "/Data/hala.gamouh/cheese_classification_challenge/dataset/val/FOURME D’AMBERT/000019.jpg\n",
      "generating images for FOURME D’AMBERT with prompt: best quality, high quality, image of Fourme d'Ambert on a slate board, with a shop background, seen from above\n"
     ]
    },
    {
     "data": {
      "application/vnd.jupyter.widget-view+json": {
       "model_id": "8d52beb1d0ce42bea96af195c3b8789d",
       "version_major": 2,
       "version_minor": 0
      },
      "text/plain": [
       "  0%|          | 0/20 [00:00<?, ?it/s]"
      ]
     },
     "metadata": {},
     "output_type": "display_data"
    },
    {
     "name": "stdout",
     "output_type": "stream",
     "text": [
      "generating images for FOURME D’AMBERT with prompt: best quality, high quality, image of Fourme d'Ambert on a plain white background, with a cheese cave background, seen from a side view\n"
     ]
    },
    {
     "data": {
      "application/vnd.jupyter.widget-view+json": {
       "model_id": "87125ac41e1a450bb889dc6a2f7a7040",
       "version_major": 2,
       "version_minor": 0
      },
      "text/plain": [
       "  0%|          | 0/20 [00:00<?, ?it/s]"
      ]
     },
     "metadata": {},
     "output_type": "display_data"
    },
    {
     "name": "stdout",
     "output_type": "stream",
     "text": [
      "generating images for FOURME D’AMBERT with prompt: best quality, high quality, image of Fourme d'Ambert on a slate board, with a shop background, seen from above\n"
     ]
    },
    {
     "data": {
      "application/vnd.jupyter.widget-view+json": {
       "model_id": "aabbacf1e2e541708a176580bdeaad0d",
       "version_major": 2,
       "version_minor": 0
      },
      "text/plain": [
       "  0%|          | 0/20 [00:00<?, ?it/s]"
      ]
     },
     "metadata": {},
     "output_type": "display_data"
    },
    {
     "name": "stdout",
     "output_type": "stream",
     "text": [
      "/Data/hala.gamouh/cheese_classification_challenge/dataset/val/FOURME D’AMBERT/000020.jpg\n",
      "generating images for FOURME D’AMBERT with prompt: best quality, high quality, image of Fourme d'Ambert on a white plate, with a plain white background, seen from above\n"
     ]
    },
    {
     "data": {
      "application/vnd.jupyter.widget-view+json": {
       "model_id": "ed1ada2fda254cc9b9d538b66edde7b4",
       "version_major": 2,
       "version_minor": 0
      },
      "text/plain": [
       "  0%|          | 0/20 [00:00<?, ?it/s]"
      ]
     },
     "metadata": {},
     "output_type": "display_data"
    },
    {
     "name": "stdout",
     "output_type": "stream",
     "text": [
      "generating images for FOURME D’AMBERT with prompt: best quality, high quality, image of Fourme d'Ambert on a slate board, with a shop background, seen from above\n"
     ]
    },
    {
     "data": {
      "application/vnd.jupyter.widget-view+json": {
       "model_id": "a10f66a129ac40129f10d7aed83d7815",
       "version_major": 2,
       "version_minor": 0
      },
      "text/plain": [
       "  0%|          | 0/20 [00:00<?, ?it/s]"
      ]
     },
     "metadata": {},
     "output_type": "display_data"
    },
    {
     "name": "stdout",
     "output_type": "stream",
     "text": [
      "generating images for FOURME D’AMBERT with prompt: best quality, high quality, in its packaging\n"
     ]
    },
    {
     "data": {
      "application/vnd.jupyter.widget-view+json": {
       "model_id": "9942fa8cf1d1475fa3642359eb51ab79",
       "version_major": 2,
       "version_minor": 0
      },
      "text/plain": [
       "  0%|          | 0/20 [00:00<?, ?it/s]"
      ]
     },
     "metadata": {},
     "output_type": "display_data"
    },
    {
     "name": "stdout",
     "output_type": "stream",
     "text": [
      "/Data/hala.gamouh/cheese_classification_challenge/dataset/val/FOURME D’AMBERT/000021.jpg\n",
      "generating images for FOURME D’AMBERT with prompt: best quality, high quality, image of Fourme d'Ambert on a slate board, with a cheese cave background, seen from above\n"
     ]
    },
    {
     "data": {
      "application/vnd.jupyter.widget-view+json": {
       "model_id": "6ea6cbcba18b40e083dbc708950f46c3",
       "version_major": 2,
       "version_minor": 0
      },
      "text/plain": [
       "  0%|          | 0/20 [00:00<?, ?it/s]"
      ]
     },
     "metadata": {},
     "output_type": "display_data"
    },
    {
     "name": "stdout",
     "output_type": "stream",
     "text": [
      "generating images for FOURME D’AMBERT with prompt: best quality, high quality, in its packaging\n"
     ]
    },
    {
     "data": {
      "application/vnd.jupyter.widget-view+json": {
       "model_id": "ca06f01de4ac442887a437da393ee715",
       "version_major": 2,
       "version_minor": 0
      },
      "text/plain": [
       "  0%|          | 0/20 [00:00<?, ?it/s]"
      ]
     },
     "metadata": {},
     "output_type": "display_data"
    },
    {
     "name": "stdout",
     "output_type": "stream",
     "text": [
      "generating images for FOURME D’AMBERT with prompt: best quality, high quality, image of Fourme d'Ambert on a slate board, with a shop background, seen from above\n"
     ]
    },
    {
     "data": {
      "application/vnd.jupyter.widget-view+json": {
       "model_id": "b914a707be184d48846c2033a8e9998c",
       "version_major": 2,
       "version_minor": 0
      },
      "text/plain": [
       "  0%|          | 0/20 [00:00<?, ?it/s]"
      ]
     },
     "metadata": {},
     "output_type": "display_data"
    },
    {
     "name": "stdout",
     "output_type": "stream",
     "text": [
      "/Data/hala.gamouh/cheese_classification_challenge/dataset/val/FOURME D’AMBERT/000022.jpg\n",
      "generating images for FOURME D’AMBERT with prompt: best quality, high quality, in its packaging\n"
     ]
    },
    {
     "data": {
      "application/vnd.jupyter.widget-view+json": {
       "model_id": "dd995c03500e424dabec9656efd69de7",
       "version_major": 2,
       "version_minor": 0
      },
      "text/plain": [
       "  0%|          | 0/20 [00:00<?, ?it/s]"
      ]
     },
     "metadata": {},
     "output_type": "display_data"
    },
    {
     "name": "stdout",
     "output_type": "stream",
     "text": [
      "generating images for FOURME D’AMBERT with prompt: best quality, high quality, image of Fourme d'Ambert on a plain white background, with a plain white background, seen from a face view\n"
     ]
    },
    {
     "data": {
      "application/vnd.jupyter.widget-view+json": {
       "model_id": "bca42bc9c3344f7385afe3b14ed73019",
       "version_major": 2,
       "version_minor": 0
      },
      "text/plain": [
       "  0%|          | 0/20 [00:00<?, ?it/s]"
      ]
     },
     "metadata": {},
     "output_type": "display_data"
    },
    {
     "name": "stdout",
     "output_type": "stream",
     "text": [
      "generating images for FOURME D’AMBERT with prompt: best quality, high quality, image of Fourme d'Ambert on a wooden plate, with a kitchen background, seen from a side view\n"
     ]
    },
    {
     "data": {
      "application/vnd.jupyter.widget-view+json": {
       "model_id": "728e00ceff754bb49294706a62b5e376",
       "version_major": 2,
       "version_minor": 0
      },
      "text/plain": [
       "  0%|          | 0/20 [00:00<?, ?it/s]"
      ]
     },
     "metadata": {},
     "output_type": "display_data"
    },
    {
     "name": "stdout",
     "output_type": "stream",
     "text": [
      "/Data/hala.gamouh/cheese_classification_challenge/dataset/val/FOURME D’AMBERT/000023.jpg\n",
      "generating images for FOURME D’AMBERT with prompt: best quality, high quality, image of Fourme d'Ambert on a slate board, with a shop background, seen from above\n"
     ]
    },
    {
     "data": {
      "application/vnd.jupyter.widget-view+json": {
       "model_id": "ea898ec5ca314339a5eac8bf061d167b",
       "version_major": 2,
       "version_minor": 0
      },
      "text/plain": [
       "  0%|          | 0/20 [00:00<?, ?it/s]"
      ]
     },
     "metadata": {},
     "output_type": "display_data"
    },
    {
     "name": "stdout",
     "output_type": "stream",
     "text": [
      "generating images for FOURME D’AMBERT with prompt: best quality, high quality, image of Fourme d'Ambert on a wooden plate, with a kitchen background, seen from a side view\n"
     ]
    },
    {
     "data": {
      "application/vnd.jupyter.widget-view+json": {
       "model_id": "f8b09317155147e196ff8715bb87c7c4",
       "version_major": 2,
       "version_minor": 0
      },
      "text/plain": [
       "  0%|          | 0/20 [00:00<?, ?it/s]"
      ]
     },
     "metadata": {},
     "output_type": "display_data"
    },
    {
     "name": "stdout",
     "output_type": "stream",
     "text": [
      "generating images for FOURME D’AMBERT with prompt: best quality, high quality, image of Fourme d'Ambert on a plain white background, with a plain white background, seen from a face view\n"
     ]
    },
    {
     "data": {
      "application/vnd.jupyter.widget-view+json": {
       "model_id": "011e2ab1693649bfbdaf8f74c35fd7ba",
       "version_major": 2,
       "version_minor": 0
      },
      "text/plain": [
       "  0%|          | 0/20 [00:00<?, ?it/s]"
      ]
     },
     "metadata": {},
     "output_type": "display_data"
    },
    {
     "name": "stdout",
     "output_type": "stream",
     "text": [
      "/Data/hala.gamouh/cheese_classification_challenge/dataset/val/FOURME D’AMBERT/000024.jpg\n",
      "generating images for FOURME D’AMBERT with prompt: best quality, high quality, image of Fourme d'Ambert on a slate board, with a cheese cave background, seen from above\n"
     ]
    },
    {
     "data": {
      "application/vnd.jupyter.widget-view+json": {
       "model_id": "432e630f92d74c35b2421b80c97b2212",
       "version_major": 2,
       "version_minor": 0
      },
      "text/plain": [
       "  0%|          | 0/20 [00:00<?, ?it/s]"
      ]
     },
     "metadata": {},
     "output_type": "display_data"
    },
    {
     "name": "stdout",
     "output_type": "stream",
     "text": [
      "generating images for FOURME D’AMBERT with prompt: best quality, high quality, image of Fourme d'Ambert on a white plate, with a plain white background, seen from above\n"
     ]
    },
    {
     "data": {
      "application/vnd.jupyter.widget-view+json": {
       "model_id": "b344c3598cf94f409eae67cdfaee5134",
       "version_major": 2,
       "version_minor": 0
      },
      "text/plain": [
       "  0%|          | 0/20 [00:00<?, ?it/s]"
      ]
     },
     "metadata": {},
     "output_type": "display_data"
    },
    {
     "name": "stdout",
     "output_type": "stream",
     "text": [
      "generating images for FOURME D’AMBERT with prompt: best quality, high quality, image of Fourme d'Ambert on a plain white background, with a cheese cave background, seen from a side view\n"
     ]
    },
    {
     "data": {
      "application/vnd.jupyter.widget-view+json": {
       "model_id": "3caaeb737fed46fd9cbf96ab96129dee",
       "version_major": 2,
       "version_minor": 0
      },
      "text/plain": [
       "  0%|          | 0/20 [00:00<?, ?it/s]"
      ]
     },
     "metadata": {},
     "output_type": "display_data"
    },
    {
     "name": "stdout",
     "output_type": "stream",
     "text": [
      "/Data/hala.gamouh/cheese_classification_challenge/dataset/val/FOURME D’AMBERT/000000.jpg\n",
      "generating images for FOURME D’AMBERT with prompt: best quality, high quality, image of Fourme d'Ambert on a slate board, with a cheese cave background, seen from above\n"
     ]
    },
    {
     "data": {
      "application/vnd.jupyter.widget-view+json": {
       "model_id": "00977cb43fbe422b8f75df5482cbf053",
       "version_major": 2,
       "version_minor": 0
      },
      "text/plain": [
       "  0%|          | 0/20 [00:00<?, ?it/s]"
      ]
     },
     "metadata": {},
     "output_type": "display_data"
    },
    {
     "name": "stdout",
     "output_type": "stream",
     "text": [
      "generating images for FOURME D’AMBERT with prompt: best quality, high quality, image of Fourme d'Ambert on a marble plate, with a kitchen background, seen from a side view\n"
     ]
    },
    {
     "data": {
      "application/vnd.jupyter.widget-view+json": {
       "model_id": "ceba4baf07c94b5bb75a8d99de8694ae",
       "version_major": 2,
       "version_minor": 0
      },
      "text/plain": [
       "  0%|          | 0/20 [00:00<?, ?it/s]"
      ]
     },
     "metadata": {},
     "output_type": "display_data"
    },
    {
     "name": "stdout",
     "output_type": "stream",
     "text": [
      "generating images for FOURME D’AMBERT with prompt: best quality, high quality, image of Fourme d'Ambert on a marble plate, with a kitchen background, seen from a side view\n"
     ]
    },
    {
     "data": {
      "application/vnd.jupyter.widget-view+json": {
       "model_id": "bc1df5b054994f7d9dce7636666e8f6c",
       "version_major": 2,
       "version_minor": 0
      },
      "text/plain": [
       "  0%|          | 0/20 [00:00<?, ?it/s]"
      ]
     },
     "metadata": {},
     "output_type": "display_data"
    },
    {
     "name": "stdout",
     "output_type": "stream",
     "text": [
      "/Data/hala.gamouh/cheese_classification_challenge/dataset/val/FOURME D’AMBERT/000001.jpg\n",
      "generating images for FOURME D’AMBERT with prompt: best quality, high quality, image of Fourme d'Ambert on a slate board, with a cheese cave background, seen from above\n"
     ]
    },
    {
     "data": {
      "application/vnd.jupyter.widget-view+json": {
       "model_id": "5f851a1f09e84074a1aadc2e44a9e3fb",
       "version_major": 2,
       "version_minor": 0
      },
      "text/plain": [
       "  0%|          | 0/20 [00:00<?, ?it/s]"
      ]
     },
     "metadata": {},
     "output_type": "display_data"
    },
    {
     "name": "stdout",
     "output_type": "stream",
     "text": [
      "generating images for FOURME D’AMBERT with prompt: best quality, high quality, image of Fourme d'Ambert on a wooden plate, with a kitchen background, seen from a side view\n"
     ]
    },
    {
     "data": {
      "application/vnd.jupyter.widget-view+json": {
       "model_id": "9820e7ace8144c548fb74ebea02c352f",
       "version_major": 2,
       "version_minor": 0
      },
      "text/plain": [
       "  0%|          | 0/20 [00:00<?, ?it/s]"
      ]
     },
     "metadata": {},
     "output_type": "display_data"
    },
    {
     "name": "stdout",
     "output_type": "stream",
     "text": [
      "generating images for FOURME D’AMBERT with prompt: best quality, high quality, in its packaging\n"
     ]
    },
    {
     "data": {
      "application/vnd.jupyter.widget-view+json": {
       "model_id": "934a406d5dd941f084fd8c8ed4812e91",
       "version_major": 2,
       "version_minor": 0
      },
      "text/plain": [
       "  0%|          | 0/20 [00:00<?, ?it/s]"
      ]
     },
     "metadata": {},
     "output_type": "display_data"
    },
    {
     "name": "stdout",
     "output_type": "stream",
     "text": [
      "/Data/hala.gamouh/cheese_classification_challenge/dataset/val/FOURME D’AMBERT/000002.jpg\n",
      "generating images for FOURME D’AMBERT with prompt: best quality, high quality, image of Fourme d'Ambert on a marble plate, with a kitchen background, seen from a side view\n"
     ]
    },
    {
     "data": {
      "application/vnd.jupyter.widget-view+json": {
       "model_id": "94c6d107b542435594225df70c552d33",
       "version_major": 2,
       "version_minor": 0
      },
      "text/plain": [
       "  0%|          | 0/20 [00:00<?, ?it/s]"
      ]
     },
     "metadata": {},
     "output_type": "display_data"
    },
    {
     "name": "stdout",
     "output_type": "stream",
     "text": [
      "generating images for FOURME D’AMBERT with prompt: best quality, high quality, image of Fourme d'Ambert on a slate board, with a cheese cave background, seen from above\n"
     ]
    },
    {
     "data": {
      "application/vnd.jupyter.widget-view+json": {
       "model_id": "b61427e762224fa1997200c31963dc3c",
       "version_major": 2,
       "version_minor": 0
      },
      "text/plain": [
       "  0%|          | 0/20 [00:00<?, ?it/s]"
      ]
     },
     "metadata": {},
     "output_type": "display_data"
    },
    {
     "name": "stdout",
     "output_type": "stream",
     "text": [
      "generating images for FOURME D’AMBERT with prompt: best quality, high quality, image of Fourme d'Ambert on a wooden plate, with a plain white background, seen from above\n"
     ]
    },
    {
     "data": {
      "application/vnd.jupyter.widget-view+json": {
       "model_id": "dbc5680bde92414e8a2eaf3b206e8e56",
       "version_major": 2,
       "version_minor": 0
      },
      "text/plain": [
       "  0%|          | 0/20 [00:00<?, ?it/s]"
      ]
     },
     "metadata": {},
     "output_type": "display_data"
    },
    {
     "name": "stdout",
     "output_type": "stream",
     "text": [
      "/Data/hala.gamouh/cheese_classification_challenge/dataset/val/FOURME D’AMBERT/000003.jpg\n",
      "generating images for FOURME D’AMBERT with prompt: best quality, high quality, image of Fourme d'Ambert on a white plate, with a plain white background, seen from above\n"
     ]
    },
    {
     "data": {
      "application/vnd.jupyter.widget-view+json": {
       "model_id": "1439d37a777d45b18955eaacea32b072",
       "version_major": 2,
       "version_minor": 0
      },
      "text/plain": [
       "  0%|          | 0/20 [00:00<?, ?it/s]"
      ]
     },
     "metadata": {},
     "output_type": "display_data"
    },
    {
     "name": "stdout",
     "output_type": "stream",
     "text": [
      "generating images for FOURME D’AMBERT with prompt: best quality, high quality, image of Fourme d'Ambert on a slate board, with a cheese cave background, seen from above\n"
     ]
    },
    {
     "data": {
      "application/vnd.jupyter.widget-view+json": {
       "model_id": "3084874b57fb4cb2af2db9119b7c4334",
       "version_major": 2,
       "version_minor": 0
      },
      "text/plain": [
       "  0%|          | 0/20 [00:00<?, ?it/s]"
      ]
     },
     "metadata": {},
     "output_type": "display_data"
    },
    {
     "name": "stdout",
     "output_type": "stream",
     "text": [
      "generating images for FOURME D’AMBERT with prompt: best quality, high quality, image of Fourme d'Ambert on a slate board, with a cheese cave background, seen from above\n"
     ]
    },
    {
     "data": {
      "application/vnd.jupyter.widget-view+json": {
       "model_id": "52bb27eb909b4f0abbb38f048867100b",
       "version_major": 2,
       "version_minor": 0
      },
      "text/plain": [
       "  0%|          | 0/20 [00:00<?, ?it/s]"
      ]
     },
     "metadata": {},
     "output_type": "display_data"
    },
    {
     "name": "stdout",
     "output_type": "stream",
     "text": [
      "/Data/hala.gamouh/cheese_classification_challenge/dataset/val/FOURME D’AMBERT/000004.jpg\n",
      "generating images for FOURME D’AMBERT with prompt: best quality, high quality, image of Fourme d'Ambert on a white plate, with a cheese factory background, seen from an angled shot\n"
     ]
    },
    {
     "data": {
      "application/vnd.jupyter.widget-view+json": {
       "model_id": "139597a4156b4fbfa4f6ec9ba8a64488",
       "version_major": 2,
       "version_minor": 0
      },
      "text/plain": [
       "  0%|          | 0/20 [00:00<?, ?it/s]"
      ]
     },
     "metadata": {},
     "output_type": "display_data"
    },
    {
     "name": "stdout",
     "output_type": "stream",
     "text": [
      "generating images for FOURME D’AMBERT with prompt: best quality, high quality, image of Fourme d'Ambert on a plain white background, with a plain white background, seen from a face view\n"
     ]
    },
    {
     "data": {
      "application/vnd.jupyter.widget-view+json": {
       "model_id": "f992bd5c419443218bc48f6a74629ac1",
       "version_major": 2,
       "version_minor": 0
      },
      "text/plain": [
       "  0%|          | 0/20 [00:00<?, ?it/s]"
      ]
     },
     "metadata": {},
     "output_type": "display_data"
    },
    {
     "name": "stdout",
     "output_type": "stream",
     "text": [
      "generating images for FOURME D’AMBERT with prompt: best quality, high quality, image of Fourme d'Ambert on a slate board, with a shop background, seen from above\n"
     ]
    },
    {
     "data": {
      "application/vnd.jupyter.widget-view+json": {
       "model_id": "71d974a8bd4f43fb837e2923653c5ef3",
       "version_major": 2,
       "version_minor": 0
      },
      "text/plain": [
       "  0%|          | 0/20 [00:00<?, ?it/s]"
      ]
     },
     "metadata": {},
     "output_type": "display_data"
    },
    {
     "name": "stdout",
     "output_type": "stream",
     "text": [
      "/Data/hala.gamouh/cheese_classification_challenge/dataset/val/FOURME D’AMBERT/000005.jpg\n",
      "generating images for FOURME D’AMBERT with prompt: best quality, high quality, image of Fourme d'Ambert on a white plate, with a cheese factory background, seen from an angled shot\n"
     ]
    },
    {
     "data": {
      "application/vnd.jupyter.widget-view+json": {
       "model_id": "e6c6a9787ba649288b628665ea29dd66",
       "version_major": 2,
       "version_minor": 0
      },
      "text/plain": [
       "  0%|          | 0/20 [00:00<?, ?it/s]"
      ]
     },
     "metadata": {},
     "output_type": "display_data"
    },
    {
     "name": "stdout",
     "output_type": "stream",
     "text": [
      "generating images for FOURME D’AMBERT with prompt: best quality, high quality, image of Fourme d'Ambert on a plain white background, with a cheese cave background, seen from a side view\n"
     ]
    },
    {
     "data": {
      "application/vnd.jupyter.widget-view+json": {
       "model_id": "5dce8ab32c3f4b9d94d4a0d54c4009da",
       "version_major": 2,
       "version_minor": 0
      },
      "text/plain": [
       "  0%|          | 0/20 [00:00<?, ?it/s]"
      ]
     },
     "metadata": {},
     "output_type": "display_data"
    },
    {
     "name": "stdout",
     "output_type": "stream",
     "text": [
      "generating images for FOURME D’AMBERT with prompt: best quality, high quality, image of Fourme d'Ambert on a marble plate, with a shop background, seen from an angled shot\n"
     ]
    },
    {
     "data": {
      "application/vnd.jupyter.widget-view+json": {
       "model_id": "e32c375641cb47beb7e242a8f6ef70c8",
       "version_major": 2,
       "version_minor": 0
      },
      "text/plain": [
       "  0%|          | 0/20 [00:00<?, ?it/s]"
      ]
     },
     "metadata": {},
     "output_type": "display_data"
    },
    {
     "name": "stdout",
     "output_type": "stream",
     "text": [
      "/Data/hala.gamouh/cheese_classification_challenge/dataset/val/FOURME D’AMBERT/000006.jpg\n",
      "generating images for FOURME D’AMBERT with prompt: best quality, high quality, image of Fourme d'Ambert on a marble plate, with a kitchen background, seen from a side view\n"
     ]
    },
    {
     "data": {
      "application/vnd.jupyter.widget-view+json": {
       "model_id": "9ce43bdc4d2840c1848ffcbecb17e320",
       "version_major": 2,
       "version_minor": 0
      },
      "text/plain": [
       "  0%|          | 0/20 [00:00<?, ?it/s]"
      ]
     },
     "metadata": {},
     "output_type": "display_data"
    },
    {
     "name": "stdout",
     "output_type": "stream",
     "text": [
      "generating images for FOURME D’AMBERT with prompt: best quality, high quality, image of Fourme d'Ambert on a plain white background, with a cheese cave background, seen from a side view\n"
     ]
    },
    {
     "data": {
      "application/vnd.jupyter.widget-view+json": {
       "model_id": "a5b6a8a239d74112847b541bd1beab94",
       "version_major": 2,
       "version_minor": 0
      },
      "text/plain": [
       "  0%|          | 0/20 [00:00<?, ?it/s]"
      ]
     },
     "metadata": {},
     "output_type": "display_data"
    },
    {
     "name": "stdout",
     "output_type": "stream",
     "text": [
      "generating images for FOURME D’AMBERT with prompt: best quality, high quality, image of Fourme d'Ambert on a slate board, with a shop background, seen from above\n"
     ]
    },
    {
     "data": {
      "application/vnd.jupyter.widget-view+json": {
       "model_id": "225889bccbbf452e8005cb287098a5c8",
       "version_major": 2,
       "version_minor": 0
      },
      "text/plain": [
       "  0%|          | 0/20 [00:00<?, ?it/s]"
      ]
     },
     "metadata": {},
     "output_type": "display_data"
    },
    {
     "name": "stdout",
     "output_type": "stream",
     "text": [
      "/Data/hala.gamouh/cheese_classification_challenge/dataset/val/FOURME D’AMBERT/000007.jpg\n",
      "generating images for FOURME D’AMBERT with prompt: best quality, high quality, image of Fourme d'Ambert on a marble plate, with a shop background, seen from an angled shot\n"
     ]
    },
    {
     "data": {
      "application/vnd.jupyter.widget-view+json": {
       "model_id": "2e040333db944e888704dfc0d8690f3b",
       "version_major": 2,
       "version_minor": 0
      },
      "text/plain": [
       "  0%|          | 0/20 [00:00<?, ?it/s]"
      ]
     },
     "metadata": {},
     "output_type": "display_data"
    },
    {
     "name": "stdout",
     "output_type": "stream",
     "text": [
      "generating images for FOURME D’AMBERT with prompt: best quality, high quality, image of Fourme d'Ambert on a plain white background, with a cheese cave background, seen from a side view\n"
     ]
    },
    {
     "data": {
      "application/vnd.jupyter.widget-view+json": {
       "model_id": "b4da6f316582440eb148d2defc9b3b28",
       "version_major": 2,
       "version_minor": 0
      },
      "text/plain": [
       "  0%|          | 0/20 [00:00<?, ?it/s]"
      ]
     },
     "metadata": {},
     "output_type": "display_data"
    },
    {
     "name": "stdout",
     "output_type": "stream",
     "text": [
      "generating images for FOURME D’AMBERT with prompt: best quality, high quality, image of Fourme d'Ambert on a plain white background, with a cheese cave background, seen from a side view\n"
     ]
    },
    {
     "data": {
      "application/vnd.jupyter.widget-view+json": {
       "model_id": "dd09e06bc8fa420a96568fc79f8de5fc",
       "version_major": 2,
       "version_minor": 0
      },
      "text/plain": [
       "  0%|          | 0/20 [00:00<?, ?it/s]"
      ]
     },
     "metadata": {},
     "output_type": "display_data"
    },
    {
     "name": "stdout",
     "output_type": "stream",
     "text": [
      "/Data/hala.gamouh/cheese_classification_challenge/dataset/val/FOURME D’AMBERT/000008.jpg\n",
      "generating images for FOURME D’AMBERT with prompt: best quality, high quality, image of Fourme d'Ambert on a slate board, with a shop background, seen from above\n"
     ]
    },
    {
     "data": {
      "application/vnd.jupyter.widget-view+json": {
       "model_id": "4d2d9bc15e304b62a0d85ebd43b2e82e",
       "version_major": 2,
       "version_minor": 0
      },
      "text/plain": [
       "  0%|          | 0/20 [00:00<?, ?it/s]"
      ]
     },
     "metadata": {},
     "output_type": "display_data"
    },
    {
     "name": "stdout",
     "output_type": "stream",
     "text": [
      "generating images for FOURME D’AMBERT with prompt: best quality, high quality, image of Fourme d'Ambert on a wooden plate, with a kitchen background, seen from a side view\n"
     ]
    },
    {
     "data": {
      "application/vnd.jupyter.widget-view+json": {
       "model_id": "cd91ebe99870434d8722081314f49a74",
       "version_major": 2,
       "version_minor": 0
      },
      "text/plain": [
       "  0%|          | 0/20 [00:00<?, ?it/s]"
      ]
     },
     "metadata": {},
     "output_type": "display_data"
    },
    {
     "name": "stdout",
     "output_type": "stream",
     "text": [
      "generating images for FOURME D’AMBERT with prompt: best quality, high quality, in its packaging\n"
     ]
    },
    {
     "data": {
      "application/vnd.jupyter.widget-view+json": {
       "model_id": "3896eb040f1e4c1d8bde53966e0ad57b",
       "version_major": 2,
       "version_minor": 0
      },
      "text/plain": [
       "  0%|          | 0/20 [00:00<?, ?it/s]"
      ]
     },
     "metadata": {},
     "output_type": "display_data"
    },
    {
     "name": "stdout",
     "output_type": "stream",
     "text": [
      "/Data/hala.gamouh/cheese_classification_challenge/dataset/val/FOURME D’AMBERT/000009.jpg\n",
      "generating images for FOURME D’AMBERT with prompt: best quality, high quality, in its packaging\n"
     ]
    },
    {
     "data": {
      "application/vnd.jupyter.widget-view+json": {
       "model_id": "76e71e13597b49f3963b241b0c7e9b86",
       "version_major": 2,
       "version_minor": 0
      },
      "text/plain": [
       "  0%|          | 0/20 [00:00<?, ?it/s]"
      ]
     },
     "metadata": {},
     "output_type": "display_data"
    },
    {
     "name": "stdout",
     "output_type": "stream",
     "text": [
      "generating images for FOURME D’AMBERT with prompt: best quality, high quality, in its packaging\n"
     ]
    },
    {
     "data": {
      "application/vnd.jupyter.widget-view+json": {
       "model_id": "7de7aa727c2c4975bd20472d6aeb5f0e",
       "version_major": 2,
       "version_minor": 0
      },
      "text/plain": [
       "  0%|          | 0/20 [00:00<?, ?it/s]"
      ]
     },
     "metadata": {},
     "output_type": "display_data"
    },
    {
     "name": "stdout",
     "output_type": "stream",
     "text": [
      "generating images for FOURME D’AMBERT with prompt: best quality, high quality, image of Fourme d'Ambert on a wooden plate, with a kitchen background, seen from a side view\n"
     ]
    },
    {
     "data": {
      "application/vnd.jupyter.widget-view+json": {
       "model_id": "c11356b7d24146a5af509d6cd6e531ce",
       "version_major": 2,
       "version_minor": 0
      },
      "text/plain": [
       "  0%|          | 0/20 [00:00<?, ?it/s]"
      ]
     },
     "metadata": {},
     "output_type": "display_data"
    },
    {
     "name": "stdout",
     "output_type": "stream",
     "text": [
      "/Data/hala.gamouh/cheese_classification_challenge/dataset/val/FOURME D’AMBERT/000010.jpg\n",
      "generating images for FOURME D’AMBERT with prompt: best quality, high quality, image of Fourme d'Ambert on a white plate, with a plain white background, seen from above\n"
     ]
    },
    {
     "data": {
      "application/vnd.jupyter.widget-view+json": {
       "model_id": "00dba3a44b564f7a8f4ef52fdc6113eb",
       "version_major": 2,
       "version_minor": 0
      },
      "text/plain": [
       "  0%|          | 0/20 [00:00<?, ?it/s]"
      ]
     },
     "metadata": {},
     "output_type": "display_data"
    },
    {
     "name": "stdout",
     "output_type": "stream",
     "text": [
      "generating images for FOURME D’AMBERT with prompt: best quality, high quality, image of Fourme d'Ambert on a slate board, with a shop background, seen from above\n"
     ]
    },
    {
     "data": {
      "application/vnd.jupyter.widget-view+json": {
       "model_id": "88bc36cf7a484bcb806b150b32a77ff3",
       "version_major": 2,
       "version_minor": 0
      },
      "text/plain": [
       "  0%|          | 0/20 [00:00<?, ?it/s]"
      ]
     },
     "metadata": {},
     "output_type": "display_data"
    },
    {
     "name": "stdout",
     "output_type": "stream",
     "text": [
      "generating images for FOURME D’AMBERT with prompt: best quality, high quality, image of Fourme d'Ambert on a marble plate, with a shop background, seen from an angled shot\n"
     ]
    },
    {
     "data": {
      "application/vnd.jupyter.widget-view+json": {
       "model_id": "0b2f74ca81a6473286cc472ec4d6e966",
       "version_major": 2,
       "version_minor": 0
      },
      "text/plain": [
       "  0%|          | 0/20 [00:00<?, ?it/s]"
      ]
     },
     "metadata": {},
     "output_type": "display_data"
    },
    {
     "name": "stdout",
     "output_type": "stream",
     "text": [
      "/Data/hala.gamouh/cheese_classification_challenge/dataset/val/FOURME D’AMBERT/000011.jpg\n",
      "generating images for FOURME D’AMBERT with prompt: best quality, high quality, image of Fourme d'Ambert on a plain white background, with a cheese cave background, seen from a side view\n"
     ]
    },
    {
     "data": {
      "application/vnd.jupyter.widget-view+json": {
       "model_id": "29ca6446ef884f698a1e170655be3f53",
       "version_major": 2,
       "version_minor": 0
      },
      "text/plain": [
       "  0%|          | 0/20 [00:00<?, ?it/s]"
      ]
     },
     "metadata": {},
     "output_type": "display_data"
    },
    {
     "name": "stdout",
     "output_type": "stream",
     "text": [
      "generating images for FOURME D’AMBERT with prompt: best quality, high quality, image of Fourme d'Ambert on a slate board, with a cheese cave background, seen from above\n"
     ]
    },
    {
     "data": {
      "application/vnd.jupyter.widget-view+json": {
       "model_id": "1a9a2b136fc542ba8dd8385f8b7958b2",
       "version_major": 2,
       "version_minor": 0
      },
      "text/plain": [
       "  0%|          | 0/20 [00:00<?, ?it/s]"
      ]
     },
     "metadata": {},
     "output_type": "display_data"
    },
    {
     "name": "stdout",
     "output_type": "stream",
     "text": [
      "generating images for FOURME D’AMBERT with prompt: best quality, high quality, image of Fourme d'Ambert on a slate board, with a cheese cave background, seen from above\n"
     ]
    },
    {
     "data": {
      "application/vnd.jupyter.widget-view+json": {
       "model_id": "66dbe98d1ef04aa2a620dd07d26eb736",
       "version_major": 2,
       "version_minor": 0
      },
      "text/plain": [
       "  0%|          | 0/20 [00:00<?, ?it/s]"
      ]
     },
     "metadata": {},
     "output_type": "display_data"
    },
    {
     "name": "stdout",
     "output_type": "stream",
     "text": [
      "/Data/hala.gamouh/cheese_classification_challenge/dataset/val/FOURME D’AMBERT/000012.jpg\n",
      "generating images for FOURME D’AMBERT with prompt: best quality, high quality, image of Fourme d'Ambert on a wooden plate, with a kitchen background, seen from a side view\n"
     ]
    },
    {
     "data": {
      "application/vnd.jupyter.widget-view+json": {
       "model_id": "36fb55d039644240a169806ec4123ee7",
       "version_major": 2,
       "version_minor": 0
      },
      "text/plain": [
       "  0%|          | 0/20 [00:00<?, ?it/s]"
      ]
     },
     "metadata": {},
     "output_type": "display_data"
    },
    {
     "name": "stdout",
     "output_type": "stream",
     "text": [
      "generating images for FOURME D’AMBERT with prompt: best quality, high quality, image of Fourme d'Ambert on a wooden plate, with a kitchen background, seen from a side view\n"
     ]
    },
    {
     "data": {
      "application/vnd.jupyter.widget-view+json": {
       "model_id": "e2b7d951aeee4ed88afa4defe4b1d051",
       "version_major": 2,
       "version_minor": 0
      },
      "text/plain": [
       "  0%|          | 0/20 [00:00<?, ?it/s]"
      ]
     },
     "metadata": {},
     "output_type": "display_data"
    },
    {
     "name": "stdout",
     "output_type": "stream",
     "text": [
      "generating images for FOURME D’AMBERT with prompt: best quality, high quality, image of Fourme d'Ambert on a marble plate, with a shop background, seen from an angled shot\n"
     ]
    },
    {
     "data": {
      "application/vnd.jupyter.widget-view+json": {
       "model_id": "596d077941894c99b3e98645bb1de7cf",
       "version_major": 2,
       "version_minor": 0
      },
      "text/plain": [
       "  0%|          | 0/20 [00:00<?, ?it/s]"
      ]
     },
     "metadata": {},
     "output_type": "display_data"
    },
    {
     "name": "stdout",
     "output_type": "stream",
     "text": [
      "/Data/hala.gamouh/cheese_classification_challenge/dataset/val/FOURME D’AMBERT/000013.jpg\n",
      "generating images for FOURME D’AMBERT with prompt: best quality, high quality, image of Fourme d'Ambert on a marble plate, with a kitchen background, seen from a side view\n"
     ]
    },
    {
     "data": {
      "application/vnd.jupyter.widget-view+json": {
       "model_id": "f6f4c9e9bd9d404aa7f7553ef9df587d",
       "version_major": 2,
       "version_minor": 0
      },
      "text/plain": [
       "  0%|          | 0/20 [00:00<?, ?it/s]"
      ]
     },
     "metadata": {},
     "output_type": "display_data"
    },
    {
     "name": "stdout",
     "output_type": "stream",
     "text": [
      "generating images for FOURME D’AMBERT with prompt: best quality, high quality, image of Fourme d'Ambert on a plain white background, with a plain white background, seen from a face view\n"
     ]
    },
    {
     "data": {
      "application/vnd.jupyter.widget-view+json": {
       "model_id": "85af56b5b0844850b1247fec7da1e667",
       "version_major": 2,
       "version_minor": 0
      },
      "text/plain": [
       "  0%|          | 0/20 [00:00<?, ?it/s]"
      ]
     },
     "metadata": {},
     "output_type": "display_data"
    },
    {
     "name": "stdout",
     "output_type": "stream",
     "text": [
      "generating images for FOURME D’AMBERT with prompt: best quality, high quality, image of Fourme d'Ambert on a slate board, with a shop background, seen from above\n"
     ]
    },
    {
     "data": {
      "application/vnd.jupyter.widget-view+json": {
       "model_id": "e0be3c45aa2d498f8bf923e8c71f7f45",
       "version_major": 2,
       "version_minor": 0
      },
      "text/plain": [
       "  0%|          | 0/20 [00:00<?, ?it/s]"
      ]
     },
     "metadata": {},
     "output_type": "display_data"
    },
    {
     "name": "stdout",
     "output_type": "stream",
     "text": [
      "/Data/hala.gamouh/cheese_classification_challenge/dataset/val/FOURME D’AMBERT/000014.jpg\n",
      "generating images for FOURME D’AMBERT with prompt: best quality, high quality, image of Fourme d'Ambert on a plain white background, with a cheese cave background, seen from a side view\n"
     ]
    },
    {
     "data": {
      "application/vnd.jupyter.widget-view+json": {
       "model_id": "d84e11b1982f41d48ad818b16ec61a9c",
       "version_major": 2,
       "version_minor": 0
      },
      "text/plain": [
       "  0%|          | 0/20 [00:00<?, ?it/s]"
      ]
     },
     "metadata": {},
     "output_type": "display_data"
    },
    {
     "name": "stdout",
     "output_type": "stream",
     "text": [
      "generating images for FOURME D’AMBERT with prompt: best quality, high quality, image of Fourme d'Ambert on a plain white background, with a cheese cave background, seen from a side view\n"
     ]
    },
    {
     "data": {
      "application/vnd.jupyter.widget-view+json": {
       "model_id": "97bd7a39f581434ca0a44b9fcdef53e1",
       "version_major": 2,
       "version_minor": 0
      },
      "text/plain": [
       "  0%|          | 0/20 [00:00<?, ?it/s]"
      ]
     },
     "metadata": {},
     "output_type": "display_data"
    },
    {
     "name": "stdout",
     "output_type": "stream",
     "text": [
      "generating images for FOURME D’AMBERT with prompt: best quality, high quality, image of Fourme d'Ambert on a slate board, with a shop background, seen from above\n"
     ]
    },
    {
     "data": {
      "application/vnd.jupyter.widget-view+json": {
       "model_id": "d8de69c98f8548b8b58234b13c606c86",
       "version_major": 2,
       "version_minor": 0
      },
      "text/plain": [
       "  0%|          | 0/20 [00:00<?, ?it/s]"
      ]
     },
     "metadata": {},
     "output_type": "display_data"
    },
    {
     "name": "stdout",
     "output_type": "stream",
     "text": [
      "/Data/hala.gamouh/cheese_classification_challenge/dataset/val/FOURME D’AMBERT/000015.jpg\n",
      "generating images for FOURME D’AMBERT with prompt: best quality, high quality, image of Fourme d'Ambert on a plain white background, with a plain white background, seen from a face view\n"
     ]
    },
    {
     "data": {
      "application/vnd.jupyter.widget-view+json": {
       "model_id": "bcbb67f6ce6446f783e4cafa43bbcb71",
       "version_major": 2,
       "version_minor": 0
      },
      "text/plain": [
       "  0%|          | 0/20 [00:00<?, ?it/s]"
      ]
     },
     "metadata": {},
     "output_type": "display_data"
    },
    {
     "name": "stdout",
     "output_type": "stream",
     "text": [
      "generating images for FOURME D’AMBERT with prompt: best quality, high quality, image of Fourme d'Ambert on a marble plate, with a shop background, seen from an angled shot\n"
     ]
    },
    {
     "data": {
      "application/vnd.jupyter.widget-view+json": {
       "model_id": "5a198cc1181a463ba1bc5756ac83e7f9",
       "version_major": 2,
       "version_minor": 0
      },
      "text/plain": [
       "  0%|          | 0/20 [00:00<?, ?it/s]"
      ]
     },
     "metadata": {},
     "output_type": "display_data"
    },
    {
     "name": "stdout",
     "output_type": "stream",
     "text": [
      "generating images for FOURME D’AMBERT with prompt: best quality, high quality, in its packaging\n"
     ]
    },
    {
     "data": {
      "application/vnd.jupyter.widget-view+json": {
       "model_id": "ca76327607484500a401ef258107ce47",
       "version_major": 2,
       "version_minor": 0
      },
      "text/plain": [
       "  0%|          | 0/20 [00:00<?, ?it/s]"
      ]
     },
     "metadata": {},
     "output_type": "display_data"
    },
    {
     "name": "stdout",
     "output_type": "stream",
     "text": [
      "/Data/hala.gamouh/cheese_classification_challenge/dataset/val/FOURME D’AMBERT/000016.jpg\n",
      "generating images for FOURME D’AMBERT with prompt: best quality, high quality, image of Fourme d'Ambert on a slate board, with a cheese cave background, seen from above\n"
     ]
    },
    {
     "data": {
      "application/vnd.jupyter.widget-view+json": {
       "model_id": "c00e862de8ea4d85b2f081320f3e6b6a",
       "version_major": 2,
       "version_minor": 0
      },
      "text/plain": [
       "  0%|          | 0/20 [00:00<?, ?it/s]"
      ]
     },
     "metadata": {},
     "output_type": "display_data"
    },
    {
     "name": "stdout",
     "output_type": "stream",
     "text": [
      "generating images for FOURME D’AMBERT with prompt: best quality, high quality, image of Fourme d'Ambert on a slate board, with a cheese cave background, seen from above\n"
     ]
    },
    {
     "data": {
      "application/vnd.jupyter.widget-view+json": {
       "model_id": "b5b4390e20b84e6da376435f0fc0f40f",
       "version_major": 2,
       "version_minor": 0
      },
      "text/plain": [
       "  0%|          | 0/20 [00:00<?, ?it/s]"
      ]
     },
     "metadata": {},
     "output_type": "display_data"
    },
    {
     "name": "stdout",
     "output_type": "stream",
     "text": [
      "generating images for FOURME D’AMBERT with prompt: best quality, high quality, image of Fourme d'Ambert on a marble plate, with a kitchen background, seen from a side view\n"
     ]
    },
    {
     "data": {
      "application/vnd.jupyter.widget-view+json": {
       "model_id": "a140fe3f439349a29a93af5b16b2b9a5",
       "version_major": 2,
       "version_minor": 0
      },
      "text/plain": [
       "  0%|          | 0/20 [00:00<?, ?it/s]"
      ]
     },
     "metadata": {},
     "output_type": "display_data"
    },
    {
     "name": "stdout",
     "output_type": "stream",
     "text": [
      "/Data/hala.gamouh/cheese_classification_challenge/dataset/val/FOURME D’AMBERT/000017.jpg\n",
      "generating images for FOURME D’AMBERT with prompt: best quality, high quality, image of Fourme d'Ambert on a marble plate, with a kitchen background, seen from a side view\n"
     ]
    },
    {
     "data": {
      "application/vnd.jupyter.widget-view+json": {
       "model_id": "236d9644da034dc0850a2d055d74d198",
       "version_major": 2,
       "version_minor": 0
      },
      "text/plain": [
       "  0%|          | 0/20 [00:00<?, ?it/s]"
      ]
     },
     "metadata": {},
     "output_type": "display_data"
    },
    {
     "name": "stdout",
     "output_type": "stream",
     "text": [
      "generating images for FOURME D’AMBERT with prompt: best quality, high quality, image of Fourme d'Ambert on a white plate, with a cheese factory background, seen from an angled shot\n"
     ]
    },
    {
     "data": {
      "application/vnd.jupyter.widget-view+json": {
       "model_id": "365f5f13d7b04c819c096355bf86afc3",
       "version_major": 2,
       "version_minor": 0
      },
      "text/plain": [
       "  0%|          | 0/20 [00:00<?, ?it/s]"
      ]
     },
     "metadata": {},
     "output_type": "display_data"
    },
    {
     "name": "stdout",
     "output_type": "stream",
     "text": [
      "generating images for FOURME D’AMBERT with prompt: best quality, high quality, image of Fourme d'Ambert on a wooden plate, with a kitchen background, seen from a side view\n"
     ]
    },
    {
     "data": {
      "application/vnd.jupyter.widget-view+json": {
       "model_id": "ffc285227821400197c90e4ed5a4a535",
       "version_major": 2,
       "version_minor": 0
      },
      "text/plain": [
       "  0%|          | 0/20 [00:00<?, ?it/s]"
      ]
     },
     "metadata": {},
     "output_type": "display_data"
    },
    {
     "name": "stdout",
     "output_type": "stream",
     "text": [
      "/Data/hala.gamouh/cheese_classification_challenge/dataset/val/FOURME D’AMBERT/000018.jpg\n",
      "generating images for FOURME D’AMBERT with prompt: best quality, high quality, image of Fourme d'Ambert on a white plate, with a cheese factory background, seen from an angled shot\n"
     ]
    },
    {
     "data": {
      "application/vnd.jupyter.widget-view+json": {
       "model_id": "e004d8b228eb4ec897703c20c7f8cfb5",
       "version_major": 2,
       "version_minor": 0
      },
      "text/plain": [
       "  0%|          | 0/20 [00:00<?, ?it/s]"
      ]
     },
     "metadata": {},
     "output_type": "display_data"
    },
    {
     "name": "stdout",
     "output_type": "stream",
     "text": [
      "generating images for FOURME D’AMBERT with prompt: best quality, high quality, image of Fourme d'Ambert on a slate board, with a shop background, seen from above\n"
     ]
    },
    {
     "data": {
      "application/vnd.jupyter.widget-view+json": {
       "model_id": "7a852043505e4fcc8c14a782a22a59fc",
       "version_major": 2,
       "version_minor": 0
      },
      "text/plain": [
       "  0%|          | 0/20 [00:00<?, ?it/s]"
      ]
     },
     "metadata": {},
     "output_type": "display_data"
    },
    {
     "name": "stdout",
     "output_type": "stream",
     "text": [
      "generating images for FOURME D’AMBERT with prompt: best quality, high quality, image of Fourme d'Ambert on a white plate, with a plain white background, seen from above\n"
     ]
    },
    {
     "data": {
      "application/vnd.jupyter.widget-view+json": {
       "model_id": "04606535cfff46e482b203c84d070175",
       "version_major": 2,
       "version_minor": 0
      },
      "text/plain": [
       "  0%|          | 0/20 [00:00<?, ?it/s]"
      ]
     },
     "metadata": {},
     "output_type": "display_data"
    },
    {
     "name": "stdout",
     "output_type": "stream",
     "text": [
      "/Data/hala.gamouh/cheese_classification_challenge/dataset/val/FOURME D’AMBERT/000019.jpg\n",
      "generating images for FOURME D’AMBERT with prompt: best quality, high quality, image of Fourme d'Ambert on a marble plate, with a kitchen background, seen from a side view\n"
     ]
    },
    {
     "data": {
      "application/vnd.jupyter.widget-view+json": {
       "model_id": "44c64b1ea52e4875aa66369e95b6d1b0",
       "version_major": 2,
       "version_minor": 0
      },
      "text/plain": [
       "  0%|          | 0/20 [00:00<?, ?it/s]"
      ]
     },
     "metadata": {},
     "output_type": "display_data"
    },
    {
     "name": "stdout",
     "output_type": "stream",
     "text": [
      "generating images for FOURME D’AMBERT with prompt: best quality, high quality, image of Fourme d'Ambert on a marble plate, with a shop background, seen from an angled shot\n"
     ]
    },
    {
     "data": {
      "application/vnd.jupyter.widget-view+json": {
       "model_id": "e627b0f513824ddda5aa66df546ebb0d",
       "version_major": 2,
       "version_minor": 0
      },
      "text/plain": [
       "  0%|          | 0/20 [00:00<?, ?it/s]"
      ]
     },
     "metadata": {},
     "output_type": "display_data"
    },
    {
     "name": "stdout",
     "output_type": "stream",
     "text": [
      "generating images for FOURME D’AMBERT with prompt: best quality, high quality, image of Fourme d'Ambert on a plain white background, with a cheese cave background, seen from a side view\n"
     ]
    },
    {
     "data": {
      "application/vnd.jupyter.widget-view+json": {
       "model_id": "163aa6ade15c47f5abd8df9783649679",
       "version_major": 2,
       "version_minor": 0
      },
      "text/plain": [
       "  0%|          | 0/20 [00:00<?, ?it/s]"
      ]
     },
     "metadata": {},
     "output_type": "display_data"
    },
    {
     "name": "stdout",
     "output_type": "stream",
     "text": [
      "/Data/hala.gamouh/cheese_classification_challenge/dataset/val/FOURME D’AMBERT/000020.jpg\n",
      "generating images for FOURME D’AMBERT with prompt: best quality, high quality, image of Fourme d'Ambert on a slate board, with a shop background, seen from above\n"
     ]
    },
    {
     "data": {
      "application/vnd.jupyter.widget-view+json": {
       "model_id": "7bf0fc56b81c451aa48da958effbdd2d",
       "version_major": 2,
       "version_minor": 0
      },
      "text/plain": [
       "  0%|          | 0/20 [00:00<?, ?it/s]"
      ]
     },
     "metadata": {},
     "output_type": "display_data"
    },
    {
     "name": "stdout",
     "output_type": "stream",
     "text": [
      "generating images for FOURME D’AMBERT with prompt: best quality, high quality, image of Fourme d'Ambert on a white plate, with a plain white background, seen from above\n"
     ]
    },
    {
     "data": {
      "application/vnd.jupyter.widget-view+json": {
       "model_id": "87f4bd6694914bfa894bdec0c2ca4053",
       "version_major": 2,
       "version_minor": 0
      },
      "text/plain": [
       "  0%|          | 0/20 [00:00<?, ?it/s]"
      ]
     },
     "metadata": {},
     "output_type": "display_data"
    },
    {
     "name": "stdout",
     "output_type": "stream",
     "text": [
      "generating images for FOURME D’AMBERT with prompt: best quality, high quality, image of Fourme d'Ambert on a slate board, with a shop background, seen from above\n"
     ]
    },
    {
     "data": {
      "application/vnd.jupyter.widget-view+json": {
       "model_id": "25e5daad7434449e9b52f4fd747c8787",
       "version_major": 2,
       "version_minor": 0
      },
      "text/plain": [
       "  0%|          | 0/20 [00:00<?, ?it/s]"
      ]
     },
     "metadata": {},
     "output_type": "display_data"
    },
    {
     "name": "stdout",
     "output_type": "stream",
     "text": [
      "/Data/hala.gamouh/cheese_classification_challenge/dataset/val/FOURME D’AMBERT/000021.jpg\n",
      "generating images for FOURME D’AMBERT with prompt: best quality, high quality, image of Fourme d'Ambert on a white plate, with a plain white background, seen from above\n"
     ]
    },
    {
     "data": {
      "application/vnd.jupyter.widget-view+json": {
       "model_id": "60e604da40384b8486c6745bf9aa1489",
       "version_major": 2,
       "version_minor": 0
      },
      "text/plain": [
       "  0%|          | 0/20 [00:00<?, ?it/s]"
      ]
     },
     "metadata": {},
     "output_type": "display_data"
    },
    {
     "name": "stdout",
     "output_type": "stream",
     "text": [
      "generating images for FOURME D’AMBERT with prompt: best quality, high quality, in its packaging\n"
     ]
    },
    {
     "data": {
      "application/vnd.jupyter.widget-view+json": {
       "model_id": "5b665d9c8a5c4f4b8531b3e5fb9e1936",
       "version_major": 2,
       "version_minor": 0
      },
      "text/plain": [
       "  0%|          | 0/20 [00:00<?, ?it/s]"
      ]
     },
     "metadata": {},
     "output_type": "display_data"
    },
    {
     "name": "stdout",
     "output_type": "stream",
     "text": [
      "generating images for FOURME D’AMBERT with prompt: best quality, high quality, image of Fourme d'Ambert on a marble plate, with a shop background, seen from an angled shot\n"
     ]
    },
    {
     "data": {
      "application/vnd.jupyter.widget-view+json": {
       "model_id": "8e503702416e40d5afd3628a2f6ada31",
       "version_major": 2,
       "version_minor": 0
      },
      "text/plain": [
       "  0%|          | 0/20 [00:00<?, ?it/s]"
      ]
     },
     "metadata": {},
     "output_type": "display_data"
    },
    {
     "name": "stdout",
     "output_type": "stream",
     "text": [
      "/Data/hala.gamouh/cheese_classification_challenge/dataset/val/FOURME D’AMBERT/000022.jpg\n",
      "generating images for FOURME D’AMBERT with prompt: best quality, high quality, image of Fourme d'Ambert on a wooden plate, with a kitchen background, seen from a side view\n"
     ]
    },
    {
     "data": {
      "application/vnd.jupyter.widget-view+json": {
       "model_id": "7501013b8cba488f9c3621358d092141",
       "version_major": 2,
       "version_minor": 0
      },
      "text/plain": [
       "  0%|          | 0/20 [00:00<?, ?it/s]"
      ]
     },
     "metadata": {},
     "output_type": "display_data"
    },
    {
     "name": "stdout",
     "output_type": "stream",
     "text": [
      "generating images for FOURME D’AMBERT with prompt: best quality, high quality, image of Fourme d'Ambert on a white plate, with a plain white background, seen from above\n"
     ]
    },
    {
     "data": {
      "application/vnd.jupyter.widget-view+json": {
       "model_id": "455d5edec53646989460f0f3cc48e1ae",
       "version_major": 2,
       "version_minor": 0
      },
      "text/plain": [
       "  0%|          | 0/20 [00:00<?, ?it/s]"
      ]
     },
     "metadata": {},
     "output_type": "display_data"
    },
    {
     "name": "stdout",
     "output_type": "stream",
     "text": [
      "generating images for FOURME D’AMBERT with prompt: best quality, high quality, image of Fourme d'Ambert on a marble plate, with a kitchen background, seen from a side view\n"
     ]
    },
    {
     "data": {
      "application/vnd.jupyter.widget-view+json": {
       "model_id": "d66d3ee3715b42dea517337f72f13a83",
       "version_major": 2,
       "version_minor": 0
      },
      "text/plain": [
       "  0%|          | 0/20 [00:00<?, ?it/s]"
      ]
     },
     "metadata": {},
     "output_type": "display_data"
    },
    {
     "name": "stdout",
     "output_type": "stream",
     "text": [
      "/Data/hala.gamouh/cheese_classification_challenge/dataset/val/FOURME D’AMBERT/000023.jpg\n",
      "generating images for FOURME D’AMBERT with prompt: best quality, high quality, image of Fourme d'Ambert on a white plate, with a cheese factory background, seen from an angled shot\n"
     ]
    },
    {
     "data": {
      "application/vnd.jupyter.widget-view+json": {
       "model_id": "2d50f55a586f49a7be1a3b15d2073dc2",
       "version_major": 2,
       "version_minor": 0
      },
      "text/plain": [
       "  0%|          | 0/20 [00:00<?, ?it/s]"
      ]
     },
     "metadata": {},
     "output_type": "display_data"
    },
    {
     "name": "stdout",
     "output_type": "stream",
     "text": [
      "generating images for FOURME D’AMBERT with prompt: best quality, high quality, image of Fourme d'Ambert on a marble plate, with a shop background, seen from an angled shot\n"
     ]
    },
    {
     "data": {
      "application/vnd.jupyter.widget-view+json": {
       "model_id": "d94107e29f10401989b887fa19131b6a",
       "version_major": 2,
       "version_minor": 0
      },
      "text/plain": [
       "  0%|          | 0/20 [00:00<?, ?it/s]"
      ]
     },
     "metadata": {},
     "output_type": "display_data"
    },
    {
     "name": "stdout",
     "output_type": "stream",
     "text": [
      "generating images for FOURME D’AMBERT with prompt: best quality, high quality, image of Fourme d'Ambert on a marble plate, with a kitchen background, seen from a side view\n"
     ]
    },
    {
     "data": {
      "application/vnd.jupyter.widget-view+json": {
       "model_id": "a2c5b197e7354b6b978089d1de6e35cb",
       "version_major": 2,
       "version_minor": 0
      },
      "text/plain": [
       "  0%|          | 0/20 [00:00<?, ?it/s]"
      ]
     },
     "metadata": {},
     "output_type": "display_data"
    },
    {
     "name": "stdout",
     "output_type": "stream",
     "text": [
      "/Data/hala.gamouh/cheese_classification_challenge/dataset/val/FOURME D’AMBERT/000024.jpg\n",
      "generating images for FOURME D’AMBERT with prompt: best quality, high quality, image of Fourme d'Ambert on a wooden plate, with a kitchen background, seen from a side view\n"
     ]
    },
    {
     "data": {
      "application/vnd.jupyter.widget-view+json": {
       "model_id": "91b4732941db4029b3f106fda5573459",
       "version_major": 2,
       "version_minor": 0
      },
      "text/plain": [
       "  0%|          | 0/20 [00:00<?, ?it/s]"
      ]
     },
     "metadata": {},
     "output_type": "display_data"
    },
    {
     "name": "stdout",
     "output_type": "stream",
     "text": [
      "generating images for FOURME D’AMBERT with prompt: best quality, high quality, image of Fourme d'Ambert on a plain white background, with a plain white background, seen from a face view\n"
     ]
    },
    {
     "data": {
      "application/vnd.jupyter.widget-view+json": {
       "model_id": "12be56513ccc4250a2e95e4f8784cb72",
       "version_major": 2,
       "version_minor": 0
      },
      "text/plain": [
       "  0%|          | 0/20 [00:00<?, ?it/s]"
      ]
     },
     "metadata": {},
     "output_type": "display_data"
    },
    {
     "name": "stdout",
     "output_type": "stream",
     "text": [
      "generating images for FOURME D’AMBERT with prompt: best quality, high quality, image of Fourme d'Ambert on a white plate, with a cheese factory background, seen from an angled shot\n"
     ]
    },
    {
     "data": {
      "application/vnd.jupyter.widget-view+json": {
       "model_id": "9c6d925196f740758f24e2fd7ccd09f7",
       "version_major": 2,
       "version_minor": 0
      },
      "text/plain": [
       "  0%|          | 0/20 [00:00<?, ?it/s]"
      ]
     },
     "metadata": {},
     "output_type": "display_data"
    },
    {
     "name": "stdout",
     "output_type": "stream",
     "text": [
      "/Data/hala.gamouh/cheese_classification_challenge/dataset/val/FOURME D’AMBERT/000000.jpg\n",
      "generating images for FOURME D’AMBERT with prompt: best quality, high quality, image of Fourme d'Ambert on a wooden plate, with a plain white background, seen from above\n"
     ]
    },
    {
     "data": {
      "application/vnd.jupyter.widget-view+json": {
       "model_id": "690aaa754993461ab1b20b65b716fec1",
       "version_major": 2,
       "version_minor": 0
      },
      "text/plain": [
       "  0%|          | 0/20 [00:00<?, ?it/s]"
      ]
     },
     "metadata": {},
     "output_type": "display_data"
    },
    {
     "name": "stdout",
     "output_type": "stream",
     "text": [
      "generating images for FOURME D’AMBERT with prompt: best quality, high quality, image of Fourme d'Ambert on a slate board, with a cheese cave background, seen from above\n"
     ]
    },
    {
     "data": {
      "application/vnd.jupyter.widget-view+json": {
       "model_id": "b876d8c097104d47b3ae1aebd814024c",
       "version_major": 2,
       "version_minor": 0
      },
      "text/plain": [
       "  0%|          | 0/20 [00:00<?, ?it/s]"
      ]
     },
     "metadata": {},
     "output_type": "display_data"
    },
    {
     "name": "stdout",
     "output_type": "stream",
     "text": [
      "generating images for FOURME D’AMBERT with prompt: best quality, high quality, image of Fourme d'Ambert on a plain white background, with a plain white background, seen from a face view\n"
     ]
    },
    {
     "data": {
      "application/vnd.jupyter.widget-view+json": {
       "model_id": "7adf419ce7be486c861227b8ecf189a5",
       "version_major": 2,
       "version_minor": 0
      },
      "text/plain": [
       "  0%|          | 0/20 [00:00<?, ?it/s]"
      ]
     },
     "metadata": {},
     "output_type": "display_data"
    },
    {
     "name": "stdout",
     "output_type": "stream",
     "text": [
      "/Data/hala.gamouh/cheese_classification_challenge/dataset/val/FOURME D’AMBERT/000001.jpg\n",
      "generating images for FOURME D’AMBERT with prompt: best quality, high quality, image of Fourme d'Ambert on a slate board, with a shop background, seen from above\n"
     ]
    },
    {
     "data": {
      "application/vnd.jupyter.widget-view+json": {
       "model_id": "18836c763a8a444bb3bce90349d50490",
       "version_major": 2,
       "version_minor": 0
      },
      "text/plain": [
       "  0%|          | 0/20 [00:00<?, ?it/s]"
      ]
     },
     "metadata": {},
     "output_type": "display_data"
    },
    {
     "name": "stdout",
     "output_type": "stream",
     "text": [
      "generating images for FOURME D’AMBERT with prompt: best quality, high quality, image of Fourme d'Ambert on a marble plate, with a shop background, seen from an angled shot\n"
     ]
    },
    {
     "data": {
      "application/vnd.jupyter.widget-view+json": {
       "model_id": "3394c29ba91c40faa05d657729d1063d",
       "version_major": 2,
       "version_minor": 0
      },
      "text/plain": [
       "  0%|          | 0/20 [00:00<?, ?it/s]"
      ]
     },
     "metadata": {},
     "output_type": "display_data"
    },
    {
     "name": "stdout",
     "output_type": "stream",
     "text": [
      "generating images for FOURME D’AMBERT with prompt: best quality, high quality, image of Fourme d'Ambert on a plain white background, with a cheese cave background, seen from a side view\n"
     ]
    },
    {
     "data": {
      "application/vnd.jupyter.widget-view+json": {
       "model_id": "4af5dad9209a413395c631f3f1335725",
       "version_major": 2,
       "version_minor": 0
      },
      "text/plain": [
       "  0%|          | 0/20 [00:00<?, ?it/s]"
      ]
     },
     "metadata": {},
     "output_type": "display_data"
    },
    {
     "name": "stdout",
     "output_type": "stream",
     "text": [
      "/Data/hala.gamouh/cheese_classification_challenge/dataset/val/FOURME D’AMBERT/000002.jpg\n",
      "generating images for FOURME D’AMBERT with prompt: best quality, high quality, image of Fourme d'Ambert on a plain white background, with a cheese cave background, seen from a side view\n"
     ]
    },
    {
     "data": {
      "application/vnd.jupyter.widget-view+json": {
       "model_id": "b079975291ae48d692575c11d63585ba",
       "version_major": 2,
       "version_minor": 0
      },
      "text/plain": [
       "  0%|          | 0/20 [00:00<?, ?it/s]"
      ]
     },
     "metadata": {},
     "output_type": "display_data"
    },
    {
     "name": "stdout",
     "output_type": "stream",
     "text": [
      "generating images for FOURME D’AMBERT with prompt: best quality, high quality, image of Fourme d'Ambert on a white plate, with a cheese factory background, seen from an angled shot\n"
     ]
    },
    {
     "data": {
      "application/vnd.jupyter.widget-view+json": {
       "model_id": "48de1d74c3c644f3a90639c2c2f27d96",
       "version_major": 2,
       "version_minor": 0
      },
      "text/plain": [
       "  0%|          | 0/20 [00:00<?, ?it/s]"
      ]
     },
     "metadata": {},
     "output_type": "display_data"
    },
    {
     "name": "stdout",
     "output_type": "stream",
     "text": [
      "generating images for FOURME D’AMBERT with prompt: best quality, high quality, image of Fourme d'Ambert on a white plate, with a cheese factory background, seen from an angled shot\n"
     ]
    },
    {
     "data": {
      "application/vnd.jupyter.widget-view+json": {
       "model_id": "0e3cd3198dd74057bf42ac48e23ef8dc",
       "version_major": 2,
       "version_minor": 0
      },
      "text/plain": [
       "  0%|          | 0/20 [00:00<?, ?it/s]"
      ]
     },
     "metadata": {},
     "output_type": "display_data"
    },
    {
     "name": "stdout",
     "output_type": "stream",
     "text": [
      "/Data/hala.gamouh/cheese_classification_challenge/dataset/val/FOURME D’AMBERT/000003.jpg\n",
      "generating images for FOURME D’AMBERT with prompt: best quality, high quality, image of Fourme d'Ambert on a slate board, with a cheese cave background, seen from above\n"
     ]
    },
    {
     "data": {
      "application/vnd.jupyter.widget-view+json": {
       "model_id": "36d2e6bc061947458a5511ec77aa52d5",
       "version_major": 2,
       "version_minor": 0
      },
      "text/plain": [
       "  0%|          | 0/20 [00:00<?, ?it/s]"
      ]
     },
     "metadata": {},
     "output_type": "display_data"
    },
    {
     "name": "stdout",
     "output_type": "stream",
     "text": [
      "generating images for FOURME D’AMBERT with prompt: best quality, high quality, image of Fourme d'Ambert on a slate board, with a cheese cave background, seen from above\n"
     ]
    },
    {
     "data": {
      "application/vnd.jupyter.widget-view+json": {
       "model_id": "3e8724b552bb4d3a979ba16817538186",
       "version_major": 2,
       "version_minor": 0
      },
      "text/plain": [
       "  0%|          | 0/20 [00:00<?, ?it/s]"
      ]
     },
     "metadata": {},
     "output_type": "display_data"
    },
    {
     "name": "stdout",
     "output_type": "stream",
     "text": [
      "generating images for FOURME D’AMBERT with prompt: best quality, high quality, image of Fourme d'Ambert on a slate board, with a shop background, seen from above\n"
     ]
    },
    {
     "data": {
      "application/vnd.jupyter.widget-view+json": {
       "model_id": "7b1fe9fc66024557becbf0e6d7f03b2a",
       "version_major": 2,
       "version_minor": 0
      },
      "text/plain": [
       "  0%|          | 0/20 [00:00<?, ?it/s]"
      ]
     },
     "metadata": {},
     "output_type": "display_data"
    },
    {
     "name": "stdout",
     "output_type": "stream",
     "text": [
      "/Data/hala.gamouh/cheese_classification_challenge/dataset/val/FOURME D’AMBERT/000004.jpg\n",
      "generating images for FOURME D’AMBERT with prompt: best quality, high quality, image of Fourme d'Ambert on a marble plate, with a kitchen background, seen from a side view\n"
     ]
    },
    {
     "data": {
      "application/vnd.jupyter.widget-view+json": {
       "model_id": "5ed1647feb8f4ebabc923e22800c3b47",
       "version_major": 2,
       "version_minor": 0
      },
      "text/plain": [
       "  0%|          | 0/20 [00:00<?, ?it/s]"
      ]
     },
     "metadata": {},
     "output_type": "display_data"
    },
    {
     "name": "stdout",
     "output_type": "stream",
     "text": [
      "generating images for FOURME D’AMBERT with prompt: best quality, high quality, image of Fourme d'Ambert on a plain white background, with a plain white background, seen from a face view\n"
     ]
    },
    {
     "data": {
      "application/vnd.jupyter.widget-view+json": {
       "model_id": "f5af7daf0d444598a30528a15d530cb7",
       "version_major": 2,
       "version_minor": 0
      },
      "text/plain": [
       "  0%|          | 0/20 [00:00<?, ?it/s]"
      ]
     },
     "metadata": {},
     "output_type": "display_data"
    },
    {
     "name": "stdout",
     "output_type": "stream",
     "text": [
      "generating images for FOURME D’AMBERT with prompt: best quality, high quality, image of Fourme d'Ambert on a wooden plate, with a kitchen background, seen from a side view\n"
     ]
    },
    {
     "data": {
      "application/vnd.jupyter.widget-view+json": {
       "model_id": "947e1dc9f98e44598bb1bc522d5d12e6",
       "version_major": 2,
       "version_minor": 0
      },
      "text/plain": [
       "  0%|          | 0/20 [00:00<?, ?it/s]"
      ]
     },
     "metadata": {},
     "output_type": "display_data"
    },
    {
     "name": "stdout",
     "output_type": "stream",
     "text": [
      "/Data/hala.gamouh/cheese_classification_challenge/dataset/val/FOURME D’AMBERT/000005.jpg\n",
      "generating images for FOURME D’AMBERT with prompt: best quality, high quality, image of Fourme d'Ambert on a wooden plate, with a plain white background, seen from above\n"
     ]
    },
    {
     "data": {
      "application/vnd.jupyter.widget-view+json": {
       "model_id": "3211c16c7e774c1a93b66bf137d21b5a",
       "version_major": 2,
       "version_minor": 0
      },
      "text/plain": [
       "  0%|          | 0/20 [00:00<?, ?it/s]"
      ]
     },
     "metadata": {},
     "output_type": "display_data"
    },
    {
     "name": "stdout",
     "output_type": "stream",
     "text": [
      "generating images for FOURME D’AMBERT with prompt: best quality, high quality, image of Fourme d'Ambert on a slate board, with a cheese cave background, seen from above\n"
     ]
    },
    {
     "data": {
      "application/vnd.jupyter.widget-view+json": {
       "model_id": "12fb4fd0bd1c4b0ebc032b710558e459",
       "version_major": 2,
       "version_minor": 0
      },
      "text/plain": [
       "  0%|          | 0/20 [00:00<?, ?it/s]"
      ]
     },
     "metadata": {},
     "output_type": "display_data"
    },
    {
     "name": "stdout",
     "output_type": "stream",
     "text": [
      "generating images for FOURME D’AMBERT with prompt: best quality, high quality, image of Fourme d'Ambert on a plain white background, with a plain white background, seen from a face view\n"
     ]
    },
    {
     "data": {
      "application/vnd.jupyter.widget-view+json": {
       "model_id": "3937cee533bc47619e8c34c9dc9fd73f",
       "version_major": 2,
       "version_minor": 0
      },
      "text/plain": [
       "  0%|          | 0/20 [00:00<?, ?it/s]"
      ]
     },
     "metadata": {},
     "output_type": "display_data"
    },
    {
     "name": "stdout",
     "output_type": "stream",
     "text": [
      "/Data/hala.gamouh/cheese_classification_challenge/dataset/val/FOURME D’AMBERT/000006.jpg\n",
      "generating images for FOURME D’AMBERT with prompt: best quality, high quality, image of Fourme d'Ambert on a plain white background, with a cheese cave background, seen from a side view\n"
     ]
    },
    {
     "data": {
      "application/vnd.jupyter.widget-view+json": {
       "model_id": "56c9f8a0325741b8b59ad82ec50aab1a",
       "version_major": 2,
       "version_minor": 0
      },
      "text/plain": [
       "  0%|          | 0/20 [00:00<?, ?it/s]"
      ]
     },
     "metadata": {},
     "output_type": "display_data"
    },
    {
     "name": "stdout",
     "output_type": "stream",
     "text": [
      "generating images for FOURME D’AMBERT with prompt: best quality, high quality, in its packaging\n"
     ]
    },
    {
     "data": {
      "application/vnd.jupyter.widget-view+json": {
       "model_id": "34793218c4754aa3a1a14e257093e4a2",
       "version_major": 2,
       "version_minor": 0
      },
      "text/plain": [
       "  0%|          | 0/20 [00:00<?, ?it/s]"
      ]
     },
     "metadata": {},
     "output_type": "display_data"
    },
    {
     "name": "stdout",
     "output_type": "stream",
     "text": [
      "generating images for FOURME D’AMBERT with prompt: best quality, high quality, image of Fourme d'Ambert on a wooden plate, with a kitchen background, seen from a side view\n"
     ]
    },
    {
     "data": {
      "application/vnd.jupyter.widget-view+json": {
       "model_id": "3d6ba6341ad248a6a9a0d3f9dd304ef0",
       "version_major": 2,
       "version_minor": 0
      },
      "text/plain": [
       "  0%|          | 0/20 [00:00<?, ?it/s]"
      ]
     },
     "metadata": {},
     "output_type": "display_data"
    },
    {
     "name": "stdout",
     "output_type": "stream",
     "text": [
      "/Data/hala.gamouh/cheese_classification_challenge/dataset/val/FOURME D’AMBERT/000007.jpg\n",
      "generating images for FOURME D’AMBERT with prompt: best quality, high quality, image of Fourme d'Ambert on a white plate, with a plain white background, seen from above\n"
     ]
    },
    {
     "data": {
      "application/vnd.jupyter.widget-view+json": {
       "model_id": "b60e436420624af29a878e2557717854",
       "version_major": 2,
       "version_minor": 0
      },
      "text/plain": [
       "  0%|          | 0/20 [00:00<?, ?it/s]"
      ]
     },
     "metadata": {},
     "output_type": "display_data"
    },
    {
     "name": "stdout",
     "output_type": "stream",
     "text": [
      "generating images for FOURME D’AMBERT with prompt: best quality, high quality, image of Fourme d'Ambert on a wooden plate, with a plain white background, seen from above\n"
     ]
    },
    {
     "data": {
      "application/vnd.jupyter.widget-view+json": {
       "model_id": "2452c5d9e609425b84f54705b40c2580",
       "version_major": 2,
       "version_minor": 0
      },
      "text/plain": [
       "  0%|          | 0/20 [00:00<?, ?it/s]"
      ]
     },
     "metadata": {},
     "output_type": "display_data"
    },
    {
     "name": "stdout",
     "output_type": "stream",
     "text": [
      "generating images for FOURME D’AMBERT with prompt: best quality, high quality, image of Fourme d'Ambert on a white plate, with a cheese factory background, seen from an angled shot\n"
     ]
    },
    {
     "data": {
      "application/vnd.jupyter.widget-view+json": {
       "model_id": "f2866d77abcf4ee69fbf49c80f779ac0",
       "version_major": 2,
       "version_minor": 0
      },
      "text/plain": [
       "  0%|          | 0/20 [00:00<?, ?it/s]"
      ]
     },
     "metadata": {},
     "output_type": "display_data"
    },
    {
     "name": "stdout",
     "output_type": "stream",
     "text": [
      "/Data/hala.gamouh/cheese_classification_challenge/dataset/val/FOURME D’AMBERT/000008.jpg\n",
      "generating images for FOURME D’AMBERT with prompt: best quality, high quality, image of Fourme d'Ambert on a white plate, with a plain white background, seen from above\n"
     ]
    },
    {
     "data": {
      "application/vnd.jupyter.widget-view+json": {
       "model_id": "c7a6e3faa8db4dec87c32a5f8cfb200a",
       "version_major": 2,
       "version_minor": 0
      },
      "text/plain": [
       "  0%|          | 0/20 [00:00<?, ?it/s]"
      ]
     },
     "metadata": {},
     "output_type": "display_data"
    },
    {
     "name": "stdout",
     "output_type": "stream",
     "text": [
      "generating images for FOURME D’AMBERT with prompt: best quality, high quality, image of Fourme d'Ambert on a plain white background, with a plain white background, seen from a face view\n"
     ]
    },
    {
     "data": {
      "application/vnd.jupyter.widget-view+json": {
       "model_id": "3d714bf7790f44d08e993d58ec733f97",
       "version_major": 2,
       "version_minor": 0
      },
      "text/plain": [
       "  0%|          | 0/20 [00:00<?, ?it/s]"
      ]
     },
     "metadata": {},
     "output_type": "display_data"
    },
    {
     "name": "stdout",
     "output_type": "stream",
     "text": [
      "generating images for FOURME D’AMBERT with prompt: best quality, high quality, image of Fourme d'Ambert on a white plate, with a plain white background, seen from above\n"
     ]
    },
    {
     "data": {
      "application/vnd.jupyter.widget-view+json": {
       "model_id": "0b5681e830bd405db356da49054908ab",
       "version_major": 2,
       "version_minor": 0
      },
      "text/plain": [
       "  0%|          | 0/20 [00:00<?, ?it/s]"
      ]
     },
     "metadata": {},
     "output_type": "display_data"
    },
    {
     "name": "stdout",
     "output_type": "stream",
     "text": [
      "/Data/hala.gamouh/cheese_classification_challenge/dataset/val/FOURME D’AMBERT/000009.jpg\n",
      "generating images for FOURME D’AMBERT with prompt: best quality, high quality, image of Fourme d'Ambert on a wooden plate, with a kitchen background, seen from a side view\n"
     ]
    },
    {
     "data": {
      "application/vnd.jupyter.widget-view+json": {
       "model_id": "19e22ca578264b218fcd0ec1590486ca",
       "version_major": 2,
       "version_minor": 0
      },
      "text/plain": [
       "  0%|          | 0/20 [00:00<?, ?it/s]"
      ]
     },
     "metadata": {},
     "output_type": "display_data"
    },
    {
     "name": "stdout",
     "output_type": "stream",
     "text": [
      "generating images for FOURME D’AMBERT with prompt: best quality, high quality, image of Fourme d'Ambert on a white plate, with a cheese factory background, seen from an angled shot\n"
     ]
    },
    {
     "data": {
      "application/vnd.jupyter.widget-view+json": {
       "model_id": "9d7d9417a7474dfa87045fb5be95a6cb",
       "version_major": 2,
       "version_minor": 0
      },
      "text/plain": [
       "  0%|          | 0/20 [00:00<?, ?it/s]"
      ]
     },
     "metadata": {},
     "output_type": "display_data"
    },
    {
     "name": "stdout",
     "output_type": "stream",
     "text": [
      "generating images for FOURME D’AMBERT with prompt: best quality, high quality, image of Fourme d'Ambert on a plain white background, with a cheese cave background, seen from a side view\n"
     ]
    },
    {
     "data": {
      "application/vnd.jupyter.widget-view+json": {
       "model_id": "acbe86c1abcb4ecc8f24e582ae1a5537",
       "version_major": 2,
       "version_minor": 0
      },
      "text/plain": [
       "  0%|          | 0/20 [00:00<?, ?it/s]"
      ]
     },
     "metadata": {},
     "output_type": "display_data"
    },
    {
     "name": "stdout",
     "output_type": "stream",
     "text": [
      "/Data/hala.gamouh/cheese_classification_challenge/dataset/val/FOURME D’AMBERT/000010.jpg\n",
      "generating images for FOURME D’AMBERT with prompt: best quality, high quality, image of Fourme d'Ambert on a plain white background, with a cheese cave background, seen from a side view\n"
     ]
    },
    {
     "data": {
      "application/vnd.jupyter.widget-view+json": {
       "model_id": "317fba58c7334669a6a60c90ed65a487",
       "version_major": 2,
       "version_minor": 0
      },
      "text/plain": [
       "  0%|          | 0/20 [00:00<?, ?it/s]"
      ]
     },
     "metadata": {},
     "output_type": "display_data"
    },
    {
     "name": "stdout",
     "output_type": "stream",
     "text": [
      "generating images for FOURME D’AMBERT with prompt: best quality, high quality, image of Fourme d'Ambert on a marble plate, with a kitchen background, seen from a side view\n"
     ]
    },
    {
     "data": {
      "application/vnd.jupyter.widget-view+json": {
       "model_id": "493479aaa3004e749ce0fce4f32be249",
       "version_major": 2,
       "version_minor": 0
      },
      "text/plain": [
       "  0%|          | 0/20 [00:00<?, ?it/s]"
      ]
     },
     "metadata": {},
     "output_type": "display_data"
    },
    {
     "name": "stdout",
     "output_type": "stream",
     "text": [
      "generating images for FOURME D’AMBERT with prompt: best quality, high quality, image of Fourme d'Ambert on a wooden plate, with a plain white background, seen from above\n"
     ]
    },
    {
     "data": {
      "application/vnd.jupyter.widget-view+json": {
       "model_id": "0ac55761306e4283b667e65d95f6236e",
       "version_major": 2,
       "version_minor": 0
      },
      "text/plain": [
       "  0%|          | 0/20 [00:00<?, ?it/s]"
      ]
     },
     "metadata": {},
     "output_type": "display_data"
    },
    {
     "name": "stdout",
     "output_type": "stream",
     "text": [
      "/Data/hala.gamouh/cheese_classification_challenge/dataset/val/FOURME D’AMBERT/000011.jpg\n",
      "generating images for FOURME D’AMBERT with prompt: best quality, high quality, image of Fourme d'Ambert on a wooden plate, with a kitchen background, seen from a side view\n"
     ]
    },
    {
     "data": {
      "application/vnd.jupyter.widget-view+json": {
       "model_id": "2d7fec52f2e84cc183a62f84b8192de6",
       "version_major": 2,
       "version_minor": 0
      },
      "text/plain": [
       "  0%|          | 0/20 [00:00<?, ?it/s]"
      ]
     },
     "metadata": {},
     "output_type": "display_data"
    },
    {
     "name": "stdout",
     "output_type": "stream",
     "text": [
      "generating images for FOURME D’AMBERT with prompt: best quality, high quality, image of Fourme d'Ambert on a slate board, with a cheese cave background, seen from above\n"
     ]
    },
    {
     "data": {
      "application/vnd.jupyter.widget-view+json": {
       "model_id": "9fa6d906b70e4b61b8762a32b9c2d064",
       "version_major": 2,
       "version_minor": 0
      },
      "text/plain": [
       "  0%|          | 0/20 [00:00<?, ?it/s]"
      ]
     },
     "metadata": {},
     "output_type": "display_data"
    },
    {
     "name": "stdout",
     "output_type": "stream",
     "text": [
      "generating images for FOURME D’AMBERT with prompt: best quality, high quality, image of Fourme d'Ambert on a slate board, with a cheese cave background, seen from above\n"
     ]
    },
    {
     "data": {
      "application/vnd.jupyter.widget-view+json": {
       "model_id": "be5168f8010a4cf59f1a1a3de28ff030",
       "version_major": 2,
       "version_minor": 0
      },
      "text/plain": [
       "  0%|          | 0/20 [00:00<?, ?it/s]"
      ]
     },
     "metadata": {},
     "output_type": "display_data"
    },
    {
     "name": "stdout",
     "output_type": "stream",
     "text": [
      "/Data/hala.gamouh/cheese_classification_challenge/dataset/val/FOURME D’AMBERT/000012.jpg\n",
      "generating images for FOURME D’AMBERT with prompt: best quality, high quality, image of Fourme d'Ambert on a marble plate, with a shop background, seen from an angled shot\n"
     ]
    },
    {
     "data": {
      "application/vnd.jupyter.widget-view+json": {
       "model_id": "714cdd66e9f0406993dd6bf089d3b3ba",
       "version_major": 2,
       "version_minor": 0
      },
      "text/plain": [
       "  0%|          | 0/20 [00:00<?, ?it/s]"
      ]
     },
     "metadata": {},
     "output_type": "display_data"
    },
    {
     "name": "stdout",
     "output_type": "stream",
     "text": [
      "generating images for FOURME D’AMBERT with prompt: best quality, high quality, image of Fourme d'Ambert on a slate board, with a cheese cave background, seen from above\n"
     ]
    },
    {
     "data": {
      "application/vnd.jupyter.widget-view+json": {
       "model_id": "a1f5b9fec0a9425aa1c7119751f8f3f1",
       "version_major": 2,
       "version_minor": 0
      },
      "text/plain": [
       "  0%|          | 0/20 [00:00<?, ?it/s]"
      ]
     },
     "metadata": {},
     "output_type": "display_data"
    },
    {
     "name": "stdout",
     "output_type": "stream",
     "text": [
      "generating images for FOURME D’AMBERT with prompt: best quality, high quality, image of Fourme d'Ambert on a white plate, with a plain white background, seen from above\n"
     ]
    },
    {
     "data": {
      "application/vnd.jupyter.widget-view+json": {
       "model_id": "09aa73df267d4ed6a9542e3bf7eef75d",
       "version_major": 2,
       "version_minor": 0
      },
      "text/plain": [
       "  0%|          | 0/20 [00:00<?, ?it/s]"
      ]
     },
     "metadata": {},
     "output_type": "display_data"
    },
    {
     "name": "stdout",
     "output_type": "stream",
     "text": [
      "/Data/hala.gamouh/cheese_classification_challenge/dataset/val/FOURME D’AMBERT/000013.jpg\n",
      "generating images for FOURME D’AMBERT with prompt: best quality, high quality, in its packaging\n"
     ]
    },
    {
     "data": {
      "application/vnd.jupyter.widget-view+json": {
       "model_id": "7e0e29b802a64c14bd8b0fa25ce68b62",
       "version_major": 2,
       "version_minor": 0
      },
      "text/plain": [
       "  0%|          | 0/20 [00:00<?, ?it/s]"
      ]
     },
     "metadata": {},
     "output_type": "display_data"
    },
    {
     "name": "stdout",
     "output_type": "stream",
     "text": [
      "generating images for FOURME D’AMBERT with prompt: best quality, high quality, image of Fourme d'Ambert on a wooden plate, with a kitchen background, seen from a side view\n"
     ]
    },
    {
     "data": {
      "application/vnd.jupyter.widget-view+json": {
       "model_id": "c26a086a8af544edbdd47cef38f66a57",
       "version_major": 2,
       "version_minor": 0
      },
      "text/plain": [
       "  0%|          | 0/20 [00:00<?, ?it/s]"
      ]
     },
     "metadata": {},
     "output_type": "display_data"
    },
    {
     "name": "stdout",
     "output_type": "stream",
     "text": [
      "generating images for FOURME D’AMBERT with prompt: best quality, high quality, image of Fourme d'Ambert on a marble plate, with a kitchen background, seen from a side view\n"
     ]
    },
    {
     "data": {
      "application/vnd.jupyter.widget-view+json": {
       "model_id": "1d6692c5e3e94db292872064dc451edf",
       "version_major": 2,
       "version_minor": 0
      },
      "text/plain": [
       "  0%|          | 0/20 [00:00<?, ?it/s]"
      ]
     },
     "metadata": {},
     "output_type": "display_data"
    },
    {
     "name": "stdout",
     "output_type": "stream",
     "text": [
      "/Data/hala.gamouh/cheese_classification_challenge/dataset/val/FOURME D’AMBERT/000014.jpg\n",
      "generating images for FOURME D’AMBERT with prompt: best quality, high quality, image of Fourme d'Ambert on a plain white background, with a plain white background, seen from a face view\n"
     ]
    },
    {
     "data": {
      "application/vnd.jupyter.widget-view+json": {
       "model_id": "83d2dd87d4b1420eb4a6d8804a94ac3e",
       "version_major": 2,
       "version_minor": 0
      },
      "text/plain": [
       "  0%|          | 0/20 [00:00<?, ?it/s]"
      ]
     },
     "metadata": {},
     "output_type": "display_data"
    },
    {
     "name": "stdout",
     "output_type": "stream",
     "text": [
      "generating images for FOURME D’AMBERT with prompt: best quality, high quality, image of Fourme d'Ambert on a white plate, with a plain white background, seen from above\n"
     ]
    },
    {
     "data": {
      "application/vnd.jupyter.widget-view+json": {
       "model_id": "7227730b0e4c4fc9a054c0ed4f36bc39",
       "version_major": 2,
       "version_minor": 0
      },
      "text/plain": [
       "  0%|          | 0/20 [00:00<?, ?it/s]"
      ]
     },
     "metadata": {},
     "output_type": "display_data"
    },
    {
     "name": "stdout",
     "output_type": "stream",
     "text": [
      "generating images for FOURME D’AMBERT with prompt: best quality, high quality, image of Fourme d'Ambert on a wooden plate, with a kitchen background, seen from a side view\n"
     ]
    },
    {
     "data": {
      "application/vnd.jupyter.widget-view+json": {
       "model_id": "b46829cca4624031a06002b264fdf40c",
       "version_major": 2,
       "version_minor": 0
      },
      "text/plain": [
       "  0%|          | 0/20 [00:00<?, ?it/s]"
      ]
     },
     "metadata": {},
     "output_type": "display_data"
    },
    {
     "name": "stdout",
     "output_type": "stream",
     "text": [
      "/Data/hala.gamouh/cheese_classification_challenge/dataset/val/FOURME D’AMBERT/000015.jpg\n",
      "generating images for FOURME D’AMBERT with prompt: best quality, high quality, image of Fourme d'Ambert on a marble plate, with a shop background, seen from an angled shot\n"
     ]
    },
    {
     "data": {
      "application/vnd.jupyter.widget-view+json": {
       "model_id": "e14aaca98907426c9ea6d1a0e044383c",
       "version_major": 2,
       "version_minor": 0
      },
      "text/plain": [
       "  0%|          | 0/20 [00:00<?, ?it/s]"
      ]
     },
     "metadata": {},
     "output_type": "display_data"
    },
    {
     "name": "stdout",
     "output_type": "stream",
     "text": [
      "generating images for FOURME D’AMBERT with prompt: best quality, high quality, image of Fourme d'Ambert on a plain white background, with a cheese cave background, seen from a side view\n"
     ]
    },
    {
     "data": {
      "application/vnd.jupyter.widget-view+json": {
       "model_id": "307397d06c3744e188cfc4cee42c6526",
       "version_major": 2,
       "version_minor": 0
      },
      "text/plain": [
       "  0%|          | 0/20 [00:00<?, ?it/s]"
      ]
     },
     "metadata": {},
     "output_type": "display_data"
    },
    {
     "name": "stdout",
     "output_type": "stream",
     "text": [
      "generating images for FOURME D’AMBERT with prompt: best quality, high quality, image of Fourme d'Ambert on a marble plate, with a kitchen background, seen from a side view\n"
     ]
    },
    {
     "data": {
      "application/vnd.jupyter.widget-view+json": {
       "model_id": "7376da080b11476d81b059b36d07cb30",
       "version_major": 2,
       "version_minor": 0
      },
      "text/plain": [
       "  0%|          | 0/20 [00:00<?, ?it/s]"
      ]
     },
     "metadata": {},
     "output_type": "display_data"
    },
    {
     "name": "stdout",
     "output_type": "stream",
     "text": [
      "/Data/hala.gamouh/cheese_classification_challenge/dataset/val/FOURME D’AMBERT/000016.jpg\n",
      "generating images for FOURME D’AMBERT with prompt: best quality, high quality, image of Fourme d'Ambert on a wooden plate, with a plain white background, seen from above\n"
     ]
    },
    {
     "data": {
      "application/vnd.jupyter.widget-view+json": {
       "model_id": "46d401ee0631492cb2e9478d32a8886a",
       "version_major": 2,
       "version_minor": 0
      },
      "text/plain": [
       "  0%|          | 0/20 [00:00<?, ?it/s]"
      ]
     },
     "metadata": {},
     "output_type": "display_data"
    },
    {
     "name": "stdout",
     "output_type": "stream",
     "text": [
      "generating images for FOURME D’AMBERT with prompt: best quality, high quality, image of Fourme d'Ambert on a wooden plate, with a kitchen background, seen from a side view\n"
     ]
    },
    {
     "data": {
      "application/vnd.jupyter.widget-view+json": {
       "model_id": "5ece3b1a2aa14ab1b3ce19cc8c5a235b",
       "version_major": 2,
       "version_minor": 0
      },
      "text/plain": [
       "  0%|          | 0/20 [00:00<?, ?it/s]"
      ]
     },
     "metadata": {},
     "output_type": "display_data"
    },
    {
     "name": "stdout",
     "output_type": "stream",
     "text": [
      "generating images for FOURME D’AMBERT with prompt: best quality, high quality, image of Fourme d'Ambert on a wooden plate, with a plain white background, seen from above\n"
     ]
    },
    {
     "data": {
      "application/vnd.jupyter.widget-view+json": {
       "model_id": "66a0c9b2e8e240dbb606de86c90ab845",
       "version_major": 2,
       "version_minor": 0
      },
      "text/plain": [
       "  0%|          | 0/20 [00:00<?, ?it/s]"
      ]
     },
     "metadata": {},
     "output_type": "display_data"
    },
    {
     "name": "stdout",
     "output_type": "stream",
     "text": [
      "/Data/hala.gamouh/cheese_classification_challenge/dataset/val/FOURME D’AMBERT/000017.jpg\n",
      "generating images for FOURME D’AMBERT with prompt: best quality, high quality, image of Fourme d'Ambert on a wooden plate, with a kitchen background, seen from a side view\n"
     ]
    },
    {
     "data": {
      "application/vnd.jupyter.widget-view+json": {
       "model_id": "4897053f4ee74269b5287a79d5663f87",
       "version_major": 2,
       "version_minor": 0
      },
      "text/plain": [
       "  0%|          | 0/20 [00:00<?, ?it/s]"
      ]
     },
     "metadata": {},
     "output_type": "display_data"
    },
    {
     "name": "stdout",
     "output_type": "stream",
     "text": [
      "generating images for FOURME D’AMBERT with prompt: best quality, high quality, image of Fourme d'Ambert on a marble plate, with a kitchen background, seen from a side view\n"
     ]
    },
    {
     "data": {
      "application/vnd.jupyter.widget-view+json": {
       "model_id": "2f7299c6d81142098db59ec57b18e886",
       "version_major": 2,
       "version_minor": 0
      },
      "text/plain": [
       "  0%|          | 0/20 [00:00<?, ?it/s]"
      ]
     },
     "metadata": {},
     "output_type": "display_data"
    },
    {
     "name": "stdout",
     "output_type": "stream",
     "text": [
      "generating images for FOURME D’AMBERT with prompt: best quality, high quality, image of Fourme d'Ambert on a plain white background, with a plain white background, seen from a face view\n"
     ]
    },
    {
     "data": {
      "application/vnd.jupyter.widget-view+json": {
       "model_id": "b5a2c04924c34c94b3058edcc20d39cd",
       "version_major": 2,
       "version_minor": 0
      },
      "text/plain": [
       "  0%|          | 0/20 [00:00<?, ?it/s]"
      ]
     },
     "metadata": {},
     "output_type": "display_data"
    },
    {
     "name": "stdout",
     "output_type": "stream",
     "text": [
      "/Data/hala.gamouh/cheese_classification_challenge/dataset/val/FOURME D’AMBERT/000018.jpg\n",
      "generating images for FOURME D’AMBERT with prompt: best quality, high quality, image of Fourme d'Ambert on a plain white background, with a cheese cave background, seen from a side view\n"
     ]
    },
    {
     "data": {
      "application/vnd.jupyter.widget-view+json": {
       "model_id": "d2ab233aa3c840bfa6bc658a894387bb",
       "version_major": 2,
       "version_minor": 0
      },
      "text/plain": [
       "  0%|          | 0/20 [00:00<?, ?it/s]"
      ]
     },
     "metadata": {},
     "output_type": "display_data"
    },
    {
     "name": "stdout",
     "output_type": "stream",
     "text": [
      "generating images for FOURME D’AMBERT with prompt: best quality, high quality, image of Fourme d'Ambert on a plain white background, with a cheese cave background, seen from a side view\n"
     ]
    },
    {
     "data": {
      "application/vnd.jupyter.widget-view+json": {
       "model_id": "1e8809f4c24a4140b1172e44b7192850",
       "version_major": 2,
       "version_minor": 0
      },
      "text/plain": [
       "  0%|          | 0/20 [00:00<?, ?it/s]"
      ]
     },
     "metadata": {},
     "output_type": "display_data"
    },
    {
     "name": "stdout",
     "output_type": "stream",
     "text": [
      "generating images for FOURME D’AMBERT with prompt: best quality, high quality, image of Fourme d'Ambert on a white plate, with a cheese factory background, seen from an angled shot\n"
     ]
    },
    {
     "data": {
      "application/vnd.jupyter.widget-view+json": {
       "model_id": "6021c7c6b4d0468a9c1209f6213b7b1a",
       "version_major": 2,
       "version_minor": 0
      },
      "text/plain": [
       "  0%|          | 0/20 [00:00<?, ?it/s]"
      ]
     },
     "metadata": {},
     "output_type": "display_data"
    },
    {
     "name": "stdout",
     "output_type": "stream",
     "text": [
      "/Data/hala.gamouh/cheese_classification_challenge/dataset/val/FOURME D’AMBERT/000019.jpg\n",
      "generating images for FOURME D’AMBERT with prompt: best quality, high quality, image of Fourme d'Ambert on a plain white background, with a cheese cave background, seen from a side view\n"
     ]
    },
    {
     "data": {
      "application/vnd.jupyter.widget-view+json": {
       "model_id": "ca8159b6ecc74e84bf42561f3360b547",
       "version_major": 2,
       "version_minor": 0
      },
      "text/plain": [
       "  0%|          | 0/20 [00:00<?, ?it/s]"
      ]
     },
     "metadata": {},
     "output_type": "display_data"
    },
    {
     "name": "stdout",
     "output_type": "stream",
     "text": [
      "generating images for FOURME D’AMBERT with prompt: best quality, high quality, image of Fourme d'Ambert on a slate board, with a cheese cave background, seen from above\n"
     ]
    },
    {
     "data": {
      "application/vnd.jupyter.widget-view+json": {
       "model_id": "cf00236f421647e89f48481be562aff5",
       "version_major": 2,
       "version_minor": 0
      },
      "text/plain": [
       "  0%|          | 0/20 [00:00<?, ?it/s]"
      ]
     },
     "metadata": {},
     "output_type": "display_data"
    },
    {
     "name": "stdout",
     "output_type": "stream",
     "text": [
      "generating images for FOURME D’AMBERT with prompt: best quality, high quality, image of Fourme d'Ambert on a wooden plate, with a kitchen background, seen from a side view\n"
     ]
    },
    {
     "data": {
      "application/vnd.jupyter.widget-view+json": {
       "model_id": "1e0f97ea23814b4f9b55858e811add95",
       "version_major": 2,
       "version_minor": 0
      },
      "text/plain": [
       "  0%|          | 0/20 [00:00<?, ?it/s]"
      ]
     },
     "metadata": {},
     "output_type": "display_data"
    },
    {
     "name": "stdout",
     "output_type": "stream",
     "text": [
      "/Data/hala.gamouh/cheese_classification_challenge/dataset/val/FOURME D’AMBERT/000020.jpg\n",
      "generating images for FOURME D’AMBERT with prompt: best quality, high quality, image of Fourme d'Ambert on a marble plate, with a kitchen background, seen from a side view\n"
     ]
    },
    {
     "data": {
      "application/vnd.jupyter.widget-view+json": {
       "model_id": "38c5c2cc2bb34d8dab4419e7f5ef63a4",
       "version_major": 2,
       "version_minor": 0
      },
      "text/plain": [
       "  0%|          | 0/20 [00:00<?, ?it/s]"
      ]
     },
     "metadata": {},
     "output_type": "display_data"
    },
    {
     "name": "stdout",
     "output_type": "stream",
     "text": [
      "generating images for FOURME D’AMBERT with prompt: best quality, high quality, image of Fourme d'Ambert on a slate board, with a shop background, seen from above\n"
     ]
    },
    {
     "data": {
      "application/vnd.jupyter.widget-view+json": {
       "model_id": "9f6bbdea3646451caee93566c4f74097",
       "version_major": 2,
       "version_minor": 0
      },
      "text/plain": [
       "  0%|          | 0/20 [00:00<?, ?it/s]"
      ]
     },
     "metadata": {},
     "output_type": "display_data"
    },
    {
     "name": "stdout",
     "output_type": "stream",
     "text": [
      "generating images for FOURME D’AMBERT with prompt: best quality, high quality, image of Fourme d'Ambert on a marble plate, with a shop background, seen from an angled shot\n"
     ]
    },
    {
     "data": {
      "application/vnd.jupyter.widget-view+json": {
       "model_id": "5967a724a22c4cb58333a482e24a938e",
       "version_major": 2,
       "version_minor": 0
      },
      "text/plain": [
       "  0%|          | 0/20 [00:00<?, ?it/s]"
      ]
     },
     "metadata": {},
     "output_type": "display_data"
    },
    {
     "name": "stdout",
     "output_type": "stream",
     "text": [
      "/Data/hala.gamouh/cheese_classification_challenge/dataset/val/FOURME D’AMBERT/000021.jpg\n",
      "generating images for FOURME D’AMBERT with prompt: best quality, high quality, image of Fourme d'Ambert on a white plate, with a cheese factory background, seen from an angled shot\n"
     ]
    },
    {
     "data": {
      "application/vnd.jupyter.widget-view+json": {
       "model_id": "6754b32e7d9a433688cde89bfd584588",
       "version_major": 2,
       "version_minor": 0
      },
      "text/plain": [
       "  0%|          | 0/20 [00:00<?, ?it/s]"
      ]
     },
     "metadata": {},
     "output_type": "display_data"
    },
    {
     "name": "stdout",
     "output_type": "stream",
     "text": [
      "generating images for FOURME D’AMBERT with prompt: best quality, high quality, image of Fourme d'Ambert on a wooden plate, with a kitchen background, seen from a side view\n"
     ]
    },
    {
     "data": {
      "application/vnd.jupyter.widget-view+json": {
       "model_id": "48471c3f01eb48c3b7e1f32bc0439d7a",
       "version_major": 2,
       "version_minor": 0
      },
      "text/plain": [
       "  0%|          | 0/20 [00:00<?, ?it/s]"
      ]
     },
     "metadata": {},
     "output_type": "display_data"
    },
    {
     "name": "stdout",
     "output_type": "stream",
     "text": [
      "generating images for FOURME D’AMBERT with prompt: best quality, high quality, image of Fourme d'Ambert on a wooden plate, with a plain white background, seen from above\n"
     ]
    },
    {
     "data": {
      "application/vnd.jupyter.widget-view+json": {
       "model_id": "cbd15d0df210488eb224cdd6674a7170",
       "version_major": 2,
       "version_minor": 0
      },
      "text/plain": [
       "  0%|          | 0/20 [00:00<?, ?it/s]"
      ]
     },
     "metadata": {},
     "output_type": "display_data"
    },
    {
     "name": "stdout",
     "output_type": "stream",
     "text": [
      "/Data/hala.gamouh/cheese_classification_challenge/dataset/val/FOURME D’AMBERT/000022.jpg\n",
      "generating images for FOURME D’AMBERT with prompt: best quality, high quality, image of Fourme d'Ambert on a slate board, with a shop background, seen from above\n"
     ]
    },
    {
     "data": {
      "application/vnd.jupyter.widget-view+json": {
       "model_id": "2e58bcdf2422447eaa3ad297fab12cdd",
       "version_major": 2,
       "version_minor": 0
      },
      "text/plain": [
       "  0%|          | 0/20 [00:00<?, ?it/s]"
      ]
     },
     "metadata": {},
     "output_type": "display_data"
    },
    {
     "name": "stdout",
     "output_type": "stream",
     "text": [
      "generating images for FOURME D’AMBERT with prompt: best quality, high quality, image of Fourme d'Ambert on a plain white background, with a plain white background, seen from a face view\n"
     ]
    },
    {
     "data": {
      "application/vnd.jupyter.widget-view+json": {
       "model_id": "99e3199d52b6406e8cacb5c77974ac1d",
       "version_major": 2,
       "version_minor": 0
      },
      "text/plain": [
       "  0%|          | 0/20 [00:00<?, ?it/s]"
      ]
     },
     "metadata": {},
     "output_type": "display_data"
    },
    {
     "name": "stdout",
     "output_type": "stream",
     "text": [
      "generating images for FOURME D’AMBERT with prompt: best quality, high quality, image of Fourme d'Ambert on a white plate, with a cheese factory background, seen from an angled shot\n"
     ]
    },
    {
     "data": {
      "application/vnd.jupyter.widget-view+json": {
       "model_id": "e96125fc146f4305b1d8367871a3b683",
       "version_major": 2,
       "version_minor": 0
      },
      "text/plain": [
       "  0%|          | 0/20 [00:00<?, ?it/s]"
      ]
     },
     "metadata": {},
     "output_type": "display_data"
    },
    {
     "name": "stdout",
     "output_type": "stream",
     "text": [
      "/Data/hala.gamouh/cheese_classification_challenge/dataset/val/FOURME D’AMBERT/000023.jpg\n",
      "generating images for FOURME D’AMBERT with prompt: best quality, high quality, image of Fourme d'Ambert on a white plate, with a cheese factory background, seen from an angled shot\n"
     ]
    },
    {
     "data": {
      "application/vnd.jupyter.widget-view+json": {
       "model_id": "65ed08b8849647cab2afcc4f9f595c0d",
       "version_major": 2,
       "version_minor": 0
      },
      "text/plain": [
       "  0%|          | 0/20 [00:00<?, ?it/s]"
      ]
     },
     "metadata": {},
     "output_type": "display_data"
    },
    {
     "name": "stdout",
     "output_type": "stream",
     "text": [
      "generating images for FOURME D’AMBERT with prompt: best quality, high quality, image of Fourme d'Ambert on a plain white background, with a plain white background, seen from a face view\n"
     ]
    },
    {
     "data": {
      "application/vnd.jupyter.widget-view+json": {
       "model_id": "bdb0990fcf224d22935bb53b62e33625",
       "version_major": 2,
       "version_minor": 0
      },
      "text/plain": [
       "  0%|          | 0/20 [00:00<?, ?it/s]"
      ]
     },
     "metadata": {},
     "output_type": "display_data"
    },
    {
     "name": "stdout",
     "output_type": "stream",
     "text": [
      "generating images for FOURME D’AMBERT with prompt: best quality, high quality, image of Fourme d'Ambert on a marble plate, with a kitchen background, seen from a side view\n"
     ]
    },
    {
     "data": {
      "application/vnd.jupyter.widget-view+json": {
       "model_id": "6fa5562f32504388b379c2437e87822e",
       "version_major": 2,
       "version_minor": 0
      },
      "text/plain": [
       "  0%|          | 0/20 [00:00<?, ?it/s]"
      ]
     },
     "metadata": {},
     "output_type": "display_data"
    },
    {
     "name": "stdout",
     "output_type": "stream",
     "text": [
      "/Data/hala.gamouh/cheese_classification_challenge/dataset/val/FOURME D’AMBERT/000024.jpg\n",
      "generating images for FOURME D’AMBERT with prompt: best quality, high quality, image of Fourme d'Ambert on a white plate, with a cheese factory background, seen from an angled shot\n"
     ]
    },
    {
     "data": {
      "application/vnd.jupyter.widget-view+json": {
       "model_id": "76041203f0464d7aa8f7fc9c57a90942",
       "version_major": 2,
       "version_minor": 0
      },
      "text/plain": [
       "  0%|          | 0/20 [00:00<?, ?it/s]"
      ]
     },
     "metadata": {},
     "output_type": "display_data"
    },
    {
     "name": "stdout",
     "output_type": "stream",
     "text": [
      "generating images for FOURME D’AMBERT with prompt: best quality, high quality, image of Fourme d'Ambert on a plain white background, with a cheese cave background, seen from a side view\n"
     ]
    },
    {
     "data": {
      "application/vnd.jupyter.widget-view+json": {
       "model_id": "cf3a6f359821400ba1624078e501aa46",
       "version_major": 2,
       "version_minor": 0
      },
      "text/plain": [
       "  0%|          | 0/20 [00:00<?, ?it/s]"
      ]
     },
     "metadata": {},
     "output_type": "display_data"
    },
    {
     "name": "stdout",
     "output_type": "stream",
     "text": [
      "generating images for FOURME D’AMBERT with prompt: best quality, high quality, image of Fourme d'Ambert on a white plate, with a plain white background, seen from above\n"
     ]
    },
    {
     "data": {
      "application/vnd.jupyter.widget-view+json": {
       "model_id": "d384a0b365b3412ba004907593dcba6f",
       "version_major": 2,
       "version_minor": 0
      },
      "text/plain": [
       "  0%|          | 0/20 [00:00<?, ?it/s]"
      ]
     },
     "metadata": {},
     "output_type": "display_data"
    },
    {
     "name": "stdout",
     "output_type": "stream",
     "text": [
      "/Data/hala.gamouh/cheese_classification_challenge/dataset/val/MORBIER/000000.jpg\n",
      "generating images for MORBIER with prompt: best quality, high quality, image of Morbier on a wooden plate, with a plain white background, seen from above\n"
     ]
    },
    {
     "data": {
      "application/vnd.jupyter.widget-view+json": {
       "model_id": "f0bcf6ad7a0a4830972bc3ece0c8091a",
       "version_major": 2,
       "version_minor": 0
      },
      "text/plain": [
       "  0%|          | 0/20 [00:00<?, ?it/s]"
      ]
     },
     "metadata": {},
     "output_type": "display_data"
    },
    {
     "name": "stdout",
     "output_type": "stream",
     "text": [
      "generating images for MORBIER with prompt: best quality, high quality, image of Morbier on a marble plate, with a kitchen background, seen from a side view\n"
     ]
    },
    {
     "data": {
      "application/vnd.jupyter.widget-view+json": {
       "model_id": "8f021867797b472a837fb5f2f3d716cb",
       "version_major": 2,
       "version_minor": 0
      },
      "text/plain": [
       "  0%|          | 0/20 [00:00<?, ?it/s]"
      ]
     },
     "metadata": {},
     "output_type": "display_data"
    },
    {
     "name": "stdout",
     "output_type": "stream",
     "text": [
      "generating images for MORBIER with prompt: best quality, high quality, image of Morbier on a slate board, with a cheese cave background, seen from above\n"
     ]
    },
    {
     "data": {
      "application/vnd.jupyter.widget-view+json": {
       "model_id": "369ec2d07fd34cc09ee9485ad0998f32",
       "version_major": 2,
       "version_minor": 0
      },
      "text/plain": [
       "  0%|          | 0/20 [00:00<?, ?it/s]"
      ]
     },
     "metadata": {},
     "output_type": "display_data"
    },
    {
     "name": "stdout",
     "output_type": "stream",
     "text": [
      "/Data/hala.gamouh/cheese_classification_challenge/dataset/val/MORBIER/000001.jpg\n",
      "generating images for MORBIER with prompt: best quality, high quality, image of Morbier on a slate board, with a cheese cave background, seen from above\n"
     ]
    },
    {
     "data": {
      "application/vnd.jupyter.widget-view+json": {
       "model_id": "4456995df4cb42ae8d9d29bf3004fa06",
       "version_major": 2,
       "version_minor": 0
      },
      "text/plain": [
       "  0%|          | 0/20 [00:00<?, ?it/s]"
      ]
     },
     "metadata": {},
     "output_type": "display_data"
    },
    {
     "name": "stdout",
     "output_type": "stream",
     "text": [
      "generating images for MORBIER with prompt: best quality, high quality, image of Morbier on a marble plate, with a kitchen background, seen from a side view\n"
     ]
    },
    {
     "data": {
      "application/vnd.jupyter.widget-view+json": {
       "model_id": "b5785ac20a9f47159a3c4ce1e5ae9261",
       "version_major": 2,
       "version_minor": 0
      },
      "text/plain": [
       "  0%|          | 0/20 [00:00<?, ?it/s]"
      ]
     },
     "metadata": {},
     "output_type": "display_data"
    },
    {
     "name": "stdout",
     "output_type": "stream",
     "text": [
      "generating images for MORBIER with prompt: best quality, high quality, image of Morbier on a marble plate, with a kitchen background, seen from a side view\n"
     ]
    },
    {
     "data": {
      "application/vnd.jupyter.widget-view+json": {
       "model_id": "23bec85e7bb14478800c59b98450bc5a",
       "version_major": 2,
       "version_minor": 0
      },
      "text/plain": [
       "  0%|          | 0/20 [00:00<?, ?it/s]"
      ]
     },
     "metadata": {},
     "output_type": "display_data"
    },
    {
     "name": "stdout",
     "output_type": "stream",
     "text": [
      "/Data/hala.gamouh/cheese_classification_challenge/dataset/val/MORBIER/000002.jpg\n",
      "generating images for MORBIER with prompt: best quality, high quality, in its packaging\n"
     ]
    },
    {
     "data": {
      "application/vnd.jupyter.widget-view+json": {
       "model_id": "65b383ac7dff432aba777c2701f1434b",
       "version_major": 2,
       "version_minor": 0
      },
      "text/plain": [
       "  0%|          | 0/20 [00:00<?, ?it/s]"
      ]
     },
     "metadata": {},
     "output_type": "display_data"
    },
    {
     "name": "stdout",
     "output_type": "stream",
     "text": [
      "generating images for MORBIER with prompt: best quality, high quality, in its packaging\n"
     ]
    },
    {
     "data": {
      "application/vnd.jupyter.widget-view+json": {
       "model_id": "f1ee6e709c944ead82d2b35c3b35cd99",
       "version_major": 2,
       "version_minor": 0
      },
      "text/plain": [
       "  0%|          | 0/20 [00:00<?, ?it/s]"
      ]
     },
     "metadata": {},
     "output_type": "display_data"
    },
    {
     "name": "stdout",
     "output_type": "stream",
     "text": [
      "generating images for MORBIER with prompt: best quality, high quality, image of Morbier on a plain white background, with a cheese cave background, seen from a side view\n"
     ]
    },
    {
     "data": {
      "application/vnd.jupyter.widget-view+json": {
       "model_id": "87018fb0745f4e00a9402cda80b12e6c",
       "version_major": 2,
       "version_minor": 0
      },
      "text/plain": [
       "  0%|          | 0/20 [00:00<?, ?it/s]"
      ]
     },
     "metadata": {},
     "output_type": "display_data"
    },
    {
     "name": "stdout",
     "output_type": "stream",
     "text": [
      "/Data/hala.gamouh/cheese_classification_challenge/dataset/val/MORBIER/000003.jpg\n",
      "generating images for MORBIER with prompt: best quality, high quality, image of Morbier on a marble plate, with a shop background, seen from an angled shot\n"
     ]
    },
    {
     "data": {
      "application/vnd.jupyter.widget-view+json": {
       "model_id": "fdae39e5af234849a0edd6e07289ba26",
       "version_major": 2,
       "version_minor": 0
      },
      "text/plain": [
       "  0%|          | 0/20 [00:00<?, ?it/s]"
      ]
     },
     "metadata": {},
     "output_type": "display_data"
    },
    {
     "name": "stdout",
     "output_type": "stream",
     "text": [
      "generating images for MORBIER with prompt: best quality, high quality, image of Morbier on a white plate, with a plain white background, seen from above\n"
     ]
    },
    {
     "data": {
      "application/vnd.jupyter.widget-view+json": {
       "model_id": "4b890701233246f29c80b6b74d6e8004",
       "version_major": 2,
       "version_minor": 0
      },
      "text/plain": [
       "  0%|          | 0/20 [00:00<?, ?it/s]"
      ]
     },
     "metadata": {},
     "output_type": "display_data"
    },
    {
     "name": "stdout",
     "output_type": "stream",
     "text": [
      "generating images for MORBIER with prompt: best quality, high quality, image of Morbier on a wooden plate, with a plain white background, seen from above\n"
     ]
    },
    {
     "data": {
      "application/vnd.jupyter.widget-view+json": {
       "model_id": "c313558eabd74a3982994dabdd08afd8",
       "version_major": 2,
       "version_minor": 0
      },
      "text/plain": [
       "  0%|          | 0/20 [00:00<?, ?it/s]"
      ]
     },
     "metadata": {},
     "output_type": "display_data"
    },
    {
     "name": "stdout",
     "output_type": "stream",
     "text": [
      "/Data/hala.gamouh/cheese_classification_challenge/dataset/val/MORBIER/000004.jpg\n",
      "generating images for MORBIER with prompt: best quality, high quality, image of Morbier on a wooden plate, with a kitchen background, seen from a side view\n"
     ]
    },
    {
     "data": {
      "application/vnd.jupyter.widget-view+json": {
       "model_id": "ef0a9abfc9754abd85c073919e65f562",
       "version_major": 2,
       "version_minor": 0
      },
      "text/plain": [
       "  0%|          | 0/20 [00:00<?, ?it/s]"
      ]
     },
     "metadata": {},
     "output_type": "display_data"
    },
    {
     "name": "stdout",
     "output_type": "stream",
     "text": [
      "generating images for MORBIER with prompt: best quality, high quality, image of Morbier on a white plate, with a cheese factory background, seen from an angled shot\n"
     ]
    },
    {
     "data": {
      "application/vnd.jupyter.widget-view+json": {
       "model_id": "f6f27725b03049e89694542a991badf5",
       "version_major": 2,
       "version_minor": 0
      },
      "text/plain": [
       "  0%|          | 0/20 [00:00<?, ?it/s]"
      ]
     },
     "metadata": {},
     "output_type": "display_data"
    },
    {
     "name": "stdout",
     "output_type": "stream",
     "text": [
      "generating images for MORBIER with prompt: best quality, high quality, in its packaging\n"
     ]
    },
    {
     "data": {
      "application/vnd.jupyter.widget-view+json": {
       "model_id": "fd07a55e190d44eaaf256232dd011d5f",
       "version_major": 2,
       "version_minor": 0
      },
      "text/plain": [
       "  0%|          | 0/20 [00:00<?, ?it/s]"
      ]
     },
     "metadata": {},
     "output_type": "display_data"
    },
    {
     "name": "stdout",
     "output_type": "stream",
     "text": [
      "/Data/hala.gamouh/cheese_classification_challenge/dataset/val/MORBIER/000005.jpg\n",
      "generating images for MORBIER with prompt: best quality, high quality, image of Morbier on a wooden plate, with a plain white background, seen from above\n"
     ]
    },
    {
     "data": {
      "application/vnd.jupyter.widget-view+json": {
       "model_id": "9ad780288add42db9ca23b1d4e2f2cd6",
       "version_major": 2,
       "version_minor": 0
      },
      "text/plain": [
       "  0%|          | 0/20 [00:00<?, ?it/s]"
      ]
     },
     "metadata": {},
     "output_type": "display_data"
    },
    {
     "name": "stdout",
     "output_type": "stream",
     "text": [
      "generating images for MORBIER with prompt: best quality, high quality, image of Morbier on a plain white background, with a plain white background, seen from a face view\n"
     ]
    },
    {
     "data": {
      "application/vnd.jupyter.widget-view+json": {
       "model_id": "33839a5f66b54dc8b545b789bae4b71b",
       "version_major": 2,
       "version_minor": 0
      },
      "text/plain": [
       "  0%|          | 0/20 [00:00<?, ?it/s]"
      ]
     },
     "metadata": {},
     "output_type": "display_data"
    },
    {
     "name": "stdout",
     "output_type": "stream",
     "text": [
      "generating images for MORBIER with prompt: best quality, high quality, image of Morbier on a plain white background, with a cheese cave background, seen from a side view\n"
     ]
    },
    {
     "data": {
      "application/vnd.jupyter.widget-view+json": {
       "model_id": "4efd594caf674685bdd4ba89d4618a42",
       "version_major": 2,
       "version_minor": 0
      },
      "text/plain": [
       "  0%|          | 0/20 [00:00<?, ?it/s]"
      ]
     },
     "metadata": {},
     "output_type": "display_data"
    },
    {
     "name": "stdout",
     "output_type": "stream",
     "text": [
      "/Data/hala.gamouh/cheese_classification_challenge/dataset/val/MORBIER/000006.jpg\n",
      "generating images for MORBIER with prompt: best quality, high quality, image of Morbier on a marble plate, with a shop background, seen from an angled shot\n"
     ]
    },
    {
     "data": {
      "application/vnd.jupyter.widget-view+json": {
       "model_id": "ddb74b08f9544a608c7c30428c9e3f26",
       "version_major": 2,
       "version_minor": 0
      },
      "text/plain": [
       "  0%|          | 0/20 [00:00<?, ?it/s]"
      ]
     },
     "metadata": {},
     "output_type": "display_data"
    },
    {
     "name": "stdout",
     "output_type": "stream",
     "text": [
      "generating images for MORBIER with prompt: best quality, high quality, image of Morbier on a marble plate, with a shop background, seen from an angled shot\n"
     ]
    },
    {
     "data": {
      "application/vnd.jupyter.widget-view+json": {
       "model_id": "e272ab32f22e41b79c3134cffddfa0a3",
       "version_major": 2,
       "version_minor": 0
      },
      "text/plain": [
       "  0%|          | 0/20 [00:00<?, ?it/s]"
      ]
     },
     "metadata": {},
     "output_type": "display_data"
    },
    {
     "name": "stdout",
     "output_type": "stream",
     "text": [
      "generating images for MORBIER with prompt: best quality, high quality, in its packaging\n"
     ]
    },
    {
     "data": {
      "application/vnd.jupyter.widget-view+json": {
       "model_id": "bf5a9e27502b4810803e132df40f311e",
       "version_major": 2,
       "version_minor": 0
      },
      "text/plain": [
       "  0%|          | 0/20 [00:00<?, ?it/s]"
      ]
     },
     "metadata": {},
     "output_type": "display_data"
    },
    {
     "name": "stdout",
     "output_type": "stream",
     "text": [
      "/Data/hala.gamouh/cheese_classification_challenge/dataset/val/MORBIER/000007.jpg\n",
      "generating images for MORBIER with prompt: best quality, high quality, image of Morbier on a slate board, with a shop background, seen from above\n"
     ]
    },
    {
     "data": {
      "application/vnd.jupyter.widget-view+json": {
       "model_id": "b9b215d75b3745689968a9d764694c90",
       "version_major": 2,
       "version_minor": 0
      },
      "text/plain": [
       "  0%|          | 0/20 [00:00<?, ?it/s]"
      ]
     },
     "metadata": {},
     "output_type": "display_data"
    },
    {
     "name": "stdout",
     "output_type": "stream",
     "text": [
      "generating images for MORBIER with prompt: best quality, high quality, image of Morbier on a wooden plate, with a plain white background, seen from above\n"
     ]
    },
    {
     "data": {
      "application/vnd.jupyter.widget-view+json": {
       "model_id": "8a38848f2a364e1592c8f76684642a4d",
       "version_major": 2,
       "version_minor": 0
      },
      "text/plain": [
       "  0%|          | 0/20 [00:00<?, ?it/s]"
      ]
     },
     "metadata": {},
     "output_type": "display_data"
    },
    {
     "name": "stdout",
     "output_type": "stream",
     "text": [
      "generating images for MORBIER with prompt: best quality, high quality, image of Morbier on a slate board, with a cheese cave background, seen from above\n"
     ]
    },
    {
     "data": {
      "application/vnd.jupyter.widget-view+json": {
       "model_id": "fc28eddd758b4227b616ac71cab71629",
       "version_major": 2,
       "version_minor": 0
      },
      "text/plain": [
       "  0%|          | 0/20 [00:00<?, ?it/s]"
      ]
     },
     "metadata": {},
     "output_type": "display_data"
    },
    {
     "name": "stdout",
     "output_type": "stream",
     "text": [
      "/Data/hala.gamouh/cheese_classification_challenge/dataset/val/MORBIER/000008.jpg\n",
      "generating images for MORBIER with prompt: best quality, high quality, image of Morbier on a marble plate, with a kitchen background, seen from a side view\n"
     ]
    },
    {
     "data": {
      "application/vnd.jupyter.widget-view+json": {
       "model_id": "e8ee252bf35e44058e891ffe2d21505c",
       "version_major": 2,
       "version_minor": 0
      },
      "text/plain": [
       "  0%|          | 0/20 [00:00<?, ?it/s]"
      ]
     },
     "metadata": {},
     "output_type": "display_data"
    },
    {
     "name": "stdout",
     "output_type": "stream",
     "text": [
      "generating images for MORBIER with prompt: best quality, high quality, image of Morbier on a marble plate, with a shop background, seen from an angled shot\n"
     ]
    },
    {
     "data": {
      "application/vnd.jupyter.widget-view+json": {
       "model_id": "89b8f705402c49268bcb066670fff768",
       "version_major": 2,
       "version_minor": 0
      },
      "text/plain": [
       "  0%|          | 0/20 [00:00<?, ?it/s]"
      ]
     },
     "metadata": {},
     "output_type": "display_data"
    },
    {
     "name": "stdout",
     "output_type": "stream",
     "text": [
      "generating images for MORBIER with prompt: best quality, high quality, image of Morbier on a wooden plate, with a plain white background, seen from above\n"
     ]
    },
    {
     "data": {
      "application/vnd.jupyter.widget-view+json": {
       "model_id": "b377a30466c5440da8d5fb18f306ad15",
       "version_major": 2,
       "version_minor": 0
      },
      "text/plain": [
       "  0%|          | 0/20 [00:00<?, ?it/s]"
      ]
     },
     "metadata": {},
     "output_type": "display_data"
    },
    {
     "name": "stdout",
     "output_type": "stream",
     "text": [
      "/Data/hala.gamouh/cheese_classification_challenge/dataset/val/MORBIER/000009.jpg\n",
      "generating images for MORBIER with prompt: best quality, high quality, image of Morbier on a slate board, with a cheese cave background, seen from above\n"
     ]
    },
    {
     "data": {
      "application/vnd.jupyter.widget-view+json": {
       "model_id": "68bb90e40f164524b5c52a8f690b1c74",
       "version_major": 2,
       "version_minor": 0
      },
      "text/plain": [
       "  0%|          | 0/20 [00:00<?, ?it/s]"
      ]
     },
     "metadata": {},
     "output_type": "display_data"
    },
    {
     "name": "stdout",
     "output_type": "stream",
     "text": [
      "generating images for MORBIER with prompt: best quality, high quality, image of Morbier on a white plate, with a plain white background, seen from above\n"
     ]
    },
    {
     "data": {
      "application/vnd.jupyter.widget-view+json": {
       "model_id": "4c92c623eb704f2b94ce7c6ff456d2bf",
       "version_major": 2,
       "version_minor": 0
      },
      "text/plain": [
       "  0%|          | 0/20 [00:00<?, ?it/s]"
      ]
     },
     "metadata": {},
     "output_type": "display_data"
    },
    {
     "name": "stdout",
     "output_type": "stream",
     "text": [
      "generating images for MORBIER with prompt: best quality, high quality, image of Morbier on a slate board, with a shop background, seen from above\n"
     ]
    },
    {
     "data": {
      "application/vnd.jupyter.widget-view+json": {
       "model_id": "9b948adb5f6142d5a5ba038545acd185",
       "version_major": 2,
       "version_minor": 0
      },
      "text/plain": [
       "  0%|          | 0/20 [00:00<?, ?it/s]"
      ]
     },
     "metadata": {},
     "output_type": "display_data"
    },
    {
     "name": "stdout",
     "output_type": "stream",
     "text": [
      "/Data/hala.gamouh/cheese_classification_challenge/dataset/val/MORBIER/000010.jpg\n",
      "generating images for MORBIER with prompt: best quality, high quality, image of Morbier on a plain white background, with a cheese cave background, seen from a side view\n"
     ]
    },
    {
     "data": {
      "application/vnd.jupyter.widget-view+json": {
       "model_id": "f0f06c28739a421198b4de2f85a5c66e",
       "version_major": 2,
       "version_minor": 0
      },
      "text/plain": [
       "  0%|          | 0/20 [00:00<?, ?it/s]"
      ]
     },
     "metadata": {},
     "output_type": "display_data"
    },
    {
     "name": "stdout",
     "output_type": "stream",
     "text": [
      "generating images for MORBIER with prompt: best quality, high quality, image of Morbier on a white plate, with a cheese factory background, seen from an angled shot\n"
     ]
    },
    {
     "data": {
      "application/vnd.jupyter.widget-view+json": {
       "model_id": "a0d73aab6ab44863952579cfe720d91c",
       "version_major": 2,
       "version_minor": 0
      },
      "text/plain": [
       "  0%|          | 0/20 [00:00<?, ?it/s]"
      ]
     },
     "metadata": {},
     "output_type": "display_data"
    },
    {
     "name": "stdout",
     "output_type": "stream",
     "text": [
      "generating images for MORBIER with prompt: best quality, high quality, image of Morbier on a wooden plate, with a kitchen background, seen from a side view\n"
     ]
    },
    {
     "data": {
      "application/vnd.jupyter.widget-view+json": {
       "model_id": "9654311735bc4bde82302f350bbae051",
       "version_major": 2,
       "version_minor": 0
      },
      "text/plain": [
       "  0%|          | 0/20 [00:00<?, ?it/s]"
      ]
     },
     "metadata": {},
     "output_type": "display_data"
    },
    {
     "name": "stdout",
     "output_type": "stream",
     "text": [
      "/Data/hala.gamouh/cheese_classification_challenge/dataset/val/MORBIER/000011.jpg\n",
      "generating images for MORBIER with prompt: best quality, high quality, image of Morbier on a white plate, with a plain white background, seen from above\n"
     ]
    },
    {
     "data": {
      "application/vnd.jupyter.widget-view+json": {
       "model_id": "e1a6faa1b11a4737938ff4db82fe36c0",
       "version_major": 2,
       "version_minor": 0
      },
      "text/plain": [
       "  0%|          | 0/20 [00:00<?, ?it/s]"
      ]
     },
     "metadata": {},
     "output_type": "display_data"
    },
    {
     "name": "stdout",
     "output_type": "stream",
     "text": [
      "generating images for MORBIER with prompt: best quality, high quality, image of Morbier on a plain white background, with a plain white background, seen from a face view\n"
     ]
    },
    {
     "data": {
      "application/vnd.jupyter.widget-view+json": {
       "model_id": "7b2c5d57a63a4e80ae368b8554afff60",
       "version_major": 2,
       "version_minor": 0
      },
      "text/plain": [
       "  0%|          | 0/20 [00:00<?, ?it/s]"
      ]
     },
     "metadata": {},
     "output_type": "display_data"
    },
    {
     "name": "stdout",
     "output_type": "stream",
     "text": [
      "generating images for MORBIER with prompt: best quality, high quality, image of Morbier on a plain white background, with a plain white background, seen from a face view\n"
     ]
    },
    {
     "data": {
      "application/vnd.jupyter.widget-view+json": {
       "model_id": "970c6253a43e40c39c0e98542e1649b5",
       "version_major": 2,
       "version_minor": 0
      },
      "text/plain": [
       "  0%|          | 0/20 [00:00<?, ?it/s]"
      ]
     },
     "metadata": {},
     "output_type": "display_data"
    },
    {
     "name": "stdout",
     "output_type": "stream",
     "text": [
      "/Data/hala.gamouh/cheese_classification_challenge/dataset/val/MORBIER/000012.jpg\n",
      "generating images for MORBIER with prompt: best quality, high quality, image of Morbier on a slate board, with a cheese cave background, seen from above\n"
     ]
    },
    {
     "data": {
      "application/vnd.jupyter.widget-view+json": {
       "model_id": "48d674e4f468477cb17bde058f359285",
       "version_major": 2,
       "version_minor": 0
      },
      "text/plain": [
       "  0%|          | 0/20 [00:00<?, ?it/s]"
      ]
     },
     "metadata": {},
     "output_type": "display_data"
    },
    {
     "name": "stdout",
     "output_type": "stream",
     "text": [
      "generating images for MORBIER with prompt: best quality, high quality, image of Morbier on a white plate, with a cheese factory background, seen from an angled shot\n"
     ]
    },
    {
     "data": {
      "application/vnd.jupyter.widget-view+json": {
       "model_id": "3b6f5408687c4581a377e288fa0739e8",
       "version_major": 2,
       "version_minor": 0
      },
      "text/plain": [
       "  0%|          | 0/20 [00:00<?, ?it/s]"
      ]
     },
     "metadata": {},
     "output_type": "display_data"
    },
    {
     "name": "stdout",
     "output_type": "stream",
     "text": [
      "generating images for MORBIER with prompt: best quality, high quality, in its packaging\n"
     ]
    },
    {
     "data": {
      "application/vnd.jupyter.widget-view+json": {
       "model_id": "429232614c6944ceb82622aea1c2c1b2",
       "version_major": 2,
       "version_minor": 0
      },
      "text/plain": [
       "  0%|          | 0/20 [00:00<?, ?it/s]"
      ]
     },
     "metadata": {},
     "output_type": "display_data"
    },
    {
     "name": "stdout",
     "output_type": "stream",
     "text": [
      "/Data/hala.gamouh/cheese_classification_challenge/dataset/val/MORBIER/000013.jpg\n",
      "generating images for MORBIER with prompt: best quality, high quality, image of Morbier on a wooden plate, with a plain white background, seen from above\n"
     ]
    },
    {
     "data": {
      "application/vnd.jupyter.widget-view+json": {
       "model_id": "2865f1b58d8e4bd9b3bbe6506bed699f",
       "version_major": 2,
       "version_minor": 0
      },
      "text/plain": [
       "  0%|          | 0/20 [00:00<?, ?it/s]"
      ]
     },
     "metadata": {},
     "output_type": "display_data"
    },
    {
     "name": "stdout",
     "output_type": "stream",
     "text": [
      "generating images for MORBIER with prompt: best quality, high quality, image of Morbier on a white plate, with a plain white background, seen from above\n"
     ]
    },
    {
     "data": {
      "application/vnd.jupyter.widget-view+json": {
       "model_id": "05450a8f681b401390aa698863d2f520",
       "version_major": 2,
       "version_minor": 0
      },
      "text/plain": [
       "  0%|          | 0/20 [00:00<?, ?it/s]"
      ]
     },
     "metadata": {},
     "output_type": "display_data"
    },
    {
     "name": "stdout",
     "output_type": "stream",
     "text": [
      "generating images for MORBIER with prompt: best quality, high quality, image of Morbier on a wooden plate, with a kitchen background, seen from a side view\n"
     ]
    },
    {
     "data": {
      "application/vnd.jupyter.widget-view+json": {
       "model_id": "a9a07126d7c14861aa761aec533bf753",
       "version_major": 2,
       "version_minor": 0
      },
      "text/plain": [
       "  0%|          | 0/20 [00:00<?, ?it/s]"
      ]
     },
     "metadata": {},
     "output_type": "display_data"
    },
    {
     "name": "stdout",
     "output_type": "stream",
     "text": [
      "/Data/hala.gamouh/cheese_classification_challenge/dataset/val/MORBIER/000014.jpg\n",
      "generating images for MORBIER with prompt: best quality, high quality, image of Morbier on a slate board, with a cheese cave background, seen from above\n"
     ]
    },
    {
     "data": {
      "application/vnd.jupyter.widget-view+json": {
       "model_id": "d9b12de38b054a5e94de3dfdcb3f8acf",
       "version_major": 2,
       "version_minor": 0
      },
      "text/plain": [
       "  0%|          | 0/20 [00:00<?, ?it/s]"
      ]
     },
     "metadata": {},
     "output_type": "display_data"
    },
    {
     "name": "stdout",
     "output_type": "stream",
     "text": [
      "generating images for MORBIER with prompt: best quality, high quality, image of Morbier on a white plate, with a cheese factory background, seen from an angled shot\n"
     ]
    },
    {
     "data": {
      "application/vnd.jupyter.widget-view+json": {
       "model_id": "44a31df914a540ff810ede0a09878b75",
       "version_major": 2,
       "version_minor": 0
      },
      "text/plain": [
       "  0%|          | 0/20 [00:00<?, ?it/s]"
      ]
     },
     "metadata": {},
     "output_type": "display_data"
    },
    {
     "name": "stdout",
     "output_type": "stream",
     "text": [
      "generating images for MORBIER with prompt: best quality, high quality, image of Morbier on a white plate, with a cheese factory background, seen from an angled shot\n"
     ]
    },
    {
     "data": {
      "application/vnd.jupyter.widget-view+json": {
       "model_id": "1fadbc0938064c77a35303a86df17b06",
       "version_major": 2,
       "version_minor": 0
      },
      "text/plain": [
       "  0%|          | 0/20 [00:00<?, ?it/s]"
      ]
     },
     "metadata": {},
     "output_type": "display_data"
    },
    {
     "name": "stdout",
     "output_type": "stream",
     "text": [
      "/Data/hala.gamouh/cheese_classification_challenge/dataset/val/MORBIER/000015.jpg\n",
      "generating images for MORBIER with prompt: best quality, high quality, image of Morbier on a white plate, with a cheese factory background, seen from an angled shot\n"
     ]
    },
    {
     "data": {
      "application/vnd.jupyter.widget-view+json": {
       "model_id": "52c996666d2f41169ef04eaee8c65284",
       "version_major": 2,
       "version_minor": 0
      },
      "text/plain": [
       "  0%|          | 0/20 [00:00<?, ?it/s]"
      ]
     },
     "metadata": {},
     "output_type": "display_data"
    },
    {
     "name": "stdout",
     "output_type": "stream",
     "text": [
      "generating images for MORBIER with prompt: best quality, high quality, image of Morbier on a marble plate, with a shop background, seen from an angled shot\n"
     ]
    },
    {
     "data": {
      "application/vnd.jupyter.widget-view+json": {
       "model_id": "fc9b2584b9e848b5a7b02217b5555f15",
       "version_major": 2,
       "version_minor": 0
      },
      "text/plain": [
       "  0%|          | 0/20 [00:00<?, ?it/s]"
      ]
     },
     "metadata": {},
     "output_type": "display_data"
    },
    {
     "name": "stdout",
     "output_type": "stream",
     "text": [
      "generating images for MORBIER with prompt: best quality, high quality, image of Morbier on a slate board, with a shop background, seen from above\n"
     ]
    },
    {
     "data": {
      "application/vnd.jupyter.widget-view+json": {
       "model_id": "f4c0932cdc6548ae8c279f9d27988b34",
       "version_major": 2,
       "version_minor": 0
      },
      "text/plain": [
       "  0%|          | 0/20 [00:00<?, ?it/s]"
      ]
     },
     "metadata": {},
     "output_type": "display_data"
    },
    {
     "name": "stdout",
     "output_type": "stream",
     "text": [
      "/Data/hala.gamouh/cheese_classification_challenge/dataset/val/MORBIER/000016.jpg\n",
      "generating images for MORBIER with prompt: best quality, high quality, image of Morbier on a wooden plate, with a kitchen background, seen from a side view\n"
     ]
    },
    {
     "data": {
      "application/vnd.jupyter.widget-view+json": {
       "model_id": "f131cc8a40b14a20818fa1e4d6881371",
       "version_major": 2,
       "version_minor": 0
      },
      "text/plain": [
       "  0%|          | 0/20 [00:00<?, ?it/s]"
      ]
     },
     "metadata": {},
     "output_type": "display_data"
    },
    {
     "name": "stdout",
     "output_type": "stream",
     "text": [
      "generating images for MORBIER with prompt: best quality, high quality, image of Morbier on a plain white background, with a plain white background, seen from a face view\n"
     ]
    },
    {
     "data": {
      "application/vnd.jupyter.widget-view+json": {
       "model_id": "41694c50e27f43ce9322ec4d77829069",
       "version_major": 2,
       "version_minor": 0
      },
      "text/plain": [
       "  0%|          | 0/20 [00:00<?, ?it/s]"
      ]
     },
     "metadata": {},
     "output_type": "display_data"
    },
    {
     "name": "stdout",
     "output_type": "stream",
     "text": [
      "generating images for MORBIER with prompt: best quality, high quality, image of Morbier on a white plate, with a plain white background, seen from above\n"
     ]
    },
    {
     "data": {
      "application/vnd.jupyter.widget-view+json": {
       "model_id": "0dd4296dcce443168db6731f6b8f5b7c",
       "version_major": 2,
       "version_minor": 0
      },
      "text/plain": [
       "  0%|          | 0/20 [00:00<?, ?it/s]"
      ]
     },
     "metadata": {},
     "output_type": "display_data"
    },
    {
     "name": "stdout",
     "output_type": "stream",
     "text": [
      "/Data/hala.gamouh/cheese_classification_challenge/dataset/val/MORBIER/000017.jpg\n",
      "generating images for MORBIER with prompt: best quality, high quality, image of Morbier on a slate board, with a shop background, seen from above\n"
     ]
    },
    {
     "data": {
      "application/vnd.jupyter.widget-view+json": {
       "model_id": "d2b485723c104ddc8d9b66b152167efd",
       "version_major": 2,
       "version_minor": 0
      },
      "text/plain": [
       "  0%|          | 0/20 [00:00<?, ?it/s]"
      ]
     },
     "metadata": {},
     "output_type": "display_data"
    },
    {
     "name": "stdout",
     "output_type": "stream",
     "text": [
      "generating images for MORBIER with prompt: best quality, high quality, image of Morbier on a slate board, with a cheese cave background, seen from above\n"
     ]
    },
    {
     "data": {
      "application/vnd.jupyter.widget-view+json": {
       "model_id": "5158cc7b50e74988a57ab2511386eaf6",
       "version_major": 2,
       "version_minor": 0
      },
      "text/plain": [
       "  0%|          | 0/20 [00:00<?, ?it/s]"
      ]
     },
     "metadata": {},
     "output_type": "display_data"
    },
    {
     "name": "stdout",
     "output_type": "stream",
     "text": [
      "generating images for MORBIER with prompt: best quality, high quality, image of Morbier on a white plate, with a plain white background, seen from above\n"
     ]
    },
    {
     "data": {
      "application/vnd.jupyter.widget-view+json": {
       "model_id": "57d6a98791234e44afdbf98d4cfbc718",
       "version_major": 2,
       "version_minor": 0
      },
      "text/plain": [
       "  0%|          | 0/20 [00:00<?, ?it/s]"
      ]
     },
     "metadata": {},
     "output_type": "display_data"
    },
    {
     "name": "stdout",
     "output_type": "stream",
     "text": [
      "/Data/hala.gamouh/cheese_classification_challenge/dataset/val/MORBIER/000018.jpg\n",
      "generating images for MORBIER with prompt: best quality, high quality, image of Morbier on a wooden plate, with a kitchen background, seen from a side view\n"
     ]
    },
    {
     "data": {
      "application/vnd.jupyter.widget-view+json": {
       "model_id": "a298db691d054dd79a44880eb26d4a3f",
       "version_major": 2,
       "version_minor": 0
      },
      "text/plain": [
       "  0%|          | 0/20 [00:00<?, ?it/s]"
      ]
     },
     "metadata": {},
     "output_type": "display_data"
    },
    {
     "name": "stdout",
     "output_type": "stream",
     "text": [
      "generating images for MORBIER with prompt: best quality, high quality, image of Morbier on a marble plate, with a kitchen background, seen from a side view\n"
     ]
    },
    {
     "data": {
      "application/vnd.jupyter.widget-view+json": {
       "model_id": "90623f506b524c76bc98d286d28be4d9",
       "version_major": 2,
       "version_minor": 0
      },
      "text/plain": [
       "  0%|          | 0/20 [00:00<?, ?it/s]"
      ]
     },
     "metadata": {},
     "output_type": "display_data"
    },
    {
     "name": "stdout",
     "output_type": "stream",
     "text": [
      "generating images for MORBIER with prompt: best quality, high quality, image of Morbier on a slate board, with a cheese cave background, seen from above\n"
     ]
    },
    {
     "data": {
      "application/vnd.jupyter.widget-view+json": {
       "model_id": "e2433d35cb3448abbead2e86a10d8f36",
       "version_major": 2,
       "version_minor": 0
      },
      "text/plain": [
       "  0%|          | 0/20 [00:00<?, ?it/s]"
      ]
     },
     "metadata": {},
     "output_type": "display_data"
    },
    {
     "name": "stdout",
     "output_type": "stream",
     "text": [
      "/Data/hala.gamouh/cheese_classification_challenge/dataset/val/MORBIER/000019.jpg\n",
      "generating images for MORBIER with prompt: best quality, high quality, image of Morbier on a plain white background, with a plain white background, seen from a face view\n"
     ]
    },
    {
     "data": {
      "application/vnd.jupyter.widget-view+json": {
       "model_id": "7ab2ff0a470240aeae6c3bedb3a4942a",
       "version_major": 2,
       "version_minor": 0
      },
      "text/plain": [
       "  0%|          | 0/20 [00:00<?, ?it/s]"
      ]
     },
     "metadata": {},
     "output_type": "display_data"
    },
    {
     "name": "stdout",
     "output_type": "stream",
     "text": [
      "generating images for MORBIER with prompt: best quality, high quality, image of Morbier on a white plate, with a cheese factory background, seen from an angled shot\n"
     ]
    },
    {
     "data": {
      "application/vnd.jupyter.widget-view+json": {
       "model_id": "59d2206d7c684bb6ae5e0f98abe35497",
       "version_major": 2,
       "version_minor": 0
      },
      "text/plain": [
       "  0%|          | 0/20 [00:00<?, ?it/s]"
      ]
     },
     "metadata": {},
     "output_type": "display_data"
    },
    {
     "name": "stdout",
     "output_type": "stream",
     "text": [
      "generating images for MORBIER with prompt: best quality, high quality, image of Morbier on a wooden plate, with a plain white background, seen from above\n"
     ]
    },
    {
     "data": {
      "application/vnd.jupyter.widget-view+json": {
       "model_id": "d1c2629bf610488091f1d60eed40bcc2",
       "version_major": 2,
       "version_minor": 0
      },
      "text/plain": [
       "  0%|          | 0/20 [00:00<?, ?it/s]"
      ]
     },
     "metadata": {},
     "output_type": "display_data"
    },
    {
     "name": "stdout",
     "output_type": "stream",
     "text": [
      "/Data/hala.gamouh/cheese_classification_challenge/dataset/val/MORBIER/000020.jpg\n",
      "generating images for MORBIER with prompt: best quality, high quality, image of Morbier on a plain white background, with a plain white background, seen from a face view\n"
     ]
    },
    {
     "data": {
      "application/vnd.jupyter.widget-view+json": {
       "model_id": "bc8458409e4b4f8c94a2791a9b89d12b",
       "version_major": 2,
       "version_minor": 0
      },
      "text/plain": [
       "  0%|          | 0/20 [00:00<?, ?it/s]"
      ]
     },
     "metadata": {},
     "output_type": "display_data"
    },
    {
     "name": "stdout",
     "output_type": "stream",
     "text": [
      "generating images for MORBIER with prompt: best quality, high quality, image of Morbier on a plain white background, with a cheese cave background, seen from a side view\n"
     ]
    },
    {
     "data": {
      "application/vnd.jupyter.widget-view+json": {
       "model_id": "82a883a54da947baad7f94486c33050f",
       "version_major": 2,
       "version_minor": 0
      },
      "text/plain": [
       "  0%|          | 0/20 [00:00<?, ?it/s]"
      ]
     },
     "metadata": {},
     "output_type": "display_data"
    },
    {
     "name": "stdout",
     "output_type": "stream",
     "text": [
      "generating images for MORBIER with prompt: best quality, high quality, image of Morbier on a marble plate, with a kitchen background, seen from a side view\n"
     ]
    },
    {
     "data": {
      "application/vnd.jupyter.widget-view+json": {
       "model_id": "fab1d5320c734226b87fbcf85d568ef7",
       "version_major": 2,
       "version_minor": 0
      },
      "text/plain": [
       "  0%|          | 0/20 [00:00<?, ?it/s]"
      ]
     },
     "metadata": {},
     "output_type": "display_data"
    },
    {
     "name": "stdout",
     "output_type": "stream",
     "text": [
      "/Data/hala.gamouh/cheese_classification_challenge/dataset/val/MORBIER/000021.jpg\n",
      "generating images for MORBIER with prompt: best quality, high quality, image of Morbier on a slate board, with a shop background, seen from above\n"
     ]
    },
    {
     "data": {
      "application/vnd.jupyter.widget-view+json": {
       "model_id": "d2ce6e9cb1974c81bfda509a6e374fc6",
       "version_major": 2,
       "version_minor": 0
      },
      "text/plain": [
       "  0%|          | 0/20 [00:00<?, ?it/s]"
      ]
     },
     "metadata": {},
     "output_type": "display_data"
    },
    {
     "name": "stdout",
     "output_type": "stream",
     "text": [
      "generating images for MORBIER with prompt: best quality, high quality, image of Morbier on a plain white background, with a cheese cave background, seen from a side view\n"
     ]
    },
    {
     "data": {
      "application/vnd.jupyter.widget-view+json": {
       "model_id": "48862e1030fc46a796bc0bab1cdbe97a",
       "version_major": 2,
       "version_minor": 0
      },
      "text/plain": [
       "  0%|          | 0/20 [00:00<?, ?it/s]"
      ]
     },
     "metadata": {},
     "output_type": "display_data"
    },
    {
     "name": "stdout",
     "output_type": "stream",
     "text": [
      "generating images for MORBIER with prompt: best quality, high quality, image of Morbier on a marble plate, with a kitchen background, seen from a side view\n"
     ]
    },
    {
     "data": {
      "application/vnd.jupyter.widget-view+json": {
       "model_id": "dd85755a5c3c4f539fb603789761c9f0",
       "version_major": 2,
       "version_minor": 0
      },
      "text/plain": [
       "  0%|          | 0/20 [00:00<?, ?it/s]"
      ]
     },
     "metadata": {},
     "output_type": "display_data"
    },
    {
     "name": "stdout",
     "output_type": "stream",
     "text": [
      "/Data/hala.gamouh/cheese_classification_challenge/dataset/val/MORBIER/000022.jpg\n",
      "generating images for MORBIER with prompt: best quality, high quality, image of Morbier on a slate board, with a cheese cave background, seen from above\n"
     ]
    },
    {
     "data": {
      "application/vnd.jupyter.widget-view+json": {
       "model_id": "c9e91b474391454aaa5b108bab7afe5a",
       "version_major": 2,
       "version_minor": 0
      },
      "text/plain": [
       "  0%|          | 0/20 [00:00<?, ?it/s]"
      ]
     },
     "metadata": {},
     "output_type": "display_data"
    },
    {
     "name": "stdout",
     "output_type": "stream",
     "text": [
      "generating images for MORBIER with prompt: best quality, high quality, image of Morbier on a slate board, with a shop background, seen from above\n"
     ]
    },
    {
     "data": {
      "application/vnd.jupyter.widget-view+json": {
       "model_id": "4b774f6ad17d411b9ec8eba4d0b653a7",
       "version_major": 2,
       "version_minor": 0
      },
      "text/plain": [
       "  0%|          | 0/20 [00:00<?, ?it/s]"
      ]
     },
     "metadata": {},
     "output_type": "display_data"
    },
    {
     "name": "stdout",
     "output_type": "stream",
     "text": [
      "generating images for MORBIER with prompt: best quality, high quality, image of Morbier on a slate board, with a cheese cave background, seen from above\n"
     ]
    },
    {
     "data": {
      "application/vnd.jupyter.widget-view+json": {
       "model_id": "103f414281cd4f97a7c961ec0141e2a9",
       "version_major": 2,
       "version_minor": 0
      },
      "text/plain": [
       "  0%|          | 0/20 [00:00<?, ?it/s]"
      ]
     },
     "metadata": {},
     "output_type": "display_data"
    },
    {
     "name": "stdout",
     "output_type": "stream",
     "text": [
      "/Data/hala.gamouh/cheese_classification_challenge/dataset/val/MORBIER/000023.jpg\n",
      "generating images for MORBIER with prompt: best quality, high quality, image of Morbier on a marble plate, with a kitchen background, seen from a side view\n"
     ]
    },
    {
     "data": {
      "application/vnd.jupyter.widget-view+json": {
       "model_id": "c40f7703d4c3432483945ca9cd18d7d9",
       "version_major": 2,
       "version_minor": 0
      },
      "text/plain": [
       "  0%|          | 0/20 [00:00<?, ?it/s]"
      ]
     },
     "metadata": {},
     "output_type": "display_data"
    },
    {
     "name": "stdout",
     "output_type": "stream",
     "text": [
      "generating images for MORBIER with prompt: best quality, high quality, image of Morbier on a white plate, with a cheese factory background, seen from an angled shot\n"
     ]
    },
    {
     "data": {
      "application/vnd.jupyter.widget-view+json": {
       "model_id": "74e84af6bc1843e182862d420ea52b7b",
       "version_major": 2,
       "version_minor": 0
      },
      "text/plain": [
       "  0%|          | 0/20 [00:00<?, ?it/s]"
      ]
     },
     "metadata": {},
     "output_type": "display_data"
    },
    {
     "name": "stdout",
     "output_type": "stream",
     "text": [
      "generating images for MORBIER with prompt: best quality, high quality, image of Morbier on a marble plate, with a kitchen background, seen from a side view\n"
     ]
    },
    {
     "data": {
      "application/vnd.jupyter.widget-view+json": {
       "model_id": "fa1a21a0246f46d086add0facd57f9b7",
       "version_major": 2,
       "version_minor": 0
      },
      "text/plain": [
       "  0%|          | 0/20 [00:00<?, ?it/s]"
      ]
     },
     "metadata": {},
     "output_type": "display_data"
    },
    {
     "name": "stdout",
     "output_type": "stream",
     "text": [
      "/Data/hala.gamouh/cheese_classification_challenge/dataset/val/MORBIER/000024.jpg\n",
      "generating images for MORBIER with prompt: best quality, high quality, image of Morbier on a plain white background, with a cheese cave background, seen from a side view\n"
     ]
    },
    {
     "data": {
      "application/vnd.jupyter.widget-view+json": {
       "model_id": "ce8a1b5957ba4e2b81fe71127bc43d5a",
       "version_major": 2,
       "version_minor": 0
      },
      "text/plain": [
       "  0%|          | 0/20 [00:00<?, ?it/s]"
      ]
     },
     "metadata": {},
     "output_type": "display_data"
    },
    {
     "name": "stdout",
     "output_type": "stream",
     "text": [
      "generating images for MORBIER with prompt: best quality, high quality, image of Morbier on a slate board, with a shop background, seen from above\n"
     ]
    },
    {
     "data": {
      "application/vnd.jupyter.widget-view+json": {
       "model_id": "2ca6c4834c314bc78b6e9647a39129a8",
       "version_major": 2,
       "version_minor": 0
      },
      "text/plain": [
       "  0%|          | 0/20 [00:00<?, ?it/s]"
      ]
     },
     "metadata": {},
     "output_type": "display_data"
    },
    {
     "name": "stdout",
     "output_type": "stream",
     "text": [
      "generating images for MORBIER with prompt: best quality, high quality, image of Morbier on a wooden plate, with a plain white background, seen from above\n"
     ]
    },
    {
     "data": {
      "application/vnd.jupyter.widget-view+json": {
       "model_id": "c8ba89f53e174aef9ea0da58442b948e",
       "version_major": 2,
       "version_minor": 0
      },
      "text/plain": [
       "  0%|          | 0/20 [00:00<?, ?it/s]"
      ]
     },
     "metadata": {},
     "output_type": "display_data"
    },
    {
     "name": "stdout",
     "output_type": "stream",
     "text": [
      "/Data/hala.gamouh/cheese_classification_challenge/dataset/val/MORBIER/000000.jpg\n",
      "generating images for MORBIER with prompt: best quality, high quality, image of Morbier on a wooden plate, with a plain white background, seen from above\n"
     ]
    },
    {
     "data": {
      "application/vnd.jupyter.widget-view+json": {
       "model_id": "1706e315a6c94ca9a11893a7006923f0",
       "version_major": 2,
       "version_minor": 0
      },
      "text/plain": [
       "  0%|          | 0/20 [00:00<?, ?it/s]"
      ]
     },
     "metadata": {},
     "output_type": "display_data"
    },
    {
     "name": "stdout",
     "output_type": "stream",
     "text": [
      "generating images for MORBIER with prompt: best quality, high quality, image of Morbier on a wooden plate, with a plain white background, seen from above\n"
     ]
    },
    {
     "data": {
      "application/vnd.jupyter.widget-view+json": {
       "model_id": "54fbf3ce80264debb31f13510f5b3b1c",
       "version_major": 2,
       "version_minor": 0
      },
      "text/plain": [
       "  0%|          | 0/20 [00:00<?, ?it/s]"
      ]
     },
     "metadata": {},
     "output_type": "display_data"
    },
    {
     "name": "stdout",
     "output_type": "stream",
     "text": [
      "generating images for MORBIER with prompt: best quality, high quality, image of Morbier on a slate board, with a shop background, seen from above\n"
     ]
    },
    {
     "data": {
      "application/vnd.jupyter.widget-view+json": {
       "model_id": "4ea62c6c34c6499eb7d0bd91b517bf1d",
       "version_major": 2,
       "version_minor": 0
      },
      "text/plain": [
       "  0%|          | 0/20 [00:00<?, ?it/s]"
      ]
     },
     "metadata": {},
     "output_type": "display_data"
    },
    {
     "name": "stdout",
     "output_type": "stream",
     "text": [
      "/Data/hala.gamouh/cheese_classification_challenge/dataset/val/MORBIER/000001.jpg\n",
      "generating images for MORBIER with prompt: best quality, high quality, image of Morbier on a slate board, with a shop background, seen from above\n"
     ]
    },
    {
     "data": {
      "application/vnd.jupyter.widget-view+json": {
       "model_id": "966121b9583d47f5afe4f9f9ed0160dc",
       "version_major": 2,
       "version_minor": 0
      },
      "text/plain": [
       "  0%|          | 0/20 [00:00<?, ?it/s]"
      ]
     },
     "metadata": {},
     "output_type": "display_data"
    },
    {
     "name": "stdout",
     "output_type": "stream",
     "text": [
      "generating images for MORBIER with prompt: best quality, high quality, image of Morbier on a white plate, with a cheese factory background, seen from an angled shot\n"
     ]
    },
    {
     "data": {
      "application/vnd.jupyter.widget-view+json": {
       "model_id": "e4d5abf028be445d856cadc13abd6bdc",
       "version_major": 2,
       "version_minor": 0
      },
      "text/plain": [
       "  0%|          | 0/20 [00:00<?, ?it/s]"
      ]
     },
     "metadata": {},
     "output_type": "display_data"
    },
    {
     "name": "stdout",
     "output_type": "stream",
     "text": [
      "generating images for MORBIER with prompt: best quality, high quality, image of Morbier on a slate board, with a shop background, seen from above\n"
     ]
    },
    {
     "data": {
      "application/vnd.jupyter.widget-view+json": {
       "model_id": "190401e0f1f44f6e99ae91fda893a808",
       "version_major": 2,
       "version_minor": 0
      },
      "text/plain": [
       "  0%|          | 0/20 [00:00<?, ?it/s]"
      ]
     },
     "metadata": {},
     "output_type": "display_data"
    },
    {
     "name": "stdout",
     "output_type": "stream",
     "text": [
      "/Data/hala.gamouh/cheese_classification_challenge/dataset/val/MORBIER/000002.jpg\n",
      "generating images for MORBIER with prompt: best quality, high quality, image of Morbier on a marble plate, with a shop background, seen from an angled shot\n"
     ]
    },
    {
     "data": {
      "application/vnd.jupyter.widget-view+json": {
       "model_id": "43a4f75f7d554dc19858bccb8f2f829a",
       "version_major": 2,
       "version_minor": 0
      },
      "text/plain": [
       "  0%|          | 0/20 [00:00<?, ?it/s]"
      ]
     },
     "metadata": {},
     "output_type": "display_data"
    },
    {
     "name": "stdout",
     "output_type": "stream",
     "text": [
      "generating images for MORBIER with prompt: best quality, high quality, image of Morbier on a plain white background, with a plain white background, seen from a face view\n"
     ]
    },
    {
     "data": {
      "application/vnd.jupyter.widget-view+json": {
       "model_id": "d42b2d9c4af14a83903199b279df0ec9",
       "version_major": 2,
       "version_minor": 0
      },
      "text/plain": [
       "  0%|          | 0/20 [00:00<?, ?it/s]"
      ]
     },
     "metadata": {},
     "output_type": "display_data"
    },
    {
     "name": "stdout",
     "output_type": "stream",
     "text": [
      "generating images for MORBIER with prompt: best quality, high quality, image of Morbier on a marble plate, with a kitchen background, seen from a side view\n"
     ]
    },
    {
     "data": {
      "application/vnd.jupyter.widget-view+json": {
       "model_id": "09ef68a164e144d2a45b40d9b707889f",
       "version_major": 2,
       "version_minor": 0
      },
      "text/plain": [
       "  0%|          | 0/20 [00:00<?, ?it/s]"
      ]
     },
     "metadata": {},
     "output_type": "display_data"
    },
    {
     "name": "stdout",
     "output_type": "stream",
     "text": [
      "/Data/hala.gamouh/cheese_classification_challenge/dataset/val/MORBIER/000003.jpg\n",
      "generating images for MORBIER with prompt: best quality, high quality, image of Morbier on a plain white background, with a plain white background, seen from a face view\n"
     ]
    },
    {
     "data": {
      "application/vnd.jupyter.widget-view+json": {
       "model_id": "2d9c8095b14a4f00b730c2b111a72470",
       "version_major": 2,
       "version_minor": 0
      },
      "text/plain": [
       "  0%|          | 0/20 [00:00<?, ?it/s]"
      ]
     },
     "metadata": {},
     "output_type": "display_data"
    },
    {
     "name": "stdout",
     "output_type": "stream",
     "text": [
      "generating images for MORBIER with prompt: best quality, high quality, in its packaging\n"
     ]
    },
    {
     "data": {
      "application/vnd.jupyter.widget-view+json": {
       "model_id": "13a3bd4c1ef4442e9cd47a16c9e3f291",
       "version_major": 2,
       "version_minor": 0
      },
      "text/plain": [
       "  0%|          | 0/20 [00:00<?, ?it/s]"
      ]
     },
     "metadata": {},
     "output_type": "display_data"
    },
    {
     "name": "stdout",
     "output_type": "stream",
     "text": [
      "generating images for MORBIER with prompt: best quality, high quality, image of Morbier on a white plate, with a plain white background, seen from above\n"
     ]
    },
    {
     "data": {
      "application/vnd.jupyter.widget-view+json": {
       "model_id": "9654fa6430f9469794ced1bae65fa785",
       "version_major": 2,
       "version_minor": 0
      },
      "text/plain": [
       "  0%|          | 0/20 [00:00<?, ?it/s]"
      ]
     },
     "metadata": {},
     "output_type": "display_data"
    },
    {
     "name": "stdout",
     "output_type": "stream",
     "text": [
      "/Data/hala.gamouh/cheese_classification_challenge/dataset/val/MORBIER/000004.jpg\n",
      "generating images for MORBIER with prompt: best quality, high quality, image of Morbier on a white plate, with a plain white background, seen from above\n"
     ]
    },
    {
     "data": {
      "application/vnd.jupyter.widget-view+json": {
       "model_id": "8ac0fac401154b2cb0fef92ef4adeb70",
       "version_major": 2,
       "version_minor": 0
      },
      "text/plain": [
       "  0%|          | 0/20 [00:00<?, ?it/s]"
      ]
     },
     "metadata": {},
     "output_type": "display_data"
    },
    {
     "name": "stdout",
     "output_type": "stream",
     "text": [
      "generating images for MORBIER with prompt: best quality, high quality, image of Morbier on a marble plate, with a shop background, seen from an angled shot\n"
     ]
    },
    {
     "data": {
      "application/vnd.jupyter.widget-view+json": {
       "model_id": "f21cc2100395454f99f7d95170eab0e7",
       "version_major": 2,
       "version_minor": 0
      },
      "text/plain": [
       "  0%|          | 0/20 [00:00<?, ?it/s]"
      ]
     },
     "metadata": {},
     "output_type": "display_data"
    },
    {
     "name": "stdout",
     "output_type": "stream",
     "text": [
      "generating images for MORBIER with prompt: best quality, high quality, image of Morbier on a plain white background, with a cheese cave background, seen from a side view\n"
     ]
    },
    {
     "data": {
      "application/vnd.jupyter.widget-view+json": {
       "model_id": "2965d3998c434e60add4b327e4c8d851",
       "version_major": 2,
       "version_minor": 0
      },
      "text/plain": [
       "  0%|          | 0/20 [00:00<?, ?it/s]"
      ]
     },
     "metadata": {},
     "output_type": "display_data"
    },
    {
     "name": "stdout",
     "output_type": "stream",
     "text": [
      "/Data/hala.gamouh/cheese_classification_challenge/dataset/val/MORBIER/000005.jpg\n",
      "generating images for MORBIER with prompt: best quality, high quality, image of Morbier on a wooden plate, with a kitchen background, seen from a side view\n"
     ]
    },
    {
     "data": {
      "application/vnd.jupyter.widget-view+json": {
       "model_id": "1101b40ca523472ebddd5542a8c8e0ac",
       "version_major": 2,
       "version_minor": 0
      },
      "text/plain": [
       "  0%|          | 0/20 [00:00<?, ?it/s]"
      ]
     },
     "metadata": {},
     "output_type": "display_data"
    },
    {
     "name": "stdout",
     "output_type": "stream",
     "text": [
      "generating images for MORBIER with prompt: best quality, high quality, image of Morbier on a white plate, with a plain white background, seen from above\n"
     ]
    },
    {
     "data": {
      "application/vnd.jupyter.widget-view+json": {
       "model_id": "21990f5636254338aa21cbed8febedc4",
       "version_major": 2,
       "version_minor": 0
      },
      "text/plain": [
       "  0%|          | 0/20 [00:00<?, ?it/s]"
      ]
     },
     "metadata": {},
     "output_type": "display_data"
    },
    {
     "name": "stdout",
     "output_type": "stream",
     "text": [
      "generating images for MORBIER with prompt: best quality, high quality, image of Morbier on a white plate, with a plain white background, seen from above\n"
     ]
    },
    {
     "data": {
      "application/vnd.jupyter.widget-view+json": {
       "model_id": "86c5b3f9f14d462ca205c0c63b9030ad",
       "version_major": 2,
       "version_minor": 0
      },
      "text/plain": [
       "  0%|          | 0/20 [00:00<?, ?it/s]"
      ]
     },
     "metadata": {},
     "output_type": "display_data"
    },
    {
     "name": "stdout",
     "output_type": "stream",
     "text": [
      "/Data/hala.gamouh/cheese_classification_challenge/dataset/val/MORBIER/000006.jpg\n",
      "generating images for MORBIER with prompt: best quality, high quality, image of Morbier on a plain white background, with a plain white background, seen from a face view\n"
     ]
    },
    {
     "data": {
      "application/vnd.jupyter.widget-view+json": {
       "model_id": "d0aeec56585d4f55b10c54acc4109809",
       "version_major": 2,
       "version_minor": 0
      },
      "text/plain": [
       "  0%|          | 0/20 [00:00<?, ?it/s]"
      ]
     },
     "metadata": {},
     "output_type": "display_data"
    },
    {
     "name": "stdout",
     "output_type": "stream",
     "text": [
      "generating images for MORBIER with prompt: best quality, high quality, image of Morbier on a wooden plate, with a plain white background, seen from above\n"
     ]
    },
    {
     "data": {
      "application/vnd.jupyter.widget-view+json": {
       "model_id": "47635236b0b846ea94673fc4e79e40c8",
       "version_major": 2,
       "version_minor": 0
      },
      "text/plain": [
       "  0%|          | 0/20 [00:00<?, ?it/s]"
      ]
     },
     "metadata": {},
     "output_type": "display_data"
    },
    {
     "name": "stdout",
     "output_type": "stream",
     "text": [
      "generating images for MORBIER with prompt: best quality, high quality, image of Morbier on a marble plate, with a kitchen background, seen from a side view\n"
     ]
    },
    {
     "data": {
      "application/vnd.jupyter.widget-view+json": {
       "model_id": "02d45390cecf4437a0ad1e0d37e6a600",
       "version_major": 2,
       "version_minor": 0
      },
      "text/plain": [
       "  0%|          | 0/20 [00:00<?, ?it/s]"
      ]
     },
     "metadata": {},
     "output_type": "display_data"
    },
    {
     "name": "stdout",
     "output_type": "stream",
     "text": [
      "/Data/hala.gamouh/cheese_classification_challenge/dataset/val/MORBIER/000007.jpg\n",
      "generating images for MORBIER with prompt: best quality, high quality, image of Morbier on a white plate, with a plain white background, seen from above\n"
     ]
    },
    {
     "data": {
      "application/vnd.jupyter.widget-view+json": {
       "model_id": "d796219470ea4fe79b864ff2ec420851",
       "version_major": 2,
       "version_minor": 0
      },
      "text/plain": [
       "  0%|          | 0/20 [00:00<?, ?it/s]"
      ]
     },
     "metadata": {},
     "output_type": "display_data"
    },
    {
     "name": "stdout",
     "output_type": "stream",
     "text": [
      "generating images for MORBIER with prompt: best quality, high quality, image of Morbier on a marble plate, with a kitchen background, seen from a side view\n"
     ]
    },
    {
     "data": {
      "application/vnd.jupyter.widget-view+json": {
       "model_id": "1c603b60ecd646f497a9ccce75b4e418",
       "version_major": 2,
       "version_minor": 0
      },
      "text/plain": [
       "  0%|          | 0/20 [00:00<?, ?it/s]"
      ]
     },
     "metadata": {},
     "output_type": "display_data"
    },
    {
     "name": "stdout",
     "output_type": "stream",
     "text": [
      "generating images for MORBIER with prompt: best quality, high quality, image of Morbier on a white plate, with a cheese factory background, seen from an angled shot\n"
     ]
    },
    {
     "data": {
      "application/vnd.jupyter.widget-view+json": {
       "model_id": "14442867004e439ea8cc96e645b765b0",
       "version_major": 2,
       "version_minor": 0
      },
      "text/plain": [
       "  0%|          | 0/20 [00:00<?, ?it/s]"
      ]
     },
     "metadata": {},
     "output_type": "display_data"
    },
    {
     "name": "stdout",
     "output_type": "stream",
     "text": [
      "/Data/hala.gamouh/cheese_classification_challenge/dataset/val/MORBIER/000008.jpg\n",
      "generating images for MORBIER with prompt: best quality, high quality, image of Morbier on a marble plate, with a kitchen background, seen from a side view\n"
     ]
    },
    {
     "data": {
      "application/vnd.jupyter.widget-view+json": {
       "model_id": "8ce601bbe40a40da874c5339142ee400",
       "version_major": 2,
       "version_minor": 0
      },
      "text/plain": [
       "  0%|          | 0/20 [00:00<?, ?it/s]"
      ]
     },
     "metadata": {},
     "output_type": "display_data"
    },
    {
     "name": "stdout",
     "output_type": "stream",
     "text": [
      "generating images for MORBIER with prompt: best quality, high quality, in its packaging\n"
     ]
    },
    {
     "data": {
      "application/vnd.jupyter.widget-view+json": {
       "model_id": "5d277bd9b4984a13a12b7c90408d17ec",
       "version_major": 2,
       "version_minor": 0
      },
      "text/plain": [
       "  0%|          | 0/20 [00:00<?, ?it/s]"
      ]
     },
     "metadata": {},
     "output_type": "display_data"
    },
    {
     "name": "stdout",
     "output_type": "stream",
     "text": [
      "generating images for MORBIER with prompt: best quality, high quality, image of Morbier on a marble plate, with a shop background, seen from an angled shot\n"
     ]
    },
    {
     "data": {
      "application/vnd.jupyter.widget-view+json": {
       "model_id": "de92f2f7799c4437a6564460d90477f4",
       "version_major": 2,
       "version_minor": 0
      },
      "text/plain": [
       "  0%|          | 0/20 [00:00<?, ?it/s]"
      ]
     },
     "metadata": {},
     "output_type": "display_data"
    },
    {
     "name": "stdout",
     "output_type": "stream",
     "text": [
      "/Data/hala.gamouh/cheese_classification_challenge/dataset/val/MORBIER/000009.jpg\n",
      "generating images for MORBIER with prompt: best quality, high quality, image of Morbier on a slate board, with a shop background, seen from above\n"
     ]
    },
    {
     "data": {
      "application/vnd.jupyter.widget-view+json": {
       "model_id": "9307216e370247168a91f500a8505de7",
       "version_major": 2,
       "version_minor": 0
      },
      "text/plain": [
       "  0%|          | 0/20 [00:00<?, ?it/s]"
      ]
     },
     "metadata": {},
     "output_type": "display_data"
    },
    {
     "name": "stdout",
     "output_type": "stream",
     "text": [
      "generating images for MORBIER with prompt: best quality, high quality, image of Morbier on a slate board, with a shop background, seen from above\n"
     ]
    },
    {
     "data": {
      "application/vnd.jupyter.widget-view+json": {
       "model_id": "675469df59ba4391a040927d1f1a3200",
       "version_major": 2,
       "version_minor": 0
      },
      "text/plain": [
       "  0%|          | 0/20 [00:00<?, ?it/s]"
      ]
     },
     "metadata": {},
     "output_type": "display_data"
    },
    {
     "name": "stdout",
     "output_type": "stream",
     "text": [
      "generating images for MORBIER with prompt: best quality, high quality, image of Morbier on a marble plate, with a shop background, seen from an angled shot\n"
     ]
    },
    {
     "data": {
      "application/vnd.jupyter.widget-view+json": {
       "model_id": "bbb90f0bf670489f85b4cde3ba81f27c",
       "version_major": 2,
       "version_minor": 0
      },
      "text/plain": [
       "  0%|          | 0/20 [00:00<?, ?it/s]"
      ]
     },
     "metadata": {},
     "output_type": "display_data"
    },
    {
     "name": "stdout",
     "output_type": "stream",
     "text": [
      "/Data/hala.gamouh/cheese_classification_challenge/dataset/val/MORBIER/000010.jpg\n",
      "generating images for MORBIER with prompt: best quality, high quality, image of Morbier on a wooden plate, with a plain white background, seen from above\n"
     ]
    },
    {
     "data": {
      "application/vnd.jupyter.widget-view+json": {
       "model_id": "7869551110ef48f5bdfda1141a237fa8",
       "version_major": 2,
       "version_minor": 0
      },
      "text/plain": [
       "  0%|          | 0/20 [00:00<?, ?it/s]"
      ]
     },
     "metadata": {},
     "output_type": "display_data"
    },
    {
     "name": "stdout",
     "output_type": "stream",
     "text": [
      "generating images for MORBIER with prompt: best quality, high quality, image of Morbier on a slate board, with a shop background, seen from above\n"
     ]
    },
    {
     "data": {
      "application/vnd.jupyter.widget-view+json": {
       "model_id": "a5ecc184f91e4a0a9b83048ba1c6482e",
       "version_major": 2,
       "version_minor": 0
      },
      "text/plain": [
       "  0%|          | 0/20 [00:00<?, ?it/s]"
      ]
     },
     "metadata": {},
     "output_type": "display_data"
    },
    {
     "name": "stdout",
     "output_type": "stream",
     "text": [
      "generating images for MORBIER with prompt: best quality, high quality, image of Morbier on a slate board, with a cheese cave background, seen from above\n"
     ]
    },
    {
     "data": {
      "application/vnd.jupyter.widget-view+json": {
       "model_id": "4250ec0f64ff4a92ba44ce79b9b7af3e",
       "version_major": 2,
       "version_minor": 0
      },
      "text/plain": [
       "  0%|          | 0/20 [00:00<?, ?it/s]"
      ]
     },
     "metadata": {},
     "output_type": "display_data"
    },
    {
     "name": "stdout",
     "output_type": "stream",
     "text": [
      "/Data/hala.gamouh/cheese_classification_challenge/dataset/val/MORBIER/000011.jpg\n",
      "generating images for MORBIER with prompt: best quality, high quality, image of Morbier on a white plate, with a plain white background, seen from above\n"
     ]
    },
    {
     "data": {
      "application/vnd.jupyter.widget-view+json": {
       "model_id": "ce034ccb96554225b425f55d992b89fa",
       "version_major": 2,
       "version_minor": 0
      },
      "text/plain": [
       "  0%|          | 0/20 [00:00<?, ?it/s]"
      ]
     },
     "metadata": {},
     "output_type": "display_data"
    },
    {
     "name": "stdout",
     "output_type": "stream",
     "text": [
      "generating images for MORBIER with prompt: best quality, high quality, image of Morbier on a plain white background, with a plain white background, seen from a face view\n"
     ]
    },
    {
     "data": {
      "application/vnd.jupyter.widget-view+json": {
       "model_id": "b3721567e70d4194a113d1c123761a57",
       "version_major": 2,
       "version_minor": 0
      },
      "text/plain": [
       "  0%|          | 0/20 [00:00<?, ?it/s]"
      ]
     },
     "metadata": {},
     "output_type": "display_data"
    },
    {
     "name": "stdout",
     "output_type": "stream",
     "text": [
      "generating images for MORBIER with prompt: best quality, high quality, image of Morbier on a wooden plate, with a plain white background, seen from above\n"
     ]
    },
    {
     "data": {
      "application/vnd.jupyter.widget-view+json": {
       "model_id": "bc28861c0e164f5eae7d75e6c77dff9f",
       "version_major": 2,
       "version_minor": 0
      },
      "text/plain": [
       "  0%|          | 0/20 [00:00<?, ?it/s]"
      ]
     },
     "metadata": {},
     "output_type": "display_data"
    },
    {
     "name": "stdout",
     "output_type": "stream",
     "text": [
      "/Data/hala.gamouh/cheese_classification_challenge/dataset/val/MORBIER/000012.jpg\n",
      "generating images for MORBIER with prompt: best quality, high quality, image of Morbier on a plain white background, with a cheese cave background, seen from a side view\n"
     ]
    },
    {
     "data": {
      "application/vnd.jupyter.widget-view+json": {
       "model_id": "ffa1dd1bd20240209964ccfa99e6bd74",
       "version_major": 2,
       "version_minor": 0
      },
      "text/plain": [
       "  0%|          | 0/20 [00:00<?, ?it/s]"
      ]
     },
     "metadata": {},
     "output_type": "display_data"
    },
    {
     "name": "stdout",
     "output_type": "stream",
     "text": [
      "generating images for MORBIER with prompt: best quality, high quality, in its packaging\n"
     ]
    },
    {
     "data": {
      "application/vnd.jupyter.widget-view+json": {
       "model_id": "d754eaa1d11841b38f08906b8fdbc23a",
       "version_major": 2,
       "version_minor": 0
      },
      "text/plain": [
       "  0%|          | 0/20 [00:00<?, ?it/s]"
      ]
     },
     "metadata": {},
     "output_type": "display_data"
    },
    {
     "name": "stdout",
     "output_type": "stream",
     "text": [
      "generating images for MORBIER with prompt: best quality, high quality, image of Morbier on a plain white background, with a cheese cave background, seen from a side view\n"
     ]
    },
    {
     "data": {
      "application/vnd.jupyter.widget-view+json": {
       "model_id": "917d25ec84924ff58887172a5158c20c",
       "version_major": 2,
       "version_minor": 0
      },
      "text/plain": [
       "  0%|          | 0/20 [00:00<?, ?it/s]"
      ]
     },
     "metadata": {},
     "output_type": "display_data"
    },
    {
     "name": "stdout",
     "output_type": "stream",
     "text": [
      "/Data/hala.gamouh/cheese_classification_challenge/dataset/val/MORBIER/000013.jpg\n",
      "generating images for MORBIER with prompt: best quality, high quality, image of Morbier on a wooden plate, with a kitchen background, seen from a side view\n"
     ]
    },
    {
     "data": {
      "application/vnd.jupyter.widget-view+json": {
       "model_id": "0712c615ffba48ac858905ec4dfe01b4",
       "version_major": 2,
       "version_minor": 0
      },
      "text/plain": [
       "  0%|          | 0/20 [00:00<?, ?it/s]"
      ]
     },
     "metadata": {},
     "output_type": "display_data"
    },
    {
     "name": "stdout",
     "output_type": "stream",
     "text": [
      "generating images for MORBIER with prompt: best quality, high quality, image of Morbier on a wooden plate, with a plain white background, seen from above\n"
     ]
    },
    {
     "data": {
      "application/vnd.jupyter.widget-view+json": {
       "model_id": "bb91728d89f74675b12715715fc63f54",
       "version_major": 2,
       "version_minor": 0
      },
      "text/plain": [
       "  0%|          | 0/20 [00:00<?, ?it/s]"
      ]
     },
     "metadata": {},
     "output_type": "display_data"
    },
    {
     "name": "stdout",
     "output_type": "stream",
     "text": [
      "generating images for MORBIER with prompt: best quality, high quality, image of Morbier on a plain white background, with a plain white background, seen from a face view\n"
     ]
    },
    {
     "data": {
      "application/vnd.jupyter.widget-view+json": {
       "model_id": "98f3ab6ab0034c6087fa50bc867c683f",
       "version_major": 2,
       "version_minor": 0
      },
      "text/plain": [
       "  0%|          | 0/20 [00:00<?, ?it/s]"
      ]
     },
     "metadata": {},
     "output_type": "display_data"
    },
    {
     "name": "stdout",
     "output_type": "stream",
     "text": [
      "/Data/hala.gamouh/cheese_classification_challenge/dataset/val/MORBIER/000014.jpg\n",
      "generating images for MORBIER with prompt: best quality, high quality, image of Morbier on a slate board, with a cheese cave background, seen from above\n"
     ]
    },
    {
     "data": {
      "application/vnd.jupyter.widget-view+json": {
       "model_id": "b98ceabea54f46b6a7451a575a1ea25a",
       "version_major": 2,
       "version_minor": 0
      },
      "text/plain": [
       "  0%|          | 0/20 [00:00<?, ?it/s]"
      ]
     },
     "metadata": {},
     "output_type": "display_data"
    },
    {
     "name": "stdout",
     "output_type": "stream",
     "text": [
      "generating images for MORBIER with prompt: best quality, high quality, in its packaging\n"
     ]
    },
    {
     "data": {
      "application/vnd.jupyter.widget-view+json": {
       "model_id": "82c1263f5c0b48468e57427b208149dd",
       "version_major": 2,
       "version_minor": 0
      },
      "text/plain": [
       "  0%|          | 0/20 [00:00<?, ?it/s]"
      ]
     },
     "metadata": {},
     "output_type": "display_data"
    },
    {
     "name": "stdout",
     "output_type": "stream",
     "text": [
      "generating images for MORBIER with prompt: best quality, high quality, image of Morbier on a white plate, with a cheese factory background, seen from an angled shot\n"
     ]
    },
    {
     "data": {
      "application/vnd.jupyter.widget-view+json": {
       "model_id": "799556257f4d474187173fd49438ef02",
       "version_major": 2,
       "version_minor": 0
      },
      "text/plain": [
       "  0%|          | 0/20 [00:00<?, ?it/s]"
      ]
     },
     "metadata": {},
     "output_type": "display_data"
    },
    {
     "name": "stdout",
     "output_type": "stream",
     "text": [
      "/Data/hala.gamouh/cheese_classification_challenge/dataset/val/MORBIER/000015.jpg\n",
      "generating images for MORBIER with prompt: best quality, high quality, image of Morbier on a plain white background, with a cheese cave background, seen from a side view\n"
     ]
    },
    {
     "data": {
      "application/vnd.jupyter.widget-view+json": {
       "model_id": "9039be9b0dfa4a75828eb16969dffd48",
       "version_major": 2,
       "version_minor": 0
      },
      "text/plain": [
       "  0%|          | 0/20 [00:00<?, ?it/s]"
      ]
     },
     "metadata": {},
     "output_type": "display_data"
    },
    {
     "name": "stdout",
     "output_type": "stream",
     "text": [
      "generating images for MORBIER with prompt: best quality, high quality, image of Morbier on a white plate, with a cheese factory background, seen from an angled shot\n"
     ]
    },
    {
     "data": {
      "application/vnd.jupyter.widget-view+json": {
       "model_id": "eea4084a20b34e71beb43d12b6fe5e12",
       "version_major": 2,
       "version_minor": 0
      },
      "text/plain": [
       "  0%|          | 0/20 [00:00<?, ?it/s]"
      ]
     },
     "metadata": {},
     "output_type": "display_data"
    },
    {
     "name": "stdout",
     "output_type": "stream",
     "text": [
      "generating images for MORBIER with prompt: best quality, high quality, image of Morbier on a plain white background, with a cheese cave background, seen from a side view\n"
     ]
    },
    {
     "data": {
      "application/vnd.jupyter.widget-view+json": {
       "model_id": "938d53e3b63c494185b2f485fc595653",
       "version_major": 2,
       "version_minor": 0
      },
      "text/plain": [
       "  0%|          | 0/20 [00:00<?, ?it/s]"
      ]
     },
     "metadata": {},
     "output_type": "display_data"
    },
    {
     "name": "stdout",
     "output_type": "stream",
     "text": [
      "/Data/hala.gamouh/cheese_classification_challenge/dataset/val/MORBIER/000016.jpg\n",
      "generating images for MORBIER with prompt: best quality, high quality, image of Morbier on a white plate, with a plain white background, seen from above\n"
     ]
    },
    {
     "data": {
      "application/vnd.jupyter.widget-view+json": {
       "model_id": "5d17f0eb07e84a10ad6db5393cafd5f9",
       "version_major": 2,
       "version_minor": 0
      },
      "text/plain": [
       "  0%|          | 0/20 [00:00<?, ?it/s]"
      ]
     },
     "metadata": {},
     "output_type": "display_data"
    },
    {
     "name": "stdout",
     "output_type": "stream",
     "text": [
      "generating images for MORBIER with prompt: best quality, high quality, image of Morbier on a white plate, with a plain white background, seen from above\n"
     ]
    },
    {
     "data": {
      "application/vnd.jupyter.widget-view+json": {
       "model_id": "640e94294c2c4ffdbf5d11a9b2f0d02e",
       "version_major": 2,
       "version_minor": 0
      },
      "text/plain": [
       "  0%|          | 0/20 [00:00<?, ?it/s]"
      ]
     },
     "metadata": {},
     "output_type": "display_data"
    },
    {
     "name": "stdout",
     "output_type": "stream",
     "text": [
      "generating images for MORBIER with prompt: best quality, high quality, in its packaging\n"
     ]
    },
    {
     "data": {
      "application/vnd.jupyter.widget-view+json": {
       "model_id": "c823248b3ffa45df90c8106dae7a6291",
       "version_major": 2,
       "version_minor": 0
      },
      "text/plain": [
       "  0%|          | 0/20 [00:00<?, ?it/s]"
      ]
     },
     "metadata": {},
     "output_type": "display_data"
    },
    {
     "name": "stdout",
     "output_type": "stream",
     "text": [
      "/Data/hala.gamouh/cheese_classification_challenge/dataset/val/MORBIER/000017.jpg\n",
      "generating images for MORBIER with prompt: best quality, high quality, image of Morbier on a wooden plate, with a plain white background, seen from above\n"
     ]
    },
    {
     "data": {
      "application/vnd.jupyter.widget-view+json": {
       "model_id": "62a12833fb5d4868a52f2a4b74f78cf5",
       "version_major": 2,
       "version_minor": 0
      },
      "text/plain": [
       "  0%|          | 0/20 [00:00<?, ?it/s]"
      ]
     },
     "metadata": {},
     "output_type": "display_data"
    },
    {
     "name": "stdout",
     "output_type": "stream",
     "text": [
      "generating images for MORBIER with prompt: best quality, high quality, image of Morbier on a white plate, with a plain white background, seen from above\n"
     ]
    },
    {
     "data": {
      "application/vnd.jupyter.widget-view+json": {
       "model_id": "d652480a00544425bfe0e813ba9f9318",
       "version_major": 2,
       "version_minor": 0
      },
      "text/plain": [
       "  0%|          | 0/20 [00:00<?, ?it/s]"
      ]
     },
     "metadata": {},
     "output_type": "display_data"
    },
    {
     "name": "stdout",
     "output_type": "stream",
     "text": [
      "generating images for MORBIER with prompt: best quality, high quality, image of Morbier on a white plate, with a cheese factory background, seen from an angled shot\n"
     ]
    },
    {
     "data": {
      "application/vnd.jupyter.widget-view+json": {
       "model_id": "a9f1e8e91a4e4037927696277010ec65",
       "version_major": 2,
       "version_minor": 0
      },
      "text/plain": [
       "  0%|          | 0/20 [00:00<?, ?it/s]"
      ]
     },
     "metadata": {},
     "output_type": "display_data"
    },
    {
     "name": "stdout",
     "output_type": "stream",
     "text": [
      "/Data/hala.gamouh/cheese_classification_challenge/dataset/val/MORBIER/000018.jpg\n",
      "generating images for MORBIER with prompt: best quality, high quality, image of Morbier on a wooden plate, with a plain white background, seen from above\n"
     ]
    },
    {
     "data": {
      "application/vnd.jupyter.widget-view+json": {
       "model_id": "55b2419db77e4d3786c2123aa914a886",
       "version_major": 2,
       "version_minor": 0
      },
      "text/plain": [
       "  0%|          | 0/20 [00:00<?, ?it/s]"
      ]
     },
     "metadata": {},
     "output_type": "display_data"
    },
    {
     "name": "stdout",
     "output_type": "stream",
     "text": [
      "generating images for MORBIER with prompt: best quality, high quality, image of Morbier on a wooden plate, with a plain white background, seen from above\n"
     ]
    },
    {
     "data": {
      "application/vnd.jupyter.widget-view+json": {
       "model_id": "203948d0e575436c8c1a5b1887f64c21",
       "version_major": 2,
       "version_minor": 0
      },
      "text/plain": [
       "  0%|          | 0/20 [00:00<?, ?it/s]"
      ]
     },
     "metadata": {},
     "output_type": "display_data"
    },
    {
     "name": "stdout",
     "output_type": "stream",
     "text": [
      "generating images for MORBIER with prompt: best quality, high quality, image of Morbier on a wooden plate, with a kitchen background, seen from a side view\n"
     ]
    },
    {
     "data": {
      "application/vnd.jupyter.widget-view+json": {
       "model_id": "3b25190340724d97924f090ee5650380",
       "version_major": 2,
       "version_minor": 0
      },
      "text/plain": [
       "  0%|          | 0/20 [00:00<?, ?it/s]"
      ]
     },
     "metadata": {},
     "output_type": "display_data"
    },
    {
     "name": "stdout",
     "output_type": "stream",
     "text": [
      "/Data/hala.gamouh/cheese_classification_challenge/dataset/val/MORBIER/000019.jpg\n",
      "generating images for MORBIER with prompt: best quality, high quality, image of Morbier on a slate board, with a shop background, seen from above\n"
     ]
    },
    {
     "data": {
      "application/vnd.jupyter.widget-view+json": {
       "model_id": "eef4406af0704fab969151d050916d91",
       "version_major": 2,
       "version_minor": 0
      },
      "text/plain": [
       "  0%|          | 0/20 [00:00<?, ?it/s]"
      ]
     },
     "metadata": {},
     "output_type": "display_data"
    },
    {
     "name": "stdout",
     "output_type": "stream",
     "text": [
      "generating images for MORBIER with prompt: best quality, high quality, image of Morbier on a plain white background, with a cheese cave background, seen from a side view\n"
     ]
    },
    {
     "data": {
      "application/vnd.jupyter.widget-view+json": {
       "model_id": "cb91704b24d746488c612bdb381a404f",
       "version_major": 2,
       "version_minor": 0
      },
      "text/plain": [
       "  0%|          | 0/20 [00:00<?, ?it/s]"
      ]
     },
     "metadata": {},
     "output_type": "display_data"
    },
    {
     "name": "stdout",
     "output_type": "stream",
     "text": [
      "generating images for MORBIER with prompt: best quality, high quality, in its packaging\n"
     ]
    },
    {
     "data": {
      "application/vnd.jupyter.widget-view+json": {
       "model_id": "170033cbb77e47eaba96a419d731332c",
       "version_major": 2,
       "version_minor": 0
      },
      "text/plain": [
       "  0%|          | 0/20 [00:00<?, ?it/s]"
      ]
     },
     "metadata": {},
     "output_type": "display_data"
    },
    {
     "name": "stdout",
     "output_type": "stream",
     "text": [
      "/Data/hala.gamouh/cheese_classification_challenge/dataset/val/MORBIER/000020.jpg\n",
      "generating images for MORBIER with prompt: best quality, high quality, image of Morbier on a slate board, with a shop background, seen from above\n"
     ]
    },
    {
     "data": {
      "application/vnd.jupyter.widget-view+json": {
       "model_id": "8f64e3f851af4e30bee67f6e6c7d7071",
       "version_major": 2,
       "version_minor": 0
      },
      "text/plain": [
       "  0%|          | 0/20 [00:00<?, ?it/s]"
      ]
     },
     "metadata": {},
     "output_type": "display_data"
    },
    {
     "name": "stdout",
     "output_type": "stream",
     "text": [
      "generating images for MORBIER with prompt: best quality, high quality, image of Morbier on a marble plate, with a shop background, seen from an angled shot\n"
     ]
    },
    {
     "data": {
      "application/vnd.jupyter.widget-view+json": {
       "model_id": "e73c851f61fa4ed183765cdbeeb64af8",
       "version_major": 2,
       "version_minor": 0
      },
      "text/plain": [
       "  0%|          | 0/20 [00:00<?, ?it/s]"
      ]
     },
     "metadata": {},
     "output_type": "display_data"
    },
    {
     "name": "stdout",
     "output_type": "stream",
     "text": [
      "generating images for MORBIER with prompt: best quality, high quality, image of Morbier on a slate board, with a cheese cave background, seen from above\n"
     ]
    },
    {
     "data": {
      "application/vnd.jupyter.widget-view+json": {
       "model_id": "c4da4a09468546fb8ba2aeddca8c531c",
       "version_major": 2,
       "version_minor": 0
      },
      "text/plain": [
       "  0%|          | 0/20 [00:00<?, ?it/s]"
      ]
     },
     "metadata": {},
     "output_type": "display_data"
    },
    {
     "name": "stdout",
     "output_type": "stream",
     "text": [
      "/Data/hala.gamouh/cheese_classification_challenge/dataset/val/MORBIER/000021.jpg\n",
      "generating images for MORBIER with prompt: best quality, high quality, image of Morbier on a wooden plate, with a plain white background, seen from above\n"
     ]
    },
    {
     "data": {
      "application/vnd.jupyter.widget-view+json": {
       "model_id": "6fdd99758b004767bdececf9c666e08b",
       "version_major": 2,
       "version_minor": 0
      },
      "text/plain": [
       "  0%|          | 0/20 [00:00<?, ?it/s]"
      ]
     },
     "metadata": {},
     "output_type": "display_data"
    },
    {
     "name": "stdout",
     "output_type": "stream",
     "text": [
      "generating images for MORBIER with prompt: best quality, high quality, image of Morbier on a slate board, with a shop background, seen from above\n"
     ]
    },
    {
     "data": {
      "application/vnd.jupyter.widget-view+json": {
       "model_id": "e84da4608c9847efa5970d1ca497e27a",
       "version_major": 2,
       "version_minor": 0
      },
      "text/plain": [
       "  0%|          | 0/20 [00:00<?, ?it/s]"
      ]
     },
     "metadata": {},
     "output_type": "display_data"
    },
    {
     "name": "stdout",
     "output_type": "stream",
     "text": [
      "generating images for MORBIER with prompt: best quality, high quality, image of Morbier on a marble plate, with a kitchen background, seen from a side view\n"
     ]
    },
    {
     "data": {
      "application/vnd.jupyter.widget-view+json": {
       "model_id": "3d2e7aa0aea5435db48307095a0ce4c9",
       "version_major": 2,
       "version_minor": 0
      },
      "text/plain": [
       "  0%|          | 0/20 [00:00<?, ?it/s]"
      ]
     },
     "metadata": {},
     "output_type": "display_data"
    },
    {
     "name": "stdout",
     "output_type": "stream",
     "text": [
      "/Data/hala.gamouh/cheese_classification_challenge/dataset/val/MORBIER/000022.jpg\n",
      "generating images for MORBIER with prompt: best quality, high quality, image of Morbier on a plain white background, with a plain white background, seen from a face view\n"
     ]
    },
    {
     "data": {
      "application/vnd.jupyter.widget-view+json": {
       "model_id": "d7eddb3dee9648e383462a3590e9f95c",
       "version_major": 2,
       "version_minor": 0
      },
      "text/plain": [
       "  0%|          | 0/20 [00:00<?, ?it/s]"
      ]
     },
     "metadata": {},
     "output_type": "display_data"
    },
    {
     "name": "stdout",
     "output_type": "stream",
     "text": [
      "generating images for MORBIER with prompt: best quality, high quality, image of Morbier on a wooden plate, with a kitchen background, seen from a side view\n"
     ]
    },
    {
     "data": {
      "application/vnd.jupyter.widget-view+json": {
       "model_id": "881fe9c370524c118540c1aa17b7641e",
       "version_major": 2,
       "version_minor": 0
      },
      "text/plain": [
       "  0%|          | 0/20 [00:00<?, ?it/s]"
      ]
     },
     "metadata": {},
     "output_type": "display_data"
    },
    {
     "name": "stdout",
     "output_type": "stream",
     "text": [
      "generating images for MORBIER with prompt: best quality, high quality, image of Morbier on a slate board, with a shop background, seen from above\n"
     ]
    },
    {
     "data": {
      "application/vnd.jupyter.widget-view+json": {
       "model_id": "098fc9dc56eb4af8a4cd9317defe6e69",
       "version_major": 2,
       "version_minor": 0
      },
      "text/plain": [
       "  0%|          | 0/20 [00:00<?, ?it/s]"
      ]
     },
     "metadata": {},
     "output_type": "display_data"
    },
    {
     "name": "stdout",
     "output_type": "stream",
     "text": [
      "/Data/hala.gamouh/cheese_classification_challenge/dataset/val/MORBIER/000023.jpg\n",
      "generating images for MORBIER with prompt: best quality, high quality, image of Morbier on a marble plate, with a kitchen background, seen from a side view\n"
     ]
    },
    {
     "data": {
      "application/vnd.jupyter.widget-view+json": {
       "model_id": "26675705147b48e38158657a157461bc",
       "version_major": 2,
       "version_minor": 0
      },
      "text/plain": [
       "  0%|          | 0/20 [00:00<?, ?it/s]"
      ]
     },
     "metadata": {},
     "output_type": "display_data"
    },
    {
     "name": "stdout",
     "output_type": "stream",
     "text": [
      "generating images for MORBIER with prompt: best quality, high quality, image of Morbier on a white plate, with a plain white background, seen from above\n"
     ]
    },
    {
     "data": {
      "application/vnd.jupyter.widget-view+json": {
       "model_id": "9fece43bb3724262b044f0cdda5f9ab5",
       "version_major": 2,
       "version_minor": 0
      },
      "text/plain": [
       "  0%|          | 0/20 [00:00<?, ?it/s]"
      ]
     },
     "metadata": {},
     "output_type": "display_data"
    },
    {
     "name": "stdout",
     "output_type": "stream",
     "text": [
      "generating images for MORBIER with prompt: best quality, high quality, image of Morbier on a marble plate, with a kitchen background, seen from a side view\n"
     ]
    },
    {
     "data": {
      "application/vnd.jupyter.widget-view+json": {
       "model_id": "a02e35c7e1f84f9b972831896c2c75d4",
       "version_major": 2,
       "version_minor": 0
      },
      "text/plain": [
       "  0%|          | 0/20 [00:00<?, ?it/s]"
      ]
     },
     "metadata": {},
     "output_type": "display_data"
    },
    {
     "name": "stdout",
     "output_type": "stream",
     "text": [
      "/Data/hala.gamouh/cheese_classification_challenge/dataset/val/MORBIER/000024.jpg\n",
      "generating images for MORBIER with prompt: best quality, high quality, image of Morbier on a wooden plate, with a kitchen background, seen from a side view\n"
     ]
    },
    {
     "data": {
      "application/vnd.jupyter.widget-view+json": {
       "model_id": "9c41af70b95d461dba0ff2061b9f6502",
       "version_major": 2,
       "version_minor": 0
      },
      "text/plain": [
       "  0%|          | 0/20 [00:00<?, ?it/s]"
      ]
     },
     "metadata": {},
     "output_type": "display_data"
    },
    {
     "name": "stdout",
     "output_type": "stream",
     "text": [
      "generating images for MORBIER with prompt: best quality, high quality, image of Morbier on a plain white background, with a plain white background, seen from a face view\n"
     ]
    },
    {
     "data": {
      "application/vnd.jupyter.widget-view+json": {
       "model_id": "a385533fdef34aff8bd685c3bde3199d",
       "version_major": 2,
       "version_minor": 0
      },
      "text/plain": [
       "  0%|          | 0/20 [00:00<?, ?it/s]"
      ]
     },
     "metadata": {},
     "output_type": "display_data"
    },
    {
     "name": "stdout",
     "output_type": "stream",
     "text": [
      "generating images for MORBIER with prompt: best quality, high quality, image of Morbier on a wooden plate, with a plain white background, seen from above\n"
     ]
    },
    {
     "data": {
      "application/vnd.jupyter.widget-view+json": {
       "model_id": "e1792b2e0882491dab4b1cc81af91a9d",
       "version_major": 2,
       "version_minor": 0
      },
      "text/plain": [
       "  0%|          | 0/20 [00:00<?, ?it/s]"
      ]
     },
     "metadata": {},
     "output_type": "display_data"
    },
    {
     "name": "stdout",
     "output_type": "stream",
     "text": [
      "/Data/hala.gamouh/cheese_classification_challenge/dataset/val/MORBIER/000000.jpg\n",
      "generating images for MORBIER with prompt: best quality, high quality, image of Morbier on a slate board, with a shop background, seen from above\n"
     ]
    },
    {
     "data": {
      "application/vnd.jupyter.widget-view+json": {
       "model_id": "db55f999741549e0a02bd8424ef2350a",
       "version_major": 2,
       "version_minor": 0
      },
      "text/plain": [
       "  0%|          | 0/20 [00:00<?, ?it/s]"
      ]
     },
     "metadata": {},
     "output_type": "display_data"
    },
    {
     "name": "stdout",
     "output_type": "stream",
     "text": [
      "generating images for MORBIER with prompt: best quality, high quality, image of Morbier on a plain white background, with a plain white background, seen from a face view\n"
     ]
    },
    {
     "data": {
      "application/vnd.jupyter.widget-view+json": {
       "model_id": "0666bb1f858c40d5a418555ebcad9e69",
       "version_major": 2,
       "version_minor": 0
      },
      "text/plain": [
       "  0%|          | 0/20 [00:00<?, ?it/s]"
      ]
     },
     "metadata": {},
     "output_type": "display_data"
    },
    {
     "name": "stdout",
     "output_type": "stream",
     "text": [
      "generating images for MORBIER with prompt: best quality, high quality, image of Morbier on a marble plate, with a kitchen background, seen from a side view\n"
     ]
    },
    {
     "data": {
      "application/vnd.jupyter.widget-view+json": {
       "model_id": "9b7ecd3f1c6a4c5bb9a1d2bccdb32d2f",
       "version_major": 2,
       "version_minor": 0
      },
      "text/plain": [
       "  0%|          | 0/20 [00:00<?, ?it/s]"
      ]
     },
     "metadata": {},
     "output_type": "display_data"
    },
    {
     "name": "stdout",
     "output_type": "stream",
     "text": [
      "/Data/hala.gamouh/cheese_classification_challenge/dataset/val/MORBIER/000001.jpg\n",
      "generating images for MORBIER with prompt: best quality, high quality, image of Morbier on a marble plate, with a shop background, seen from an angled shot\n"
     ]
    },
    {
     "data": {
      "application/vnd.jupyter.widget-view+json": {
       "model_id": "e3f85fd4084f402d80c356e4be9d677b",
       "version_major": 2,
       "version_minor": 0
      },
      "text/plain": [
       "  0%|          | 0/20 [00:00<?, ?it/s]"
      ]
     },
     "metadata": {},
     "output_type": "display_data"
    },
    {
     "name": "stdout",
     "output_type": "stream",
     "text": [
      "generating images for MORBIER with prompt: best quality, high quality, image of Morbier on a white plate, with a plain white background, seen from above\n"
     ]
    },
    {
     "data": {
      "application/vnd.jupyter.widget-view+json": {
       "model_id": "a70b0489084c467db6b1413f0fbaf619",
       "version_major": 2,
       "version_minor": 0
      },
      "text/plain": [
       "  0%|          | 0/20 [00:00<?, ?it/s]"
      ]
     },
     "metadata": {},
     "output_type": "display_data"
    },
    {
     "name": "stdout",
     "output_type": "stream",
     "text": [
      "generating images for MORBIER with prompt: best quality, high quality, image of Morbier on a marble plate, with a shop background, seen from an angled shot\n"
     ]
    },
    {
     "data": {
      "application/vnd.jupyter.widget-view+json": {
       "model_id": "708afcf7e62949c2a8d345688edf7fec",
       "version_major": 2,
       "version_minor": 0
      },
      "text/plain": [
       "  0%|          | 0/20 [00:00<?, ?it/s]"
      ]
     },
     "metadata": {},
     "output_type": "display_data"
    },
    {
     "name": "stdout",
     "output_type": "stream",
     "text": [
      "/Data/hala.gamouh/cheese_classification_challenge/dataset/val/MORBIER/000002.jpg\n",
      "generating images for MORBIER with prompt: best quality, high quality, image of Morbier on a plain white background, with a plain white background, seen from a face view\n"
     ]
    },
    {
     "data": {
      "application/vnd.jupyter.widget-view+json": {
       "model_id": "7b87c0120b88437bbfd64f1a62a7ee72",
       "version_major": 2,
       "version_minor": 0
      },
      "text/plain": [
       "  0%|          | 0/20 [00:00<?, ?it/s]"
      ]
     },
     "metadata": {},
     "output_type": "display_data"
    },
    {
     "name": "stdout",
     "output_type": "stream",
     "text": [
      "generating images for MORBIER with prompt: best quality, high quality, image of Morbier on a slate board, with a shop background, seen from above\n"
     ]
    },
    {
     "data": {
      "application/vnd.jupyter.widget-view+json": {
       "model_id": "3fd6b247fc974c7cbb358494e5f89f8a",
       "version_major": 2,
       "version_minor": 0
      },
      "text/plain": [
       "  0%|          | 0/20 [00:00<?, ?it/s]"
      ]
     },
     "metadata": {},
     "output_type": "display_data"
    },
    {
     "name": "stdout",
     "output_type": "stream",
     "text": [
      "generating images for MORBIER with prompt: best quality, high quality, image of Morbier on a white plate, with a plain white background, seen from above\n"
     ]
    },
    {
     "data": {
      "application/vnd.jupyter.widget-view+json": {
       "model_id": "7881ec85b674421e9e9d9be7dd2fd205",
       "version_major": 2,
       "version_minor": 0
      },
      "text/plain": [
       "  0%|          | 0/20 [00:00<?, ?it/s]"
      ]
     },
     "metadata": {},
     "output_type": "display_data"
    },
    {
     "name": "stdout",
     "output_type": "stream",
     "text": [
      "/Data/hala.gamouh/cheese_classification_challenge/dataset/val/MORBIER/000003.jpg\n",
      "generating images for MORBIER with prompt: best quality, high quality, image of Morbier on a plain white background, with a plain white background, seen from a face view\n"
     ]
    },
    {
     "data": {
      "application/vnd.jupyter.widget-view+json": {
       "model_id": "33aeda42f3a54b3982d18e2411fc8149",
       "version_major": 2,
       "version_minor": 0
      },
      "text/plain": [
       "  0%|          | 0/20 [00:00<?, ?it/s]"
      ]
     },
     "metadata": {},
     "output_type": "display_data"
    },
    {
     "name": "stdout",
     "output_type": "stream",
     "text": [
      "generating images for MORBIER with prompt: best quality, high quality, image of Morbier on a plain white background, with a plain white background, seen from a face view\n"
     ]
    },
    {
     "data": {
      "application/vnd.jupyter.widget-view+json": {
       "model_id": "a588d2586f8c496eab93ee074a81ad3f",
       "version_major": 2,
       "version_minor": 0
      },
      "text/plain": [
       "  0%|          | 0/20 [00:00<?, ?it/s]"
      ]
     },
     "metadata": {},
     "output_type": "display_data"
    },
    {
     "name": "stdout",
     "output_type": "stream",
     "text": [
      "generating images for MORBIER with prompt: best quality, high quality, image of Morbier on a slate board, with a cheese cave background, seen from above\n"
     ]
    },
    {
     "data": {
      "application/vnd.jupyter.widget-view+json": {
       "model_id": "162e799241c645adab2aa2b449efc58e",
       "version_major": 2,
       "version_minor": 0
      },
      "text/plain": [
       "  0%|          | 0/20 [00:00<?, ?it/s]"
      ]
     },
     "metadata": {},
     "output_type": "display_data"
    },
    {
     "name": "stdout",
     "output_type": "stream",
     "text": [
      "/Data/hala.gamouh/cheese_classification_challenge/dataset/val/MORBIER/000004.jpg\n",
      "generating images for MORBIER with prompt: best quality, high quality, in its packaging\n"
     ]
    },
    {
     "data": {
      "application/vnd.jupyter.widget-view+json": {
       "model_id": "cf368830264a41a6a2ce839236b15254",
       "version_major": 2,
       "version_minor": 0
      },
      "text/plain": [
       "  0%|          | 0/20 [00:00<?, ?it/s]"
      ]
     },
     "metadata": {},
     "output_type": "display_data"
    },
    {
     "name": "stdout",
     "output_type": "stream",
     "text": [
      "generating images for MORBIER with prompt: best quality, high quality, image of Morbier on a slate board, with a shop background, seen from above\n"
     ]
    },
    {
     "data": {
      "application/vnd.jupyter.widget-view+json": {
       "model_id": "4e7d2e70f98c432fa76bc07297954609",
       "version_major": 2,
       "version_minor": 0
      },
      "text/plain": [
       "  0%|          | 0/20 [00:00<?, ?it/s]"
      ]
     },
     "metadata": {},
     "output_type": "display_data"
    },
    {
     "name": "stdout",
     "output_type": "stream",
     "text": [
      "generating images for MORBIER with prompt: best quality, high quality, image of Morbier on a slate board, with a shop background, seen from above\n"
     ]
    },
    {
     "data": {
      "application/vnd.jupyter.widget-view+json": {
       "model_id": "af0ad7b730d44a3a855d837ba2f698d0",
       "version_major": 2,
       "version_minor": 0
      },
      "text/plain": [
       "  0%|          | 0/20 [00:00<?, ?it/s]"
      ]
     },
     "metadata": {},
     "output_type": "display_data"
    },
    {
     "name": "stdout",
     "output_type": "stream",
     "text": [
      "/Data/hala.gamouh/cheese_classification_challenge/dataset/val/MORBIER/000005.jpg\n",
      "generating images for MORBIER with prompt: best quality, high quality, image of Morbier on a white plate, with a cheese factory background, seen from an angled shot\n"
     ]
    },
    {
     "data": {
      "application/vnd.jupyter.widget-view+json": {
       "model_id": "d3224b4b66cc48069573a688762d9b0b",
       "version_major": 2,
       "version_minor": 0
      },
      "text/plain": [
       "  0%|          | 0/20 [00:00<?, ?it/s]"
      ]
     },
     "metadata": {},
     "output_type": "display_data"
    },
    {
     "name": "stdout",
     "output_type": "stream",
     "text": [
      "generating images for MORBIER with prompt: best quality, high quality, image of Morbier on a white plate, with a plain white background, seen from above\n"
     ]
    },
    {
     "data": {
      "application/vnd.jupyter.widget-view+json": {
       "model_id": "4c9e76278f264dca9eb8465d8fb8b01b",
       "version_major": 2,
       "version_minor": 0
      },
      "text/plain": [
       "  0%|          | 0/20 [00:00<?, ?it/s]"
      ]
     },
     "metadata": {},
     "output_type": "display_data"
    },
    {
     "name": "stdout",
     "output_type": "stream",
     "text": [
      "generating images for MORBIER with prompt: best quality, high quality, image of Morbier on a marble plate, with a kitchen background, seen from a side view\n"
     ]
    },
    {
     "data": {
      "application/vnd.jupyter.widget-view+json": {
       "model_id": "44b414bd1a934ddeb11b88cf55d87a1a",
       "version_major": 2,
       "version_minor": 0
      },
      "text/plain": [
       "  0%|          | 0/20 [00:00<?, ?it/s]"
      ]
     },
     "metadata": {},
     "output_type": "display_data"
    },
    {
     "name": "stdout",
     "output_type": "stream",
     "text": [
      "/Data/hala.gamouh/cheese_classification_challenge/dataset/val/MORBIER/000006.jpg\n",
      "generating images for MORBIER with prompt: best quality, high quality, image of Morbier on a plain white background, with a plain white background, seen from a face view\n"
     ]
    },
    {
     "data": {
      "application/vnd.jupyter.widget-view+json": {
       "model_id": "108ad23d51054f72ad50c021da8ebfb0",
       "version_major": 2,
       "version_minor": 0
      },
      "text/plain": [
       "  0%|          | 0/20 [00:00<?, ?it/s]"
      ]
     },
     "metadata": {},
     "output_type": "display_data"
    },
    {
     "name": "stdout",
     "output_type": "stream",
     "text": [
      "generating images for MORBIER with prompt: best quality, high quality, image of Morbier on a white plate, with a plain white background, seen from above\n"
     ]
    },
    {
     "data": {
      "application/vnd.jupyter.widget-view+json": {
       "model_id": "aa4ed78211b34ff887d8cb7fc50d1f9c",
       "version_major": 2,
       "version_minor": 0
      },
      "text/plain": [
       "  0%|          | 0/20 [00:00<?, ?it/s]"
      ]
     },
     "metadata": {},
     "output_type": "display_data"
    },
    {
     "name": "stdout",
     "output_type": "stream",
     "text": [
      "generating images for MORBIER with prompt: best quality, high quality, image of Morbier on a marble plate, with a kitchen background, seen from a side view\n"
     ]
    },
    {
     "data": {
      "application/vnd.jupyter.widget-view+json": {
       "model_id": "c44ffe8e83de4fe58b110f7a3aee660c",
       "version_major": 2,
       "version_minor": 0
      },
      "text/plain": [
       "  0%|          | 0/20 [00:00<?, ?it/s]"
      ]
     },
     "metadata": {},
     "output_type": "display_data"
    },
    {
     "name": "stdout",
     "output_type": "stream",
     "text": [
      "/Data/hala.gamouh/cheese_classification_challenge/dataset/val/MORBIER/000007.jpg\n",
      "generating images for MORBIER with prompt: best quality, high quality, image of Morbier on a slate board, with a shop background, seen from above\n"
     ]
    },
    {
     "data": {
      "application/vnd.jupyter.widget-view+json": {
       "model_id": "a5d579fccd714d68aa478ec7ba231cb7",
       "version_major": 2,
       "version_minor": 0
      },
      "text/plain": [
       "  0%|          | 0/20 [00:00<?, ?it/s]"
      ]
     },
     "metadata": {},
     "output_type": "display_data"
    },
    {
     "name": "stdout",
     "output_type": "stream",
     "text": [
      "generating images for MORBIER with prompt: best quality, high quality, image of Morbier on a slate board, with a cheese cave background, seen from above\n"
     ]
    },
    {
     "data": {
      "application/vnd.jupyter.widget-view+json": {
       "model_id": "5b065ee5b4b4460d9df766a74aed9443",
       "version_major": 2,
       "version_minor": 0
      },
      "text/plain": [
       "  0%|          | 0/20 [00:00<?, ?it/s]"
      ]
     },
     "metadata": {},
     "output_type": "display_data"
    },
    {
     "name": "stdout",
     "output_type": "stream",
     "text": [
      "generating images for MORBIER with prompt: best quality, high quality, image of Morbier on a plain white background, with a cheese cave background, seen from a side view\n"
     ]
    },
    {
     "data": {
      "application/vnd.jupyter.widget-view+json": {
       "model_id": "ea742516952f49ef94635559f21f6876",
       "version_major": 2,
       "version_minor": 0
      },
      "text/plain": [
       "  0%|          | 0/20 [00:00<?, ?it/s]"
      ]
     },
     "metadata": {},
     "output_type": "display_data"
    },
    {
     "name": "stdout",
     "output_type": "stream",
     "text": [
      "/Data/hala.gamouh/cheese_classification_challenge/dataset/val/MORBIER/000008.jpg\n",
      "generating images for MORBIER with prompt: best quality, high quality, image of Morbier on a wooden plate, with a plain white background, seen from above\n"
     ]
    },
    {
     "data": {
      "application/vnd.jupyter.widget-view+json": {
       "model_id": "6e162703b7a74f9482c920dd5c4b09a7",
       "version_major": 2,
       "version_minor": 0
      },
      "text/plain": [
       "  0%|          | 0/20 [00:00<?, ?it/s]"
      ]
     },
     "metadata": {},
     "output_type": "display_data"
    },
    {
     "name": "stdout",
     "output_type": "stream",
     "text": [
      "generating images for MORBIER with prompt: best quality, high quality, image of Morbier on a wooden plate, with a kitchen background, seen from a side view\n"
     ]
    },
    {
     "data": {
      "application/vnd.jupyter.widget-view+json": {
       "model_id": "7e9a7cbb0f344714b023081cc88f8678",
       "version_major": 2,
       "version_minor": 0
      },
      "text/plain": [
       "  0%|          | 0/20 [00:00<?, ?it/s]"
      ]
     },
     "metadata": {},
     "output_type": "display_data"
    },
    {
     "name": "stdout",
     "output_type": "stream",
     "text": [
      "generating images for MORBIER with prompt: best quality, high quality, image of Morbier on a slate board, with a cheese cave background, seen from above\n"
     ]
    },
    {
     "data": {
      "application/vnd.jupyter.widget-view+json": {
       "model_id": "3e23f15aa86e4052b1fc15ce32089c95",
       "version_major": 2,
       "version_minor": 0
      },
      "text/plain": [
       "  0%|          | 0/20 [00:00<?, ?it/s]"
      ]
     },
     "metadata": {},
     "output_type": "display_data"
    },
    {
     "name": "stdout",
     "output_type": "stream",
     "text": [
      "/Data/hala.gamouh/cheese_classification_challenge/dataset/val/MORBIER/000009.jpg\n",
      "generating images for MORBIER with prompt: best quality, high quality, image of Morbier on a white plate, with a plain white background, seen from above\n"
     ]
    },
    {
     "data": {
      "application/vnd.jupyter.widget-view+json": {
       "model_id": "f2e49ca489a5404b8c7602b04c4c3c03",
       "version_major": 2,
       "version_minor": 0
      },
      "text/plain": [
       "  0%|          | 0/20 [00:00<?, ?it/s]"
      ]
     },
     "metadata": {},
     "output_type": "display_data"
    },
    {
     "name": "stdout",
     "output_type": "stream",
     "text": [
      "generating images for MORBIER with prompt: best quality, high quality, image of Morbier on a marble plate, with a shop background, seen from an angled shot\n"
     ]
    },
    {
     "data": {
      "application/vnd.jupyter.widget-view+json": {
       "model_id": "9692493d534445ffa2e2bb801efcd088",
       "version_major": 2,
       "version_minor": 0
      },
      "text/plain": [
       "  0%|          | 0/20 [00:00<?, ?it/s]"
      ]
     },
     "metadata": {},
     "output_type": "display_data"
    },
    {
     "name": "stdout",
     "output_type": "stream",
     "text": [
      "generating images for MORBIER with prompt: best quality, high quality, image of Morbier on a white plate, with a cheese factory background, seen from an angled shot\n"
     ]
    },
    {
     "data": {
      "application/vnd.jupyter.widget-view+json": {
       "model_id": "fdcf710d480b4c08b1ecf53d8be7e71d",
       "version_major": 2,
       "version_minor": 0
      },
      "text/plain": [
       "  0%|          | 0/20 [00:00<?, ?it/s]"
      ]
     },
     "metadata": {},
     "output_type": "display_data"
    },
    {
     "name": "stdout",
     "output_type": "stream",
     "text": [
      "/Data/hala.gamouh/cheese_classification_challenge/dataset/val/MORBIER/000010.jpg\n",
      "generating images for MORBIER with prompt: best quality, high quality, image of Morbier on a plain white background, with a cheese cave background, seen from a side view\n"
     ]
    },
    {
     "data": {
      "application/vnd.jupyter.widget-view+json": {
       "model_id": "9209037a91384c8686bf28f0ae641205",
       "version_major": 2,
       "version_minor": 0
      },
      "text/plain": [
       "  0%|          | 0/20 [00:00<?, ?it/s]"
      ]
     },
     "metadata": {},
     "output_type": "display_data"
    },
    {
     "name": "stdout",
     "output_type": "stream",
     "text": [
      "generating images for MORBIER with prompt: best quality, high quality, in its packaging\n"
     ]
    },
    {
     "data": {
      "application/vnd.jupyter.widget-view+json": {
       "model_id": "b2a48b36203b446d85b229da3ec062bd",
       "version_major": 2,
       "version_minor": 0
      },
      "text/plain": [
       "  0%|          | 0/20 [00:00<?, ?it/s]"
      ]
     },
     "metadata": {},
     "output_type": "display_data"
    },
    {
     "name": "stdout",
     "output_type": "stream",
     "text": [
      "generating images for MORBIER with prompt: best quality, high quality, image of Morbier on a marble plate, with a kitchen background, seen from a side view\n"
     ]
    },
    {
     "data": {
      "application/vnd.jupyter.widget-view+json": {
       "model_id": "8842fbf418864336b879415fce82a698",
       "version_major": 2,
       "version_minor": 0
      },
      "text/plain": [
       "  0%|          | 0/20 [00:00<?, ?it/s]"
      ]
     },
     "metadata": {},
     "output_type": "display_data"
    },
    {
     "name": "stdout",
     "output_type": "stream",
     "text": [
      "/Data/hala.gamouh/cheese_classification_challenge/dataset/val/MORBIER/000011.jpg\n",
      "generating images for MORBIER with prompt: best quality, high quality, image of Morbier on a white plate, with a plain white background, seen from above\n"
     ]
    },
    {
     "data": {
      "application/vnd.jupyter.widget-view+json": {
       "model_id": "3e05595b5cfa42ff8f2d77dd891226ea",
       "version_major": 2,
       "version_minor": 0
      },
      "text/plain": [
       "  0%|          | 0/20 [00:00<?, ?it/s]"
      ]
     },
     "metadata": {},
     "output_type": "display_data"
    },
    {
     "name": "stdout",
     "output_type": "stream",
     "text": [
      "generating images for MORBIER with prompt: best quality, high quality, image of Morbier on a marble plate, with a shop background, seen from an angled shot\n"
     ]
    },
    {
     "data": {
      "application/vnd.jupyter.widget-view+json": {
       "model_id": "441af899e81443718dce926b58b2c954",
       "version_major": 2,
       "version_minor": 0
      },
      "text/plain": [
       "  0%|          | 0/20 [00:00<?, ?it/s]"
      ]
     },
     "metadata": {},
     "output_type": "display_data"
    },
    {
     "name": "stdout",
     "output_type": "stream",
     "text": [
      "generating images for MORBIER with prompt: best quality, high quality, image of Morbier on a white plate, with a cheese factory background, seen from an angled shot\n"
     ]
    },
    {
     "data": {
      "application/vnd.jupyter.widget-view+json": {
       "model_id": "29061b9576d44569a6a033a9860b1eab",
       "version_major": 2,
       "version_minor": 0
      },
      "text/plain": [
       "  0%|          | 0/20 [00:00<?, ?it/s]"
      ]
     },
     "metadata": {},
     "output_type": "display_data"
    },
    {
     "name": "stdout",
     "output_type": "stream",
     "text": [
      "/Data/hala.gamouh/cheese_classification_challenge/dataset/val/MORBIER/000012.jpg\n",
      "generating images for MORBIER with prompt: best quality, high quality, image of Morbier on a plain white background, with a plain white background, seen from a face view\n"
     ]
    },
    {
     "data": {
      "application/vnd.jupyter.widget-view+json": {
       "model_id": "d0656f8370a249b4ae7711cbc7c9062c",
       "version_major": 2,
       "version_minor": 0
      },
      "text/plain": [
       "  0%|          | 0/20 [00:00<?, ?it/s]"
      ]
     },
     "metadata": {},
     "output_type": "display_data"
    },
    {
     "name": "stdout",
     "output_type": "stream",
     "text": [
      "generating images for MORBIER with prompt: best quality, high quality, in its packaging\n"
     ]
    },
    {
     "data": {
      "application/vnd.jupyter.widget-view+json": {
       "model_id": "76d50f603bd340b8a8a551b790b4d88d",
       "version_major": 2,
       "version_minor": 0
      },
      "text/plain": [
       "  0%|          | 0/20 [00:00<?, ?it/s]"
      ]
     },
     "metadata": {},
     "output_type": "display_data"
    },
    {
     "name": "stdout",
     "output_type": "stream",
     "text": [
      "generating images for MORBIER with prompt: best quality, high quality, image of Morbier on a wooden plate, with a plain white background, seen from above\n"
     ]
    },
    {
     "data": {
      "application/vnd.jupyter.widget-view+json": {
       "model_id": "adc7e2bf11644cc9a22253aaf82384a0",
       "version_major": 2,
       "version_minor": 0
      },
      "text/plain": [
       "  0%|          | 0/20 [00:00<?, ?it/s]"
      ]
     },
     "metadata": {},
     "output_type": "display_data"
    },
    {
     "name": "stdout",
     "output_type": "stream",
     "text": [
      "/Data/hala.gamouh/cheese_classification_challenge/dataset/val/MORBIER/000013.jpg\n",
      "generating images for MORBIER with prompt: best quality, high quality, image of Morbier on a wooden plate, with a kitchen background, seen from a side view\n"
     ]
    },
    {
     "data": {
      "application/vnd.jupyter.widget-view+json": {
       "model_id": "a3a4896f2a794dcc9ab2cc607dcd7629",
       "version_major": 2,
       "version_minor": 0
      },
      "text/plain": [
       "  0%|          | 0/20 [00:00<?, ?it/s]"
      ]
     },
     "metadata": {},
     "output_type": "display_data"
    },
    {
     "name": "stdout",
     "output_type": "stream",
     "text": [
      "generating images for MORBIER with prompt: best quality, high quality, image of Morbier on a wooden plate, with a plain white background, seen from above\n"
     ]
    },
    {
     "data": {
      "application/vnd.jupyter.widget-view+json": {
       "model_id": "ef2a38b0a87e46f695761fae1a14505a",
       "version_major": 2,
       "version_minor": 0
      },
      "text/plain": [
       "  0%|          | 0/20 [00:00<?, ?it/s]"
      ]
     },
     "metadata": {},
     "output_type": "display_data"
    },
    {
     "name": "stdout",
     "output_type": "stream",
     "text": [
      "generating images for MORBIER with prompt: best quality, high quality, image of Morbier on a wooden plate, with a plain white background, seen from above\n"
     ]
    },
    {
     "data": {
      "application/vnd.jupyter.widget-view+json": {
       "model_id": "3cecff02ed894655848d0caf7bdeffc1",
       "version_major": 2,
       "version_minor": 0
      },
      "text/plain": [
       "  0%|          | 0/20 [00:00<?, ?it/s]"
      ]
     },
     "metadata": {},
     "output_type": "display_data"
    },
    {
     "name": "stdout",
     "output_type": "stream",
     "text": [
      "/Data/hala.gamouh/cheese_classification_challenge/dataset/val/MORBIER/000014.jpg\n",
      "generating images for MORBIER with prompt: best quality, high quality, image of Morbier on a plain white background, with a cheese cave background, seen from a side view\n"
     ]
    },
    {
     "data": {
      "application/vnd.jupyter.widget-view+json": {
       "model_id": "2477b87cc8184d57b932ea09ba33750e",
       "version_major": 2,
       "version_minor": 0
      },
      "text/plain": [
       "  0%|          | 0/20 [00:00<?, ?it/s]"
      ]
     },
     "metadata": {},
     "output_type": "display_data"
    },
    {
     "name": "stdout",
     "output_type": "stream",
     "text": [
      "generating images for MORBIER with prompt: best quality, high quality, image of Morbier on a plain white background, with a cheese cave background, seen from a side view\n"
     ]
    },
    {
     "data": {
      "application/vnd.jupyter.widget-view+json": {
       "model_id": "b8264a63991c4676a9d8fa6e2b8be13a",
       "version_major": 2,
       "version_minor": 0
      },
      "text/plain": [
       "  0%|          | 0/20 [00:00<?, ?it/s]"
      ]
     },
     "metadata": {},
     "output_type": "display_data"
    },
    {
     "name": "stdout",
     "output_type": "stream",
     "text": [
      "generating images for MORBIER with prompt: best quality, high quality, image of Morbier on a white plate, with a plain white background, seen from above\n"
     ]
    },
    {
     "data": {
      "application/vnd.jupyter.widget-view+json": {
       "model_id": "d3848b64b57a492bb222546fc25fe594",
       "version_major": 2,
       "version_minor": 0
      },
      "text/plain": [
       "  0%|          | 0/20 [00:00<?, ?it/s]"
      ]
     },
     "metadata": {},
     "output_type": "display_data"
    },
    {
     "name": "stdout",
     "output_type": "stream",
     "text": [
      "/Data/hala.gamouh/cheese_classification_challenge/dataset/val/MORBIER/000015.jpg\n",
      "generating images for MORBIER with prompt: best quality, high quality, image of Morbier on a white plate, with a cheese factory background, seen from an angled shot\n"
     ]
    },
    {
     "data": {
      "application/vnd.jupyter.widget-view+json": {
       "model_id": "806d436aa6fb4406b99113ad7702fa88",
       "version_major": 2,
       "version_minor": 0
      },
      "text/plain": [
       "  0%|          | 0/20 [00:00<?, ?it/s]"
      ]
     },
     "metadata": {},
     "output_type": "display_data"
    },
    {
     "name": "stdout",
     "output_type": "stream",
     "text": [
      "generating images for MORBIER with prompt: best quality, high quality, image of Morbier on a wooden plate, with a kitchen background, seen from a side view\n"
     ]
    },
    {
     "data": {
      "application/vnd.jupyter.widget-view+json": {
       "model_id": "3611d9c3220548f2bb5fd61b9eda14ff",
       "version_major": 2,
       "version_minor": 0
      },
      "text/plain": [
       "  0%|          | 0/20 [00:00<?, ?it/s]"
      ]
     },
     "metadata": {},
     "output_type": "display_data"
    },
    {
     "name": "stdout",
     "output_type": "stream",
     "text": [
      "generating images for MORBIER with prompt: best quality, high quality, image of Morbier on a wooden plate, with a kitchen background, seen from a side view\n"
     ]
    },
    {
     "data": {
      "application/vnd.jupyter.widget-view+json": {
       "model_id": "b48b5b5248ce41b4b5a045af9cb87707",
       "version_major": 2,
       "version_minor": 0
      },
      "text/plain": [
       "  0%|          | 0/20 [00:00<?, ?it/s]"
      ]
     },
     "metadata": {},
     "output_type": "display_data"
    },
    {
     "name": "stdout",
     "output_type": "stream",
     "text": [
      "/Data/hala.gamouh/cheese_classification_challenge/dataset/val/MORBIER/000016.jpg\n",
      "generating images for MORBIER with prompt: best quality, high quality, image of Morbier on a marble plate, with a shop background, seen from an angled shot\n"
     ]
    },
    {
     "data": {
      "application/vnd.jupyter.widget-view+json": {
       "model_id": "62ff292396c14bbcb1b3cebed833d901",
       "version_major": 2,
       "version_minor": 0
      },
      "text/plain": [
       "  0%|          | 0/20 [00:00<?, ?it/s]"
      ]
     },
     "metadata": {},
     "output_type": "display_data"
    },
    {
     "name": "stdout",
     "output_type": "stream",
     "text": [
      "generating images for MORBIER with prompt: best quality, high quality, image of Morbier on a plain white background, with a cheese cave background, seen from a side view\n"
     ]
    },
    {
     "data": {
      "application/vnd.jupyter.widget-view+json": {
       "model_id": "79b616fd669049e8aa53515dcde9eb49",
       "version_major": 2,
       "version_minor": 0
      },
      "text/plain": [
       "  0%|          | 0/20 [00:00<?, ?it/s]"
      ]
     },
     "metadata": {},
     "output_type": "display_data"
    },
    {
     "name": "stdout",
     "output_type": "stream",
     "text": [
      "generating images for MORBIER with prompt: best quality, high quality, image of Morbier on a slate board, with a shop background, seen from above\n"
     ]
    },
    {
     "data": {
      "application/vnd.jupyter.widget-view+json": {
       "model_id": "6beb42c97a5d4d06951df737054bd86f",
       "version_major": 2,
       "version_minor": 0
      },
      "text/plain": [
       "  0%|          | 0/20 [00:00<?, ?it/s]"
      ]
     },
     "metadata": {},
     "output_type": "display_data"
    },
    {
     "name": "stdout",
     "output_type": "stream",
     "text": [
      "/Data/hala.gamouh/cheese_classification_challenge/dataset/val/MORBIER/000017.jpg\n",
      "generating images for MORBIER with prompt: best quality, high quality, image of Morbier on a slate board, with a shop background, seen from above\n"
     ]
    },
    {
     "data": {
      "application/vnd.jupyter.widget-view+json": {
       "model_id": "c11f94d636bd4498b1db58f782194458",
       "version_major": 2,
       "version_minor": 0
      },
      "text/plain": [
       "  0%|          | 0/20 [00:00<?, ?it/s]"
      ]
     },
     "metadata": {},
     "output_type": "display_data"
    },
    {
     "name": "stdout",
     "output_type": "stream",
     "text": [
      "generating images for MORBIER with prompt: best quality, high quality, image of Morbier on a plain white background, with a plain white background, seen from a face view\n"
     ]
    },
    {
     "data": {
      "application/vnd.jupyter.widget-view+json": {
       "model_id": "0d22f4c7095240e8b3e2f941de82d4bb",
       "version_major": 2,
       "version_minor": 0
      },
      "text/plain": [
       "  0%|          | 0/20 [00:00<?, ?it/s]"
      ]
     },
     "metadata": {},
     "output_type": "display_data"
    },
    {
     "name": "stdout",
     "output_type": "stream",
     "text": [
      "generating images for MORBIER with prompt: best quality, high quality, image of Morbier on a plain white background, with a cheese cave background, seen from a side view\n"
     ]
    },
    {
     "data": {
      "application/vnd.jupyter.widget-view+json": {
       "model_id": "b39ee0d5761c4d299f49041965f4dbdd",
       "version_major": 2,
       "version_minor": 0
      },
      "text/plain": [
       "  0%|          | 0/20 [00:00<?, ?it/s]"
      ]
     },
     "metadata": {},
     "output_type": "display_data"
    },
    {
     "name": "stdout",
     "output_type": "stream",
     "text": [
      "/Data/hala.gamouh/cheese_classification_challenge/dataset/val/MORBIER/000018.jpg\n",
      "generating images for MORBIER with prompt: best quality, high quality, image of Morbier on a slate board, with a shop background, seen from above\n"
     ]
    },
    {
     "data": {
      "application/vnd.jupyter.widget-view+json": {
       "model_id": "6fa70cc821864e4bbcb88ea9281c6545",
       "version_major": 2,
       "version_minor": 0
      },
      "text/plain": [
       "  0%|          | 0/20 [00:00<?, ?it/s]"
      ]
     },
     "metadata": {},
     "output_type": "display_data"
    },
    {
     "name": "stdout",
     "output_type": "stream",
     "text": [
      "generating images for MORBIER with prompt: best quality, high quality, image of Morbier on a slate board, with a shop background, seen from above\n"
     ]
    },
    {
     "data": {
      "application/vnd.jupyter.widget-view+json": {
       "model_id": "5ba6cc1080484785a691c32bfb677180",
       "version_major": 2,
       "version_minor": 0
      },
      "text/plain": [
       "  0%|          | 0/20 [00:00<?, ?it/s]"
      ]
     },
     "metadata": {},
     "output_type": "display_data"
    },
    {
     "name": "stdout",
     "output_type": "stream",
     "text": [
      "generating images for MORBIER with prompt: best quality, high quality, image of Morbier on a marble plate, with a shop background, seen from an angled shot\n"
     ]
    },
    {
     "data": {
      "application/vnd.jupyter.widget-view+json": {
       "model_id": "0573718a7a154731b5417fe073512b11",
       "version_major": 2,
       "version_minor": 0
      },
      "text/plain": [
       "  0%|          | 0/20 [00:00<?, ?it/s]"
      ]
     },
     "metadata": {},
     "output_type": "display_data"
    },
    {
     "name": "stdout",
     "output_type": "stream",
     "text": [
      "/Data/hala.gamouh/cheese_classification_challenge/dataset/val/MORBIER/000019.jpg\n",
      "generating images for MORBIER with prompt: best quality, high quality, image of Morbier on a plain white background, with a plain white background, seen from a face view\n"
     ]
    },
    {
     "data": {
      "application/vnd.jupyter.widget-view+json": {
       "model_id": "a410b4f52cc1429796f0577b5c5b5517",
       "version_major": 2,
       "version_minor": 0
      },
      "text/plain": [
       "  0%|          | 0/20 [00:00<?, ?it/s]"
      ]
     },
     "metadata": {},
     "output_type": "display_data"
    },
    {
     "name": "stdout",
     "output_type": "stream",
     "text": [
      "generating images for MORBIER with prompt: best quality, high quality, in its packaging\n"
     ]
    },
    {
     "data": {
      "application/vnd.jupyter.widget-view+json": {
       "model_id": "05e0011c55ec4a2cb3082d5c157c1d70",
       "version_major": 2,
       "version_minor": 0
      },
      "text/plain": [
       "  0%|          | 0/20 [00:00<?, ?it/s]"
      ]
     },
     "metadata": {},
     "output_type": "display_data"
    },
    {
     "name": "stdout",
     "output_type": "stream",
     "text": [
      "generating images for MORBIER with prompt: best quality, high quality, image of Morbier on a marble plate, with a shop background, seen from an angled shot\n"
     ]
    },
    {
     "data": {
      "application/vnd.jupyter.widget-view+json": {
       "model_id": "ae9d88cd3cba4c2281cf1edf73af84a4",
       "version_major": 2,
       "version_minor": 0
      },
      "text/plain": [
       "  0%|          | 0/20 [00:00<?, ?it/s]"
      ]
     },
     "metadata": {},
     "output_type": "display_data"
    },
    {
     "name": "stdout",
     "output_type": "stream",
     "text": [
      "/Data/hala.gamouh/cheese_classification_challenge/dataset/val/MORBIER/000020.jpg\n",
      "generating images for MORBIER with prompt: best quality, high quality, image of Morbier on a marble plate, with a shop background, seen from an angled shot\n"
     ]
    },
    {
     "data": {
      "application/vnd.jupyter.widget-view+json": {
       "model_id": "2870dd15c76b4dab98a58f74eedb6e99",
       "version_major": 2,
       "version_minor": 0
      },
      "text/plain": [
       "  0%|          | 0/20 [00:00<?, ?it/s]"
      ]
     },
     "metadata": {},
     "output_type": "display_data"
    },
    {
     "name": "stdout",
     "output_type": "stream",
     "text": [
      "generating images for MORBIER with prompt: best quality, high quality, image of Morbier on a wooden plate, with a plain white background, seen from above\n"
     ]
    },
    {
     "data": {
      "application/vnd.jupyter.widget-view+json": {
       "model_id": "424278c3ef66410dbe11c3a004505ffe",
       "version_major": 2,
       "version_minor": 0
      },
      "text/plain": [
       "  0%|          | 0/20 [00:00<?, ?it/s]"
      ]
     },
     "metadata": {},
     "output_type": "display_data"
    },
    {
     "name": "stdout",
     "output_type": "stream",
     "text": [
      "generating images for MORBIER with prompt: best quality, high quality, image of Morbier on a wooden plate, with a plain white background, seen from above\n"
     ]
    },
    {
     "data": {
      "application/vnd.jupyter.widget-view+json": {
       "model_id": "c4b52741e859420a8dae1c47a9c52b0f",
       "version_major": 2,
       "version_minor": 0
      },
      "text/plain": [
       "  0%|          | 0/20 [00:00<?, ?it/s]"
      ]
     },
     "metadata": {},
     "output_type": "display_data"
    },
    {
     "name": "stdout",
     "output_type": "stream",
     "text": [
      "/Data/hala.gamouh/cheese_classification_challenge/dataset/val/MORBIER/000021.jpg\n",
      "generating images for MORBIER with prompt: best quality, high quality, in its packaging\n"
     ]
    },
    {
     "data": {
      "application/vnd.jupyter.widget-view+json": {
       "model_id": "c9fcbf58088c498e90133f781c400729",
       "version_major": 2,
       "version_minor": 0
      },
      "text/plain": [
       "  0%|          | 0/20 [00:00<?, ?it/s]"
      ]
     },
     "metadata": {},
     "output_type": "display_data"
    },
    {
     "name": "stdout",
     "output_type": "stream",
     "text": [
      "generating images for MORBIER with prompt: best quality, high quality, in its packaging\n"
     ]
    },
    {
     "data": {
      "application/vnd.jupyter.widget-view+json": {
       "model_id": "b93e27d1011b4723b361d8ea7611466b",
       "version_major": 2,
       "version_minor": 0
      },
      "text/plain": [
       "  0%|          | 0/20 [00:00<?, ?it/s]"
      ]
     },
     "metadata": {},
     "output_type": "display_data"
    },
    {
     "name": "stdout",
     "output_type": "stream",
     "text": [
      "generating images for MORBIER with prompt: best quality, high quality, image of Morbier on a slate board, with a shop background, seen from above\n"
     ]
    },
    {
     "data": {
      "application/vnd.jupyter.widget-view+json": {
       "model_id": "b30925246e134671b685f9450d419d55",
       "version_major": 2,
       "version_minor": 0
      },
      "text/plain": [
       "  0%|          | 0/20 [00:00<?, ?it/s]"
      ]
     },
     "metadata": {},
     "output_type": "display_data"
    },
    {
     "name": "stdout",
     "output_type": "stream",
     "text": [
      "/Data/hala.gamouh/cheese_classification_challenge/dataset/val/MORBIER/000022.jpg\n",
      "generating images for MORBIER with prompt: best quality, high quality, image of Morbier on a wooden plate, with a plain white background, seen from above\n"
     ]
    },
    {
     "data": {
      "application/vnd.jupyter.widget-view+json": {
       "model_id": "dddac1d9debe476396775d82aef1e368",
       "version_major": 2,
       "version_minor": 0
      },
      "text/plain": [
       "  0%|          | 0/20 [00:00<?, ?it/s]"
      ]
     },
     "metadata": {},
     "output_type": "display_data"
    },
    {
     "name": "stdout",
     "output_type": "stream",
     "text": [
      "generating images for MORBIER with prompt: best quality, high quality, image of Morbier on a plain white background, with a plain white background, seen from a face view\n"
     ]
    },
    {
     "data": {
      "application/vnd.jupyter.widget-view+json": {
       "model_id": "0fc0106c711244969fd293bc309ddb65",
       "version_major": 2,
       "version_minor": 0
      },
      "text/plain": [
       "  0%|          | 0/20 [00:00<?, ?it/s]"
      ]
     },
     "metadata": {},
     "output_type": "display_data"
    },
    {
     "name": "stdout",
     "output_type": "stream",
     "text": [
      "generating images for MORBIER with prompt: best quality, high quality, image of Morbier on a white plate, with a cheese factory background, seen from an angled shot\n"
     ]
    },
    {
     "data": {
      "application/vnd.jupyter.widget-view+json": {
       "model_id": "8ccb61f097a2408b923193c411ae7922",
       "version_major": 2,
       "version_minor": 0
      },
      "text/plain": [
       "  0%|          | 0/20 [00:00<?, ?it/s]"
      ]
     },
     "metadata": {},
     "output_type": "display_data"
    },
    {
     "name": "stdout",
     "output_type": "stream",
     "text": [
      "/Data/hala.gamouh/cheese_classification_challenge/dataset/val/MORBIER/000023.jpg\n",
      "generating images for MORBIER with prompt: best quality, high quality, image of Morbier on a slate board, with a shop background, seen from above\n"
     ]
    },
    {
     "data": {
      "application/vnd.jupyter.widget-view+json": {
       "model_id": "b96e668ae8b7444892802bec9f2a2205",
       "version_major": 2,
       "version_minor": 0
      },
      "text/plain": [
       "  0%|          | 0/20 [00:00<?, ?it/s]"
      ]
     },
     "metadata": {},
     "output_type": "display_data"
    },
    {
     "name": "stdout",
     "output_type": "stream",
     "text": [
      "generating images for MORBIER with prompt: best quality, high quality, image of Morbier on a plain white background, with a cheese cave background, seen from a side view\n"
     ]
    },
    {
     "data": {
      "application/vnd.jupyter.widget-view+json": {
       "model_id": "a4cc805d42ea4533acbe6988479ef634",
       "version_major": 2,
       "version_minor": 0
      },
      "text/plain": [
       "  0%|          | 0/20 [00:00<?, ?it/s]"
      ]
     },
     "metadata": {},
     "output_type": "display_data"
    },
    {
     "name": "stdout",
     "output_type": "stream",
     "text": [
      "generating images for MORBIER with prompt: best quality, high quality, image of Morbier on a marble plate, with a kitchen background, seen from a side view\n"
     ]
    },
    {
     "data": {
      "application/vnd.jupyter.widget-view+json": {
       "model_id": "aaf2388a7812467681affd2d1eb86e03",
       "version_major": 2,
       "version_minor": 0
      },
      "text/plain": [
       "  0%|          | 0/20 [00:00<?, ?it/s]"
      ]
     },
     "metadata": {},
     "output_type": "display_data"
    },
    {
     "name": "stdout",
     "output_type": "stream",
     "text": [
      "/Data/hala.gamouh/cheese_classification_challenge/dataset/val/MORBIER/000024.jpg\n",
      "generating images for MORBIER with prompt: best quality, high quality, image of Morbier on a white plate, with a cheese factory background, seen from an angled shot\n"
     ]
    },
    {
     "data": {
      "application/vnd.jupyter.widget-view+json": {
       "model_id": "01e756b3405d498fb1189a5c3a6cfa1b",
       "version_major": 2,
       "version_minor": 0
      },
      "text/plain": [
       "  0%|          | 0/20 [00:00<?, ?it/s]"
      ]
     },
     "metadata": {},
     "output_type": "display_data"
    },
    {
     "name": "stdout",
     "output_type": "stream",
     "text": [
      "generating images for MORBIER with prompt: best quality, high quality, image of Morbier on a plain white background, with a plain white background, seen from a face view\n"
     ]
    },
    {
     "data": {
      "application/vnd.jupyter.widget-view+json": {
       "model_id": "ea2442fb4246487bb7afd88eb79dca1c",
       "version_major": 2,
       "version_minor": 0
      },
      "text/plain": [
       "  0%|          | 0/20 [00:00<?, ?it/s]"
      ]
     },
     "metadata": {},
     "output_type": "display_data"
    },
    {
     "name": "stdout",
     "output_type": "stream",
     "text": [
      "generating images for MORBIER with prompt: best quality, high quality, image of Morbier on a white plate, with a plain white background, seen from above\n"
     ]
    },
    {
     "data": {
      "application/vnd.jupyter.widget-view+json": {
       "model_id": "6dec64bd2da84a8e9d9009087972a3d4",
       "version_major": 2,
       "version_minor": 0
      },
      "text/plain": [
       "  0%|          | 0/20 [00:00<?, ?it/s]"
      ]
     },
     "metadata": {},
     "output_type": "display_data"
    },
    {
     "name": "stdout",
     "output_type": "stream",
     "text": [
      "/Data/hala.gamouh/cheese_classification_challenge/dataset/val/ROQUEFORT/000000.jpg\n",
      "generating images for ROQUEFORT with prompt: best quality, high quality, image of Roquefort on a marble plate, with a shop background, seen from an angled shot\n"
     ]
    },
    {
     "data": {
      "application/vnd.jupyter.widget-view+json": {
       "model_id": "7a39bcbeb9bd42b48ec884691c64d9f6",
       "version_major": 2,
       "version_minor": 0
      },
      "text/plain": [
       "  0%|          | 0/20 [00:00<?, ?it/s]"
      ]
     },
     "metadata": {},
     "output_type": "display_data"
    },
    {
     "name": "stdout",
     "output_type": "stream",
     "text": [
      "generating images for ROQUEFORT with prompt: best quality, high quality, image of Roquefort on a wooden plate, with a plain white background, seen from above\n"
     ]
    },
    {
     "data": {
      "application/vnd.jupyter.widget-view+json": {
       "model_id": "6b79956e40774c45870e711a2c3fcc64",
       "version_major": 2,
       "version_minor": 0
      },
      "text/plain": [
       "  0%|          | 0/20 [00:00<?, ?it/s]"
      ]
     },
     "metadata": {},
     "output_type": "display_data"
    },
    {
     "name": "stdout",
     "output_type": "stream",
     "text": [
      "generating images for ROQUEFORT with prompt: best quality, high quality, image of Roquefort on a wooden plate, with a kitchen background, seen from a side view\n"
     ]
    },
    {
     "data": {
      "application/vnd.jupyter.widget-view+json": {
       "model_id": "2354bd625cd341138146551067c0ad2d",
       "version_major": 2,
       "version_minor": 0
      },
      "text/plain": [
       "  0%|          | 0/20 [00:00<?, ?it/s]"
      ]
     },
     "metadata": {},
     "output_type": "display_data"
    },
    {
     "name": "stdout",
     "output_type": "stream",
     "text": [
      "/Data/hala.gamouh/cheese_classification_challenge/dataset/val/ROQUEFORT/000001.jpg\n",
      "generating images for ROQUEFORT with prompt: best quality, high quality, image of Roquefort on a white plate, with a plain white background, seen from above\n"
     ]
    },
    {
     "data": {
      "application/vnd.jupyter.widget-view+json": {
       "model_id": "22a51596717f4fb08ca4211eca7376b3",
       "version_major": 2,
       "version_minor": 0
      },
      "text/plain": [
       "  0%|          | 0/20 [00:00<?, ?it/s]"
      ]
     },
     "metadata": {},
     "output_type": "display_data"
    },
    {
     "name": "stdout",
     "output_type": "stream",
     "text": [
      "generating images for ROQUEFORT with prompt: best quality, high quality, image of Roquefort on a plain white background, with a plain white background, seen from a face view\n"
     ]
    },
    {
     "data": {
      "application/vnd.jupyter.widget-view+json": {
       "model_id": "36996afd88974e4591e201532e242056",
       "version_major": 2,
       "version_minor": 0
      },
      "text/plain": [
       "  0%|          | 0/20 [00:00<?, ?it/s]"
      ]
     },
     "metadata": {},
     "output_type": "display_data"
    },
    {
     "name": "stdout",
     "output_type": "stream",
     "text": [
      "generating images for ROQUEFORT with prompt: best quality, high quality, image of Roquefort on a slate board, with a cheese cave background, seen from above\n"
     ]
    },
    {
     "data": {
      "application/vnd.jupyter.widget-view+json": {
       "model_id": "1a461b4e0efd4d30b76ecd4b90ce3df4",
       "version_major": 2,
       "version_minor": 0
      },
      "text/plain": [
       "  0%|          | 0/20 [00:00<?, ?it/s]"
      ]
     },
     "metadata": {},
     "output_type": "display_data"
    },
    {
     "name": "stdout",
     "output_type": "stream",
     "text": [
      "/Data/hala.gamouh/cheese_classification_challenge/dataset/val/ROQUEFORT/000002.jpg\n",
      "generating images for ROQUEFORT with prompt: best quality, high quality, image of Roquefort on a white plate, with a plain white background, seen from above\n"
     ]
    },
    {
     "data": {
      "application/vnd.jupyter.widget-view+json": {
       "model_id": "74a57c408d8f4360838ed418ab08031a",
       "version_major": 2,
       "version_minor": 0
      },
      "text/plain": [
       "  0%|          | 0/20 [00:00<?, ?it/s]"
      ]
     },
     "metadata": {},
     "output_type": "display_data"
    },
    {
     "name": "stdout",
     "output_type": "stream",
     "text": [
      "generating images for ROQUEFORT with prompt: best quality, high quality, image of Roquefort on a plain white background, with a plain white background, seen from a face view\n"
     ]
    },
    {
     "data": {
      "application/vnd.jupyter.widget-view+json": {
       "model_id": "20dd32a2a3b74e37a0612dae90a9a2e3",
       "version_major": 2,
       "version_minor": 0
      },
      "text/plain": [
       "  0%|          | 0/20 [00:00<?, ?it/s]"
      ]
     },
     "metadata": {},
     "output_type": "display_data"
    },
    {
     "name": "stdout",
     "output_type": "stream",
     "text": [
      "generating images for ROQUEFORT with prompt: best quality, high quality, image of Roquefort on a marble plate, with a shop background, seen from an angled shot\n"
     ]
    },
    {
     "data": {
      "application/vnd.jupyter.widget-view+json": {
       "model_id": "81c6ba60ec0f4888804b71da6fd95072",
       "version_major": 2,
       "version_minor": 0
      },
      "text/plain": [
       "  0%|          | 0/20 [00:00<?, ?it/s]"
      ]
     },
     "metadata": {},
     "output_type": "display_data"
    },
    {
     "name": "stdout",
     "output_type": "stream",
     "text": [
      "/Data/hala.gamouh/cheese_classification_challenge/dataset/val/ROQUEFORT/000003.jpg\n",
      "generating images for ROQUEFORT with prompt: best quality, high quality, image of Roquefort on a wooden plate, with a kitchen background, seen from a side view\n"
     ]
    },
    {
     "data": {
      "application/vnd.jupyter.widget-view+json": {
       "model_id": "5dd6019c4e844b7eb17bea3ccae188b4",
       "version_major": 2,
       "version_minor": 0
      },
      "text/plain": [
       "  0%|          | 0/20 [00:00<?, ?it/s]"
      ]
     },
     "metadata": {},
     "output_type": "display_data"
    },
    {
     "name": "stdout",
     "output_type": "stream",
     "text": [
      "generating images for ROQUEFORT with prompt: best quality, high quality, image of Roquefort on a marble plate, with a kitchen background, seen from a side view\n"
     ]
    },
    {
     "data": {
      "application/vnd.jupyter.widget-view+json": {
       "model_id": "d6d8bc517c794f7a9a76bf5f9789db9d",
       "version_major": 2,
       "version_minor": 0
      },
      "text/plain": [
       "  0%|          | 0/20 [00:00<?, ?it/s]"
      ]
     },
     "metadata": {},
     "output_type": "display_data"
    },
    {
     "name": "stdout",
     "output_type": "stream",
     "text": [
      "generating images for ROQUEFORT with prompt: best quality, high quality, image of Roquefort on a wooden plate, with a plain white background, seen from above\n"
     ]
    },
    {
     "data": {
      "application/vnd.jupyter.widget-view+json": {
       "model_id": "99076c3cab4a450eaaf19650afb55ea8",
       "version_major": 2,
       "version_minor": 0
      },
      "text/plain": [
       "  0%|          | 0/20 [00:00<?, ?it/s]"
      ]
     },
     "metadata": {},
     "output_type": "display_data"
    },
    {
     "name": "stdout",
     "output_type": "stream",
     "text": [
      "/Data/hala.gamouh/cheese_classification_challenge/dataset/val/ROQUEFORT/000004.jpg\n",
      "generating images for ROQUEFORT with prompt: best quality, high quality, image of Roquefort on a wooden plate, with a kitchen background, seen from a side view\n"
     ]
    },
    {
     "data": {
      "application/vnd.jupyter.widget-view+json": {
       "model_id": "e8be122c0d454fc39e85b77b9999ddfa",
       "version_major": 2,
       "version_minor": 0
      },
      "text/plain": [
       "  0%|          | 0/20 [00:00<?, ?it/s]"
      ]
     },
     "metadata": {},
     "output_type": "display_data"
    },
    {
     "name": "stdout",
     "output_type": "stream",
     "text": [
      "generating images for ROQUEFORT with prompt: best quality, high quality, image of Roquefort on a white plate, with a plain white background, seen from above\n"
     ]
    },
    {
     "data": {
      "application/vnd.jupyter.widget-view+json": {
       "model_id": "298d364ef93a4440b572fc3f322d7476",
       "version_major": 2,
       "version_minor": 0
      },
      "text/plain": [
       "  0%|          | 0/20 [00:00<?, ?it/s]"
      ]
     },
     "metadata": {},
     "output_type": "display_data"
    },
    {
     "name": "stdout",
     "output_type": "stream",
     "text": [
      "generating images for ROQUEFORT with prompt: best quality, high quality, image of Roquefort on a white plate, with a plain white background, seen from above\n"
     ]
    },
    {
     "data": {
      "application/vnd.jupyter.widget-view+json": {
       "model_id": "e14f4e83db3f4b29897f9c223d10ef8b",
       "version_major": 2,
       "version_minor": 0
      },
      "text/plain": [
       "  0%|          | 0/20 [00:00<?, ?it/s]"
      ]
     },
     "metadata": {},
     "output_type": "display_data"
    },
    {
     "name": "stdout",
     "output_type": "stream",
     "text": [
      "/Data/hala.gamouh/cheese_classification_challenge/dataset/val/ROQUEFORT/000005.jpg\n",
      "generating images for ROQUEFORT with prompt: best quality, high quality, in its packaging\n"
     ]
    },
    {
     "data": {
      "application/vnd.jupyter.widget-view+json": {
       "model_id": "565c7326a07d428d9127fec919dc7f2f",
       "version_major": 2,
       "version_minor": 0
      },
      "text/plain": [
       "  0%|          | 0/20 [00:00<?, ?it/s]"
      ]
     },
     "metadata": {},
     "output_type": "display_data"
    },
    {
     "name": "stdout",
     "output_type": "stream",
     "text": [
      "generating images for ROQUEFORT with prompt: best quality, high quality, image of Roquefort on a marble plate, with a shop background, seen from an angled shot\n"
     ]
    },
    {
     "data": {
      "application/vnd.jupyter.widget-view+json": {
       "model_id": "a5b1d3b740374e0ebed715b35e58ac2f",
       "version_major": 2,
       "version_minor": 0
      },
      "text/plain": [
       "  0%|          | 0/20 [00:00<?, ?it/s]"
      ]
     },
     "metadata": {},
     "output_type": "display_data"
    },
    {
     "name": "stdout",
     "output_type": "stream",
     "text": [
      "generating images for ROQUEFORT with prompt: best quality, high quality, image of Roquefort on a slate board, with a shop background, seen from above\n"
     ]
    },
    {
     "data": {
      "application/vnd.jupyter.widget-view+json": {
       "model_id": "8395bda13d13422785cb8870d31cba6e",
       "version_major": 2,
       "version_minor": 0
      },
      "text/plain": [
       "  0%|          | 0/20 [00:00<?, ?it/s]"
      ]
     },
     "metadata": {},
     "output_type": "display_data"
    },
    {
     "name": "stdout",
     "output_type": "stream",
     "text": [
      "/Data/hala.gamouh/cheese_classification_challenge/dataset/val/ROQUEFORT/000006.jpg\n",
      "generating images for ROQUEFORT with prompt: best quality, high quality, image of Roquefort on a white plate, with a plain white background, seen from above\n"
     ]
    },
    {
     "data": {
      "application/vnd.jupyter.widget-view+json": {
       "model_id": "7758755f9c064b7eb69398cb567eebd6",
       "version_major": 2,
       "version_minor": 0
      },
      "text/plain": [
       "  0%|          | 0/20 [00:00<?, ?it/s]"
      ]
     },
     "metadata": {},
     "output_type": "display_data"
    },
    {
     "name": "stdout",
     "output_type": "stream",
     "text": [
      "generating images for ROQUEFORT with prompt: best quality, high quality, image of Roquefort on a slate board, with a cheese cave background, seen from above\n"
     ]
    },
    {
     "data": {
      "application/vnd.jupyter.widget-view+json": {
       "model_id": "cc93a4ff59c84c7097fae62da8410ed2",
       "version_major": 2,
       "version_minor": 0
      },
      "text/plain": [
       "  0%|          | 0/20 [00:00<?, ?it/s]"
      ]
     },
     "metadata": {},
     "output_type": "display_data"
    },
    {
     "name": "stdout",
     "output_type": "stream",
     "text": [
      "generating images for ROQUEFORT with prompt: best quality, high quality, image of Roquefort on a white plate, with a cheese factory background, seen from an angled shot\n"
     ]
    },
    {
     "data": {
      "application/vnd.jupyter.widget-view+json": {
       "model_id": "3fc5710906fb4a008c23a8a206922345",
       "version_major": 2,
       "version_minor": 0
      },
      "text/plain": [
       "  0%|          | 0/20 [00:00<?, ?it/s]"
      ]
     },
     "metadata": {},
     "output_type": "display_data"
    },
    {
     "name": "stdout",
     "output_type": "stream",
     "text": [
      "/Data/hala.gamouh/cheese_classification_challenge/dataset/val/ROQUEFORT/000007.jpg\n",
      "generating images for ROQUEFORT with prompt: best quality, high quality, image of Roquefort on a slate board, with a shop background, seen from above\n"
     ]
    },
    {
     "data": {
      "application/vnd.jupyter.widget-view+json": {
       "model_id": "968a83e464014f2a84a675629b34e790",
       "version_major": 2,
       "version_minor": 0
      },
      "text/plain": [
       "  0%|          | 0/20 [00:00<?, ?it/s]"
      ]
     },
     "metadata": {},
     "output_type": "display_data"
    },
    {
     "name": "stdout",
     "output_type": "stream",
     "text": [
      "generating images for ROQUEFORT with prompt: best quality, high quality, image of Roquefort on a marble plate, with a kitchen background, seen from a side view\n"
     ]
    },
    {
     "data": {
      "application/vnd.jupyter.widget-view+json": {
       "model_id": "dd89d346b0244a3da93dcbbb6b5101cd",
       "version_major": 2,
       "version_minor": 0
      },
      "text/plain": [
       "  0%|          | 0/20 [00:00<?, ?it/s]"
      ]
     },
     "metadata": {},
     "output_type": "display_data"
    },
    {
     "name": "stdout",
     "output_type": "stream",
     "text": [
      "generating images for ROQUEFORT with prompt: best quality, high quality, image of Roquefort on a marble plate, with a shop background, seen from an angled shot\n"
     ]
    },
    {
     "data": {
      "application/vnd.jupyter.widget-view+json": {
       "model_id": "ddbf5c2a725046d7b0e2d03f6b305b77",
       "version_major": 2,
       "version_minor": 0
      },
      "text/plain": [
       "  0%|          | 0/20 [00:00<?, ?it/s]"
      ]
     },
     "metadata": {},
     "output_type": "display_data"
    },
    {
     "name": "stdout",
     "output_type": "stream",
     "text": [
      "/Data/hala.gamouh/cheese_classification_challenge/dataset/val/ROQUEFORT/000008.jpg\n",
      "generating images for ROQUEFORT with prompt: best quality, high quality, image of Roquefort on a plain white background, with a cheese cave background, seen from a side view\n"
     ]
    },
    {
     "data": {
      "application/vnd.jupyter.widget-view+json": {
       "model_id": "3f7401e65eaf4cb49a8f4b02c6b4b5a9",
       "version_major": 2,
       "version_minor": 0
      },
      "text/plain": [
       "  0%|          | 0/20 [00:00<?, ?it/s]"
      ]
     },
     "metadata": {},
     "output_type": "display_data"
    },
    {
     "name": "stdout",
     "output_type": "stream",
     "text": [
      "generating images for ROQUEFORT with prompt: best quality, high quality, image of Roquefort on a wooden plate, with a plain white background, seen from above\n"
     ]
    },
    {
     "data": {
      "application/vnd.jupyter.widget-view+json": {
       "model_id": "b40f0784b25f45b587a9692a6f6f7ede",
       "version_major": 2,
       "version_minor": 0
      },
      "text/plain": [
       "  0%|          | 0/20 [00:00<?, ?it/s]"
      ]
     },
     "metadata": {},
     "output_type": "display_data"
    },
    {
     "name": "stdout",
     "output_type": "stream",
     "text": [
      "generating images for ROQUEFORT with prompt: best quality, high quality, image of Roquefort on a marble plate, with a shop background, seen from an angled shot\n"
     ]
    },
    {
     "data": {
      "application/vnd.jupyter.widget-view+json": {
       "model_id": "cb16f23244e0446ca00562b80830ba0e",
       "version_major": 2,
       "version_minor": 0
      },
      "text/plain": [
       "  0%|          | 0/20 [00:00<?, ?it/s]"
      ]
     },
     "metadata": {},
     "output_type": "display_data"
    },
    {
     "name": "stdout",
     "output_type": "stream",
     "text": [
      "/Data/hala.gamouh/cheese_classification_challenge/dataset/val/ROQUEFORT/000009.jpg\n",
      "generating images for ROQUEFORT with prompt: best quality, high quality, image of Roquefort on a plain white background, with a cheese cave background, seen from a side view\n"
     ]
    },
    {
     "data": {
      "application/vnd.jupyter.widget-view+json": {
       "model_id": "70b597cd64914e4fbfd11849ed9cd7e1",
       "version_major": 2,
       "version_minor": 0
      },
      "text/plain": [
       "  0%|          | 0/20 [00:00<?, ?it/s]"
      ]
     },
     "metadata": {},
     "output_type": "display_data"
    },
    {
     "name": "stdout",
     "output_type": "stream",
     "text": [
      "generating images for ROQUEFORT with prompt: best quality, high quality, image of Roquefort on a marble plate, with a shop background, seen from an angled shot\n"
     ]
    },
    {
     "data": {
      "application/vnd.jupyter.widget-view+json": {
       "model_id": "0831216a094341e1ab9d1dc4f85921fa",
       "version_major": 2,
       "version_minor": 0
      },
      "text/plain": [
       "  0%|          | 0/20 [00:00<?, ?it/s]"
      ]
     },
     "metadata": {},
     "output_type": "display_data"
    },
    {
     "name": "stdout",
     "output_type": "stream",
     "text": [
      "generating images for ROQUEFORT with prompt: best quality, high quality, image of Roquefort on a white plate, with a plain white background, seen from above\n"
     ]
    },
    {
     "data": {
      "application/vnd.jupyter.widget-view+json": {
       "model_id": "2df9c547f75247ab8dbc19ecf5634f90",
       "version_major": 2,
       "version_minor": 0
      },
      "text/plain": [
       "  0%|          | 0/20 [00:00<?, ?it/s]"
      ]
     },
     "metadata": {},
     "output_type": "display_data"
    },
    {
     "name": "stdout",
     "output_type": "stream",
     "text": [
      "/Data/hala.gamouh/cheese_classification_challenge/dataset/val/ROQUEFORT/000010.jpg\n",
      "generating images for ROQUEFORT with prompt: best quality, high quality, image of Roquefort on a white plate, with a plain white background, seen from above\n"
     ]
    },
    {
     "data": {
      "application/vnd.jupyter.widget-view+json": {
       "model_id": "c6d81a1efe5543aa8d10ffb3f1c00b12",
       "version_major": 2,
       "version_minor": 0
      },
      "text/plain": [
       "  0%|          | 0/20 [00:00<?, ?it/s]"
      ]
     },
     "metadata": {},
     "output_type": "display_data"
    },
    {
     "name": "stdout",
     "output_type": "stream",
     "text": [
      "generating images for ROQUEFORT with prompt: best quality, high quality, image of Roquefort on a plain white background, with a plain white background, seen from a face view\n"
     ]
    },
    {
     "data": {
      "application/vnd.jupyter.widget-view+json": {
       "model_id": "1f0e1e3befb6471c9cbbe8f36d0acc8e",
       "version_major": 2,
       "version_minor": 0
      },
      "text/plain": [
       "  0%|          | 0/20 [00:00<?, ?it/s]"
      ]
     },
     "metadata": {},
     "output_type": "display_data"
    },
    {
     "name": "stdout",
     "output_type": "stream",
     "text": [
      "generating images for ROQUEFORT with prompt: best quality, high quality, image of Roquefort on a wooden plate, with a kitchen background, seen from a side view\n"
     ]
    },
    {
     "data": {
      "application/vnd.jupyter.widget-view+json": {
       "model_id": "5477befa40f54d71b637a82f17d6347d",
       "version_major": 2,
       "version_minor": 0
      },
      "text/plain": [
       "  0%|          | 0/20 [00:00<?, ?it/s]"
      ]
     },
     "metadata": {},
     "output_type": "display_data"
    },
    {
     "name": "stdout",
     "output_type": "stream",
     "text": [
      "/Data/hala.gamouh/cheese_classification_challenge/dataset/val/ROQUEFORT/000011.jpg\n",
      "generating images for ROQUEFORT with prompt: best quality, high quality, image of Roquefort on a plain white background, with a plain white background, seen from a face view\n"
     ]
    },
    {
     "data": {
      "application/vnd.jupyter.widget-view+json": {
       "model_id": "ea5a1ff3c3d643beb9e4f2880efa5d67",
       "version_major": 2,
       "version_minor": 0
      },
      "text/plain": [
       "  0%|          | 0/20 [00:00<?, ?it/s]"
      ]
     },
     "metadata": {},
     "output_type": "display_data"
    },
    {
     "name": "stdout",
     "output_type": "stream",
     "text": [
      "generating images for ROQUEFORT with prompt: best quality, high quality, image of Roquefort on a white plate, with a cheese factory background, seen from an angled shot\n"
     ]
    },
    {
     "data": {
      "application/vnd.jupyter.widget-view+json": {
       "model_id": "b116d15df1db4e76916f5abaed250738",
       "version_major": 2,
       "version_minor": 0
      },
      "text/plain": [
       "  0%|          | 0/20 [00:00<?, ?it/s]"
      ]
     },
     "metadata": {},
     "output_type": "display_data"
    },
    {
     "name": "stdout",
     "output_type": "stream",
     "text": [
      "generating images for ROQUEFORT with prompt: best quality, high quality, image of Roquefort on a marble plate, with a shop background, seen from an angled shot\n"
     ]
    },
    {
     "data": {
      "application/vnd.jupyter.widget-view+json": {
       "model_id": "f82a72049af24db0a15fed29da71f15c",
       "version_major": 2,
       "version_minor": 0
      },
      "text/plain": [
       "  0%|          | 0/20 [00:00<?, ?it/s]"
      ]
     },
     "metadata": {},
     "output_type": "display_data"
    },
    {
     "name": "stdout",
     "output_type": "stream",
     "text": [
      "/Data/hala.gamouh/cheese_classification_challenge/dataset/val/ROQUEFORT/000012.jpg\n",
      "generating images for ROQUEFORT with prompt: best quality, high quality, image of Roquefort on a white plate, with a plain white background, seen from above\n"
     ]
    },
    {
     "data": {
      "application/vnd.jupyter.widget-view+json": {
       "model_id": "bc8d95e998564b5bb249ff9b7e36b0b7",
       "version_major": 2,
       "version_minor": 0
      },
      "text/plain": [
       "  0%|          | 0/20 [00:00<?, ?it/s]"
      ]
     },
     "metadata": {},
     "output_type": "display_data"
    },
    {
     "name": "stdout",
     "output_type": "stream",
     "text": [
      "generating images for ROQUEFORT with prompt: best quality, high quality, image of Roquefort on a wooden plate, with a kitchen background, seen from a side view\n"
     ]
    },
    {
     "data": {
      "application/vnd.jupyter.widget-view+json": {
       "model_id": "2f7474b1d13b4d4c9d6c78914be58e8e",
       "version_major": 2,
       "version_minor": 0
      },
      "text/plain": [
       "  0%|          | 0/20 [00:00<?, ?it/s]"
      ]
     },
     "metadata": {},
     "output_type": "display_data"
    },
    {
     "name": "stdout",
     "output_type": "stream",
     "text": [
      "generating images for ROQUEFORT with prompt: best quality, high quality, image of Roquefort on a white plate, with a plain white background, seen from above\n"
     ]
    },
    {
     "data": {
      "application/vnd.jupyter.widget-view+json": {
       "model_id": "feb0fea400b94fa9aea83a5b83b08827",
       "version_major": 2,
       "version_minor": 0
      },
      "text/plain": [
       "  0%|          | 0/20 [00:00<?, ?it/s]"
      ]
     },
     "metadata": {},
     "output_type": "display_data"
    },
    {
     "name": "stdout",
     "output_type": "stream",
     "text": [
      "/Data/hala.gamouh/cheese_classification_challenge/dataset/val/ROQUEFORT/000013.jpg\n",
      "generating images for ROQUEFORT with prompt: best quality, high quality, image of Roquefort on a slate board, with a cheese cave background, seen from above\n"
     ]
    },
    {
     "data": {
      "application/vnd.jupyter.widget-view+json": {
       "model_id": "eb2fe5cca4244303a85d2b7e512d7099",
       "version_major": 2,
       "version_minor": 0
      },
      "text/plain": [
       "  0%|          | 0/20 [00:00<?, ?it/s]"
      ]
     },
     "metadata": {},
     "output_type": "display_data"
    },
    {
     "name": "stdout",
     "output_type": "stream",
     "text": [
      "generating images for ROQUEFORT with prompt: best quality, high quality, image of Roquefort on a white plate, with a cheese factory background, seen from an angled shot\n"
     ]
    },
    {
     "data": {
      "application/vnd.jupyter.widget-view+json": {
       "model_id": "02fcb13e8b1844698ede5017f5cb4526",
       "version_major": 2,
       "version_minor": 0
      },
      "text/plain": [
       "  0%|          | 0/20 [00:00<?, ?it/s]"
      ]
     },
     "metadata": {},
     "output_type": "display_data"
    },
    {
     "name": "stdout",
     "output_type": "stream",
     "text": [
      "generating images for ROQUEFORT with prompt: best quality, high quality, image of Roquefort on a marble plate, with a shop background, seen from an angled shot\n"
     ]
    },
    {
     "data": {
      "application/vnd.jupyter.widget-view+json": {
       "model_id": "d335486f83524734b5925e24e2fd9488",
       "version_major": 2,
       "version_minor": 0
      },
      "text/plain": [
       "  0%|          | 0/20 [00:00<?, ?it/s]"
      ]
     },
     "metadata": {},
     "output_type": "display_data"
    },
    {
     "name": "stdout",
     "output_type": "stream",
     "text": [
      "/Data/hala.gamouh/cheese_classification_challenge/dataset/val/ROQUEFORT/000014.jpg\n",
      "generating images for ROQUEFORT with prompt: best quality, high quality, image of Roquefort on a white plate, with a plain white background, seen from above\n"
     ]
    },
    {
     "data": {
      "application/vnd.jupyter.widget-view+json": {
       "model_id": "c42c9b7180824c65a3db2bc544eee394",
       "version_major": 2,
       "version_minor": 0
      },
      "text/plain": [
       "  0%|          | 0/20 [00:00<?, ?it/s]"
      ]
     },
     "metadata": {},
     "output_type": "display_data"
    },
    {
     "name": "stdout",
     "output_type": "stream",
     "text": [
      "generating images for ROQUEFORT with prompt: best quality, high quality, image of Roquefort on a white plate, with a plain white background, seen from above\n"
     ]
    },
    {
     "data": {
      "application/vnd.jupyter.widget-view+json": {
       "model_id": "57ca9cee6dbe43cea2dc3b046c612f92",
       "version_major": 2,
       "version_minor": 0
      },
      "text/plain": [
       "  0%|          | 0/20 [00:00<?, ?it/s]"
      ]
     },
     "metadata": {},
     "output_type": "display_data"
    },
    {
     "name": "stdout",
     "output_type": "stream",
     "text": [
      "generating images for ROQUEFORT with prompt: best quality, high quality, image of Roquefort on a slate board, with a shop background, seen from above\n"
     ]
    },
    {
     "data": {
      "application/vnd.jupyter.widget-view+json": {
       "model_id": "3d42cd27ce4e497a992907e3b6cb7c12",
       "version_major": 2,
       "version_minor": 0
      },
      "text/plain": [
       "  0%|          | 0/20 [00:00<?, ?it/s]"
      ]
     },
     "metadata": {},
     "output_type": "display_data"
    },
    {
     "name": "stdout",
     "output_type": "stream",
     "text": [
      "/Data/hala.gamouh/cheese_classification_challenge/dataset/val/ROQUEFORT/000015.jpg\n",
      "generating images for ROQUEFORT with prompt: best quality, high quality, image of Roquefort on a slate board, with a cheese cave background, seen from above\n"
     ]
    },
    {
     "data": {
      "application/vnd.jupyter.widget-view+json": {
       "model_id": "7c210cc50ddc437fa748f9f76e0eb0da",
       "version_major": 2,
       "version_minor": 0
      },
      "text/plain": [
       "  0%|          | 0/20 [00:00<?, ?it/s]"
      ]
     },
     "metadata": {},
     "output_type": "display_data"
    },
    {
     "name": "stdout",
     "output_type": "stream",
     "text": [
      "generating images for ROQUEFORT with prompt: best quality, high quality, image of Roquefort on a marble plate, with a kitchen background, seen from a side view\n"
     ]
    },
    {
     "data": {
      "application/vnd.jupyter.widget-view+json": {
       "model_id": "5ca5dbf9603f4ddcaeed062251aca711",
       "version_major": 2,
       "version_minor": 0
      },
      "text/plain": [
       "  0%|          | 0/20 [00:00<?, ?it/s]"
      ]
     },
     "metadata": {},
     "output_type": "display_data"
    },
    {
     "name": "stdout",
     "output_type": "stream",
     "text": [
      "generating images for ROQUEFORT with prompt: best quality, high quality, image of Roquefort on a plain white background, with a cheese cave background, seen from a side view\n"
     ]
    },
    {
     "data": {
      "application/vnd.jupyter.widget-view+json": {
       "model_id": "9b31ab372786452ca4f0c82e95bc798b",
       "version_major": 2,
       "version_minor": 0
      },
      "text/plain": [
       "  0%|          | 0/20 [00:00<?, ?it/s]"
      ]
     },
     "metadata": {},
     "output_type": "display_data"
    },
    {
     "name": "stdout",
     "output_type": "stream",
     "text": [
      "/Data/hala.gamouh/cheese_classification_challenge/dataset/val/ROQUEFORT/000016.jpg\n",
      "generating images for ROQUEFORT with prompt: best quality, high quality, image of Roquefort on a white plate, with a cheese factory background, seen from an angled shot\n"
     ]
    },
    {
     "data": {
      "application/vnd.jupyter.widget-view+json": {
       "model_id": "20b6855b66dc49019a18e43b69c8293d",
       "version_major": 2,
       "version_minor": 0
      },
      "text/plain": [
       "  0%|          | 0/20 [00:00<?, ?it/s]"
      ]
     },
     "metadata": {},
     "output_type": "display_data"
    },
    {
     "name": "stdout",
     "output_type": "stream",
     "text": [
      "generating images for ROQUEFORT with prompt: best quality, high quality, image of Roquefort on a marble plate, with a kitchen background, seen from a side view\n"
     ]
    },
    {
     "data": {
      "application/vnd.jupyter.widget-view+json": {
       "model_id": "658b641af21d4445916cba5d1d942671",
       "version_major": 2,
       "version_minor": 0
      },
      "text/plain": [
       "  0%|          | 0/20 [00:00<?, ?it/s]"
      ]
     },
     "metadata": {},
     "output_type": "display_data"
    },
    {
     "name": "stdout",
     "output_type": "stream",
     "text": [
      "generating images for ROQUEFORT with prompt: best quality, high quality, in its packaging\n"
     ]
    },
    {
     "data": {
      "application/vnd.jupyter.widget-view+json": {
       "model_id": "94ee452947af45879d5ed0e79aef287e",
       "version_major": 2,
       "version_minor": 0
      },
      "text/plain": [
       "  0%|          | 0/20 [00:00<?, ?it/s]"
      ]
     },
     "metadata": {},
     "output_type": "display_data"
    },
    {
     "name": "stdout",
     "output_type": "stream",
     "text": [
      "/Data/hala.gamouh/cheese_classification_challenge/dataset/val/ROQUEFORT/000017.jpg\n",
      "generating images for ROQUEFORT with prompt: best quality, high quality, in its packaging\n"
     ]
    },
    {
     "data": {
      "application/vnd.jupyter.widget-view+json": {
       "model_id": "21968206bae8414e9c65a634ea3d6fd2",
       "version_major": 2,
       "version_minor": 0
      },
      "text/plain": [
       "  0%|          | 0/20 [00:00<?, ?it/s]"
      ]
     },
     "metadata": {},
     "output_type": "display_data"
    },
    {
     "name": "stdout",
     "output_type": "stream",
     "text": [
      "generating images for ROQUEFORT with prompt: best quality, high quality, image of Roquefort on a slate board, with a cheese cave background, seen from above\n"
     ]
    },
    {
     "data": {
      "application/vnd.jupyter.widget-view+json": {
       "model_id": "ea8c3492bef84e57b9d6a1733616e933",
       "version_major": 2,
       "version_minor": 0
      },
      "text/plain": [
       "  0%|          | 0/20 [00:00<?, ?it/s]"
      ]
     },
     "metadata": {},
     "output_type": "display_data"
    },
    {
     "name": "stdout",
     "output_type": "stream",
     "text": [
      "generating images for ROQUEFORT with prompt: best quality, high quality, image of Roquefort on a marble plate, with a shop background, seen from an angled shot\n"
     ]
    },
    {
     "data": {
      "application/vnd.jupyter.widget-view+json": {
       "model_id": "176b7e783b7c40d19c8f4bf39e053eed",
       "version_major": 2,
       "version_minor": 0
      },
      "text/plain": [
       "  0%|          | 0/20 [00:00<?, ?it/s]"
      ]
     },
     "metadata": {},
     "output_type": "display_data"
    },
    {
     "name": "stdout",
     "output_type": "stream",
     "text": [
      "/Data/hala.gamouh/cheese_classification_challenge/dataset/val/ROQUEFORT/000018.jpg\n",
      "generating images for ROQUEFORT with prompt: best quality, high quality, image of Roquefort on a white plate, with a plain white background, seen from above\n"
     ]
    },
    {
     "data": {
      "application/vnd.jupyter.widget-view+json": {
       "model_id": "9dce41e2374a4977ae16771bf0412e24",
       "version_major": 2,
       "version_minor": 0
      },
      "text/plain": [
       "  0%|          | 0/20 [00:00<?, ?it/s]"
      ]
     },
     "metadata": {},
     "output_type": "display_data"
    },
    {
     "name": "stdout",
     "output_type": "stream",
     "text": [
      "generating images for ROQUEFORT with prompt: best quality, high quality, image of Roquefort on a marble plate, with a kitchen background, seen from a side view\n"
     ]
    },
    {
     "data": {
      "application/vnd.jupyter.widget-view+json": {
       "model_id": "e123b68493c24f46a404a9ea2a5f1026",
       "version_major": 2,
       "version_minor": 0
      },
      "text/plain": [
       "  0%|          | 0/20 [00:00<?, ?it/s]"
      ]
     },
     "metadata": {},
     "output_type": "display_data"
    },
    {
     "name": "stdout",
     "output_type": "stream",
     "text": [
      "generating images for ROQUEFORT with prompt: best quality, high quality, image of Roquefort on a white plate, with a cheese factory background, seen from an angled shot\n"
     ]
    },
    {
     "data": {
      "application/vnd.jupyter.widget-view+json": {
       "model_id": "ea9837f67cc847f0a3ebbd0a9d0c860f",
       "version_major": 2,
       "version_minor": 0
      },
      "text/plain": [
       "  0%|          | 0/20 [00:00<?, ?it/s]"
      ]
     },
     "metadata": {},
     "output_type": "display_data"
    },
    {
     "name": "stdout",
     "output_type": "stream",
     "text": [
      "/Data/hala.gamouh/cheese_classification_challenge/dataset/val/ROQUEFORT/000019.jpg\n",
      "generating images for ROQUEFORT with prompt: best quality, high quality, in its packaging\n"
     ]
    },
    {
     "data": {
      "application/vnd.jupyter.widget-view+json": {
       "model_id": "40ae720b84b34551a3b2eaed1ec683cb",
       "version_major": 2,
       "version_minor": 0
      },
      "text/plain": [
       "  0%|          | 0/20 [00:00<?, ?it/s]"
      ]
     },
     "metadata": {},
     "output_type": "display_data"
    },
    {
     "name": "stdout",
     "output_type": "stream",
     "text": [
      "generating images for ROQUEFORT with prompt: best quality, high quality, image of Roquefort on a wooden plate, with a kitchen background, seen from a side view\n"
     ]
    },
    {
     "data": {
      "application/vnd.jupyter.widget-view+json": {
       "model_id": "4d57f60b65674a638f4a8cd69b2d351b",
       "version_major": 2,
       "version_minor": 0
      },
      "text/plain": [
       "  0%|          | 0/20 [00:00<?, ?it/s]"
      ]
     },
     "metadata": {},
     "output_type": "display_data"
    },
    {
     "name": "stdout",
     "output_type": "stream",
     "text": [
      "generating images for ROQUEFORT with prompt: best quality, high quality, image of Roquefort on a plain white background, with a cheese cave background, seen from a side view\n"
     ]
    },
    {
     "data": {
      "application/vnd.jupyter.widget-view+json": {
       "model_id": "cbb8cce9cc6146909c1e7b2445bc320d",
       "version_major": 2,
       "version_minor": 0
      },
      "text/plain": [
       "  0%|          | 0/20 [00:00<?, ?it/s]"
      ]
     },
     "metadata": {},
     "output_type": "display_data"
    },
    {
     "name": "stdout",
     "output_type": "stream",
     "text": [
      "/Data/hala.gamouh/cheese_classification_challenge/dataset/val/ROQUEFORT/000020.jpg\n",
      "generating images for ROQUEFORT with prompt: best quality, high quality, image of Roquefort on a plain white background, with a plain white background, seen from a face view\n"
     ]
    },
    {
     "data": {
      "application/vnd.jupyter.widget-view+json": {
       "model_id": "ffa9f81b70f245419919f8f5b1eb0b2f",
       "version_major": 2,
       "version_minor": 0
      },
      "text/plain": [
       "  0%|          | 0/20 [00:00<?, ?it/s]"
      ]
     },
     "metadata": {},
     "output_type": "display_data"
    },
    {
     "name": "stdout",
     "output_type": "stream",
     "text": [
      "generating images for ROQUEFORT with prompt: best quality, high quality, image of Roquefort on a marble plate, with a shop background, seen from an angled shot\n"
     ]
    },
    {
     "data": {
      "application/vnd.jupyter.widget-view+json": {
       "model_id": "ab01b0329b3d4facbf778eeecd5a805b",
       "version_major": 2,
       "version_minor": 0
      },
      "text/plain": [
       "  0%|          | 0/20 [00:00<?, ?it/s]"
      ]
     },
     "metadata": {},
     "output_type": "display_data"
    },
    {
     "name": "stdout",
     "output_type": "stream",
     "text": [
      "generating images for ROQUEFORT with prompt: best quality, high quality, image of Roquefort on a marble plate, with a shop background, seen from an angled shot\n"
     ]
    },
    {
     "data": {
      "application/vnd.jupyter.widget-view+json": {
       "model_id": "900d6a554e7e4d6b826638efaaaaf397",
       "version_major": 2,
       "version_minor": 0
      },
      "text/plain": [
       "  0%|          | 0/20 [00:00<?, ?it/s]"
      ]
     },
     "metadata": {},
     "output_type": "display_data"
    },
    {
     "name": "stdout",
     "output_type": "stream",
     "text": [
      "/Data/hala.gamouh/cheese_classification_challenge/dataset/val/ROQUEFORT/000021.jpg\n",
      "generating images for ROQUEFORT with prompt: best quality, high quality, image of Roquefort on a plain white background, with a cheese cave background, seen from a side view\n"
     ]
    },
    {
     "data": {
      "application/vnd.jupyter.widget-view+json": {
       "model_id": "5647bd44b426425cbae30fa156b393d8",
       "version_major": 2,
       "version_minor": 0
      },
      "text/plain": [
       "  0%|          | 0/20 [00:00<?, ?it/s]"
      ]
     },
     "metadata": {},
     "output_type": "display_data"
    },
    {
     "name": "stdout",
     "output_type": "stream",
     "text": [
      "generating images for ROQUEFORT with prompt: best quality, high quality, image of Roquefort on a wooden plate, with a plain white background, seen from above\n"
     ]
    },
    {
     "data": {
      "application/vnd.jupyter.widget-view+json": {
       "model_id": "40e0b2f545ea4bc99f48c69c9714ed8d",
       "version_major": 2,
       "version_minor": 0
      },
      "text/plain": [
       "  0%|          | 0/20 [00:00<?, ?it/s]"
      ]
     },
     "metadata": {},
     "output_type": "display_data"
    },
    {
     "name": "stdout",
     "output_type": "stream",
     "text": [
      "generating images for ROQUEFORT with prompt: best quality, high quality, image of Roquefort on a plain white background, with a cheese cave background, seen from a side view\n"
     ]
    },
    {
     "data": {
      "application/vnd.jupyter.widget-view+json": {
       "model_id": "4142e050bcb84120ba93a07f11561f63",
       "version_major": 2,
       "version_minor": 0
      },
      "text/plain": [
       "  0%|          | 0/20 [00:00<?, ?it/s]"
      ]
     },
     "metadata": {},
     "output_type": "display_data"
    },
    {
     "name": "stdout",
     "output_type": "stream",
     "text": [
      "/Data/hala.gamouh/cheese_classification_challenge/dataset/val/ROQUEFORT/000022.jpg\n",
      "generating images for ROQUEFORT with prompt: best quality, high quality, image of Roquefort on a white plate, with a cheese factory background, seen from an angled shot\n"
     ]
    },
    {
     "data": {
      "application/vnd.jupyter.widget-view+json": {
       "model_id": "8d295aa9592f46568b6af10a65b1173c",
       "version_major": 2,
       "version_minor": 0
      },
      "text/plain": [
       "  0%|          | 0/20 [00:00<?, ?it/s]"
      ]
     },
     "metadata": {},
     "output_type": "display_data"
    },
    {
     "name": "stdout",
     "output_type": "stream",
     "text": [
      "generating images for ROQUEFORT with prompt: best quality, high quality, image of Roquefort on a white plate, with a plain white background, seen from above\n"
     ]
    },
    {
     "data": {
      "application/vnd.jupyter.widget-view+json": {
       "model_id": "77c8681502864cb99eff00e051469d95",
       "version_major": 2,
       "version_minor": 0
      },
      "text/plain": [
       "  0%|          | 0/20 [00:00<?, ?it/s]"
      ]
     },
     "metadata": {},
     "output_type": "display_data"
    },
    {
     "name": "stdout",
     "output_type": "stream",
     "text": [
      "generating images for ROQUEFORT with prompt: best quality, high quality, image of Roquefort on a marble plate, with a shop background, seen from an angled shot\n"
     ]
    },
    {
     "data": {
      "application/vnd.jupyter.widget-view+json": {
       "model_id": "863024d0877f43be94c66b791e000fb1",
       "version_major": 2,
       "version_minor": 0
      },
      "text/plain": [
       "  0%|          | 0/20 [00:00<?, ?it/s]"
      ]
     },
     "metadata": {},
     "output_type": "display_data"
    },
    {
     "name": "stdout",
     "output_type": "stream",
     "text": [
      "/Data/hala.gamouh/cheese_classification_challenge/dataset/val/ROQUEFORT/000023.jpg\n",
      "generating images for ROQUEFORT with prompt: best quality, high quality, image of Roquefort on a white plate, with a cheese factory background, seen from an angled shot\n"
     ]
    },
    {
     "data": {
      "application/vnd.jupyter.widget-view+json": {
       "model_id": "c30c407245bc4ec4bc44122dd172495a",
       "version_major": 2,
       "version_minor": 0
      },
      "text/plain": [
       "  0%|          | 0/20 [00:00<?, ?it/s]"
      ]
     },
     "metadata": {},
     "output_type": "display_data"
    },
    {
     "name": "stdout",
     "output_type": "stream",
     "text": [
      "generating images for ROQUEFORT with prompt: best quality, high quality, image of Roquefort on a plain white background, with a cheese cave background, seen from a side view\n"
     ]
    },
    {
     "data": {
      "application/vnd.jupyter.widget-view+json": {
       "model_id": "6be9355976514d8f9003f17080523cda",
       "version_major": 2,
       "version_minor": 0
      },
      "text/plain": [
       "  0%|          | 0/20 [00:00<?, ?it/s]"
      ]
     },
     "metadata": {},
     "output_type": "display_data"
    },
    {
     "name": "stdout",
     "output_type": "stream",
     "text": [
      "generating images for ROQUEFORT with prompt: best quality, high quality, image of Roquefort on a plain white background, with a plain white background, seen from a face view\n"
     ]
    },
    {
     "data": {
      "application/vnd.jupyter.widget-view+json": {
       "model_id": "d6bcbf39bfbc46d992eaf8fab0bb9abf",
       "version_major": 2,
       "version_minor": 0
      },
      "text/plain": [
       "  0%|          | 0/20 [00:00<?, ?it/s]"
      ]
     },
     "metadata": {},
     "output_type": "display_data"
    },
    {
     "name": "stdout",
     "output_type": "stream",
     "text": [
      "/Data/hala.gamouh/cheese_classification_challenge/dataset/val/ROQUEFORT/000024.jpg\n",
      "generating images for ROQUEFORT with prompt: best quality, high quality, image of Roquefort on a slate board, with a shop background, seen from above\n"
     ]
    },
    {
     "data": {
      "application/vnd.jupyter.widget-view+json": {
       "model_id": "884eb2dbe8ef45ed932dc664f379104e",
       "version_major": 2,
       "version_minor": 0
      },
      "text/plain": [
       "  0%|          | 0/20 [00:00<?, ?it/s]"
      ]
     },
     "metadata": {},
     "output_type": "display_data"
    },
    {
     "name": "stdout",
     "output_type": "stream",
     "text": [
      "generating images for ROQUEFORT with prompt: best quality, high quality, image of Roquefort on a wooden plate, with a kitchen background, seen from a side view\n"
     ]
    },
    {
     "data": {
      "application/vnd.jupyter.widget-view+json": {
       "model_id": "a930cab62ee547598837ed21ed5d5785",
       "version_major": 2,
       "version_minor": 0
      },
      "text/plain": [
       "  0%|          | 0/20 [00:00<?, ?it/s]"
      ]
     },
     "metadata": {},
     "output_type": "display_data"
    },
    {
     "name": "stdout",
     "output_type": "stream",
     "text": [
      "generating images for ROQUEFORT with prompt: best quality, high quality, image of Roquefort on a wooden plate, with a kitchen background, seen from a side view\n"
     ]
    },
    {
     "data": {
      "application/vnd.jupyter.widget-view+json": {
       "model_id": "f04b4e8a8f7c4e12b9a8ab9ee7c8b8b1",
       "version_major": 2,
       "version_minor": 0
      },
      "text/plain": [
       "  0%|          | 0/20 [00:00<?, ?it/s]"
      ]
     },
     "metadata": {},
     "output_type": "display_data"
    },
    {
     "name": "stdout",
     "output_type": "stream",
     "text": [
      "/Data/hala.gamouh/cheese_classification_challenge/dataset/val/ROQUEFORT/000000.jpg\n",
      "generating images for ROQUEFORT with prompt: best quality, high quality, image of Roquefort on a slate board, with a shop background, seen from above\n"
     ]
    },
    {
     "data": {
      "application/vnd.jupyter.widget-view+json": {
       "model_id": "4694d7a2831440859617390a02d3cba1",
       "version_major": 2,
       "version_minor": 0
      },
      "text/plain": [
       "  0%|          | 0/20 [00:00<?, ?it/s]"
      ]
     },
     "metadata": {},
     "output_type": "display_data"
    },
    {
     "name": "stdout",
     "output_type": "stream",
     "text": [
      "generating images for ROQUEFORT with prompt: best quality, high quality, image of Roquefort on a marble plate, with a kitchen background, seen from a side view\n"
     ]
    },
    {
     "data": {
      "application/vnd.jupyter.widget-view+json": {
       "model_id": "1ba950239b504e3b8f2e00559f11e482",
       "version_major": 2,
       "version_minor": 0
      },
      "text/plain": [
       "  0%|          | 0/20 [00:00<?, ?it/s]"
      ]
     },
     "metadata": {},
     "output_type": "display_data"
    },
    {
     "name": "stdout",
     "output_type": "stream",
     "text": [
      "generating images for ROQUEFORT with prompt: best quality, high quality, image of Roquefort on a slate board, with a shop background, seen from above\n"
     ]
    },
    {
     "data": {
      "application/vnd.jupyter.widget-view+json": {
       "model_id": "3651d2f2fa3143bd82238f632ef66b24",
       "version_major": 2,
       "version_minor": 0
      },
      "text/plain": [
       "  0%|          | 0/20 [00:00<?, ?it/s]"
      ]
     },
     "metadata": {},
     "output_type": "display_data"
    },
    {
     "name": "stdout",
     "output_type": "stream",
     "text": [
      "/Data/hala.gamouh/cheese_classification_challenge/dataset/val/ROQUEFORT/000001.jpg\n",
      "generating images for ROQUEFORT with prompt: best quality, high quality, image of Roquefort on a slate board, with a cheese cave background, seen from above\n"
     ]
    },
    {
     "data": {
      "application/vnd.jupyter.widget-view+json": {
       "model_id": "11950b22a726496c978006723d324cf4",
       "version_major": 2,
       "version_minor": 0
      },
      "text/plain": [
       "  0%|          | 0/20 [00:00<?, ?it/s]"
      ]
     },
     "metadata": {},
     "output_type": "display_data"
    },
    {
     "name": "stdout",
     "output_type": "stream",
     "text": [
      "generating images for ROQUEFORT with prompt: best quality, high quality, image of Roquefort on a plain white background, with a plain white background, seen from a face view\n"
     ]
    },
    {
     "data": {
      "application/vnd.jupyter.widget-view+json": {
       "model_id": "9932009c03eb4cb68cd03fb71202145f",
       "version_major": 2,
       "version_minor": 0
      },
      "text/plain": [
       "  0%|          | 0/20 [00:00<?, ?it/s]"
      ]
     },
     "metadata": {},
     "output_type": "display_data"
    },
    {
     "name": "stdout",
     "output_type": "stream",
     "text": [
      "generating images for ROQUEFORT with prompt: best quality, high quality, image of Roquefort on a slate board, with a shop background, seen from above\n"
     ]
    },
    {
     "data": {
      "application/vnd.jupyter.widget-view+json": {
       "model_id": "1990cb20c8d5499b97f99c323f44c9f5",
       "version_major": 2,
       "version_minor": 0
      },
      "text/plain": [
       "  0%|          | 0/20 [00:00<?, ?it/s]"
      ]
     },
     "metadata": {},
     "output_type": "display_data"
    },
    {
     "name": "stdout",
     "output_type": "stream",
     "text": [
      "/Data/hala.gamouh/cheese_classification_challenge/dataset/val/ROQUEFORT/000002.jpg\n",
      "generating images for ROQUEFORT with prompt: best quality, high quality, image of Roquefort on a white plate, with a plain white background, seen from above\n"
     ]
    },
    {
     "data": {
      "application/vnd.jupyter.widget-view+json": {
       "model_id": "98660bc03a8d434a91eda8a91bc64bd0",
       "version_major": 2,
       "version_minor": 0
      },
      "text/plain": [
       "  0%|          | 0/20 [00:00<?, ?it/s]"
      ]
     },
     "metadata": {},
     "output_type": "display_data"
    },
    {
     "name": "stdout",
     "output_type": "stream",
     "text": [
      "generating images for ROQUEFORT with prompt: best quality, high quality, image of Roquefort on a wooden plate, with a plain white background, seen from above\n"
     ]
    },
    {
     "data": {
      "application/vnd.jupyter.widget-view+json": {
       "model_id": "71702c1cbb55453cb002b1115be81f39",
       "version_major": 2,
       "version_minor": 0
      },
      "text/plain": [
       "  0%|          | 0/20 [00:00<?, ?it/s]"
      ]
     },
     "metadata": {},
     "output_type": "display_data"
    },
    {
     "name": "stdout",
     "output_type": "stream",
     "text": [
      "generating images for ROQUEFORT with prompt: best quality, high quality, image of Roquefort on a plain white background, with a cheese cave background, seen from a side view\n"
     ]
    },
    {
     "data": {
      "application/vnd.jupyter.widget-view+json": {
       "model_id": "16b1d51b885f49e180a4a367961fa7cc",
       "version_major": 2,
       "version_minor": 0
      },
      "text/plain": [
       "  0%|          | 0/20 [00:00<?, ?it/s]"
      ]
     },
     "metadata": {},
     "output_type": "display_data"
    },
    {
     "name": "stdout",
     "output_type": "stream",
     "text": [
      "/Data/hala.gamouh/cheese_classification_challenge/dataset/val/ROQUEFORT/000003.jpg\n",
      "generating images for ROQUEFORT with prompt: best quality, high quality, image of Roquefort on a slate board, with a cheese cave background, seen from above\n"
     ]
    },
    {
     "data": {
      "application/vnd.jupyter.widget-view+json": {
       "model_id": "ac48952c7c954b9895f002cae013088c",
       "version_major": 2,
       "version_minor": 0
      },
      "text/plain": [
       "  0%|          | 0/20 [00:00<?, ?it/s]"
      ]
     },
     "metadata": {},
     "output_type": "display_data"
    },
    {
     "name": "stdout",
     "output_type": "stream",
     "text": [
      "generating images for ROQUEFORT with prompt: best quality, high quality, image of Roquefort on a plain white background, with a plain white background, seen from a face view\n"
     ]
    },
    {
     "data": {
      "application/vnd.jupyter.widget-view+json": {
       "model_id": "ee0378883a614b34b2ce9d926e5bb382",
       "version_major": 2,
       "version_minor": 0
      },
      "text/plain": [
       "  0%|          | 0/20 [00:00<?, ?it/s]"
      ]
     },
     "metadata": {},
     "output_type": "display_data"
    },
    {
     "name": "stdout",
     "output_type": "stream",
     "text": [
      "generating images for ROQUEFORT with prompt: best quality, high quality, image of Roquefort on a plain white background, with a plain white background, seen from a face view\n"
     ]
    },
    {
     "data": {
      "application/vnd.jupyter.widget-view+json": {
       "model_id": "716ac2c471e04096a81a799d5667daf0",
       "version_major": 2,
       "version_minor": 0
      },
      "text/plain": [
       "  0%|          | 0/20 [00:00<?, ?it/s]"
      ]
     },
     "metadata": {},
     "output_type": "display_data"
    },
    {
     "name": "stdout",
     "output_type": "stream",
     "text": [
      "/Data/hala.gamouh/cheese_classification_challenge/dataset/val/ROQUEFORT/000004.jpg\n",
      "generating images for ROQUEFORT with prompt: best quality, high quality, image of Roquefort on a wooden plate, with a plain white background, seen from above\n"
     ]
    },
    {
     "data": {
      "application/vnd.jupyter.widget-view+json": {
       "model_id": "ca466976ac514730b2c230c9ab1f90da",
       "version_major": 2,
       "version_minor": 0
      },
      "text/plain": [
       "  0%|          | 0/20 [00:00<?, ?it/s]"
      ]
     },
     "metadata": {},
     "output_type": "display_data"
    },
    {
     "name": "stdout",
     "output_type": "stream",
     "text": [
      "generating images for ROQUEFORT with prompt: best quality, high quality, image of Roquefort on a marble plate, with a kitchen background, seen from a side view\n"
     ]
    },
    {
     "data": {
      "application/vnd.jupyter.widget-view+json": {
       "model_id": "46a5017791e1438d87e283e684db51ca",
       "version_major": 2,
       "version_minor": 0
      },
      "text/plain": [
       "  0%|          | 0/20 [00:00<?, ?it/s]"
      ]
     },
     "metadata": {},
     "output_type": "display_data"
    },
    {
     "name": "stdout",
     "output_type": "stream",
     "text": [
      "generating images for ROQUEFORT with prompt: best quality, high quality, in its packaging\n"
     ]
    },
    {
     "data": {
      "application/vnd.jupyter.widget-view+json": {
       "model_id": "7db3d89d2a884d91a37881b7f601631f",
       "version_major": 2,
       "version_minor": 0
      },
      "text/plain": [
       "  0%|          | 0/20 [00:00<?, ?it/s]"
      ]
     },
     "metadata": {},
     "output_type": "display_data"
    },
    {
     "name": "stdout",
     "output_type": "stream",
     "text": [
      "/Data/hala.gamouh/cheese_classification_challenge/dataset/val/ROQUEFORT/000005.jpg\n",
      "generating images for ROQUEFORT with prompt: best quality, high quality, image of Roquefort on a plain white background, with a plain white background, seen from a face view\n"
     ]
    },
    {
     "data": {
      "application/vnd.jupyter.widget-view+json": {
       "model_id": "4c0069c26f0e4b8ab6889fedee6b3be6",
       "version_major": 2,
       "version_minor": 0
      },
      "text/plain": [
       "  0%|          | 0/20 [00:00<?, ?it/s]"
      ]
     },
     "metadata": {},
     "output_type": "display_data"
    },
    {
     "name": "stdout",
     "output_type": "stream",
     "text": [
      "generating images for ROQUEFORT with prompt: best quality, high quality, image of Roquefort on a white plate, with a plain white background, seen from above\n"
     ]
    },
    {
     "data": {
      "application/vnd.jupyter.widget-view+json": {
       "model_id": "26f33b7a2dee44208e7c2aef07f8e455",
       "version_major": 2,
       "version_minor": 0
      },
      "text/plain": [
       "  0%|          | 0/20 [00:00<?, ?it/s]"
      ]
     },
     "metadata": {},
     "output_type": "display_data"
    },
    {
     "name": "stdout",
     "output_type": "stream",
     "text": [
      "generating images for ROQUEFORT with prompt: best quality, high quality, image of Roquefort on a plain white background, with a cheese cave background, seen from a side view\n"
     ]
    },
    {
     "data": {
      "application/vnd.jupyter.widget-view+json": {
       "model_id": "645ba1d11663478eb1cc00c713dbb059",
       "version_major": 2,
       "version_minor": 0
      },
      "text/plain": [
       "  0%|          | 0/20 [00:00<?, ?it/s]"
      ]
     },
     "metadata": {},
     "output_type": "display_data"
    },
    {
     "name": "stdout",
     "output_type": "stream",
     "text": [
      "/Data/hala.gamouh/cheese_classification_challenge/dataset/val/ROQUEFORT/000006.jpg\n",
      "generating images for ROQUEFORT with prompt: best quality, high quality, image of Roquefort on a plain white background, with a cheese cave background, seen from a side view\n"
     ]
    },
    {
     "data": {
      "application/vnd.jupyter.widget-view+json": {
       "model_id": "3465e3d2e2304920a297673dd2eb312a",
       "version_major": 2,
       "version_minor": 0
      },
      "text/plain": [
       "  0%|          | 0/20 [00:00<?, ?it/s]"
      ]
     },
     "metadata": {},
     "output_type": "display_data"
    },
    {
     "name": "stdout",
     "output_type": "stream",
     "text": [
      "generating images for ROQUEFORT with prompt: best quality, high quality, image of Roquefort on a marble plate, with a shop background, seen from an angled shot\n"
     ]
    },
    {
     "data": {
      "application/vnd.jupyter.widget-view+json": {
       "model_id": "df21859fdd85433cbf5034b2cb3abade",
       "version_major": 2,
       "version_minor": 0
      },
      "text/plain": [
       "  0%|          | 0/20 [00:00<?, ?it/s]"
      ]
     },
     "metadata": {},
     "output_type": "display_data"
    },
    {
     "name": "stdout",
     "output_type": "stream",
     "text": [
      "generating images for ROQUEFORT with prompt: best quality, high quality, image of Roquefort on a marble plate, with a kitchen background, seen from a side view\n"
     ]
    },
    {
     "data": {
      "application/vnd.jupyter.widget-view+json": {
       "model_id": "1e4286ae20fc4d9b8c82bac2e8e03fa0",
       "version_major": 2,
       "version_minor": 0
      },
      "text/plain": [
       "  0%|          | 0/20 [00:00<?, ?it/s]"
      ]
     },
     "metadata": {},
     "output_type": "display_data"
    },
    {
     "name": "stdout",
     "output_type": "stream",
     "text": [
      "/Data/hala.gamouh/cheese_classification_challenge/dataset/val/ROQUEFORT/000007.jpg\n",
      "generating images for ROQUEFORT with prompt: best quality, high quality, image of Roquefort on a marble plate, with a kitchen background, seen from a side view\n"
     ]
    },
    {
     "data": {
      "application/vnd.jupyter.widget-view+json": {
       "model_id": "19ec96b26d1d4bc48a3af0a9a663b825",
       "version_major": 2,
       "version_minor": 0
      },
      "text/plain": [
       "  0%|          | 0/20 [00:00<?, ?it/s]"
      ]
     },
     "metadata": {},
     "output_type": "display_data"
    },
    {
     "name": "stdout",
     "output_type": "stream",
     "text": [
      "generating images for ROQUEFORT with prompt: best quality, high quality, image of Roquefort on a plain white background, with a plain white background, seen from a face view\n"
     ]
    },
    {
     "data": {
      "application/vnd.jupyter.widget-view+json": {
       "model_id": "17b8f58b159b47128ee302a49fab0163",
       "version_major": 2,
       "version_minor": 0
      },
      "text/plain": [
       "  0%|          | 0/20 [00:00<?, ?it/s]"
      ]
     },
     "metadata": {},
     "output_type": "display_data"
    },
    {
     "name": "stdout",
     "output_type": "stream",
     "text": [
      "generating images for ROQUEFORT with prompt: best quality, high quality, image of Roquefort on a wooden plate, with a plain white background, seen from above\n"
     ]
    },
    {
     "data": {
      "application/vnd.jupyter.widget-view+json": {
       "model_id": "64f48eb379dd4c41a64f824814f36059",
       "version_major": 2,
       "version_minor": 0
      },
      "text/plain": [
       "  0%|          | 0/20 [00:00<?, ?it/s]"
      ]
     },
     "metadata": {},
     "output_type": "display_data"
    },
    {
     "name": "stdout",
     "output_type": "stream",
     "text": [
      "/Data/hala.gamouh/cheese_classification_challenge/dataset/val/ROQUEFORT/000008.jpg\n",
      "generating images for ROQUEFORT with prompt: best quality, high quality, in its packaging\n"
     ]
    },
    {
     "data": {
      "application/vnd.jupyter.widget-view+json": {
       "model_id": "fb5da574274244daba77a8fd705ea18e",
       "version_major": 2,
       "version_minor": 0
      },
      "text/plain": [
       "  0%|          | 0/20 [00:00<?, ?it/s]"
      ]
     },
     "metadata": {},
     "output_type": "display_data"
    },
    {
     "name": "stdout",
     "output_type": "stream",
     "text": [
      "generating images for ROQUEFORT with prompt: best quality, high quality, image of Roquefort on a wooden plate, with a kitchen background, seen from a side view\n"
     ]
    },
    {
     "data": {
      "application/vnd.jupyter.widget-view+json": {
       "model_id": "4cb9feb866c847ffb744dab2f653bca1",
       "version_major": 2,
       "version_minor": 0
      },
      "text/plain": [
       "  0%|          | 0/20 [00:00<?, ?it/s]"
      ]
     },
     "metadata": {},
     "output_type": "display_data"
    },
    {
     "name": "stdout",
     "output_type": "stream",
     "text": [
      "generating images for ROQUEFORT with prompt: best quality, high quality, image of Roquefort on a slate board, with a shop background, seen from above\n"
     ]
    },
    {
     "data": {
      "application/vnd.jupyter.widget-view+json": {
       "model_id": "bfd0144d90344b0fa6fe0d136eb5ce9f",
       "version_major": 2,
       "version_minor": 0
      },
      "text/plain": [
       "  0%|          | 0/20 [00:00<?, ?it/s]"
      ]
     },
     "metadata": {},
     "output_type": "display_data"
    },
    {
     "name": "stdout",
     "output_type": "stream",
     "text": [
      "/Data/hala.gamouh/cheese_classification_challenge/dataset/val/ROQUEFORT/000009.jpg\n",
      "generating images for ROQUEFORT with prompt: best quality, high quality, image of Roquefort on a marble plate, with a shop background, seen from an angled shot\n"
     ]
    },
    {
     "data": {
      "application/vnd.jupyter.widget-view+json": {
       "model_id": "53e7f2a212194d0497d5aed6681d99e2",
       "version_major": 2,
       "version_minor": 0
      },
      "text/plain": [
       "  0%|          | 0/20 [00:00<?, ?it/s]"
      ]
     },
     "metadata": {},
     "output_type": "display_data"
    },
    {
     "name": "stdout",
     "output_type": "stream",
     "text": [
      "generating images for ROQUEFORT with prompt: best quality, high quality, image of Roquefort on a slate board, with a cheese cave background, seen from above\n"
     ]
    },
    {
     "data": {
      "application/vnd.jupyter.widget-view+json": {
       "model_id": "808ea6dd9df34a36be35f1f624ac2928",
       "version_major": 2,
       "version_minor": 0
      },
      "text/plain": [
       "  0%|          | 0/20 [00:00<?, ?it/s]"
      ]
     },
     "metadata": {},
     "output_type": "display_data"
    },
    {
     "name": "stdout",
     "output_type": "stream",
     "text": [
      "generating images for ROQUEFORT with prompt: best quality, high quality, in its packaging\n"
     ]
    },
    {
     "data": {
      "application/vnd.jupyter.widget-view+json": {
       "model_id": "083e64db46c0463fb537d027034591cf",
       "version_major": 2,
       "version_minor": 0
      },
      "text/plain": [
       "  0%|          | 0/20 [00:00<?, ?it/s]"
      ]
     },
     "metadata": {},
     "output_type": "display_data"
    },
    {
     "name": "stdout",
     "output_type": "stream",
     "text": [
      "/Data/hala.gamouh/cheese_classification_challenge/dataset/val/ROQUEFORT/000010.jpg\n",
      "generating images for ROQUEFORT with prompt: best quality, high quality, image of Roquefort on a plain white background, with a cheese cave background, seen from a side view\n"
     ]
    },
    {
     "data": {
      "application/vnd.jupyter.widget-view+json": {
       "model_id": "eb1ba29d863d4196b49a03a372634507",
       "version_major": 2,
       "version_minor": 0
      },
      "text/plain": [
       "  0%|          | 0/20 [00:00<?, ?it/s]"
      ]
     },
     "metadata": {},
     "output_type": "display_data"
    },
    {
     "name": "stdout",
     "output_type": "stream",
     "text": [
      "generating images for ROQUEFORT with prompt: best quality, high quality, image of Roquefort on a slate board, with a cheese cave background, seen from above\n"
     ]
    },
    {
     "data": {
      "application/vnd.jupyter.widget-view+json": {
       "model_id": "8643e071e37f4348a50c67567a1b81a6",
       "version_major": 2,
       "version_minor": 0
      },
      "text/plain": [
       "  0%|          | 0/20 [00:00<?, ?it/s]"
      ]
     },
     "metadata": {},
     "output_type": "display_data"
    },
    {
     "name": "stdout",
     "output_type": "stream",
     "text": [
      "generating images for ROQUEFORT with prompt: best quality, high quality, image of Roquefort on a marble plate, with a shop background, seen from an angled shot\n"
     ]
    },
    {
     "data": {
      "application/vnd.jupyter.widget-view+json": {
       "model_id": "d2c66bce9b0f4e1c8c9a632088a5d54c",
       "version_major": 2,
       "version_minor": 0
      },
      "text/plain": [
       "  0%|          | 0/20 [00:00<?, ?it/s]"
      ]
     },
     "metadata": {},
     "output_type": "display_data"
    },
    {
     "name": "stdout",
     "output_type": "stream",
     "text": [
      "/Data/hala.gamouh/cheese_classification_challenge/dataset/val/ROQUEFORT/000011.jpg\n",
      "generating images for ROQUEFORT with prompt: best quality, high quality, image of Roquefort on a marble plate, with a shop background, seen from an angled shot\n"
     ]
    },
    {
     "data": {
      "application/vnd.jupyter.widget-view+json": {
       "model_id": "42fcee6353dd460ca14926362c490cf1",
       "version_major": 2,
       "version_minor": 0
      },
      "text/plain": [
       "  0%|          | 0/20 [00:00<?, ?it/s]"
      ]
     },
     "metadata": {},
     "output_type": "display_data"
    },
    {
     "name": "stdout",
     "output_type": "stream",
     "text": [
      "generating images for ROQUEFORT with prompt: best quality, high quality, image of Roquefort on a marble plate, with a kitchen background, seen from a side view\n"
     ]
    },
    {
     "data": {
      "application/vnd.jupyter.widget-view+json": {
       "model_id": "39f52be2eba8447da2fb9f97af7f509a",
       "version_major": 2,
       "version_minor": 0
      },
      "text/plain": [
       "  0%|          | 0/20 [00:00<?, ?it/s]"
      ]
     },
     "metadata": {},
     "output_type": "display_data"
    },
    {
     "name": "stdout",
     "output_type": "stream",
     "text": [
      "generating images for ROQUEFORT with prompt: best quality, high quality, image of Roquefort on a plain white background, with a cheese cave background, seen from a side view\n"
     ]
    },
    {
     "data": {
      "application/vnd.jupyter.widget-view+json": {
       "model_id": "a3dd75f508014eb08055b1dcbd304cac",
       "version_major": 2,
       "version_minor": 0
      },
      "text/plain": [
       "  0%|          | 0/20 [00:00<?, ?it/s]"
      ]
     },
     "metadata": {},
     "output_type": "display_data"
    },
    {
     "name": "stdout",
     "output_type": "stream",
     "text": [
      "/Data/hala.gamouh/cheese_classification_challenge/dataset/val/ROQUEFORT/000012.jpg\n",
      "generating images for ROQUEFORT with prompt: best quality, high quality, image of Roquefort on a marble plate, with a shop background, seen from an angled shot\n"
     ]
    },
    {
     "data": {
      "application/vnd.jupyter.widget-view+json": {
       "model_id": "7af13af818e64335b7abe5538987b079",
       "version_major": 2,
       "version_minor": 0
      },
      "text/plain": [
       "  0%|          | 0/20 [00:00<?, ?it/s]"
      ]
     },
     "metadata": {},
     "output_type": "display_data"
    },
    {
     "name": "stdout",
     "output_type": "stream",
     "text": [
      "generating images for ROQUEFORT with prompt: best quality, high quality, image of Roquefort on a slate board, with a cheese cave background, seen from above\n"
     ]
    },
    {
     "data": {
      "application/vnd.jupyter.widget-view+json": {
       "model_id": "03b9f443cf5045d080a792dc66ce0355",
       "version_major": 2,
       "version_minor": 0
      },
      "text/plain": [
       "  0%|          | 0/20 [00:00<?, ?it/s]"
      ]
     },
     "metadata": {},
     "output_type": "display_data"
    },
    {
     "name": "stdout",
     "output_type": "stream",
     "text": [
      "generating images for ROQUEFORT with prompt: best quality, high quality, image of Roquefort on a slate board, with a shop background, seen from above\n"
     ]
    },
    {
     "data": {
      "application/vnd.jupyter.widget-view+json": {
       "model_id": "d3d567470c804390b0b7ab4ae8e4ae74",
       "version_major": 2,
       "version_minor": 0
      },
      "text/plain": [
       "  0%|          | 0/20 [00:00<?, ?it/s]"
      ]
     },
     "metadata": {},
     "output_type": "display_data"
    },
    {
     "name": "stdout",
     "output_type": "stream",
     "text": [
      "/Data/hala.gamouh/cheese_classification_challenge/dataset/val/ROQUEFORT/000013.jpg\n",
      "generating images for ROQUEFORT with prompt: best quality, high quality, image of Roquefort on a wooden plate, with a plain white background, seen from above\n"
     ]
    },
    {
     "data": {
      "application/vnd.jupyter.widget-view+json": {
       "model_id": "34409f644ddf46daaecd3a7843d99fd1",
       "version_major": 2,
       "version_minor": 0
      },
      "text/plain": [
       "  0%|          | 0/20 [00:00<?, ?it/s]"
      ]
     },
     "metadata": {},
     "output_type": "display_data"
    },
    {
     "name": "stdout",
     "output_type": "stream",
     "text": [
      "generating images for ROQUEFORT with prompt: best quality, high quality, image of Roquefort on a slate board, with a shop background, seen from above\n"
     ]
    },
    {
     "data": {
      "application/vnd.jupyter.widget-view+json": {
       "model_id": "67806681413e42f8b56d108bd3febb33",
       "version_major": 2,
       "version_minor": 0
      },
      "text/plain": [
       "  0%|          | 0/20 [00:00<?, ?it/s]"
      ]
     },
     "metadata": {},
     "output_type": "display_data"
    },
    {
     "name": "stdout",
     "output_type": "stream",
     "text": [
      "generating images for ROQUEFORT with prompt: best quality, high quality, image of Roquefort on a marble plate, with a kitchen background, seen from a side view\n"
     ]
    },
    {
     "data": {
      "application/vnd.jupyter.widget-view+json": {
       "model_id": "e8d3e91f11c74999ad57458815870cf1",
       "version_major": 2,
       "version_minor": 0
      },
      "text/plain": [
       "  0%|          | 0/20 [00:00<?, ?it/s]"
      ]
     },
     "metadata": {},
     "output_type": "display_data"
    },
    {
     "name": "stdout",
     "output_type": "stream",
     "text": [
      "/Data/hala.gamouh/cheese_classification_challenge/dataset/val/ROQUEFORT/000014.jpg\n",
      "generating images for ROQUEFORT with prompt: best quality, high quality, image of Roquefort on a slate board, with a shop background, seen from above\n"
     ]
    },
    {
     "data": {
      "application/vnd.jupyter.widget-view+json": {
       "model_id": "56e8c0129c8b45e3a1d41e86bbb61485",
       "version_major": 2,
       "version_minor": 0
      },
      "text/plain": [
       "  0%|          | 0/20 [00:00<?, ?it/s]"
      ]
     },
     "metadata": {},
     "output_type": "display_data"
    },
    {
     "name": "stdout",
     "output_type": "stream",
     "text": [
      "generating images for ROQUEFORT with prompt: best quality, high quality, image of Roquefort on a marble plate, with a shop background, seen from an angled shot\n"
     ]
    },
    {
     "data": {
      "application/vnd.jupyter.widget-view+json": {
       "model_id": "22673a659b3f424083b42918324a6554",
       "version_major": 2,
       "version_minor": 0
      },
      "text/plain": [
       "  0%|          | 0/20 [00:00<?, ?it/s]"
      ]
     },
     "metadata": {},
     "output_type": "display_data"
    },
    {
     "name": "stdout",
     "output_type": "stream",
     "text": [
      "generating images for ROQUEFORT with prompt: best quality, high quality, image of Roquefort on a plain white background, with a plain white background, seen from a face view\n"
     ]
    },
    {
     "data": {
      "application/vnd.jupyter.widget-view+json": {
       "model_id": "ee10764695334eb7bbe69a75141b68ae",
       "version_major": 2,
       "version_minor": 0
      },
      "text/plain": [
       "  0%|          | 0/20 [00:00<?, ?it/s]"
      ]
     },
     "metadata": {},
     "output_type": "display_data"
    },
    {
     "name": "stdout",
     "output_type": "stream",
     "text": [
      "/Data/hala.gamouh/cheese_classification_challenge/dataset/val/ROQUEFORT/000015.jpg\n",
      "generating images for ROQUEFORT with prompt: best quality, high quality, image of Roquefort on a wooden plate, with a plain white background, seen from above\n"
     ]
    },
    {
     "data": {
      "application/vnd.jupyter.widget-view+json": {
       "model_id": "fb15a0fc73744cec9590f8a39896db4a",
       "version_major": 2,
       "version_minor": 0
      },
      "text/plain": [
       "  0%|          | 0/20 [00:00<?, ?it/s]"
      ]
     },
     "metadata": {},
     "output_type": "display_data"
    },
    {
     "name": "stdout",
     "output_type": "stream",
     "text": [
      "generating images for ROQUEFORT with prompt: best quality, high quality, image of Roquefort on a plain white background, with a cheese cave background, seen from a side view\n"
     ]
    },
    {
     "data": {
      "application/vnd.jupyter.widget-view+json": {
       "model_id": "3c5c1220ad2447c39ce49f12d6111479",
       "version_major": 2,
       "version_minor": 0
      },
      "text/plain": [
       "  0%|          | 0/20 [00:00<?, ?it/s]"
      ]
     },
     "metadata": {},
     "output_type": "display_data"
    },
    {
     "name": "stdout",
     "output_type": "stream",
     "text": [
      "generating images for ROQUEFORT with prompt: best quality, high quality, image of Roquefort on a white plate, with a cheese factory background, seen from an angled shot\n"
     ]
    },
    {
     "data": {
      "application/vnd.jupyter.widget-view+json": {
       "model_id": "c43565b164ca45138c65f9106d0f3a94",
       "version_major": 2,
       "version_minor": 0
      },
      "text/plain": [
       "  0%|          | 0/20 [00:00<?, ?it/s]"
      ]
     },
     "metadata": {},
     "output_type": "display_data"
    },
    {
     "name": "stdout",
     "output_type": "stream",
     "text": [
      "/Data/hala.gamouh/cheese_classification_challenge/dataset/val/ROQUEFORT/000016.jpg\n",
      "generating images for ROQUEFORT with prompt: best quality, high quality, image of Roquefort on a marble plate, with a shop background, seen from an angled shot\n"
     ]
    },
    {
     "data": {
      "application/vnd.jupyter.widget-view+json": {
       "model_id": "586e1d0f86ef40eb9a93754537ae5c7c",
       "version_major": 2,
       "version_minor": 0
      },
      "text/plain": [
       "  0%|          | 0/20 [00:00<?, ?it/s]"
      ]
     },
     "metadata": {},
     "output_type": "display_data"
    },
    {
     "name": "stdout",
     "output_type": "stream",
     "text": [
      "generating images for ROQUEFORT with prompt: best quality, high quality, image of Roquefort on a plain white background, with a plain white background, seen from a face view\n"
     ]
    },
    {
     "data": {
      "application/vnd.jupyter.widget-view+json": {
       "model_id": "e80ed9e7f61145f0bf857e7e50f54d0e",
       "version_major": 2,
       "version_minor": 0
      },
      "text/plain": [
       "  0%|          | 0/20 [00:00<?, ?it/s]"
      ]
     },
     "metadata": {},
     "output_type": "display_data"
    },
    {
     "name": "stdout",
     "output_type": "stream",
     "text": [
      "generating images for ROQUEFORT with prompt: best quality, high quality, in its packaging\n"
     ]
    },
    {
     "data": {
      "application/vnd.jupyter.widget-view+json": {
       "model_id": "18f6ce3b09044907ad37a1d0d298f655",
       "version_major": 2,
       "version_minor": 0
      },
      "text/plain": [
       "  0%|          | 0/20 [00:00<?, ?it/s]"
      ]
     },
     "metadata": {},
     "output_type": "display_data"
    },
    {
     "name": "stdout",
     "output_type": "stream",
     "text": [
      "/Data/hala.gamouh/cheese_classification_challenge/dataset/val/ROQUEFORT/000017.jpg\n",
      "generating images for ROQUEFORT with prompt: best quality, high quality, image of Roquefort on a plain white background, with a plain white background, seen from a face view\n"
     ]
    },
    {
     "data": {
      "application/vnd.jupyter.widget-view+json": {
       "model_id": "ab12f679c7eb4cdbb7b9eb14c08621f0",
       "version_major": 2,
       "version_minor": 0
      },
      "text/plain": [
       "  0%|          | 0/20 [00:00<?, ?it/s]"
      ]
     },
     "metadata": {},
     "output_type": "display_data"
    },
    {
     "name": "stdout",
     "output_type": "stream",
     "text": [
      "generating images for ROQUEFORT with prompt: best quality, high quality, image of Roquefort on a marble plate, with a shop background, seen from an angled shot\n"
     ]
    },
    {
     "data": {
      "application/vnd.jupyter.widget-view+json": {
       "model_id": "cbdb320e5bb54f6f8e620338f4efe30b",
       "version_major": 2,
       "version_minor": 0
      },
      "text/plain": [
       "  0%|          | 0/20 [00:00<?, ?it/s]"
      ]
     },
     "metadata": {},
     "output_type": "display_data"
    },
    {
     "name": "stdout",
     "output_type": "stream",
     "text": [
      "generating images for ROQUEFORT with prompt: best quality, high quality, image of Roquefort on a marble plate, with a kitchen background, seen from a side view\n"
     ]
    },
    {
     "data": {
      "application/vnd.jupyter.widget-view+json": {
       "model_id": "e85ae28b500b48c5b60c8f93be240d98",
       "version_major": 2,
       "version_minor": 0
      },
      "text/plain": [
       "  0%|          | 0/20 [00:00<?, ?it/s]"
      ]
     },
     "metadata": {},
     "output_type": "display_data"
    },
    {
     "name": "stdout",
     "output_type": "stream",
     "text": [
      "/Data/hala.gamouh/cheese_classification_challenge/dataset/val/ROQUEFORT/000018.jpg\n",
      "generating images for ROQUEFORT with prompt: best quality, high quality, image of Roquefort on a white plate, with a plain white background, seen from above\n"
     ]
    },
    {
     "data": {
      "application/vnd.jupyter.widget-view+json": {
       "model_id": "0bb738976f8a46768839e57b24ce71a7",
       "version_major": 2,
       "version_minor": 0
      },
      "text/plain": [
       "  0%|          | 0/20 [00:00<?, ?it/s]"
      ]
     },
     "metadata": {},
     "output_type": "display_data"
    },
    {
     "name": "stdout",
     "output_type": "stream",
     "text": [
      "generating images for ROQUEFORT with prompt: best quality, high quality, image of Roquefort on a white plate, with a plain white background, seen from above\n"
     ]
    },
    {
     "data": {
      "application/vnd.jupyter.widget-view+json": {
       "model_id": "c00e767c086645ae9e59f59927fa6db3",
       "version_major": 2,
       "version_minor": 0
      },
      "text/plain": [
       "  0%|          | 0/20 [00:00<?, ?it/s]"
      ]
     },
     "metadata": {},
     "output_type": "display_data"
    },
    {
     "name": "stdout",
     "output_type": "stream",
     "text": [
      "generating images for ROQUEFORT with prompt: best quality, high quality, image of Roquefort on a white plate, with a plain white background, seen from above\n"
     ]
    },
    {
     "data": {
      "application/vnd.jupyter.widget-view+json": {
       "model_id": "761427ce5ddb46c49a6424afbaa8a865",
       "version_major": 2,
       "version_minor": 0
      },
      "text/plain": [
       "  0%|          | 0/20 [00:00<?, ?it/s]"
      ]
     },
     "metadata": {},
     "output_type": "display_data"
    },
    {
     "name": "stdout",
     "output_type": "stream",
     "text": [
      "/Data/hala.gamouh/cheese_classification_challenge/dataset/val/ROQUEFORT/000019.jpg\n",
      "generating images for ROQUEFORT with prompt: best quality, high quality, image of Roquefort on a wooden plate, with a plain white background, seen from above\n"
     ]
    },
    {
     "data": {
      "application/vnd.jupyter.widget-view+json": {
       "model_id": "1eeb23c63e524003aa6755ba4b6cde99",
       "version_major": 2,
       "version_minor": 0
      },
      "text/plain": [
       "  0%|          | 0/20 [00:00<?, ?it/s]"
      ]
     },
     "metadata": {},
     "output_type": "display_data"
    },
    {
     "name": "stdout",
     "output_type": "stream",
     "text": [
      "generating images for ROQUEFORT with prompt: best quality, high quality, image of Roquefort on a marble plate, with a shop background, seen from an angled shot\n"
     ]
    },
    {
     "data": {
      "application/vnd.jupyter.widget-view+json": {
       "model_id": "67efbfe2b0674ef68a5f99baa25a32a9",
       "version_major": 2,
       "version_minor": 0
      },
      "text/plain": [
       "  0%|          | 0/20 [00:00<?, ?it/s]"
      ]
     },
     "metadata": {},
     "output_type": "display_data"
    },
    {
     "name": "stdout",
     "output_type": "stream",
     "text": [
      "generating images for ROQUEFORT with prompt: best quality, high quality, in its packaging\n"
     ]
    },
    {
     "data": {
      "application/vnd.jupyter.widget-view+json": {
       "model_id": "f4087ca7d0ff48df9e054a17159f736d",
       "version_major": 2,
       "version_minor": 0
      },
      "text/plain": [
       "  0%|          | 0/20 [00:00<?, ?it/s]"
      ]
     },
     "metadata": {},
     "output_type": "display_data"
    },
    {
     "name": "stdout",
     "output_type": "stream",
     "text": [
      "/Data/hala.gamouh/cheese_classification_challenge/dataset/val/ROQUEFORT/000020.jpg\n",
      "generating images for ROQUEFORT with prompt: best quality, high quality, image of Roquefort on a plain white background, with a cheese cave background, seen from a side view\n"
     ]
    },
    {
     "data": {
      "application/vnd.jupyter.widget-view+json": {
       "model_id": "ca75b7bfa86a42dc9752dc770f353c0f",
       "version_major": 2,
       "version_minor": 0
      },
      "text/plain": [
       "  0%|          | 0/20 [00:00<?, ?it/s]"
      ]
     },
     "metadata": {},
     "output_type": "display_data"
    },
    {
     "name": "stdout",
     "output_type": "stream",
     "text": [
      "generating images for ROQUEFORT with prompt: best quality, high quality, image of Roquefort on a white plate, with a cheese factory background, seen from an angled shot\n"
     ]
    },
    {
     "data": {
      "application/vnd.jupyter.widget-view+json": {
       "model_id": "7dd1e8065ea642dd838fd0c59fbd4a31",
       "version_major": 2,
       "version_minor": 0
      },
      "text/plain": [
       "  0%|          | 0/20 [00:00<?, ?it/s]"
      ]
     },
     "metadata": {},
     "output_type": "display_data"
    },
    {
     "name": "stdout",
     "output_type": "stream",
     "text": [
      "generating images for ROQUEFORT with prompt: best quality, high quality, image of Roquefort on a plain white background, with a cheese cave background, seen from a side view\n"
     ]
    },
    {
     "data": {
      "application/vnd.jupyter.widget-view+json": {
       "model_id": "ad96fd86f91e492e8e26d8a1d11f75e5",
       "version_major": 2,
       "version_minor": 0
      },
      "text/plain": [
       "  0%|          | 0/20 [00:00<?, ?it/s]"
      ]
     },
     "metadata": {},
     "output_type": "display_data"
    },
    {
     "name": "stdout",
     "output_type": "stream",
     "text": [
      "/Data/hala.gamouh/cheese_classification_challenge/dataset/val/ROQUEFORT/000021.jpg\n",
      "generating images for ROQUEFORT with prompt: best quality, high quality, image of Roquefort on a plain white background, with a cheese cave background, seen from a side view\n"
     ]
    },
    {
     "data": {
      "application/vnd.jupyter.widget-view+json": {
       "model_id": "74393879b3ce462ea39805a5e48e5f5c",
       "version_major": 2,
       "version_minor": 0
      },
      "text/plain": [
       "  0%|          | 0/20 [00:00<?, ?it/s]"
      ]
     },
     "metadata": {},
     "output_type": "display_data"
    },
    {
     "name": "stdout",
     "output_type": "stream",
     "text": [
      "generating images for ROQUEFORT with prompt: best quality, high quality, in its packaging\n"
     ]
    },
    {
     "data": {
      "application/vnd.jupyter.widget-view+json": {
       "model_id": "50bacc014f01424a9a80654e195810c5",
       "version_major": 2,
       "version_minor": 0
      },
      "text/plain": [
       "  0%|          | 0/20 [00:00<?, ?it/s]"
      ]
     },
     "metadata": {},
     "output_type": "display_data"
    },
    {
     "name": "stdout",
     "output_type": "stream",
     "text": [
      "generating images for ROQUEFORT with prompt: best quality, high quality, image of Roquefort on a white plate, with a cheese factory background, seen from an angled shot\n"
     ]
    },
    {
     "data": {
      "application/vnd.jupyter.widget-view+json": {
       "model_id": "9edcfbb74771483abe375b42abee8177",
       "version_major": 2,
       "version_minor": 0
      },
      "text/plain": [
       "  0%|          | 0/20 [00:00<?, ?it/s]"
      ]
     },
     "metadata": {},
     "output_type": "display_data"
    },
    {
     "name": "stdout",
     "output_type": "stream",
     "text": [
      "/Data/hala.gamouh/cheese_classification_challenge/dataset/val/ROQUEFORT/000022.jpg\n",
      "generating images for ROQUEFORT with prompt: best quality, high quality, image of Roquefort on a marble plate, with a shop background, seen from an angled shot\n"
     ]
    },
    {
     "data": {
      "application/vnd.jupyter.widget-view+json": {
       "model_id": "1dce2abfc85e4d2683dc3e26233d01b6",
       "version_major": 2,
       "version_minor": 0
      },
      "text/plain": [
       "  0%|          | 0/20 [00:00<?, ?it/s]"
      ]
     },
     "metadata": {},
     "output_type": "display_data"
    },
    {
     "name": "stdout",
     "output_type": "stream",
     "text": [
      "generating images for ROQUEFORT with prompt: best quality, high quality, image of Roquefort on a marble plate, with a kitchen background, seen from a side view\n"
     ]
    },
    {
     "data": {
      "application/vnd.jupyter.widget-view+json": {
       "model_id": "dc2cace531344fa7859babb61984574b",
       "version_major": 2,
       "version_minor": 0
      },
      "text/plain": [
       "  0%|          | 0/20 [00:00<?, ?it/s]"
      ]
     },
     "metadata": {},
     "output_type": "display_data"
    },
    {
     "name": "stdout",
     "output_type": "stream",
     "text": [
      "generating images for ROQUEFORT with prompt: best quality, high quality, image of Roquefort on a marble plate, with a shop background, seen from an angled shot\n"
     ]
    },
    {
     "data": {
      "application/vnd.jupyter.widget-view+json": {
       "model_id": "ca6f9a592c904c2d89a131c7288d5584",
       "version_major": 2,
       "version_minor": 0
      },
      "text/plain": [
       "  0%|          | 0/20 [00:00<?, ?it/s]"
      ]
     },
     "metadata": {},
     "output_type": "display_data"
    },
    {
     "name": "stdout",
     "output_type": "stream",
     "text": [
      "/Data/hala.gamouh/cheese_classification_challenge/dataset/val/ROQUEFORT/000023.jpg\n",
      "generating images for ROQUEFORT with prompt: best quality, high quality, image of Roquefort on a plain white background, with a cheese cave background, seen from a side view\n"
     ]
    },
    {
     "data": {
      "application/vnd.jupyter.widget-view+json": {
       "model_id": "f4b1663d554b4836b1a8ba2e82bbad52",
       "version_major": 2,
       "version_minor": 0
      },
      "text/plain": [
       "  0%|          | 0/20 [00:00<?, ?it/s]"
      ]
     },
     "metadata": {},
     "output_type": "display_data"
    },
    {
     "name": "stdout",
     "output_type": "stream",
     "text": [
      "generating images for ROQUEFORT with prompt: best quality, high quality, in its packaging\n"
     ]
    },
    {
     "data": {
      "application/vnd.jupyter.widget-view+json": {
       "model_id": "238b64b6e590417c875458d123c10f4d",
       "version_major": 2,
       "version_minor": 0
      },
      "text/plain": [
       "  0%|          | 0/20 [00:00<?, ?it/s]"
      ]
     },
     "metadata": {},
     "output_type": "display_data"
    },
    {
     "name": "stdout",
     "output_type": "stream",
     "text": [
      "generating images for ROQUEFORT with prompt: best quality, high quality, image of Roquefort on a white plate, with a plain white background, seen from above\n"
     ]
    },
    {
     "data": {
      "application/vnd.jupyter.widget-view+json": {
       "model_id": "60dd587affce4296866aa4673e836cc1",
       "version_major": 2,
       "version_minor": 0
      },
      "text/plain": [
       "  0%|          | 0/20 [00:00<?, ?it/s]"
      ]
     },
     "metadata": {},
     "output_type": "display_data"
    },
    {
     "name": "stdout",
     "output_type": "stream",
     "text": [
      "/Data/hala.gamouh/cheese_classification_challenge/dataset/val/ROQUEFORT/000024.jpg\n",
      "generating images for ROQUEFORT with prompt: best quality, high quality, image of Roquefort on a marble plate, with a shop background, seen from an angled shot\n"
     ]
    },
    {
     "data": {
      "application/vnd.jupyter.widget-view+json": {
       "model_id": "f594638639424ea38e6d8a336578f0ef",
       "version_major": 2,
       "version_minor": 0
      },
      "text/plain": [
       "  0%|          | 0/20 [00:00<?, ?it/s]"
      ]
     },
     "metadata": {},
     "output_type": "display_data"
    },
    {
     "name": "stdout",
     "output_type": "stream",
     "text": [
      "generating images for ROQUEFORT with prompt: best quality, high quality, image of Roquefort on a wooden plate, with a plain white background, seen from above\n"
     ]
    },
    {
     "data": {
      "application/vnd.jupyter.widget-view+json": {
       "model_id": "525b750c103e40c995f2cc10b5b9c9a8",
       "version_major": 2,
       "version_minor": 0
      },
      "text/plain": [
       "  0%|          | 0/20 [00:00<?, ?it/s]"
      ]
     },
     "metadata": {},
     "output_type": "display_data"
    },
    {
     "name": "stdout",
     "output_type": "stream",
     "text": [
      "generating images for ROQUEFORT with prompt: best quality, high quality, image of Roquefort on a wooden plate, with a kitchen background, seen from a side view\n"
     ]
    },
    {
     "data": {
      "application/vnd.jupyter.widget-view+json": {
       "model_id": "b20a174f3e2e47ad91d78843c59d1118",
       "version_major": 2,
       "version_minor": 0
      },
      "text/plain": [
       "  0%|          | 0/20 [00:00<?, ?it/s]"
      ]
     },
     "metadata": {},
     "output_type": "display_data"
    },
    {
     "name": "stdout",
     "output_type": "stream",
     "text": [
      "/Data/hala.gamouh/cheese_classification_challenge/dataset/val/ROQUEFORT/000000.jpg\n",
      "generating images for ROQUEFORT with prompt: best quality, high quality, image of Roquefort on a white plate, with a plain white background, seen from above\n"
     ]
    },
    {
     "data": {
      "application/vnd.jupyter.widget-view+json": {
       "model_id": "a77ea945ee06467784deb75ead8a5316",
       "version_major": 2,
       "version_minor": 0
      },
      "text/plain": [
       "  0%|          | 0/20 [00:00<?, ?it/s]"
      ]
     },
     "metadata": {},
     "output_type": "display_data"
    },
    {
     "name": "stdout",
     "output_type": "stream",
     "text": [
      "generating images for ROQUEFORT with prompt: best quality, high quality, image of Roquefort on a slate board, with a cheese cave background, seen from above\n"
     ]
    },
    {
     "data": {
      "application/vnd.jupyter.widget-view+json": {
       "model_id": "81133dc6b3674e42b028833341ca5744",
       "version_major": 2,
       "version_minor": 0
      },
      "text/plain": [
       "  0%|          | 0/20 [00:00<?, ?it/s]"
      ]
     },
     "metadata": {},
     "output_type": "display_data"
    },
    {
     "name": "stdout",
     "output_type": "stream",
     "text": [
      "generating images for ROQUEFORT with prompt: best quality, high quality, image of Roquefort on a plain white background, with a cheese cave background, seen from a side view\n"
     ]
    },
    {
     "data": {
      "application/vnd.jupyter.widget-view+json": {
       "model_id": "7810f24ff2b74745982edc170949ab7c",
       "version_major": 2,
       "version_minor": 0
      },
      "text/plain": [
       "  0%|          | 0/20 [00:00<?, ?it/s]"
      ]
     },
     "metadata": {},
     "output_type": "display_data"
    },
    {
     "name": "stdout",
     "output_type": "stream",
     "text": [
      "/Data/hala.gamouh/cheese_classification_challenge/dataset/val/ROQUEFORT/000001.jpg\n",
      "generating images for ROQUEFORT with prompt: best quality, high quality, image of Roquefort on a wooden plate, with a plain white background, seen from above\n"
     ]
    },
    {
     "data": {
      "application/vnd.jupyter.widget-view+json": {
       "model_id": "79a8d3baf542412397b67e2bcd172952",
       "version_major": 2,
       "version_minor": 0
      },
      "text/plain": [
       "  0%|          | 0/20 [00:00<?, ?it/s]"
      ]
     },
     "metadata": {},
     "output_type": "display_data"
    },
    {
     "name": "stdout",
     "output_type": "stream",
     "text": [
      "generating images for ROQUEFORT with prompt: best quality, high quality, image of Roquefort on a white plate, with a cheese factory background, seen from an angled shot\n"
     ]
    },
    {
     "data": {
      "application/vnd.jupyter.widget-view+json": {
       "model_id": "c3cc3f36b93b47659d27919d194d0091",
       "version_major": 2,
       "version_minor": 0
      },
      "text/plain": [
       "  0%|          | 0/20 [00:00<?, ?it/s]"
      ]
     },
     "metadata": {},
     "output_type": "display_data"
    },
    {
     "name": "stdout",
     "output_type": "stream",
     "text": [
      "generating images for ROQUEFORT with prompt: best quality, high quality, image of Roquefort on a plain white background, with a cheese cave background, seen from a side view\n"
     ]
    },
    {
     "data": {
      "application/vnd.jupyter.widget-view+json": {
       "model_id": "ad4f501adf6c4d7ca41f7fdf5260056d",
       "version_major": 2,
       "version_minor": 0
      },
      "text/plain": [
       "  0%|          | 0/20 [00:00<?, ?it/s]"
      ]
     },
     "metadata": {},
     "output_type": "display_data"
    },
    {
     "name": "stdout",
     "output_type": "stream",
     "text": [
      "/Data/hala.gamouh/cheese_classification_challenge/dataset/val/ROQUEFORT/000002.jpg\n",
      "generating images for ROQUEFORT with prompt: best quality, high quality, image of Roquefort on a slate board, with a cheese cave background, seen from above\n"
     ]
    },
    {
     "data": {
      "application/vnd.jupyter.widget-view+json": {
       "model_id": "8ffbe0770bcb45399b321d336970798a",
       "version_major": 2,
       "version_minor": 0
      },
      "text/plain": [
       "  0%|          | 0/20 [00:00<?, ?it/s]"
      ]
     },
     "metadata": {},
     "output_type": "display_data"
    },
    {
     "name": "stdout",
     "output_type": "stream",
     "text": [
      "generating images for ROQUEFORT with prompt: best quality, high quality, image of Roquefort on a slate board, with a shop background, seen from above\n"
     ]
    },
    {
     "data": {
      "application/vnd.jupyter.widget-view+json": {
       "model_id": "738fcf9416b44ef8b4b57fea2a17d68f",
       "version_major": 2,
       "version_minor": 0
      },
      "text/plain": [
       "  0%|          | 0/20 [00:00<?, ?it/s]"
      ]
     },
     "metadata": {},
     "output_type": "display_data"
    },
    {
     "name": "stdout",
     "output_type": "stream",
     "text": [
      "generating images for ROQUEFORT with prompt: best quality, high quality, image of Roquefort on a wooden plate, with a kitchen background, seen from a side view\n"
     ]
    },
    {
     "data": {
      "application/vnd.jupyter.widget-view+json": {
       "model_id": "d6459434219548cc9aa9cfa8b9fee686",
       "version_major": 2,
       "version_minor": 0
      },
      "text/plain": [
       "  0%|          | 0/20 [00:00<?, ?it/s]"
      ]
     },
     "metadata": {},
     "output_type": "display_data"
    },
    {
     "name": "stdout",
     "output_type": "stream",
     "text": [
      "/Data/hala.gamouh/cheese_classification_challenge/dataset/val/ROQUEFORT/000003.jpg\n",
      "generating images for ROQUEFORT with prompt: best quality, high quality, image of Roquefort on a white plate, with a plain white background, seen from above\n"
     ]
    },
    {
     "data": {
      "application/vnd.jupyter.widget-view+json": {
       "model_id": "231b214f759541b9a72360ba6c792d44",
       "version_major": 2,
       "version_minor": 0
      },
      "text/plain": [
       "  0%|          | 0/20 [00:00<?, ?it/s]"
      ]
     },
     "metadata": {},
     "output_type": "display_data"
    },
    {
     "name": "stdout",
     "output_type": "stream",
     "text": [
      "generating images for ROQUEFORT with prompt: best quality, high quality, image of Roquefort on a marble plate, with a shop background, seen from an angled shot\n"
     ]
    },
    {
     "data": {
      "application/vnd.jupyter.widget-view+json": {
       "model_id": "075cb1be14de41d8817b50f4373de0a5",
       "version_major": 2,
       "version_minor": 0
      },
      "text/plain": [
       "  0%|          | 0/20 [00:00<?, ?it/s]"
      ]
     },
     "metadata": {},
     "output_type": "display_data"
    },
    {
     "name": "stdout",
     "output_type": "stream",
     "text": [
      "generating images for ROQUEFORT with prompt: best quality, high quality, image of Roquefort on a plain white background, with a plain white background, seen from a face view\n"
     ]
    },
    {
     "data": {
      "application/vnd.jupyter.widget-view+json": {
       "model_id": "f44ead9411af4498ae0e5a95751ebf04",
       "version_major": 2,
       "version_minor": 0
      },
      "text/plain": [
       "  0%|          | 0/20 [00:00<?, ?it/s]"
      ]
     },
     "metadata": {},
     "output_type": "display_data"
    },
    {
     "name": "stdout",
     "output_type": "stream",
     "text": [
      "/Data/hala.gamouh/cheese_classification_challenge/dataset/val/ROQUEFORT/000004.jpg\n",
      "generating images for ROQUEFORT with prompt: best quality, high quality, image of Roquefort on a plain white background, with a cheese cave background, seen from a side view\n"
     ]
    },
    {
     "data": {
      "application/vnd.jupyter.widget-view+json": {
       "model_id": "8f7d1bcac367457ba0e27bab38f01c5e",
       "version_major": 2,
       "version_minor": 0
      },
      "text/plain": [
       "  0%|          | 0/20 [00:00<?, ?it/s]"
      ]
     },
     "metadata": {},
     "output_type": "display_data"
    },
    {
     "name": "stdout",
     "output_type": "stream",
     "text": [
      "generating images for ROQUEFORT with prompt: best quality, high quality, image of Roquefort on a marble plate, with a kitchen background, seen from a side view\n"
     ]
    },
    {
     "data": {
      "application/vnd.jupyter.widget-view+json": {
       "model_id": "5f342eb4e7534d1eae196b006ba6a6f0",
       "version_major": 2,
       "version_minor": 0
      },
      "text/plain": [
       "  0%|          | 0/20 [00:00<?, ?it/s]"
      ]
     },
     "metadata": {},
     "output_type": "display_data"
    },
    {
     "name": "stdout",
     "output_type": "stream",
     "text": [
      "generating images for ROQUEFORT with prompt: best quality, high quality, image of Roquefort on a marble plate, with a shop background, seen from an angled shot\n"
     ]
    },
    {
     "data": {
      "application/vnd.jupyter.widget-view+json": {
       "model_id": "94dc418f08514f6886b2a4471573f9e0",
       "version_major": 2,
       "version_minor": 0
      },
      "text/plain": [
       "  0%|          | 0/20 [00:00<?, ?it/s]"
      ]
     },
     "metadata": {},
     "output_type": "display_data"
    },
    {
     "name": "stdout",
     "output_type": "stream",
     "text": [
      "/Data/hala.gamouh/cheese_classification_challenge/dataset/val/ROQUEFORT/000005.jpg\n",
      "generating images for ROQUEFORT with prompt: best quality, high quality, image of Roquefort on a marble plate, with a shop background, seen from an angled shot\n"
     ]
    },
    {
     "data": {
      "application/vnd.jupyter.widget-view+json": {
       "model_id": "5c6644a5a78d44148ee3e2985ec42cec",
       "version_major": 2,
       "version_minor": 0
      },
      "text/plain": [
       "  0%|          | 0/20 [00:00<?, ?it/s]"
      ]
     },
     "metadata": {},
     "output_type": "display_data"
    },
    {
     "name": "stdout",
     "output_type": "stream",
     "text": [
      "generating images for ROQUEFORT with prompt: best quality, high quality, image of Roquefort on a slate board, with a cheese cave background, seen from above\n"
     ]
    },
    {
     "data": {
      "application/vnd.jupyter.widget-view+json": {
       "model_id": "4f175a556e0d49f4959a2847f427b35d",
       "version_major": 2,
       "version_minor": 0
      },
      "text/plain": [
       "  0%|          | 0/20 [00:00<?, ?it/s]"
      ]
     },
     "metadata": {},
     "output_type": "display_data"
    },
    {
     "name": "stdout",
     "output_type": "stream",
     "text": [
      "generating images for ROQUEFORT with prompt: best quality, high quality, image of Roquefort on a slate board, with a cheese cave background, seen from above\n"
     ]
    },
    {
     "data": {
      "application/vnd.jupyter.widget-view+json": {
       "model_id": "b32aa597c2d448e383482dac22b495e0",
       "version_major": 2,
       "version_minor": 0
      },
      "text/plain": [
       "  0%|          | 0/20 [00:00<?, ?it/s]"
      ]
     },
     "metadata": {},
     "output_type": "display_data"
    },
    {
     "name": "stdout",
     "output_type": "stream",
     "text": [
      "/Data/hala.gamouh/cheese_classification_challenge/dataset/val/ROQUEFORT/000006.jpg\n",
      "generating images for ROQUEFORT with prompt: best quality, high quality, image of Roquefort on a slate board, with a cheese cave background, seen from above\n"
     ]
    },
    {
     "data": {
      "application/vnd.jupyter.widget-view+json": {
       "model_id": "82f895f1fc47492385a17b1ef63c924c",
       "version_major": 2,
       "version_minor": 0
      },
      "text/plain": [
       "  0%|          | 0/20 [00:00<?, ?it/s]"
      ]
     },
     "metadata": {},
     "output_type": "display_data"
    },
    {
     "name": "stdout",
     "output_type": "stream",
     "text": [
      "generating images for ROQUEFORT with prompt: best quality, high quality, image of Roquefort on a slate board, with a cheese cave background, seen from above\n"
     ]
    },
    {
     "data": {
      "application/vnd.jupyter.widget-view+json": {
       "model_id": "63ba742af43546d3a961f11e22bb736b",
       "version_major": 2,
       "version_minor": 0
      },
      "text/plain": [
       "  0%|          | 0/20 [00:00<?, ?it/s]"
      ]
     },
     "metadata": {},
     "output_type": "display_data"
    },
    {
     "name": "stdout",
     "output_type": "stream",
     "text": [
      "generating images for ROQUEFORT with prompt: best quality, high quality, in its packaging\n"
     ]
    },
    {
     "data": {
      "application/vnd.jupyter.widget-view+json": {
       "model_id": "db8f7612a2b9462693fb198b47db6af7",
       "version_major": 2,
       "version_minor": 0
      },
      "text/plain": [
       "  0%|          | 0/20 [00:00<?, ?it/s]"
      ]
     },
     "metadata": {},
     "output_type": "display_data"
    },
    {
     "name": "stdout",
     "output_type": "stream",
     "text": [
      "/Data/hala.gamouh/cheese_classification_challenge/dataset/val/ROQUEFORT/000007.jpg\n",
      "generating images for ROQUEFORT with prompt: best quality, high quality, image of Roquefort on a marble plate, with a kitchen background, seen from a side view\n"
     ]
    },
    {
     "data": {
      "application/vnd.jupyter.widget-view+json": {
       "model_id": "067c2c58c5b149f18b7d97dae92301d4",
       "version_major": 2,
       "version_minor": 0
      },
      "text/plain": [
       "  0%|          | 0/20 [00:00<?, ?it/s]"
      ]
     },
     "metadata": {},
     "output_type": "display_data"
    },
    {
     "name": "stdout",
     "output_type": "stream",
     "text": [
      "generating images for ROQUEFORT with prompt: best quality, high quality, image of Roquefort on a slate board, with a cheese cave background, seen from above\n"
     ]
    },
    {
     "data": {
      "application/vnd.jupyter.widget-view+json": {
       "model_id": "d4825319f06d4c59bb08ec956ec0aea7",
       "version_major": 2,
       "version_minor": 0
      },
      "text/plain": [
       "  0%|          | 0/20 [00:00<?, ?it/s]"
      ]
     },
     "metadata": {},
     "output_type": "display_data"
    },
    {
     "name": "stdout",
     "output_type": "stream",
     "text": [
      "generating images for ROQUEFORT with prompt: best quality, high quality, image of Roquefort on a white plate, with a plain white background, seen from above\n"
     ]
    },
    {
     "data": {
      "application/vnd.jupyter.widget-view+json": {
       "model_id": "3551d40e884642059a2a95f639afa1ed",
       "version_major": 2,
       "version_minor": 0
      },
      "text/plain": [
       "  0%|          | 0/20 [00:00<?, ?it/s]"
      ]
     },
     "metadata": {},
     "output_type": "display_data"
    },
    {
     "name": "stdout",
     "output_type": "stream",
     "text": [
      "/Data/hala.gamouh/cheese_classification_challenge/dataset/val/ROQUEFORT/000008.jpg\n",
      "generating images for ROQUEFORT with prompt: best quality, high quality, image of Roquefort on a marble plate, with a kitchen background, seen from a side view\n"
     ]
    },
    {
     "data": {
      "application/vnd.jupyter.widget-view+json": {
       "model_id": "1d5fd23c9d8041a5a42910b15242a929",
       "version_major": 2,
       "version_minor": 0
      },
      "text/plain": [
       "  0%|          | 0/20 [00:00<?, ?it/s]"
      ]
     },
     "metadata": {},
     "output_type": "display_data"
    },
    {
     "name": "stdout",
     "output_type": "stream",
     "text": [
      "generating images for ROQUEFORT with prompt: best quality, high quality, image of Roquefort on a marble plate, with a shop background, seen from an angled shot\n"
     ]
    },
    {
     "data": {
      "application/vnd.jupyter.widget-view+json": {
       "model_id": "b01076b8f6b34a64a2ecd4b7a3363925",
       "version_major": 2,
       "version_minor": 0
      },
      "text/plain": [
       "  0%|          | 0/20 [00:00<?, ?it/s]"
      ]
     },
     "metadata": {},
     "output_type": "display_data"
    },
    {
     "name": "stdout",
     "output_type": "stream",
     "text": [
      "generating images for ROQUEFORT with prompt: best quality, high quality, image of Roquefort on a plain white background, with a cheese cave background, seen from a side view\n"
     ]
    },
    {
     "data": {
      "application/vnd.jupyter.widget-view+json": {
       "model_id": "c5f2ffcc8ea54ea29ff5a8ad563cf640",
       "version_major": 2,
       "version_minor": 0
      },
      "text/plain": [
       "  0%|          | 0/20 [00:00<?, ?it/s]"
      ]
     },
     "metadata": {},
     "output_type": "display_data"
    },
    {
     "name": "stdout",
     "output_type": "stream",
     "text": [
      "/Data/hala.gamouh/cheese_classification_challenge/dataset/val/ROQUEFORT/000009.jpg\n",
      "generating images for ROQUEFORT with prompt: best quality, high quality, image of Roquefort on a plain white background, with a cheese cave background, seen from a side view\n"
     ]
    },
    {
     "data": {
      "application/vnd.jupyter.widget-view+json": {
       "model_id": "6b66c209bb68478db414277e9642e2cd",
       "version_major": 2,
       "version_minor": 0
      },
      "text/plain": [
       "  0%|          | 0/20 [00:00<?, ?it/s]"
      ]
     },
     "metadata": {},
     "output_type": "display_data"
    },
    {
     "name": "stdout",
     "output_type": "stream",
     "text": [
      "generating images for ROQUEFORT with prompt: best quality, high quality, image of Roquefort on a wooden plate, with a plain white background, seen from above\n"
     ]
    },
    {
     "data": {
      "application/vnd.jupyter.widget-view+json": {
       "model_id": "d9a1e54f1ba34106a957ee671239ebc1",
       "version_major": 2,
       "version_minor": 0
      },
      "text/plain": [
       "  0%|          | 0/20 [00:00<?, ?it/s]"
      ]
     },
     "metadata": {},
     "output_type": "display_data"
    },
    {
     "name": "stdout",
     "output_type": "stream",
     "text": [
      "generating images for ROQUEFORT with prompt: best quality, high quality, image of Roquefort on a white plate, with a cheese factory background, seen from an angled shot\n"
     ]
    },
    {
     "data": {
      "application/vnd.jupyter.widget-view+json": {
       "model_id": "013c86ff5bc44aa1b7fd11972a4f2cda",
       "version_major": 2,
       "version_minor": 0
      },
      "text/plain": [
       "  0%|          | 0/20 [00:00<?, ?it/s]"
      ]
     },
     "metadata": {},
     "output_type": "display_data"
    },
    {
     "name": "stdout",
     "output_type": "stream",
     "text": [
      "/Data/hala.gamouh/cheese_classification_challenge/dataset/val/ROQUEFORT/000010.jpg\n",
      "generating images for ROQUEFORT with prompt: best quality, high quality, image of Roquefort on a marble plate, with a kitchen background, seen from a side view\n"
     ]
    },
    {
     "data": {
      "application/vnd.jupyter.widget-view+json": {
       "model_id": "06ed5dabb736450f92a9fb9dd2729afe",
       "version_major": 2,
       "version_minor": 0
      },
      "text/plain": [
       "  0%|          | 0/20 [00:00<?, ?it/s]"
      ]
     },
     "metadata": {},
     "output_type": "display_data"
    },
    {
     "name": "stdout",
     "output_type": "stream",
     "text": [
      "generating images for ROQUEFORT with prompt: best quality, high quality, in its packaging\n"
     ]
    },
    {
     "data": {
      "application/vnd.jupyter.widget-view+json": {
       "model_id": "bbbeccb0c35541be8328d0c701d4ed49",
       "version_major": 2,
       "version_minor": 0
      },
      "text/plain": [
       "  0%|          | 0/20 [00:00<?, ?it/s]"
      ]
     },
     "metadata": {},
     "output_type": "display_data"
    },
    {
     "name": "stdout",
     "output_type": "stream",
     "text": [
      "generating images for ROQUEFORT with prompt: best quality, high quality, image of Roquefort on a marble plate, with a shop background, seen from an angled shot\n"
     ]
    },
    {
     "data": {
      "application/vnd.jupyter.widget-view+json": {
       "model_id": "5ecc3bb78de24b21a81582476a09b003",
       "version_major": 2,
       "version_minor": 0
      },
      "text/plain": [
       "  0%|          | 0/20 [00:00<?, ?it/s]"
      ]
     },
     "metadata": {},
     "output_type": "display_data"
    },
    {
     "name": "stdout",
     "output_type": "stream",
     "text": [
      "/Data/hala.gamouh/cheese_classification_challenge/dataset/val/ROQUEFORT/000011.jpg\n",
      "generating images for ROQUEFORT with prompt: best quality, high quality, in its packaging\n"
     ]
    },
    {
     "data": {
      "application/vnd.jupyter.widget-view+json": {
       "model_id": "da728068f5454814b9292cdce62cfd3f",
       "version_major": 2,
       "version_minor": 0
      },
      "text/plain": [
       "  0%|          | 0/20 [00:00<?, ?it/s]"
      ]
     },
     "metadata": {},
     "output_type": "display_data"
    },
    {
     "name": "stdout",
     "output_type": "stream",
     "text": [
      "generating images for ROQUEFORT with prompt: best quality, high quality, image of Roquefort on a slate board, with a cheese cave background, seen from above\n"
     ]
    },
    {
     "data": {
      "application/vnd.jupyter.widget-view+json": {
       "model_id": "049cbe1f0a584959b393f02edf1b0589",
       "version_major": 2,
       "version_minor": 0
      },
      "text/plain": [
       "  0%|          | 0/20 [00:00<?, ?it/s]"
      ]
     },
     "metadata": {},
     "output_type": "display_data"
    },
    {
     "name": "stdout",
     "output_type": "stream",
     "text": [
      "generating images for ROQUEFORT with prompt: best quality, high quality, image of Roquefort on a wooden plate, with a kitchen background, seen from a side view\n"
     ]
    },
    {
     "data": {
      "application/vnd.jupyter.widget-view+json": {
       "model_id": "70254fe12b04425aa09b6607fec8b9cc",
       "version_major": 2,
       "version_minor": 0
      },
      "text/plain": [
       "  0%|          | 0/20 [00:00<?, ?it/s]"
      ]
     },
     "metadata": {},
     "output_type": "display_data"
    },
    {
     "name": "stdout",
     "output_type": "stream",
     "text": [
      "/Data/hala.gamouh/cheese_classification_challenge/dataset/val/ROQUEFORT/000012.jpg\n",
      "generating images for ROQUEFORT with prompt: best quality, high quality, image of Roquefort on a wooden plate, with a kitchen background, seen from a side view\n"
     ]
    },
    {
     "data": {
      "application/vnd.jupyter.widget-view+json": {
       "model_id": "fe7842dec1524557b7e3b6f229e8254d",
       "version_major": 2,
       "version_minor": 0
      },
      "text/plain": [
       "  0%|          | 0/20 [00:00<?, ?it/s]"
      ]
     },
     "metadata": {},
     "output_type": "display_data"
    },
    {
     "name": "stdout",
     "output_type": "stream",
     "text": [
      "generating images for ROQUEFORT with prompt: best quality, high quality, image of Roquefort on a wooden plate, with a plain white background, seen from above\n"
     ]
    },
    {
     "data": {
      "application/vnd.jupyter.widget-view+json": {
       "model_id": "e60b3afca7694d1c95eb8697dfa6efd9",
       "version_major": 2,
       "version_minor": 0
      },
      "text/plain": [
       "  0%|          | 0/20 [00:00<?, ?it/s]"
      ]
     },
     "metadata": {},
     "output_type": "display_data"
    },
    {
     "name": "stdout",
     "output_type": "stream",
     "text": [
      "generating images for ROQUEFORT with prompt: best quality, high quality, image of Roquefort on a plain white background, with a plain white background, seen from a face view\n"
     ]
    },
    {
     "data": {
      "application/vnd.jupyter.widget-view+json": {
       "model_id": "41c14a68d38f4811a4c1a38598d05e77",
       "version_major": 2,
       "version_minor": 0
      },
      "text/plain": [
       "  0%|          | 0/20 [00:00<?, ?it/s]"
      ]
     },
     "metadata": {},
     "output_type": "display_data"
    },
    {
     "name": "stdout",
     "output_type": "stream",
     "text": [
      "/Data/hala.gamouh/cheese_classification_challenge/dataset/val/ROQUEFORT/000013.jpg\n",
      "generating images for ROQUEFORT with prompt: best quality, high quality, image of Roquefort on a wooden plate, with a kitchen background, seen from a side view\n"
     ]
    },
    {
     "data": {
      "application/vnd.jupyter.widget-view+json": {
       "model_id": "c4c59d42a1364be081168da579157b2d",
       "version_major": 2,
       "version_minor": 0
      },
      "text/plain": [
       "  0%|          | 0/20 [00:00<?, ?it/s]"
      ]
     },
     "metadata": {},
     "output_type": "display_data"
    },
    {
     "name": "stdout",
     "output_type": "stream",
     "text": [
      "generating images for ROQUEFORT with prompt: best quality, high quality, image of Roquefort on a marble plate, with a shop background, seen from an angled shot\n"
     ]
    },
    {
     "data": {
      "application/vnd.jupyter.widget-view+json": {
       "model_id": "abaa5116972545578c72d8096540b5eb",
       "version_major": 2,
       "version_minor": 0
      },
      "text/plain": [
       "  0%|          | 0/20 [00:00<?, ?it/s]"
      ]
     },
     "metadata": {},
     "output_type": "display_data"
    },
    {
     "name": "stdout",
     "output_type": "stream",
     "text": [
      "generating images for ROQUEFORT with prompt: best quality, high quality, image of Roquefort on a marble plate, with a shop background, seen from an angled shot\n"
     ]
    },
    {
     "data": {
      "application/vnd.jupyter.widget-view+json": {
       "model_id": "3e5a2a737e3041d0b303aef7d2a85f4c",
       "version_major": 2,
       "version_minor": 0
      },
      "text/plain": [
       "  0%|          | 0/20 [00:00<?, ?it/s]"
      ]
     },
     "metadata": {},
     "output_type": "display_data"
    },
    {
     "name": "stdout",
     "output_type": "stream",
     "text": [
      "/Data/hala.gamouh/cheese_classification_challenge/dataset/val/ROQUEFORT/000014.jpg\n",
      "generating images for ROQUEFORT with prompt: best quality, high quality, image of Roquefort on a slate board, with a cheese cave background, seen from above\n"
     ]
    },
    {
     "data": {
      "application/vnd.jupyter.widget-view+json": {
       "model_id": "579adb8601a24eb6a7a59cc1d838bfe0",
       "version_major": 2,
       "version_minor": 0
      },
      "text/plain": [
       "  0%|          | 0/20 [00:00<?, ?it/s]"
      ]
     },
     "metadata": {},
     "output_type": "display_data"
    },
    {
     "name": "stdout",
     "output_type": "stream",
     "text": [
      "generating images for ROQUEFORT with prompt: best quality, high quality, image of Roquefort on a slate board, with a cheese cave background, seen from above\n"
     ]
    },
    {
     "data": {
      "application/vnd.jupyter.widget-view+json": {
       "model_id": "0412a6b675774b458e1ca4055b38580e",
       "version_major": 2,
       "version_minor": 0
      },
      "text/plain": [
       "  0%|          | 0/20 [00:00<?, ?it/s]"
      ]
     },
     "metadata": {},
     "output_type": "display_data"
    },
    {
     "name": "stdout",
     "output_type": "stream",
     "text": [
      "generating images for ROQUEFORT with prompt: best quality, high quality, image of Roquefort on a wooden plate, with a plain white background, seen from above\n"
     ]
    },
    {
     "data": {
      "application/vnd.jupyter.widget-view+json": {
       "model_id": "dbccc6353e1b4713af719e94b8c66a00",
       "version_major": 2,
       "version_minor": 0
      },
      "text/plain": [
       "  0%|          | 0/20 [00:00<?, ?it/s]"
      ]
     },
     "metadata": {},
     "output_type": "display_data"
    },
    {
     "name": "stdout",
     "output_type": "stream",
     "text": [
      "/Data/hala.gamouh/cheese_classification_challenge/dataset/val/ROQUEFORT/000015.jpg\n",
      "generating images for ROQUEFORT with prompt: best quality, high quality, image of Roquefort on a marble plate, with a kitchen background, seen from a side view\n"
     ]
    },
    {
     "data": {
      "application/vnd.jupyter.widget-view+json": {
       "model_id": "a5610bd333d94364ae65022a924784c9",
       "version_major": 2,
       "version_minor": 0
      },
      "text/plain": [
       "  0%|          | 0/20 [00:00<?, ?it/s]"
      ]
     },
     "metadata": {},
     "output_type": "display_data"
    },
    {
     "name": "stdout",
     "output_type": "stream",
     "text": [
      "generating images for ROQUEFORT with prompt: best quality, high quality, image of Roquefort on a plain white background, with a plain white background, seen from a face view\n"
     ]
    },
    {
     "data": {
      "application/vnd.jupyter.widget-view+json": {
       "model_id": "6ac93a034da64a7abcb9d5823c9d5642",
       "version_major": 2,
       "version_minor": 0
      },
      "text/plain": [
       "  0%|          | 0/20 [00:00<?, ?it/s]"
      ]
     },
     "metadata": {},
     "output_type": "display_data"
    },
    {
     "name": "stdout",
     "output_type": "stream",
     "text": [
      "generating images for ROQUEFORT with prompt: best quality, high quality, image of Roquefort on a slate board, with a shop background, seen from above\n"
     ]
    },
    {
     "data": {
      "application/vnd.jupyter.widget-view+json": {
       "model_id": "57002890804544b1a624a31b5303dd8e",
       "version_major": 2,
       "version_minor": 0
      },
      "text/plain": [
       "  0%|          | 0/20 [00:00<?, ?it/s]"
      ]
     },
     "metadata": {},
     "output_type": "display_data"
    },
    {
     "name": "stdout",
     "output_type": "stream",
     "text": [
      "/Data/hala.gamouh/cheese_classification_challenge/dataset/val/ROQUEFORT/000016.jpg\n",
      "generating images for ROQUEFORT with prompt: best quality, high quality, image of Roquefort on a plain white background, with a plain white background, seen from a face view\n"
     ]
    },
    {
     "data": {
      "application/vnd.jupyter.widget-view+json": {
       "model_id": "e2869f17151840758f6b8b773a950c36",
       "version_major": 2,
       "version_minor": 0
      },
      "text/plain": [
       "  0%|          | 0/20 [00:00<?, ?it/s]"
      ]
     },
     "metadata": {},
     "output_type": "display_data"
    },
    {
     "name": "stdout",
     "output_type": "stream",
     "text": [
      "generating images for ROQUEFORT with prompt: best quality, high quality, image of Roquefort on a marble plate, with a kitchen background, seen from a side view\n"
     ]
    },
    {
     "data": {
      "application/vnd.jupyter.widget-view+json": {
       "model_id": "01e96bb8581942b2971310b4bd401722",
       "version_major": 2,
       "version_minor": 0
      },
      "text/plain": [
       "  0%|          | 0/20 [00:00<?, ?it/s]"
      ]
     },
     "metadata": {},
     "output_type": "display_data"
    },
    {
     "name": "stdout",
     "output_type": "stream",
     "text": [
      "generating images for ROQUEFORT with prompt: best quality, high quality, image of Roquefort on a marble plate, with a shop background, seen from an angled shot\n"
     ]
    },
    {
     "data": {
      "application/vnd.jupyter.widget-view+json": {
       "model_id": "61c4a767a22645c4b77841bcc9558e53",
       "version_major": 2,
       "version_minor": 0
      },
      "text/plain": [
       "  0%|          | 0/20 [00:00<?, ?it/s]"
      ]
     },
     "metadata": {},
     "output_type": "display_data"
    },
    {
     "name": "stdout",
     "output_type": "stream",
     "text": [
      "/Data/hala.gamouh/cheese_classification_challenge/dataset/val/ROQUEFORT/000017.jpg\n",
      "generating images for ROQUEFORT with prompt: best quality, high quality, image of Roquefort on a marble plate, with a shop background, seen from an angled shot\n"
     ]
    },
    {
     "data": {
      "application/vnd.jupyter.widget-view+json": {
       "model_id": "2ad44d82e88843da95809bede5f4d4fc",
       "version_major": 2,
       "version_minor": 0
      },
      "text/plain": [
       "  0%|          | 0/20 [00:00<?, ?it/s]"
      ]
     },
     "metadata": {},
     "output_type": "display_data"
    },
    {
     "name": "stdout",
     "output_type": "stream",
     "text": [
      "generating images for ROQUEFORT with prompt: best quality, high quality, image of Roquefort on a white plate, with a cheese factory background, seen from an angled shot\n"
     ]
    },
    {
     "data": {
      "application/vnd.jupyter.widget-view+json": {
       "model_id": "cd65a9e45b32420b9eb4a7e5597e65df",
       "version_major": 2,
       "version_minor": 0
      },
      "text/plain": [
       "  0%|          | 0/20 [00:00<?, ?it/s]"
      ]
     },
     "metadata": {},
     "output_type": "display_data"
    },
    {
     "name": "stdout",
     "output_type": "stream",
     "text": [
      "generating images for ROQUEFORT with prompt: best quality, high quality, image of Roquefort on a slate board, with a cheese cave background, seen from above\n"
     ]
    },
    {
     "data": {
      "application/vnd.jupyter.widget-view+json": {
       "model_id": "9d8c37053a9445c690a19fa6205f12d1",
       "version_major": 2,
       "version_minor": 0
      },
      "text/plain": [
       "  0%|          | 0/20 [00:00<?, ?it/s]"
      ]
     },
     "metadata": {},
     "output_type": "display_data"
    },
    {
     "name": "stdout",
     "output_type": "stream",
     "text": [
      "/Data/hala.gamouh/cheese_classification_challenge/dataset/val/ROQUEFORT/000018.jpg\n",
      "generating images for ROQUEFORT with prompt: best quality, high quality, image of Roquefort on a white plate, with a cheese factory background, seen from an angled shot\n"
     ]
    },
    {
     "data": {
      "application/vnd.jupyter.widget-view+json": {
       "model_id": "c0dbbb87e1af4d74b242b35acbfd40af",
       "version_major": 2,
       "version_minor": 0
      },
      "text/plain": [
       "  0%|          | 0/20 [00:00<?, ?it/s]"
      ]
     },
     "metadata": {},
     "output_type": "display_data"
    },
    {
     "name": "stdout",
     "output_type": "stream",
     "text": [
      "generating images for ROQUEFORT with prompt: best quality, high quality, image of Roquefort on a plain white background, with a cheese cave background, seen from a side view\n"
     ]
    },
    {
     "data": {
      "application/vnd.jupyter.widget-view+json": {
       "model_id": "b0f79644069148f4b63fa1f61a2784da",
       "version_major": 2,
       "version_minor": 0
      },
      "text/plain": [
       "  0%|          | 0/20 [00:00<?, ?it/s]"
      ]
     },
     "metadata": {},
     "output_type": "display_data"
    },
    {
     "name": "stdout",
     "output_type": "stream",
     "text": [
      "generating images for ROQUEFORT with prompt: best quality, high quality, image of Roquefort on a marble plate, with a shop background, seen from an angled shot\n"
     ]
    },
    {
     "data": {
      "application/vnd.jupyter.widget-view+json": {
       "model_id": "b610eba21b3b4a44892c75d139a2fcb5",
       "version_major": 2,
       "version_minor": 0
      },
      "text/plain": [
       "  0%|          | 0/20 [00:00<?, ?it/s]"
      ]
     },
     "metadata": {},
     "output_type": "display_data"
    },
    {
     "name": "stdout",
     "output_type": "stream",
     "text": [
      "/Data/hala.gamouh/cheese_classification_challenge/dataset/val/ROQUEFORT/000019.jpg\n",
      "generating images for ROQUEFORT with prompt: best quality, high quality, image of Roquefort on a slate board, with a shop background, seen from above\n"
     ]
    },
    {
     "data": {
      "application/vnd.jupyter.widget-view+json": {
       "model_id": "baf438efefbf41dcbcaeedc902c6fdff",
       "version_major": 2,
       "version_minor": 0
      },
      "text/plain": [
       "  0%|          | 0/20 [00:00<?, ?it/s]"
      ]
     },
     "metadata": {},
     "output_type": "display_data"
    },
    {
     "name": "stdout",
     "output_type": "stream",
     "text": [
      "generating images for ROQUEFORT with prompt: best quality, high quality, image of Roquefort on a wooden plate, with a kitchen background, seen from a side view\n"
     ]
    },
    {
     "data": {
      "application/vnd.jupyter.widget-view+json": {
       "model_id": "3e4a5cc18b80459392f7bf9f1762474a",
       "version_major": 2,
       "version_minor": 0
      },
      "text/plain": [
       "  0%|          | 0/20 [00:00<?, ?it/s]"
      ]
     },
     "metadata": {},
     "output_type": "display_data"
    },
    {
     "name": "stdout",
     "output_type": "stream",
     "text": [
      "generating images for ROQUEFORT with prompt: best quality, high quality, image of Roquefort on a slate board, with a cheese cave background, seen from above\n"
     ]
    },
    {
     "data": {
      "application/vnd.jupyter.widget-view+json": {
       "model_id": "2b9de2d0fca040909452f4d9d76d6244",
       "version_major": 2,
       "version_minor": 0
      },
      "text/plain": [
       "  0%|          | 0/20 [00:00<?, ?it/s]"
      ]
     },
     "metadata": {},
     "output_type": "display_data"
    },
    {
     "name": "stdout",
     "output_type": "stream",
     "text": [
      "/Data/hala.gamouh/cheese_classification_challenge/dataset/val/ROQUEFORT/000020.jpg\n",
      "generating images for ROQUEFORT with prompt: best quality, high quality, image of Roquefort on a white plate, with a plain white background, seen from above\n"
     ]
    },
    {
     "data": {
      "application/vnd.jupyter.widget-view+json": {
       "model_id": "c9ff4fecb9794278af44cb3fd22c9048",
       "version_major": 2,
       "version_minor": 0
      },
      "text/plain": [
       "  0%|          | 0/20 [00:00<?, ?it/s]"
      ]
     },
     "metadata": {},
     "output_type": "display_data"
    },
    {
     "name": "stdout",
     "output_type": "stream",
     "text": [
      "generating images for ROQUEFORT with prompt: best quality, high quality, image of Roquefort on a slate board, with a cheese cave background, seen from above\n"
     ]
    },
    {
     "data": {
      "application/vnd.jupyter.widget-view+json": {
       "model_id": "15c9f95413174772be74f67725f7dfd9",
       "version_major": 2,
       "version_minor": 0
      },
      "text/plain": [
       "  0%|          | 0/20 [00:00<?, ?it/s]"
      ]
     },
     "metadata": {},
     "output_type": "display_data"
    },
    {
     "name": "stdout",
     "output_type": "stream",
     "text": [
      "generating images for ROQUEFORT with prompt: best quality, high quality, image of Roquefort on a wooden plate, with a kitchen background, seen from a side view\n"
     ]
    },
    {
     "data": {
      "application/vnd.jupyter.widget-view+json": {
       "model_id": "7764b343d30749158b2917c55a6e04b4",
       "version_major": 2,
       "version_minor": 0
      },
      "text/plain": [
       "  0%|          | 0/20 [00:00<?, ?it/s]"
      ]
     },
     "metadata": {},
     "output_type": "display_data"
    },
    {
     "name": "stdout",
     "output_type": "stream",
     "text": [
      "/Data/hala.gamouh/cheese_classification_challenge/dataset/val/ROQUEFORT/000021.jpg\n",
      "generating images for ROQUEFORT with prompt: best quality, high quality, image of Roquefort on a wooden plate, with a kitchen background, seen from a side view\n"
     ]
    },
    {
     "data": {
      "application/vnd.jupyter.widget-view+json": {
       "model_id": "dbcc8b360aa245ebb86a7b1b45cf7120",
       "version_major": 2,
       "version_minor": 0
      },
      "text/plain": [
       "  0%|          | 0/20 [00:00<?, ?it/s]"
      ]
     },
     "metadata": {},
     "output_type": "display_data"
    },
    {
     "name": "stdout",
     "output_type": "stream",
     "text": [
      "generating images for ROQUEFORT with prompt: best quality, high quality, image of Roquefort on a wooden plate, with a kitchen background, seen from a side view\n"
     ]
    },
    {
     "data": {
      "application/vnd.jupyter.widget-view+json": {
       "model_id": "cdd78a4c6ba8424b9ad58e176e045c78",
       "version_major": 2,
       "version_minor": 0
      },
      "text/plain": [
       "  0%|          | 0/20 [00:00<?, ?it/s]"
      ]
     },
     "metadata": {},
     "output_type": "display_data"
    },
    {
     "name": "stdout",
     "output_type": "stream",
     "text": [
      "generating images for ROQUEFORT with prompt: best quality, high quality, image of Roquefort on a wooden plate, with a kitchen background, seen from a side view\n"
     ]
    },
    {
     "data": {
      "application/vnd.jupyter.widget-view+json": {
       "model_id": "18cc067f9d364725b30901484fe7cbff",
       "version_major": 2,
       "version_minor": 0
      },
      "text/plain": [
       "  0%|          | 0/20 [00:00<?, ?it/s]"
      ]
     },
     "metadata": {},
     "output_type": "display_data"
    },
    {
     "name": "stdout",
     "output_type": "stream",
     "text": [
      "/Data/hala.gamouh/cheese_classification_challenge/dataset/val/ROQUEFORT/000022.jpg\n",
      "generating images for ROQUEFORT with prompt: best quality, high quality, image of Roquefort on a marble plate, with a shop background, seen from an angled shot\n"
     ]
    },
    {
     "data": {
      "application/vnd.jupyter.widget-view+json": {
       "model_id": "d5aa87bf884f40cab5fba780d9ffcec5",
       "version_major": 2,
       "version_minor": 0
      },
      "text/plain": [
       "  0%|          | 0/20 [00:00<?, ?it/s]"
      ]
     },
     "metadata": {},
     "output_type": "display_data"
    },
    {
     "name": "stdout",
     "output_type": "stream",
     "text": [
      "generating images for ROQUEFORT with prompt: best quality, high quality, image of Roquefort on a wooden plate, with a kitchen background, seen from a side view\n"
     ]
    },
    {
     "data": {
      "application/vnd.jupyter.widget-view+json": {
       "model_id": "e1c697e4a6af4cdd9ce4d2917c02a0e2",
       "version_major": 2,
       "version_minor": 0
      },
      "text/plain": [
       "  0%|          | 0/20 [00:00<?, ?it/s]"
      ]
     },
     "metadata": {},
     "output_type": "display_data"
    },
    {
     "name": "stdout",
     "output_type": "stream",
     "text": [
      "generating images for ROQUEFORT with prompt: best quality, high quality, image of Roquefort on a slate board, with a cheese cave background, seen from above\n"
     ]
    },
    {
     "data": {
      "application/vnd.jupyter.widget-view+json": {
       "model_id": "e1fb3e73c00248c4b7b20f1d7dff1ede",
       "version_major": 2,
       "version_minor": 0
      },
      "text/plain": [
       "  0%|          | 0/20 [00:00<?, ?it/s]"
      ]
     },
     "metadata": {},
     "output_type": "display_data"
    },
    {
     "name": "stdout",
     "output_type": "stream",
     "text": [
      "/Data/hala.gamouh/cheese_classification_challenge/dataset/val/ROQUEFORT/000023.jpg\n",
      "generating images for ROQUEFORT with prompt: best quality, high quality, image of Roquefort on a white plate, with a cheese factory background, seen from an angled shot\n"
     ]
    },
    {
     "data": {
      "application/vnd.jupyter.widget-view+json": {
       "model_id": "77b1f16a461c424d92749dec3a523965",
       "version_major": 2,
       "version_minor": 0
      },
      "text/plain": [
       "  0%|          | 0/20 [00:00<?, ?it/s]"
      ]
     },
     "metadata": {},
     "output_type": "display_data"
    },
    {
     "name": "stdout",
     "output_type": "stream",
     "text": [
      "generating images for ROQUEFORT with prompt: best quality, high quality, image of Roquefort on a white plate, with a plain white background, seen from above\n"
     ]
    },
    {
     "data": {
      "application/vnd.jupyter.widget-view+json": {
       "model_id": "f362230384a34b16bf6d74a498919794",
       "version_major": 2,
       "version_minor": 0
      },
      "text/plain": [
       "  0%|          | 0/20 [00:00<?, ?it/s]"
      ]
     },
     "metadata": {},
     "output_type": "display_data"
    },
    {
     "name": "stdout",
     "output_type": "stream",
     "text": [
      "generating images for ROQUEFORT with prompt: best quality, high quality, image of Roquefort on a marble plate, with a shop background, seen from an angled shot\n"
     ]
    },
    {
     "data": {
      "application/vnd.jupyter.widget-view+json": {
       "model_id": "f143fbba449041a8be0c5dd3a93ce892",
       "version_major": 2,
       "version_minor": 0
      },
      "text/plain": [
       "  0%|          | 0/20 [00:00<?, ?it/s]"
      ]
     },
     "metadata": {},
     "output_type": "display_data"
    },
    {
     "name": "stdout",
     "output_type": "stream",
     "text": [
      "/Data/hala.gamouh/cheese_classification_challenge/dataset/val/ROQUEFORT/000024.jpg\n",
      "generating images for ROQUEFORT with prompt: best quality, high quality, image of Roquefort on a plain white background, with a plain white background, seen from a face view\n"
     ]
    },
    {
     "data": {
      "application/vnd.jupyter.widget-view+json": {
       "model_id": "0786d8b47b26438dbff58a849c77b108",
       "version_major": 2,
       "version_minor": 0
      },
      "text/plain": [
       "  0%|          | 0/20 [00:00<?, ?it/s]"
      ]
     },
     "metadata": {},
     "output_type": "display_data"
    },
    {
     "name": "stdout",
     "output_type": "stream",
     "text": [
      "generating images for ROQUEFORT with prompt: best quality, high quality, image of Roquefort on a slate board, with a shop background, seen from above\n"
     ]
    },
    {
     "data": {
      "application/vnd.jupyter.widget-view+json": {
       "model_id": "0697272b23ba4f5a8e6bfb565a4c9dfe",
       "version_major": 2,
       "version_minor": 0
      },
      "text/plain": [
       "  0%|          | 0/20 [00:00<?, ?it/s]"
      ]
     },
     "metadata": {},
     "output_type": "display_data"
    },
    {
     "name": "stdout",
     "output_type": "stream",
     "text": [
      "generating images for ROQUEFORT with prompt: best quality, high quality, image of Roquefort on a wooden plate, with a plain white background, seen from above\n"
     ]
    },
    {
     "data": {
      "application/vnd.jupyter.widget-view+json": {
       "model_id": "6b0bffca187849bd912ea39df1acb154",
       "version_major": 2,
       "version_minor": 0
      },
      "text/plain": [
       "  0%|          | 0/20 [00:00<?, ?it/s]"
      ]
     },
     "metadata": {},
     "output_type": "display_data"
    },
    {
     "name": "stdout",
     "output_type": "stream",
     "text": [
      "/Data/hala.gamouh/cheese_classification_challenge/dataset/val/STILTON/000000.jpg\n",
      "generating images for STILTON with prompt: best quality, high quality, image of Stilton on a white plate, with a cheese factory background, seen from an angled shot\n"
     ]
    },
    {
     "data": {
      "application/vnd.jupyter.widget-view+json": {
       "model_id": "171c6efb300a4b62a44e3b4b22c44126",
       "version_major": 2,
       "version_minor": 0
      },
      "text/plain": [
       "  0%|          | 0/20 [00:00<?, ?it/s]"
      ]
     },
     "metadata": {},
     "output_type": "display_data"
    },
    {
     "name": "stdout",
     "output_type": "stream",
     "text": [
      "generating images for STILTON with prompt: best quality, high quality, image of Stilton on a slate board, with a cheese cave background, seen from above\n"
     ]
    },
    {
     "data": {
      "application/vnd.jupyter.widget-view+json": {
       "model_id": "6d41e0c063f343a0a8d256c870c9152c",
       "version_major": 2,
       "version_minor": 0
      },
      "text/plain": [
       "  0%|          | 0/20 [00:00<?, ?it/s]"
      ]
     },
     "metadata": {},
     "output_type": "display_data"
    },
    {
     "name": "stdout",
     "output_type": "stream",
     "text": [
      "generating images for STILTON with prompt: best quality, high quality, image of Stilton on a wooden plate, with a plain white background, seen from above\n"
     ]
    },
    {
     "data": {
      "application/vnd.jupyter.widget-view+json": {
       "model_id": "c8ac5ff798304d9f93055497c669ae1f",
       "version_major": 2,
       "version_minor": 0
      },
      "text/plain": [
       "  0%|          | 0/20 [00:00<?, ?it/s]"
      ]
     },
     "metadata": {},
     "output_type": "display_data"
    },
    {
     "name": "stdout",
     "output_type": "stream",
     "text": [
      "/Data/hala.gamouh/cheese_classification_challenge/dataset/val/STILTON/000001.jpg\n",
      "generating images for STILTON with prompt: best quality, high quality, image of Stilton on a slate board, with a shop background, seen from above\n"
     ]
    },
    {
     "data": {
      "application/vnd.jupyter.widget-view+json": {
       "model_id": "c6cb7b776fad43d880df96d6ac1c64e1",
       "version_major": 2,
       "version_minor": 0
      },
      "text/plain": [
       "  0%|          | 0/20 [00:00<?, ?it/s]"
      ]
     },
     "metadata": {},
     "output_type": "display_data"
    },
    {
     "name": "stdout",
     "output_type": "stream",
     "text": [
      "generating images for STILTON with prompt: best quality, high quality, image of Stilton on a white plate, with a cheese factory background, seen from an angled shot\n"
     ]
    },
    {
     "data": {
      "application/vnd.jupyter.widget-view+json": {
       "model_id": "30e055c258a84022985266dafb41ee4c",
       "version_major": 2,
       "version_minor": 0
      },
      "text/plain": [
       "  0%|          | 0/20 [00:00<?, ?it/s]"
      ]
     },
     "metadata": {},
     "output_type": "display_data"
    },
    {
     "name": "stdout",
     "output_type": "stream",
     "text": [
      "generating images for STILTON with prompt: best quality, high quality, image of Stilton on a marble plate, with a shop background, seen from an angled shot\n"
     ]
    },
    {
     "data": {
      "application/vnd.jupyter.widget-view+json": {
       "model_id": "51b92935218e4c169094bce2a6480098",
       "version_major": 2,
       "version_minor": 0
      },
      "text/plain": [
       "  0%|          | 0/20 [00:00<?, ?it/s]"
      ]
     },
     "metadata": {},
     "output_type": "display_data"
    },
    {
     "name": "stdout",
     "output_type": "stream",
     "text": [
      "/Data/hala.gamouh/cheese_classification_challenge/dataset/val/STILTON/000002.jpg\n",
      "generating images for STILTON with prompt: best quality, high quality, image of Stilton on a wooden plate, with a plain white background, seen from above\n"
     ]
    },
    {
     "data": {
      "application/vnd.jupyter.widget-view+json": {
       "model_id": "e19198bcdc8744cea9ab98adbee921b1",
       "version_major": 2,
       "version_minor": 0
      },
      "text/plain": [
       "  0%|          | 0/20 [00:00<?, ?it/s]"
      ]
     },
     "metadata": {},
     "output_type": "display_data"
    },
    {
     "name": "stdout",
     "output_type": "stream",
     "text": [
      "generating images for STILTON with prompt: best quality, high quality, image of Stilton on a plain white background, with a plain white background, seen from a face view\n"
     ]
    },
    {
     "data": {
      "application/vnd.jupyter.widget-view+json": {
       "model_id": "ce21b09b458f4c9da9afaf4dad9bec1a",
       "version_major": 2,
       "version_minor": 0
      },
      "text/plain": [
       "  0%|          | 0/20 [00:00<?, ?it/s]"
      ]
     },
     "metadata": {},
     "output_type": "display_data"
    },
    {
     "name": "stdout",
     "output_type": "stream",
     "text": [
      "generating images for STILTON with prompt: best quality, high quality, in its packaging\n"
     ]
    },
    {
     "data": {
      "application/vnd.jupyter.widget-view+json": {
       "model_id": "cafdf37e646249b5bcd6bd4af16133f5",
       "version_major": 2,
       "version_minor": 0
      },
      "text/plain": [
       "  0%|          | 0/20 [00:00<?, ?it/s]"
      ]
     },
     "metadata": {},
     "output_type": "display_data"
    },
    {
     "name": "stdout",
     "output_type": "stream",
     "text": [
      "/Data/hala.gamouh/cheese_classification_challenge/dataset/val/STILTON/000003.jpg\n",
      "generating images for STILTON with prompt: best quality, high quality, image of Stilton on a plain white background, with a plain white background, seen from a face view\n"
     ]
    },
    {
     "data": {
      "application/vnd.jupyter.widget-view+json": {
       "model_id": "9fc9b71ceddd4463879af49e3b610fb8",
       "version_major": 2,
       "version_minor": 0
      },
      "text/plain": [
       "  0%|          | 0/20 [00:00<?, ?it/s]"
      ]
     },
     "metadata": {},
     "output_type": "display_data"
    },
    {
     "name": "stdout",
     "output_type": "stream",
     "text": [
      "generating images for STILTON with prompt: best quality, high quality, image of Stilton on a slate board, with a cheese cave background, seen from above\n"
     ]
    },
    {
     "data": {
      "application/vnd.jupyter.widget-view+json": {
       "model_id": "49ffa62224494f13bece64c63c48a882",
       "version_major": 2,
       "version_minor": 0
      },
      "text/plain": [
       "  0%|          | 0/20 [00:00<?, ?it/s]"
      ]
     },
     "metadata": {},
     "output_type": "display_data"
    },
    {
     "name": "stdout",
     "output_type": "stream",
     "text": [
      "generating images for STILTON with prompt: best quality, high quality, image of Stilton on a slate board, with a cheese cave background, seen from above\n"
     ]
    },
    {
     "data": {
      "application/vnd.jupyter.widget-view+json": {
       "model_id": "0417ff7440a04bad9989b84615d245af",
       "version_major": 2,
       "version_minor": 0
      },
      "text/plain": [
       "  0%|          | 0/20 [00:00<?, ?it/s]"
      ]
     },
     "metadata": {},
     "output_type": "display_data"
    },
    {
     "name": "stdout",
     "output_type": "stream",
     "text": [
      "/Data/hala.gamouh/cheese_classification_challenge/dataset/val/STILTON/000004.jpg\n",
      "generating images for STILTON with prompt: best quality, high quality, image of Stilton on a slate board, with a cheese cave background, seen from above\n"
     ]
    },
    {
     "data": {
      "application/vnd.jupyter.widget-view+json": {
       "model_id": "19af7caf572e4eb287eb466c11e06d7c",
       "version_major": 2,
       "version_minor": 0
      },
      "text/plain": [
       "  0%|          | 0/20 [00:00<?, ?it/s]"
      ]
     },
     "metadata": {},
     "output_type": "display_data"
    },
    {
     "name": "stdout",
     "output_type": "stream",
     "text": [
      "generating images for STILTON with prompt: best quality, high quality, image of Stilton on a marble plate, with a kitchen background, seen from a side view\n"
     ]
    },
    {
     "data": {
      "application/vnd.jupyter.widget-view+json": {
       "model_id": "f241f763600845d7bbbdb91139fa84bc",
       "version_major": 2,
       "version_minor": 0
      },
      "text/plain": [
       "  0%|          | 0/20 [00:00<?, ?it/s]"
      ]
     },
     "metadata": {},
     "output_type": "display_data"
    },
    {
     "name": "stdout",
     "output_type": "stream",
     "text": [
      "generating images for STILTON with prompt: best quality, high quality, image of Stilton on a plain white background, with a plain white background, seen from a face view\n"
     ]
    },
    {
     "data": {
      "application/vnd.jupyter.widget-view+json": {
       "model_id": "570c257c85604bf6ae69499343fa03c2",
       "version_major": 2,
       "version_minor": 0
      },
      "text/plain": [
       "  0%|          | 0/20 [00:00<?, ?it/s]"
      ]
     },
     "metadata": {},
     "output_type": "display_data"
    },
    {
     "name": "stdout",
     "output_type": "stream",
     "text": [
      "/Data/hala.gamouh/cheese_classification_challenge/dataset/val/STILTON/000005.jpg\n",
      "generating images for STILTON with prompt: best quality, high quality, image of Stilton on a wooden plate, with a kitchen background, seen from a side view\n"
     ]
    },
    {
     "data": {
      "application/vnd.jupyter.widget-view+json": {
       "model_id": "4921f91bed5144a780a7a54a6e28d644",
       "version_major": 2,
       "version_minor": 0
      },
      "text/plain": [
       "  0%|          | 0/20 [00:00<?, ?it/s]"
      ]
     },
     "metadata": {},
     "output_type": "display_data"
    },
    {
     "name": "stdout",
     "output_type": "stream",
     "text": [
      "generating images for STILTON with prompt: best quality, high quality, image of Stilton on a marble plate, with a kitchen background, seen from a side view\n"
     ]
    },
    {
     "data": {
      "application/vnd.jupyter.widget-view+json": {
       "model_id": "7f33dbcc2a40417882130c25e6b567d6",
       "version_major": 2,
       "version_minor": 0
      },
      "text/plain": [
       "  0%|          | 0/20 [00:00<?, ?it/s]"
      ]
     },
     "metadata": {},
     "output_type": "display_data"
    },
    {
     "name": "stdout",
     "output_type": "stream",
     "text": [
      "generating images for STILTON with prompt: best quality, high quality, image of Stilton on a plain white background, with a cheese cave background, seen from a side view\n"
     ]
    },
    {
     "data": {
      "application/vnd.jupyter.widget-view+json": {
       "model_id": "f01e532fcd924eba954a127bd5ddbb0b",
       "version_major": 2,
       "version_minor": 0
      },
      "text/plain": [
       "  0%|          | 0/20 [00:00<?, ?it/s]"
      ]
     },
     "metadata": {},
     "output_type": "display_data"
    },
    {
     "name": "stdout",
     "output_type": "stream",
     "text": [
      "/Data/hala.gamouh/cheese_classification_challenge/dataset/val/STILTON/000006.jpg\n",
      "generating images for STILTON with prompt: best quality, high quality, in its packaging\n"
     ]
    },
    {
     "data": {
      "application/vnd.jupyter.widget-view+json": {
       "model_id": "b76bb2716c69419f9e9e0731773e5835",
       "version_major": 2,
       "version_minor": 0
      },
      "text/plain": [
       "  0%|          | 0/20 [00:00<?, ?it/s]"
      ]
     },
     "metadata": {},
     "output_type": "display_data"
    },
    {
     "name": "stdout",
     "output_type": "stream",
     "text": [
      "generating images for STILTON with prompt: best quality, high quality, image of Stilton on a white plate, with a plain white background, seen from above\n"
     ]
    },
    {
     "data": {
      "application/vnd.jupyter.widget-view+json": {
       "model_id": "aa93d5f3fd434ab98599515d1e89afb7",
       "version_major": 2,
       "version_minor": 0
      },
      "text/plain": [
       "  0%|          | 0/20 [00:00<?, ?it/s]"
      ]
     },
     "metadata": {},
     "output_type": "display_data"
    },
    {
     "name": "stdout",
     "output_type": "stream",
     "text": [
      "generating images for STILTON with prompt: best quality, high quality, in its packaging\n"
     ]
    },
    {
     "data": {
      "application/vnd.jupyter.widget-view+json": {
       "model_id": "efd71e32cfce456dbc90ff3406f1c3d3",
       "version_major": 2,
       "version_minor": 0
      },
      "text/plain": [
       "  0%|          | 0/20 [00:00<?, ?it/s]"
      ]
     },
     "metadata": {},
     "output_type": "display_data"
    },
    {
     "name": "stdout",
     "output_type": "stream",
     "text": [
      "/Data/hala.gamouh/cheese_classification_challenge/dataset/val/STILTON/000007.jpg\n",
      "generating images for STILTON with prompt: best quality, high quality, image of Stilton on a marble plate, with a kitchen background, seen from a side view\n"
     ]
    },
    {
     "data": {
      "application/vnd.jupyter.widget-view+json": {
       "model_id": "1f7a610a62e74fa9b5fc611e4bc7c211",
       "version_major": 2,
       "version_minor": 0
      },
      "text/plain": [
       "  0%|          | 0/20 [00:00<?, ?it/s]"
      ]
     },
     "metadata": {},
     "output_type": "display_data"
    },
    {
     "name": "stdout",
     "output_type": "stream",
     "text": [
      "generating images for STILTON with prompt: best quality, high quality, image of Stilton on a white plate, with a cheese factory background, seen from an angled shot\n"
     ]
    },
    {
     "data": {
      "application/vnd.jupyter.widget-view+json": {
       "model_id": "e0a290004de745c1b85afae10dffa858",
       "version_major": 2,
       "version_minor": 0
      },
      "text/plain": [
       "  0%|          | 0/20 [00:00<?, ?it/s]"
      ]
     },
     "metadata": {},
     "output_type": "display_data"
    },
    {
     "name": "stdout",
     "output_type": "stream",
     "text": [
      "generating images for STILTON with prompt: best quality, high quality, image of Stilton on a wooden plate, with a kitchen background, seen from a side view\n"
     ]
    },
    {
     "data": {
      "application/vnd.jupyter.widget-view+json": {
       "model_id": "27eb09db2e6744b0aeff5eb556251770",
       "version_major": 2,
       "version_minor": 0
      },
      "text/plain": [
       "  0%|          | 0/20 [00:00<?, ?it/s]"
      ]
     },
     "metadata": {},
     "output_type": "display_data"
    },
    {
     "name": "stdout",
     "output_type": "stream",
     "text": [
      "/Data/hala.gamouh/cheese_classification_challenge/dataset/val/STILTON/000008.jpg\n",
      "generating images for STILTON with prompt: best quality, high quality, image of Stilton on a white plate, with a plain white background, seen from above\n"
     ]
    },
    {
     "data": {
      "application/vnd.jupyter.widget-view+json": {
       "model_id": "f35f3816ab3942c88b0470e55206dd84",
       "version_major": 2,
       "version_minor": 0
      },
      "text/plain": [
       "  0%|          | 0/20 [00:00<?, ?it/s]"
      ]
     },
     "metadata": {},
     "output_type": "display_data"
    },
    {
     "name": "stdout",
     "output_type": "stream",
     "text": [
      "generating images for STILTON with prompt: best quality, high quality, image of Stilton on a plain white background, with a cheese cave background, seen from a side view\n"
     ]
    },
    {
     "data": {
      "application/vnd.jupyter.widget-view+json": {
       "model_id": "67dcd93464bc4843a522639998054575",
       "version_major": 2,
       "version_minor": 0
      },
      "text/plain": [
       "  0%|          | 0/20 [00:00<?, ?it/s]"
      ]
     },
     "metadata": {},
     "output_type": "display_data"
    },
    {
     "name": "stdout",
     "output_type": "stream",
     "text": [
      "generating images for STILTON with prompt: best quality, high quality, image of Stilton on a marble plate, with a shop background, seen from an angled shot\n"
     ]
    },
    {
     "data": {
      "application/vnd.jupyter.widget-view+json": {
       "model_id": "b51d56893f6d4d75a4ec368195a996d1",
       "version_major": 2,
       "version_minor": 0
      },
      "text/plain": [
       "  0%|          | 0/20 [00:00<?, ?it/s]"
      ]
     },
     "metadata": {},
     "output_type": "display_data"
    },
    {
     "name": "stdout",
     "output_type": "stream",
     "text": [
      "/Data/hala.gamouh/cheese_classification_challenge/dataset/val/STILTON/000009.jpg\n",
      "generating images for STILTON with prompt: best quality, high quality, image of Stilton on a white plate, with a plain white background, seen from above\n"
     ]
    },
    {
     "data": {
      "application/vnd.jupyter.widget-view+json": {
       "model_id": "761f49b472324de5bde528cc78b7e046",
       "version_major": 2,
       "version_minor": 0
      },
      "text/plain": [
       "  0%|          | 0/20 [00:00<?, ?it/s]"
      ]
     },
     "metadata": {},
     "output_type": "display_data"
    },
    {
     "name": "stdout",
     "output_type": "stream",
     "text": [
      "generating images for STILTON with prompt: best quality, high quality, image of Stilton on a slate board, with a shop background, seen from above\n"
     ]
    },
    {
     "data": {
      "application/vnd.jupyter.widget-view+json": {
       "model_id": "4631feeb2e1c464888d6e0bbfe548de8",
       "version_major": 2,
       "version_minor": 0
      },
      "text/plain": [
       "  0%|          | 0/20 [00:00<?, ?it/s]"
      ]
     },
     "metadata": {},
     "output_type": "display_data"
    },
    {
     "name": "stdout",
     "output_type": "stream",
     "text": [
      "generating images for STILTON with prompt: best quality, high quality, in its packaging\n"
     ]
    },
    {
     "data": {
      "application/vnd.jupyter.widget-view+json": {
       "model_id": "f1115a6a5a63469eabdd86caa2924117",
       "version_major": 2,
       "version_minor": 0
      },
      "text/plain": [
       "  0%|          | 0/20 [00:00<?, ?it/s]"
      ]
     },
     "metadata": {},
     "output_type": "display_data"
    },
    {
     "name": "stdout",
     "output_type": "stream",
     "text": [
      "/Data/hala.gamouh/cheese_classification_challenge/dataset/val/STILTON/000010.jpg\n",
      "generating images for STILTON with prompt: best quality, high quality, image of Stilton on a slate board, with a cheese cave background, seen from above\n"
     ]
    },
    {
     "data": {
      "application/vnd.jupyter.widget-view+json": {
       "model_id": "fbfa6de4fed542f58cfe93d14d6fd312",
       "version_major": 2,
       "version_minor": 0
      },
      "text/plain": [
       "  0%|          | 0/20 [00:00<?, ?it/s]"
      ]
     },
     "metadata": {},
     "output_type": "display_data"
    },
    {
     "name": "stdout",
     "output_type": "stream",
     "text": [
      "generating images for STILTON with prompt: best quality, high quality, in its packaging\n"
     ]
    },
    {
     "data": {
      "application/vnd.jupyter.widget-view+json": {
       "model_id": "0167d4bfec19466e8c1ab69760c05af7",
       "version_major": 2,
       "version_minor": 0
      },
      "text/plain": [
       "  0%|          | 0/20 [00:00<?, ?it/s]"
      ]
     },
     "metadata": {},
     "output_type": "display_data"
    },
    {
     "name": "stdout",
     "output_type": "stream",
     "text": [
      "generating images for STILTON with prompt: best quality, high quality, image of Stilton on a wooden plate, with a kitchen background, seen from a side view\n"
     ]
    },
    {
     "data": {
      "application/vnd.jupyter.widget-view+json": {
       "model_id": "4787b7a8fdca4c35a2a204f0a75bec31",
       "version_major": 2,
       "version_minor": 0
      },
      "text/plain": [
       "  0%|          | 0/20 [00:00<?, ?it/s]"
      ]
     },
     "metadata": {},
     "output_type": "display_data"
    },
    {
     "name": "stdout",
     "output_type": "stream",
     "text": [
      "/Data/hala.gamouh/cheese_classification_challenge/dataset/val/STILTON/000011.jpg\n",
      "generating images for STILTON with prompt: best quality, high quality, image of Stilton on a plain white background, with a plain white background, seen from a face view\n"
     ]
    },
    {
     "data": {
      "application/vnd.jupyter.widget-view+json": {
       "model_id": "cb8a39bae507473cae85c255adc92f0d",
       "version_major": 2,
       "version_minor": 0
      },
      "text/plain": [
       "  0%|          | 0/20 [00:00<?, ?it/s]"
      ]
     },
     "metadata": {},
     "output_type": "display_data"
    },
    {
     "name": "stdout",
     "output_type": "stream",
     "text": [
      "generating images for STILTON with prompt: best quality, high quality, image of Stilton on a plain white background, with a cheese cave background, seen from a side view\n"
     ]
    },
    {
     "data": {
      "application/vnd.jupyter.widget-view+json": {
       "model_id": "3cf804c4c9b14ccf9daf0c604ffee28c",
       "version_major": 2,
       "version_minor": 0
      },
      "text/plain": [
       "  0%|          | 0/20 [00:00<?, ?it/s]"
      ]
     },
     "metadata": {},
     "output_type": "display_data"
    },
    {
     "name": "stdout",
     "output_type": "stream",
     "text": [
      "generating images for STILTON with prompt: best quality, high quality, image of Stilton on a plain white background, with a plain white background, seen from a face view\n"
     ]
    },
    {
     "data": {
      "application/vnd.jupyter.widget-view+json": {
       "model_id": "a3f0778c19e64482a126be6853fd1a6c",
       "version_major": 2,
       "version_minor": 0
      },
      "text/plain": [
       "  0%|          | 0/20 [00:00<?, ?it/s]"
      ]
     },
     "metadata": {},
     "output_type": "display_data"
    },
    {
     "name": "stdout",
     "output_type": "stream",
     "text": [
      "/Data/hala.gamouh/cheese_classification_challenge/dataset/val/STILTON/000012.jpg\n",
      "generating images for STILTON with prompt: best quality, high quality, image of Stilton on a slate board, with a shop background, seen from above\n"
     ]
    },
    {
     "data": {
      "application/vnd.jupyter.widget-view+json": {
       "model_id": "d462348615a445eeb95c626e765538c9",
       "version_major": 2,
       "version_minor": 0
      },
      "text/plain": [
       "  0%|          | 0/20 [00:00<?, ?it/s]"
      ]
     },
     "metadata": {},
     "output_type": "display_data"
    },
    {
     "name": "stdout",
     "output_type": "stream",
     "text": [
      "generating images for STILTON with prompt: best quality, high quality, image of Stilton on a slate board, with a cheese cave background, seen from above\n"
     ]
    },
    {
     "data": {
      "application/vnd.jupyter.widget-view+json": {
       "model_id": "dffd57e04c9a4588963c932a40b93092",
       "version_major": 2,
       "version_minor": 0
      },
      "text/plain": [
       "  0%|          | 0/20 [00:00<?, ?it/s]"
      ]
     },
     "metadata": {},
     "output_type": "display_data"
    },
    {
     "name": "stdout",
     "output_type": "stream",
     "text": [
      "generating images for STILTON with prompt: best quality, high quality, image of Stilton on a wooden plate, with a kitchen background, seen from a side view\n"
     ]
    },
    {
     "data": {
      "application/vnd.jupyter.widget-view+json": {
       "model_id": "630007be216e4085a088b63d3e63b3b2",
       "version_major": 2,
       "version_minor": 0
      },
      "text/plain": [
       "  0%|          | 0/20 [00:00<?, ?it/s]"
      ]
     },
     "metadata": {},
     "output_type": "display_data"
    },
    {
     "name": "stdout",
     "output_type": "stream",
     "text": [
      "/Data/hala.gamouh/cheese_classification_challenge/dataset/val/STILTON/000013.jpg\n",
      "generating images for STILTON with prompt: best quality, high quality, image of Stilton on a white plate, with a cheese factory background, seen from an angled shot\n"
     ]
    },
    {
     "data": {
      "application/vnd.jupyter.widget-view+json": {
       "model_id": "552901c5d09f44019a0ee8921eee1f97",
       "version_major": 2,
       "version_minor": 0
      },
      "text/plain": [
       "  0%|          | 0/20 [00:00<?, ?it/s]"
      ]
     },
     "metadata": {},
     "output_type": "display_data"
    },
    {
     "name": "stdout",
     "output_type": "stream",
     "text": [
      "generating images for STILTON with prompt: best quality, high quality, image of Stilton on a plain white background, with a cheese cave background, seen from a side view\n"
     ]
    },
    {
     "data": {
      "application/vnd.jupyter.widget-view+json": {
       "model_id": "ca407ba6ae5c427cb549a54e8ab431b8",
       "version_major": 2,
       "version_minor": 0
      },
      "text/plain": [
       "  0%|          | 0/20 [00:00<?, ?it/s]"
      ]
     },
     "metadata": {},
     "output_type": "display_data"
    },
    {
     "name": "stdout",
     "output_type": "stream",
     "text": [
      "generating images for STILTON with prompt: best quality, high quality, image of Stilton on a white plate, with a plain white background, seen from above\n"
     ]
    },
    {
     "data": {
      "application/vnd.jupyter.widget-view+json": {
       "model_id": "a8b20fc579094566807caba80b4e3d62",
       "version_major": 2,
       "version_minor": 0
      },
      "text/plain": [
       "  0%|          | 0/20 [00:00<?, ?it/s]"
      ]
     },
     "metadata": {},
     "output_type": "display_data"
    },
    {
     "name": "stdout",
     "output_type": "stream",
     "text": [
      "/Data/hala.gamouh/cheese_classification_challenge/dataset/val/STILTON/000014.jpg\n",
      "generating images for STILTON with prompt: best quality, high quality, image of Stilton on a plain white background, with a cheese cave background, seen from a side view\n"
     ]
    },
    {
     "data": {
      "application/vnd.jupyter.widget-view+json": {
       "model_id": "e729335d8933419fbe4378105237bd62",
       "version_major": 2,
       "version_minor": 0
      },
      "text/plain": [
       "  0%|          | 0/20 [00:00<?, ?it/s]"
      ]
     },
     "metadata": {},
     "output_type": "display_data"
    },
    {
     "name": "stdout",
     "output_type": "stream",
     "text": [
      "generating images for STILTON with prompt: best quality, high quality, image of Stilton on a wooden plate, with a plain white background, seen from above\n"
     ]
    },
    {
     "data": {
      "application/vnd.jupyter.widget-view+json": {
       "model_id": "208ca47dd56b4064ba544e090ccad94e",
       "version_major": 2,
       "version_minor": 0
      },
      "text/plain": [
       "  0%|          | 0/20 [00:00<?, ?it/s]"
      ]
     },
     "metadata": {},
     "output_type": "display_data"
    },
    {
     "name": "stdout",
     "output_type": "stream",
     "text": [
      "generating images for STILTON with prompt: best quality, high quality, image of Stilton on a white plate, with a plain white background, seen from above\n"
     ]
    },
    {
     "data": {
      "application/vnd.jupyter.widget-view+json": {
       "model_id": "e3a63735493b4bbe8c2d4b70d160b6a0",
       "version_major": 2,
       "version_minor": 0
      },
      "text/plain": [
       "  0%|          | 0/20 [00:00<?, ?it/s]"
      ]
     },
     "metadata": {},
     "output_type": "display_data"
    },
    {
     "name": "stdout",
     "output_type": "stream",
     "text": [
      "/Data/hala.gamouh/cheese_classification_challenge/dataset/val/STILTON/000015.jpg\n",
      "generating images for STILTON with prompt: best quality, high quality, image of Stilton on a wooden plate, with a kitchen background, seen from a side view\n"
     ]
    },
    {
     "data": {
      "application/vnd.jupyter.widget-view+json": {
       "model_id": "e4d2080a69b24b509240df1eaca7b1e1",
       "version_major": 2,
       "version_minor": 0
      },
      "text/plain": [
       "  0%|          | 0/20 [00:00<?, ?it/s]"
      ]
     },
     "metadata": {},
     "output_type": "display_data"
    },
    {
     "name": "stdout",
     "output_type": "stream",
     "text": [
      "generating images for STILTON with prompt: best quality, high quality, image of Stilton on a slate board, with a shop background, seen from above\n"
     ]
    },
    {
     "data": {
      "application/vnd.jupyter.widget-view+json": {
       "model_id": "b2e3a23bdab34aca893047226cd328ca",
       "version_major": 2,
       "version_minor": 0
      },
      "text/plain": [
       "  0%|          | 0/20 [00:00<?, ?it/s]"
      ]
     },
     "metadata": {},
     "output_type": "display_data"
    },
    {
     "name": "stdout",
     "output_type": "stream",
     "text": [
      "generating images for STILTON with prompt: best quality, high quality, image of Stilton on a marble plate, with a kitchen background, seen from a side view\n"
     ]
    },
    {
     "data": {
      "application/vnd.jupyter.widget-view+json": {
       "model_id": "ea8472aa0cf74137afaa494c302f3f6a",
       "version_major": 2,
       "version_minor": 0
      },
      "text/plain": [
       "  0%|          | 0/20 [00:00<?, ?it/s]"
      ]
     },
     "metadata": {},
     "output_type": "display_data"
    },
    {
     "name": "stdout",
     "output_type": "stream",
     "text": [
      "/Data/hala.gamouh/cheese_classification_challenge/dataset/val/STILTON/000016.jpg\n",
      "generating images for STILTON with prompt: best quality, high quality, in its packaging\n"
     ]
    },
    {
     "data": {
      "application/vnd.jupyter.widget-view+json": {
       "model_id": "d52f361f9fe445bd8229b65a6bfa3caf",
       "version_major": 2,
       "version_minor": 0
      },
      "text/plain": [
       "  0%|          | 0/20 [00:00<?, ?it/s]"
      ]
     },
     "metadata": {},
     "output_type": "display_data"
    },
    {
     "name": "stdout",
     "output_type": "stream",
     "text": [
      "generating images for STILTON with prompt: best quality, high quality, image of Stilton on a white plate, with a cheese factory background, seen from an angled shot\n"
     ]
    },
    {
     "data": {
      "application/vnd.jupyter.widget-view+json": {
       "model_id": "b7353b979af841ed81f076d1e771d81b",
       "version_major": 2,
       "version_minor": 0
      },
      "text/plain": [
       "  0%|          | 0/20 [00:00<?, ?it/s]"
      ]
     },
     "metadata": {},
     "output_type": "display_data"
    },
    {
     "name": "stdout",
     "output_type": "stream",
     "text": [
      "generating images for STILTON with prompt: best quality, high quality, image of Stilton on a slate board, with a shop background, seen from above\n"
     ]
    },
    {
     "data": {
      "application/vnd.jupyter.widget-view+json": {
       "model_id": "6b9244a726414c408ad903f258790579",
       "version_major": 2,
       "version_minor": 0
      },
      "text/plain": [
       "  0%|          | 0/20 [00:00<?, ?it/s]"
      ]
     },
     "metadata": {},
     "output_type": "display_data"
    },
    {
     "name": "stdout",
     "output_type": "stream",
     "text": [
      "/Data/hala.gamouh/cheese_classification_challenge/dataset/val/STILTON/000017.jpg\n",
      "generating images for STILTON with prompt: best quality, high quality, image of Stilton on a white plate, with a cheese factory background, seen from an angled shot\n"
     ]
    },
    {
     "data": {
      "application/vnd.jupyter.widget-view+json": {
       "model_id": "9d0f16c7b9f24f8ea77c8f01c6531c93",
       "version_major": 2,
       "version_minor": 0
      },
      "text/plain": [
       "  0%|          | 0/20 [00:00<?, ?it/s]"
      ]
     },
     "metadata": {},
     "output_type": "display_data"
    },
    {
     "name": "stdout",
     "output_type": "stream",
     "text": [
      "generating images for STILTON with prompt: best quality, high quality, image of Stilton on a marble plate, with a shop background, seen from an angled shot\n"
     ]
    },
    {
     "data": {
      "application/vnd.jupyter.widget-view+json": {
       "model_id": "4de1b4fb768a4a8b8610e9cb6a2e9d31",
       "version_major": 2,
       "version_minor": 0
      },
      "text/plain": [
       "  0%|          | 0/20 [00:00<?, ?it/s]"
      ]
     },
     "metadata": {},
     "output_type": "display_data"
    },
    {
     "name": "stdout",
     "output_type": "stream",
     "text": [
      "generating images for STILTON with prompt: best quality, high quality, image of Stilton on a white plate, with a plain white background, seen from above\n"
     ]
    },
    {
     "data": {
      "application/vnd.jupyter.widget-view+json": {
       "model_id": "a99c6887be8342cfbf09dce723e4c9e9",
       "version_major": 2,
       "version_minor": 0
      },
      "text/plain": [
       "  0%|          | 0/20 [00:00<?, ?it/s]"
      ]
     },
     "metadata": {},
     "output_type": "display_data"
    },
    {
     "name": "stdout",
     "output_type": "stream",
     "text": [
      "/Data/hala.gamouh/cheese_classification_challenge/dataset/val/STILTON/000018.jpg\n",
      "generating images for STILTON with prompt: best quality, high quality, image of Stilton on a plain white background, with a plain white background, seen from a face view\n"
     ]
    },
    {
     "data": {
      "application/vnd.jupyter.widget-view+json": {
       "model_id": "b3b30fb1fc694b69826b1d86ed5bafa2",
       "version_major": 2,
       "version_minor": 0
      },
      "text/plain": [
       "  0%|          | 0/20 [00:00<?, ?it/s]"
      ]
     },
     "metadata": {},
     "output_type": "display_data"
    },
    {
     "name": "stdout",
     "output_type": "stream",
     "text": [
      "generating images for STILTON with prompt: best quality, high quality, image of Stilton on a wooden plate, with a kitchen background, seen from a side view\n"
     ]
    },
    {
     "data": {
      "application/vnd.jupyter.widget-view+json": {
       "model_id": "40f0eeed0de246e98bf0524d5dfa0fec",
       "version_major": 2,
       "version_minor": 0
      },
      "text/plain": [
       "  0%|          | 0/20 [00:00<?, ?it/s]"
      ]
     },
     "metadata": {},
     "output_type": "display_data"
    },
    {
     "name": "stdout",
     "output_type": "stream",
     "text": [
      "generating images for STILTON with prompt: best quality, high quality, image of Stilton on a wooden plate, with a plain white background, seen from above\n"
     ]
    },
    {
     "data": {
      "application/vnd.jupyter.widget-view+json": {
       "model_id": "0ca9103e9256418c84f2332951839089",
       "version_major": 2,
       "version_minor": 0
      },
      "text/plain": [
       "  0%|          | 0/20 [00:00<?, ?it/s]"
      ]
     },
     "metadata": {},
     "output_type": "display_data"
    },
    {
     "name": "stdout",
     "output_type": "stream",
     "text": [
      "/Data/hala.gamouh/cheese_classification_challenge/dataset/val/STILTON/000019.jpg\n",
      "generating images for STILTON with prompt: best quality, high quality, image of Stilton on a slate board, with a cheese cave background, seen from above\n"
     ]
    },
    {
     "data": {
      "application/vnd.jupyter.widget-view+json": {
       "model_id": "34178da404a34680a1186bbcc6c95f2b",
       "version_major": 2,
       "version_minor": 0
      },
      "text/plain": [
       "  0%|          | 0/20 [00:00<?, ?it/s]"
      ]
     },
     "metadata": {},
     "output_type": "display_data"
    },
    {
     "name": "stdout",
     "output_type": "stream",
     "text": [
      "generating images for STILTON with prompt: best quality, high quality, image of Stilton on a plain white background, with a plain white background, seen from a face view\n"
     ]
    },
    {
     "data": {
      "application/vnd.jupyter.widget-view+json": {
       "model_id": "bc9af84c55614ef8afe3a2f995ce821f",
       "version_major": 2,
       "version_minor": 0
      },
      "text/plain": [
       "  0%|          | 0/20 [00:00<?, ?it/s]"
      ]
     },
     "metadata": {},
     "output_type": "display_data"
    },
    {
     "name": "stdout",
     "output_type": "stream",
     "text": [
      "generating images for STILTON with prompt: best quality, high quality, image of Stilton on a white plate, with a cheese factory background, seen from an angled shot\n"
     ]
    },
    {
     "data": {
      "application/vnd.jupyter.widget-view+json": {
       "model_id": "18ce6d130db849abafd08afc8f612614",
       "version_major": 2,
       "version_minor": 0
      },
      "text/plain": [
       "  0%|          | 0/20 [00:00<?, ?it/s]"
      ]
     },
     "metadata": {},
     "output_type": "display_data"
    },
    {
     "name": "stdout",
     "output_type": "stream",
     "text": [
      "/Data/hala.gamouh/cheese_classification_challenge/dataset/val/STILTON/000020.jpg\n",
      "generating images for STILTON with prompt: best quality, high quality, in its packaging\n"
     ]
    },
    {
     "data": {
      "application/vnd.jupyter.widget-view+json": {
       "model_id": "8bc15b1d8c4c455eb6e6a5395275b774",
       "version_major": 2,
       "version_minor": 0
      },
      "text/plain": [
       "  0%|          | 0/20 [00:00<?, ?it/s]"
      ]
     },
     "metadata": {},
     "output_type": "display_data"
    },
    {
     "name": "stdout",
     "output_type": "stream",
     "text": [
      "generating images for STILTON with prompt: best quality, high quality, image of Stilton on a plain white background, with a cheese cave background, seen from a side view\n"
     ]
    },
    {
     "data": {
      "application/vnd.jupyter.widget-view+json": {
       "model_id": "9ee8a6787f104b84a21e24ba4ea35758",
       "version_major": 2,
       "version_minor": 0
      },
      "text/plain": [
       "  0%|          | 0/20 [00:00<?, ?it/s]"
      ]
     },
     "metadata": {},
     "output_type": "display_data"
    },
    {
     "name": "stdout",
     "output_type": "stream",
     "text": [
      "generating images for STILTON with prompt: best quality, high quality, image of Stilton on a marble plate, with a kitchen background, seen from a side view\n"
     ]
    },
    {
     "data": {
      "application/vnd.jupyter.widget-view+json": {
       "model_id": "c20cd30c095d46c6aad05681ea2c13b1",
       "version_major": 2,
       "version_minor": 0
      },
      "text/plain": [
       "  0%|          | 0/20 [00:00<?, ?it/s]"
      ]
     },
     "metadata": {},
     "output_type": "display_data"
    },
    {
     "name": "stdout",
     "output_type": "stream",
     "text": [
      "/Data/hala.gamouh/cheese_classification_challenge/dataset/val/STILTON/000021.jpg\n",
      "generating images for STILTON with prompt: best quality, high quality, image of Stilton on a white plate, with a plain white background, seen from above\n"
     ]
    },
    {
     "data": {
      "application/vnd.jupyter.widget-view+json": {
       "model_id": "58a86778ca5d4d0b864108ecd07bb6de",
       "version_major": 2,
       "version_minor": 0
      },
      "text/plain": [
       "  0%|          | 0/20 [00:00<?, ?it/s]"
      ]
     },
     "metadata": {},
     "output_type": "display_data"
    },
    {
     "name": "stdout",
     "output_type": "stream",
     "text": [
      "generating images for STILTON with prompt: best quality, high quality, image of Stilton on a marble plate, with a kitchen background, seen from a side view\n"
     ]
    },
    {
     "data": {
      "application/vnd.jupyter.widget-view+json": {
       "model_id": "ed982cd0d46e49e7af10ec7a73b07ee0",
       "version_major": 2,
       "version_minor": 0
      },
      "text/plain": [
       "  0%|          | 0/20 [00:00<?, ?it/s]"
      ]
     },
     "metadata": {},
     "output_type": "display_data"
    },
    {
     "name": "stdout",
     "output_type": "stream",
     "text": [
      "generating images for STILTON with prompt: best quality, high quality, image of Stilton on a plain white background, with a cheese cave background, seen from a side view\n"
     ]
    },
    {
     "data": {
      "application/vnd.jupyter.widget-view+json": {
       "model_id": "b1c48fb24e6a463699a0c393edf5b0c5",
       "version_major": 2,
       "version_minor": 0
      },
      "text/plain": [
       "  0%|          | 0/20 [00:00<?, ?it/s]"
      ]
     },
     "metadata": {},
     "output_type": "display_data"
    },
    {
     "name": "stdout",
     "output_type": "stream",
     "text": [
      "/Data/hala.gamouh/cheese_classification_challenge/dataset/val/STILTON/000022.jpg\n",
      "generating images for STILTON with prompt: best quality, high quality, image of Stilton on a wooden plate, with a plain white background, seen from above\n"
     ]
    },
    {
     "data": {
      "application/vnd.jupyter.widget-view+json": {
       "model_id": "2e19b79d1b8f498aa4d4a93f21193cf0",
       "version_major": 2,
       "version_minor": 0
      },
      "text/plain": [
       "  0%|          | 0/20 [00:00<?, ?it/s]"
      ]
     },
     "metadata": {},
     "output_type": "display_data"
    },
    {
     "name": "stdout",
     "output_type": "stream",
     "text": [
      "generating images for STILTON with prompt: best quality, high quality, in its packaging\n"
     ]
    },
    {
     "data": {
      "application/vnd.jupyter.widget-view+json": {
       "model_id": "c680bad0761940adb2fe32a635eaacc2",
       "version_major": 2,
       "version_minor": 0
      },
      "text/plain": [
       "  0%|          | 0/20 [00:00<?, ?it/s]"
      ]
     },
     "metadata": {},
     "output_type": "display_data"
    },
    {
     "name": "stdout",
     "output_type": "stream",
     "text": [
      "generating images for STILTON with prompt: best quality, high quality, in its packaging\n"
     ]
    },
    {
     "data": {
      "application/vnd.jupyter.widget-view+json": {
       "model_id": "998928c821e24df99fbb933a57e8c2c5",
       "version_major": 2,
       "version_minor": 0
      },
      "text/plain": [
       "  0%|          | 0/20 [00:00<?, ?it/s]"
      ]
     },
     "metadata": {},
     "output_type": "display_data"
    },
    {
     "name": "stdout",
     "output_type": "stream",
     "text": [
      "/Data/hala.gamouh/cheese_classification_challenge/dataset/val/STILTON/000023.jpg\n",
      "generating images for STILTON with prompt: best quality, high quality, image of Stilton on a wooden plate, with a kitchen background, seen from a side view\n"
     ]
    },
    {
     "data": {
      "application/vnd.jupyter.widget-view+json": {
       "model_id": "2944abea868d4a78a7959b95ffea3410",
       "version_major": 2,
       "version_minor": 0
      },
      "text/plain": [
       "  0%|          | 0/20 [00:00<?, ?it/s]"
      ]
     },
     "metadata": {},
     "output_type": "display_data"
    },
    {
     "name": "stdout",
     "output_type": "stream",
     "text": [
      "generating images for STILTON with prompt: best quality, high quality, image of Stilton on a wooden plate, with a kitchen background, seen from a side view\n"
     ]
    },
    {
     "data": {
      "application/vnd.jupyter.widget-view+json": {
       "model_id": "26619a5454d34e369668af728598b929",
       "version_major": 2,
       "version_minor": 0
      },
      "text/plain": [
       "  0%|          | 0/20 [00:00<?, ?it/s]"
      ]
     },
     "metadata": {},
     "output_type": "display_data"
    },
    {
     "name": "stdout",
     "output_type": "stream",
     "text": [
      "generating images for STILTON with prompt: best quality, high quality, image of Stilton on a wooden plate, with a plain white background, seen from above\n"
     ]
    },
    {
     "data": {
      "application/vnd.jupyter.widget-view+json": {
       "model_id": "dd6a8b5e38df41b181892a462b05f5fd",
       "version_major": 2,
       "version_minor": 0
      },
      "text/plain": [
       "  0%|          | 0/20 [00:00<?, ?it/s]"
      ]
     },
     "metadata": {},
     "output_type": "display_data"
    },
    {
     "name": "stdout",
     "output_type": "stream",
     "text": [
      "/Data/hala.gamouh/cheese_classification_challenge/dataset/val/STILTON/000024.jpg\n",
      "generating images for STILTON with prompt: best quality, high quality, image of Stilton on a white plate, with a cheese factory background, seen from an angled shot\n"
     ]
    },
    {
     "data": {
      "application/vnd.jupyter.widget-view+json": {
       "model_id": "2fcad8fa50854edab63f7a05c09f069c",
       "version_major": 2,
       "version_minor": 0
      },
      "text/plain": [
       "  0%|          | 0/20 [00:00<?, ?it/s]"
      ]
     },
     "metadata": {},
     "output_type": "display_data"
    },
    {
     "name": "stdout",
     "output_type": "stream",
     "text": [
      "generating images for STILTON with prompt: best quality, high quality, image of Stilton on a wooden plate, with a plain white background, seen from above\n"
     ]
    },
    {
     "data": {
      "application/vnd.jupyter.widget-view+json": {
       "model_id": "3242c80926fa47f090f381ae1ece941d",
       "version_major": 2,
       "version_minor": 0
      },
      "text/plain": [
       "  0%|          | 0/20 [00:00<?, ?it/s]"
      ]
     },
     "metadata": {},
     "output_type": "display_data"
    },
    {
     "name": "stdout",
     "output_type": "stream",
     "text": [
      "generating images for STILTON with prompt: best quality, high quality, image of Stilton on a white plate, with a plain white background, seen from above\n"
     ]
    },
    {
     "data": {
      "application/vnd.jupyter.widget-view+json": {
       "model_id": "2e977e0c43b64242a459b35d5c31af81",
       "version_major": 2,
       "version_minor": 0
      },
      "text/plain": [
       "  0%|          | 0/20 [00:00<?, ?it/s]"
      ]
     },
     "metadata": {},
     "output_type": "display_data"
    },
    {
     "name": "stdout",
     "output_type": "stream",
     "text": [
      "/Data/hala.gamouh/cheese_classification_challenge/dataset/val/STILTON/000000.jpg\n",
      "generating images for STILTON with prompt: best quality, high quality, image of Stilton on a marble plate, with a kitchen background, seen from a side view\n"
     ]
    },
    {
     "data": {
      "application/vnd.jupyter.widget-view+json": {
       "model_id": "e47bcfd5cbab41d6bf34c509b4aa9cd4",
       "version_major": 2,
       "version_minor": 0
      },
      "text/plain": [
       "  0%|          | 0/20 [00:00<?, ?it/s]"
      ]
     },
     "metadata": {},
     "output_type": "display_data"
    },
    {
     "name": "stdout",
     "output_type": "stream",
     "text": [
      "generating images for STILTON with prompt: best quality, high quality, image of Stilton on a plain white background, with a cheese cave background, seen from a side view\n"
     ]
    },
    {
     "data": {
      "application/vnd.jupyter.widget-view+json": {
       "model_id": "310873db2ea845eaace9807c98462a60",
       "version_major": 2,
       "version_minor": 0
      },
      "text/plain": [
       "  0%|          | 0/20 [00:00<?, ?it/s]"
      ]
     },
     "metadata": {},
     "output_type": "display_data"
    },
    {
     "name": "stdout",
     "output_type": "stream",
     "text": [
      "generating images for STILTON with prompt: best quality, high quality, image of Stilton on a white plate, with a cheese factory background, seen from an angled shot\n"
     ]
    },
    {
     "data": {
      "application/vnd.jupyter.widget-view+json": {
       "model_id": "a1554ea813904f21a17049a1a8659295",
       "version_major": 2,
       "version_minor": 0
      },
      "text/plain": [
       "  0%|          | 0/20 [00:00<?, ?it/s]"
      ]
     },
     "metadata": {},
     "output_type": "display_data"
    },
    {
     "name": "stdout",
     "output_type": "stream",
     "text": [
      "/Data/hala.gamouh/cheese_classification_challenge/dataset/val/STILTON/000001.jpg\n",
      "generating images for STILTON with prompt: best quality, high quality, image of Stilton on a slate board, with a shop background, seen from above\n"
     ]
    },
    {
     "data": {
      "application/vnd.jupyter.widget-view+json": {
       "model_id": "86375068a15e40d49b4bbedbf07e5f71",
       "version_major": 2,
       "version_minor": 0
      },
      "text/plain": [
       "  0%|          | 0/20 [00:00<?, ?it/s]"
      ]
     },
     "metadata": {},
     "output_type": "display_data"
    },
    {
     "name": "stdout",
     "output_type": "stream",
     "text": [
      "generating images for STILTON with prompt: best quality, high quality, image of Stilton on a plain white background, with a plain white background, seen from a face view\n"
     ]
    },
    {
     "data": {
      "application/vnd.jupyter.widget-view+json": {
       "model_id": "513a3f091b2b44f5a9b9671c3289bd32",
       "version_major": 2,
       "version_minor": 0
      },
      "text/plain": [
       "  0%|          | 0/20 [00:00<?, ?it/s]"
      ]
     },
     "metadata": {},
     "output_type": "display_data"
    },
    {
     "name": "stdout",
     "output_type": "stream",
     "text": [
      "generating images for STILTON with prompt: best quality, high quality, image of Stilton on a plain white background, with a cheese cave background, seen from a side view\n"
     ]
    },
    {
     "data": {
      "application/vnd.jupyter.widget-view+json": {
       "model_id": "388ed8f777564c6eaa6262ea6f6a1690",
       "version_major": 2,
       "version_minor": 0
      },
      "text/plain": [
       "  0%|          | 0/20 [00:00<?, ?it/s]"
      ]
     },
     "metadata": {},
     "output_type": "display_data"
    },
    {
     "name": "stdout",
     "output_type": "stream",
     "text": [
      "/Data/hala.gamouh/cheese_classification_challenge/dataset/val/STILTON/000002.jpg\n",
      "generating images for STILTON with prompt: best quality, high quality, image of Stilton on a marble plate, with a kitchen background, seen from a side view\n"
     ]
    },
    {
     "data": {
      "application/vnd.jupyter.widget-view+json": {
       "model_id": "713d47ed8a12404ebe676094df56ac1b",
       "version_major": 2,
       "version_minor": 0
      },
      "text/plain": [
       "  0%|          | 0/20 [00:00<?, ?it/s]"
      ]
     },
     "metadata": {},
     "output_type": "display_data"
    },
    {
     "name": "stdout",
     "output_type": "stream",
     "text": [
      "generating images for STILTON with prompt: best quality, high quality, image of Stilton on a plain white background, with a cheese cave background, seen from a side view\n"
     ]
    },
    {
     "data": {
      "application/vnd.jupyter.widget-view+json": {
       "model_id": "fe06ce9d9e4b40938f418edb00ac1fbb",
       "version_major": 2,
       "version_minor": 0
      },
      "text/plain": [
       "  0%|          | 0/20 [00:00<?, ?it/s]"
      ]
     },
     "metadata": {},
     "output_type": "display_data"
    },
    {
     "name": "stdout",
     "output_type": "stream",
     "text": [
      "generating images for STILTON with prompt: best quality, high quality, image of Stilton on a marble plate, with a kitchen background, seen from a side view\n"
     ]
    },
    {
     "data": {
      "application/vnd.jupyter.widget-view+json": {
       "model_id": "3b5c37da33ef4c8f8135c0791d5c711f",
       "version_major": 2,
       "version_minor": 0
      },
      "text/plain": [
       "  0%|          | 0/20 [00:00<?, ?it/s]"
      ]
     },
     "metadata": {},
     "output_type": "display_data"
    },
    {
     "name": "stdout",
     "output_type": "stream",
     "text": [
      "/Data/hala.gamouh/cheese_classification_challenge/dataset/val/STILTON/000003.jpg\n",
      "generating images for STILTON with prompt: best quality, high quality, image of Stilton on a wooden plate, with a plain white background, seen from above\n"
     ]
    },
    {
     "data": {
      "application/vnd.jupyter.widget-view+json": {
       "model_id": "a266d33bbe144ae5aec82ef17d6827d2",
       "version_major": 2,
       "version_minor": 0
      },
      "text/plain": [
       "  0%|          | 0/20 [00:00<?, ?it/s]"
      ]
     },
     "metadata": {},
     "output_type": "display_data"
    },
    {
     "name": "stdout",
     "output_type": "stream",
     "text": [
      "generating images for STILTON with prompt: best quality, high quality, image of Stilton on a white plate, with a cheese factory background, seen from an angled shot\n"
     ]
    },
    {
     "data": {
      "application/vnd.jupyter.widget-view+json": {
       "model_id": "8b49c4bad2d14cfeb7ca3f26c8dd9a66",
       "version_major": 2,
       "version_minor": 0
      },
      "text/plain": [
       "  0%|          | 0/20 [00:00<?, ?it/s]"
      ]
     },
     "metadata": {},
     "output_type": "display_data"
    },
    {
     "name": "stdout",
     "output_type": "stream",
     "text": [
      "generating images for STILTON with prompt: best quality, high quality, image of Stilton on a plain white background, with a cheese cave background, seen from a side view\n"
     ]
    },
    {
     "data": {
      "application/vnd.jupyter.widget-view+json": {
       "model_id": "53ce229206bd4751b5ff7dcd8dc197c4",
       "version_major": 2,
       "version_minor": 0
      },
      "text/plain": [
       "  0%|          | 0/20 [00:00<?, ?it/s]"
      ]
     },
     "metadata": {},
     "output_type": "display_data"
    },
    {
     "name": "stdout",
     "output_type": "stream",
     "text": [
      "/Data/hala.gamouh/cheese_classification_challenge/dataset/val/STILTON/000004.jpg\n",
      "generating images for STILTON with prompt: best quality, high quality, image of Stilton on a slate board, with a shop background, seen from above\n"
     ]
    },
    {
     "data": {
      "application/vnd.jupyter.widget-view+json": {
       "model_id": "fb1b911cc8b848ad91e2a2c96bad08a0",
       "version_major": 2,
       "version_minor": 0
      },
      "text/plain": [
       "  0%|          | 0/20 [00:00<?, ?it/s]"
      ]
     },
     "metadata": {},
     "output_type": "display_data"
    },
    {
     "name": "stdout",
     "output_type": "stream",
     "text": [
      "generating images for STILTON with prompt: best quality, high quality, image of Stilton on a wooden plate, with a kitchen background, seen from a side view\n"
     ]
    },
    {
     "data": {
      "application/vnd.jupyter.widget-view+json": {
       "model_id": "80db61e0811343b3912a750818dbc6ac",
       "version_major": 2,
       "version_minor": 0
      },
      "text/plain": [
       "  0%|          | 0/20 [00:00<?, ?it/s]"
      ]
     },
     "metadata": {},
     "output_type": "display_data"
    },
    {
     "name": "stdout",
     "output_type": "stream",
     "text": [
      "generating images for STILTON with prompt: best quality, high quality, image of Stilton on a wooden plate, with a kitchen background, seen from a side view\n"
     ]
    },
    {
     "data": {
      "application/vnd.jupyter.widget-view+json": {
       "model_id": "7ceb4ffd37214c098b0b75e07e5487f5",
       "version_major": 2,
       "version_minor": 0
      },
      "text/plain": [
       "  0%|          | 0/20 [00:00<?, ?it/s]"
      ]
     },
     "metadata": {},
     "output_type": "display_data"
    },
    {
     "name": "stdout",
     "output_type": "stream",
     "text": [
      "/Data/hala.gamouh/cheese_classification_challenge/dataset/val/STILTON/000005.jpg\n",
      "generating images for STILTON with prompt: best quality, high quality, image of Stilton on a white plate, with a plain white background, seen from above\n"
     ]
    },
    {
     "data": {
      "application/vnd.jupyter.widget-view+json": {
       "model_id": "7831ded6c7c94268a87a276b356c5e56",
       "version_major": 2,
       "version_minor": 0
      },
      "text/plain": [
       "  0%|          | 0/20 [00:00<?, ?it/s]"
      ]
     },
     "metadata": {},
     "output_type": "display_data"
    },
    {
     "name": "stdout",
     "output_type": "stream",
     "text": [
      "generating images for STILTON with prompt: best quality, high quality, image of Stilton on a wooden plate, with a plain white background, seen from above\n"
     ]
    },
    {
     "data": {
      "application/vnd.jupyter.widget-view+json": {
       "model_id": "1c054bfa98294950947b552c5400f46e",
       "version_major": 2,
       "version_minor": 0
      },
      "text/plain": [
       "  0%|          | 0/20 [00:00<?, ?it/s]"
      ]
     },
     "metadata": {},
     "output_type": "display_data"
    },
    {
     "name": "stdout",
     "output_type": "stream",
     "text": [
      "generating images for STILTON with prompt: best quality, high quality, image of Stilton on a slate board, with a shop background, seen from above\n"
     ]
    },
    {
     "data": {
      "application/vnd.jupyter.widget-view+json": {
       "model_id": "a43bd5f0396d42fe867f36184a63e98d",
       "version_major": 2,
       "version_minor": 0
      },
      "text/plain": [
       "  0%|          | 0/20 [00:00<?, ?it/s]"
      ]
     },
     "metadata": {},
     "output_type": "display_data"
    },
    {
     "name": "stdout",
     "output_type": "stream",
     "text": [
      "/Data/hala.gamouh/cheese_classification_challenge/dataset/val/STILTON/000006.jpg\n",
      "generating images for STILTON with prompt: best quality, high quality, image of Stilton on a plain white background, with a cheese cave background, seen from a side view\n"
     ]
    },
    {
     "data": {
      "application/vnd.jupyter.widget-view+json": {
       "model_id": "f84ee531f4bb49cfad12b9a225c1de73",
       "version_major": 2,
       "version_minor": 0
      },
      "text/plain": [
       "  0%|          | 0/20 [00:00<?, ?it/s]"
      ]
     },
     "metadata": {},
     "output_type": "display_data"
    },
    {
     "name": "stdout",
     "output_type": "stream",
     "text": [
      "generating images for STILTON with prompt: best quality, high quality, image of Stilton on a plain white background, with a plain white background, seen from a face view\n"
     ]
    },
    {
     "data": {
      "application/vnd.jupyter.widget-view+json": {
       "model_id": "d4c63f65ca6e4165bf8884c2d1b34cb3",
       "version_major": 2,
       "version_minor": 0
      },
      "text/plain": [
       "  0%|          | 0/20 [00:00<?, ?it/s]"
      ]
     },
     "metadata": {},
     "output_type": "display_data"
    },
    {
     "name": "stdout",
     "output_type": "stream",
     "text": [
      "generating images for STILTON with prompt: best quality, high quality, image of Stilton on a wooden plate, with a kitchen background, seen from a side view\n"
     ]
    },
    {
     "data": {
      "application/vnd.jupyter.widget-view+json": {
       "model_id": "4bb71c601dc141deb6757426489b982d",
       "version_major": 2,
       "version_minor": 0
      },
      "text/plain": [
       "  0%|          | 0/20 [00:00<?, ?it/s]"
      ]
     },
     "metadata": {},
     "output_type": "display_data"
    },
    {
     "name": "stdout",
     "output_type": "stream",
     "text": [
      "/Data/hala.gamouh/cheese_classification_challenge/dataset/val/STILTON/000007.jpg\n",
      "generating images for STILTON with prompt: best quality, high quality, image of Stilton on a plain white background, with a plain white background, seen from a face view\n"
     ]
    },
    {
     "data": {
      "application/vnd.jupyter.widget-view+json": {
       "model_id": "bd5315b5fdf741e9849f398f43aceb1a",
       "version_major": 2,
       "version_minor": 0
      },
      "text/plain": [
       "  0%|          | 0/20 [00:00<?, ?it/s]"
      ]
     },
     "metadata": {},
     "output_type": "display_data"
    },
    {
     "name": "stdout",
     "output_type": "stream",
     "text": [
      "generating images for STILTON with prompt: best quality, high quality, image of Stilton on a marble plate, with a shop background, seen from an angled shot\n"
     ]
    },
    {
     "data": {
      "application/vnd.jupyter.widget-view+json": {
       "model_id": "561515f1d7ff43e688238e2b4053fbcf",
       "version_major": 2,
       "version_minor": 0
      },
      "text/plain": [
       "  0%|          | 0/20 [00:00<?, ?it/s]"
      ]
     },
     "metadata": {},
     "output_type": "display_data"
    },
    {
     "name": "stdout",
     "output_type": "stream",
     "text": [
      "generating images for STILTON with prompt: best quality, high quality, in its packaging\n"
     ]
    },
    {
     "data": {
      "application/vnd.jupyter.widget-view+json": {
       "model_id": "7534474d4ef84f4eb7983c31d1f09cc4",
       "version_major": 2,
       "version_minor": 0
      },
      "text/plain": [
       "  0%|          | 0/20 [00:00<?, ?it/s]"
      ]
     },
     "metadata": {},
     "output_type": "display_data"
    },
    {
     "name": "stdout",
     "output_type": "stream",
     "text": [
      "/Data/hala.gamouh/cheese_classification_challenge/dataset/val/STILTON/000008.jpg\n",
      "generating images for STILTON with prompt: best quality, high quality, image of Stilton on a slate board, with a shop background, seen from above\n"
     ]
    },
    {
     "data": {
      "application/vnd.jupyter.widget-view+json": {
       "model_id": "16e4bfabb9b842ebba097c1c70798030",
       "version_major": 2,
       "version_minor": 0
      },
      "text/plain": [
       "  0%|          | 0/20 [00:00<?, ?it/s]"
      ]
     },
     "metadata": {},
     "output_type": "display_data"
    },
    {
     "name": "stdout",
     "output_type": "stream",
     "text": [
      "generating images for STILTON with prompt: best quality, high quality, image of Stilton on a marble plate, with a kitchen background, seen from a side view\n"
     ]
    },
    {
     "data": {
      "application/vnd.jupyter.widget-view+json": {
       "model_id": "3722e3fe703142d4aea51320fa6ce12e",
       "version_major": 2,
       "version_minor": 0
      },
      "text/plain": [
       "  0%|          | 0/20 [00:00<?, ?it/s]"
      ]
     },
     "metadata": {},
     "output_type": "display_data"
    },
    {
     "name": "stdout",
     "output_type": "stream",
     "text": [
      "generating images for STILTON with prompt: best quality, high quality, image of Stilton on a wooden plate, with a plain white background, seen from above\n"
     ]
    },
    {
     "data": {
      "application/vnd.jupyter.widget-view+json": {
       "model_id": "febbd2cce96445caa6583d6ba2cf5df6",
       "version_major": 2,
       "version_minor": 0
      },
      "text/plain": [
       "  0%|          | 0/20 [00:00<?, ?it/s]"
      ]
     },
     "metadata": {},
     "output_type": "display_data"
    },
    {
     "name": "stdout",
     "output_type": "stream",
     "text": [
      "/Data/hala.gamouh/cheese_classification_challenge/dataset/val/STILTON/000009.jpg\n",
      "generating images for STILTON with prompt: best quality, high quality, image of Stilton on a slate board, with a shop background, seen from above\n"
     ]
    },
    {
     "data": {
      "application/vnd.jupyter.widget-view+json": {
       "model_id": "48a6c6e839154e27bea6d9a82c8c33e3",
       "version_major": 2,
       "version_minor": 0
      },
      "text/plain": [
       "  0%|          | 0/20 [00:00<?, ?it/s]"
      ]
     },
     "metadata": {},
     "output_type": "display_data"
    },
    {
     "name": "stdout",
     "output_type": "stream",
     "text": [
      "generating images for STILTON with prompt: best quality, high quality, image of Stilton on a wooden plate, with a plain white background, seen from above\n"
     ]
    },
    {
     "data": {
      "application/vnd.jupyter.widget-view+json": {
       "model_id": "0e6f14517d2548f39ab1753a2b4b82f1",
       "version_major": 2,
       "version_minor": 0
      },
      "text/plain": [
       "  0%|          | 0/20 [00:00<?, ?it/s]"
      ]
     },
     "metadata": {},
     "output_type": "display_data"
    },
    {
     "name": "stdout",
     "output_type": "stream",
     "text": [
      "generating images for STILTON with prompt: best quality, high quality, in its packaging\n"
     ]
    },
    {
     "data": {
      "application/vnd.jupyter.widget-view+json": {
       "model_id": "37dd75b5171049f08e5f76def500d083",
       "version_major": 2,
       "version_minor": 0
      },
      "text/plain": [
       "  0%|          | 0/20 [00:00<?, ?it/s]"
      ]
     },
     "metadata": {},
     "output_type": "display_data"
    },
    {
     "name": "stdout",
     "output_type": "stream",
     "text": [
      "/Data/hala.gamouh/cheese_classification_challenge/dataset/val/STILTON/000010.jpg\n",
      "generating images for STILTON with prompt: best quality, high quality, image of Stilton on a wooden plate, with a kitchen background, seen from a side view\n"
     ]
    },
    {
     "data": {
      "application/vnd.jupyter.widget-view+json": {
       "model_id": "6c229245543d4e53b48e5d29937d18bf",
       "version_major": 2,
       "version_minor": 0
      },
      "text/plain": [
       "  0%|          | 0/20 [00:00<?, ?it/s]"
      ]
     },
     "metadata": {},
     "output_type": "display_data"
    },
    {
     "name": "stdout",
     "output_type": "stream",
     "text": [
      "generating images for STILTON with prompt: best quality, high quality, image of Stilton on a marble plate, with a shop background, seen from an angled shot\n"
     ]
    },
    {
     "data": {
      "application/vnd.jupyter.widget-view+json": {
       "model_id": "65cf4b29e7f14f6785c739ec49f61b97",
       "version_major": 2,
       "version_minor": 0
      },
      "text/plain": [
       "  0%|          | 0/20 [00:00<?, ?it/s]"
      ]
     },
     "metadata": {},
     "output_type": "display_data"
    },
    {
     "name": "stdout",
     "output_type": "stream",
     "text": [
      "generating images for STILTON with prompt: best quality, high quality, image of Stilton on a wooden plate, with a kitchen background, seen from a side view\n"
     ]
    },
    {
     "data": {
      "application/vnd.jupyter.widget-view+json": {
       "model_id": "6b63d6ef3f894104a01f48160026d41e",
       "version_major": 2,
       "version_minor": 0
      },
      "text/plain": [
       "  0%|          | 0/20 [00:00<?, ?it/s]"
      ]
     },
     "metadata": {},
     "output_type": "display_data"
    },
    {
     "name": "stdout",
     "output_type": "stream",
     "text": [
      "/Data/hala.gamouh/cheese_classification_challenge/dataset/val/STILTON/000011.jpg\n",
      "generating images for STILTON with prompt: best quality, high quality, image of Stilton on a plain white background, with a cheese cave background, seen from a side view\n"
     ]
    },
    {
     "data": {
      "application/vnd.jupyter.widget-view+json": {
       "model_id": "36e50ffc12454b4694415b0babc475c7",
       "version_major": 2,
       "version_minor": 0
      },
      "text/plain": [
       "  0%|          | 0/20 [00:00<?, ?it/s]"
      ]
     },
     "metadata": {},
     "output_type": "display_data"
    },
    {
     "name": "stdout",
     "output_type": "stream",
     "text": [
      "generating images for STILTON with prompt: best quality, high quality, image of Stilton on a slate board, with a shop background, seen from above\n"
     ]
    },
    {
     "data": {
      "application/vnd.jupyter.widget-view+json": {
       "model_id": "c7e29bec816a4cc5a1e0d88112a4a7ee",
       "version_major": 2,
       "version_minor": 0
      },
      "text/plain": [
       "  0%|          | 0/20 [00:00<?, ?it/s]"
      ]
     },
     "metadata": {},
     "output_type": "display_data"
    },
    {
     "name": "stdout",
     "output_type": "stream",
     "text": [
      "generating images for STILTON with prompt: best quality, high quality, image of Stilton on a slate board, with a cheese cave background, seen from above\n"
     ]
    },
    {
     "data": {
      "application/vnd.jupyter.widget-view+json": {
       "model_id": "cad13fd99cb3419fb0dab48c6dd26fde",
       "version_major": 2,
       "version_minor": 0
      },
      "text/plain": [
       "  0%|          | 0/20 [00:00<?, ?it/s]"
      ]
     },
     "metadata": {},
     "output_type": "display_data"
    },
    {
     "name": "stdout",
     "output_type": "stream",
     "text": [
      "/Data/hala.gamouh/cheese_classification_challenge/dataset/val/STILTON/000012.jpg\n",
      "generating images for STILTON with prompt: best quality, high quality, image of Stilton on a marble plate, with a shop background, seen from an angled shot\n"
     ]
    },
    {
     "data": {
      "application/vnd.jupyter.widget-view+json": {
       "model_id": "9fd03a68227846a797c1cfa74a83a2e0",
       "version_major": 2,
       "version_minor": 0
      },
      "text/plain": [
       "  0%|          | 0/20 [00:00<?, ?it/s]"
      ]
     },
     "metadata": {},
     "output_type": "display_data"
    },
    {
     "name": "stdout",
     "output_type": "stream",
     "text": [
      "generating images for STILTON with prompt: best quality, high quality, image of Stilton on a white plate, with a plain white background, seen from above\n"
     ]
    },
    {
     "data": {
      "application/vnd.jupyter.widget-view+json": {
       "model_id": "2ca44d863e554d349bc085261242c94f",
       "version_major": 2,
       "version_minor": 0
      },
      "text/plain": [
       "  0%|          | 0/20 [00:00<?, ?it/s]"
      ]
     },
     "metadata": {},
     "output_type": "display_data"
    },
    {
     "name": "stdout",
     "output_type": "stream",
     "text": [
      "generating images for STILTON with prompt: best quality, high quality, in its packaging\n"
     ]
    },
    {
     "data": {
      "application/vnd.jupyter.widget-view+json": {
       "model_id": "465d3a1f4d5541d6bd157a92116195e0",
       "version_major": 2,
       "version_minor": 0
      },
      "text/plain": [
       "  0%|          | 0/20 [00:00<?, ?it/s]"
      ]
     },
     "metadata": {},
     "output_type": "display_data"
    },
    {
     "name": "stdout",
     "output_type": "stream",
     "text": [
      "/Data/hala.gamouh/cheese_classification_challenge/dataset/val/STILTON/000013.jpg\n",
      "generating images for STILTON with prompt: best quality, high quality, image of Stilton on a slate board, with a cheese cave background, seen from above\n"
     ]
    },
    {
     "data": {
      "application/vnd.jupyter.widget-view+json": {
       "model_id": "a6d1a2973a9d4b0cabf72628964008ab",
       "version_major": 2,
       "version_minor": 0
      },
      "text/plain": [
       "  0%|          | 0/20 [00:00<?, ?it/s]"
      ]
     },
     "metadata": {},
     "output_type": "display_data"
    },
    {
     "name": "stdout",
     "output_type": "stream",
     "text": [
      "generating images for STILTON with prompt: best quality, high quality, image of Stilton on a marble plate, with a shop background, seen from an angled shot\n"
     ]
    },
    {
     "data": {
      "application/vnd.jupyter.widget-view+json": {
       "model_id": "a975bb183ddd4708b49ced032a283276",
       "version_major": 2,
       "version_minor": 0
      },
      "text/plain": [
       "  0%|          | 0/20 [00:00<?, ?it/s]"
      ]
     },
     "metadata": {},
     "output_type": "display_data"
    },
    {
     "name": "stdout",
     "output_type": "stream",
     "text": [
      "generating images for STILTON with prompt: best quality, high quality, image of Stilton on a slate board, with a cheese cave background, seen from above\n"
     ]
    },
    {
     "data": {
      "application/vnd.jupyter.widget-view+json": {
       "model_id": "1ea520c083e44f118b7d6a03fa0e7cf3",
       "version_major": 2,
       "version_minor": 0
      },
      "text/plain": [
       "  0%|          | 0/20 [00:00<?, ?it/s]"
      ]
     },
     "metadata": {},
     "output_type": "display_data"
    },
    {
     "name": "stdout",
     "output_type": "stream",
     "text": [
      "/Data/hala.gamouh/cheese_classification_challenge/dataset/val/STILTON/000014.jpg\n",
      "generating images for STILTON with prompt: best quality, high quality, image of Stilton on a wooden plate, with a kitchen background, seen from a side view\n"
     ]
    },
    {
     "data": {
      "application/vnd.jupyter.widget-view+json": {
       "model_id": "b1369587078f495ea28f60b22fb4297d",
       "version_major": 2,
       "version_minor": 0
      },
      "text/plain": [
       "  0%|          | 0/20 [00:00<?, ?it/s]"
      ]
     },
     "metadata": {},
     "output_type": "display_data"
    },
    {
     "name": "stdout",
     "output_type": "stream",
     "text": [
      "generating images for STILTON with prompt: best quality, high quality, image of Stilton on a marble plate, with a shop background, seen from an angled shot\n"
     ]
    },
    {
     "data": {
      "application/vnd.jupyter.widget-view+json": {
       "model_id": "c5eb26af28c0422398eb483458c9d758",
       "version_major": 2,
       "version_minor": 0
      },
      "text/plain": [
       "  0%|          | 0/20 [00:00<?, ?it/s]"
      ]
     },
     "metadata": {},
     "output_type": "display_data"
    },
    {
     "name": "stdout",
     "output_type": "stream",
     "text": [
      "generating images for STILTON with prompt: best quality, high quality, image of Stilton on a slate board, with a cheese cave background, seen from above\n"
     ]
    },
    {
     "data": {
      "application/vnd.jupyter.widget-view+json": {
       "model_id": "0e407df83aff4a43b399cd799bc30c56",
       "version_major": 2,
       "version_minor": 0
      },
      "text/plain": [
       "  0%|          | 0/20 [00:00<?, ?it/s]"
      ]
     },
     "metadata": {},
     "output_type": "display_data"
    },
    {
     "name": "stdout",
     "output_type": "stream",
     "text": [
      "/Data/hala.gamouh/cheese_classification_challenge/dataset/val/STILTON/000015.jpg\n",
      "generating images for STILTON with prompt: best quality, high quality, image of Stilton on a marble plate, with a shop background, seen from an angled shot\n"
     ]
    },
    {
     "data": {
      "application/vnd.jupyter.widget-view+json": {
       "model_id": "0e9bfa15ad774046922bea4958bb16a6",
       "version_major": 2,
       "version_minor": 0
      },
      "text/plain": [
       "  0%|          | 0/20 [00:00<?, ?it/s]"
      ]
     },
     "metadata": {},
     "output_type": "display_data"
    },
    {
     "name": "stdout",
     "output_type": "stream",
     "text": [
      "generating images for STILTON with prompt: best quality, high quality, image of Stilton on a white plate, with a cheese factory background, seen from an angled shot\n"
     ]
    },
    {
     "data": {
      "application/vnd.jupyter.widget-view+json": {
       "model_id": "0855b47ae3a1431f8adfb7271eb5b7b9",
       "version_major": 2,
       "version_minor": 0
      },
      "text/plain": [
       "  0%|          | 0/20 [00:00<?, ?it/s]"
      ]
     },
     "metadata": {},
     "output_type": "display_data"
    },
    {
     "name": "stdout",
     "output_type": "stream",
     "text": [
      "generating images for STILTON with prompt: best quality, high quality, image of Stilton on a plain white background, with a plain white background, seen from a face view\n"
     ]
    },
    {
     "data": {
      "application/vnd.jupyter.widget-view+json": {
       "model_id": "23fd2baddceb4e35be484d6e9cb56525",
       "version_major": 2,
       "version_minor": 0
      },
      "text/plain": [
       "  0%|          | 0/20 [00:00<?, ?it/s]"
      ]
     },
     "metadata": {},
     "output_type": "display_data"
    },
    {
     "name": "stdout",
     "output_type": "stream",
     "text": [
      "/Data/hala.gamouh/cheese_classification_challenge/dataset/val/STILTON/000016.jpg\n",
      "generating images for STILTON with prompt: best quality, high quality, image of Stilton on a slate board, with a cheese cave background, seen from above\n"
     ]
    },
    {
     "data": {
      "application/vnd.jupyter.widget-view+json": {
       "model_id": "b96403c5af6941348e5d6936a924b108",
       "version_major": 2,
       "version_minor": 0
      },
      "text/plain": [
       "  0%|          | 0/20 [00:00<?, ?it/s]"
      ]
     },
     "metadata": {},
     "output_type": "display_data"
    },
    {
     "name": "stdout",
     "output_type": "stream",
     "text": [
      "generating images for STILTON with prompt: best quality, high quality, image of Stilton on a marble plate, with a shop background, seen from an angled shot\n"
     ]
    },
    {
     "data": {
      "application/vnd.jupyter.widget-view+json": {
       "model_id": "2931dbb774d0409087054838664d7319",
       "version_major": 2,
       "version_minor": 0
      },
      "text/plain": [
       "  0%|          | 0/20 [00:00<?, ?it/s]"
      ]
     },
     "metadata": {},
     "output_type": "display_data"
    },
    {
     "name": "stdout",
     "output_type": "stream",
     "text": [
      "generating images for STILTON with prompt: best quality, high quality, image of Stilton on a plain white background, with a plain white background, seen from a face view\n"
     ]
    },
    {
     "data": {
      "application/vnd.jupyter.widget-view+json": {
       "model_id": "e184c3f6f4f94854adb4d7a7ae5be3a5",
       "version_major": 2,
       "version_minor": 0
      },
      "text/plain": [
       "  0%|          | 0/20 [00:00<?, ?it/s]"
      ]
     },
     "metadata": {},
     "output_type": "display_data"
    },
    {
     "name": "stdout",
     "output_type": "stream",
     "text": [
      "/Data/hala.gamouh/cheese_classification_challenge/dataset/val/STILTON/000017.jpg\n",
      "generating images for STILTON with prompt: best quality, high quality, image of Stilton on a slate board, with a cheese cave background, seen from above\n"
     ]
    },
    {
     "data": {
      "application/vnd.jupyter.widget-view+json": {
       "model_id": "e8da028cb8164ecba43bc07ad941efed",
       "version_major": 2,
       "version_minor": 0
      },
      "text/plain": [
       "  0%|          | 0/20 [00:00<?, ?it/s]"
      ]
     },
     "metadata": {},
     "output_type": "display_data"
    },
    {
     "name": "stdout",
     "output_type": "stream",
     "text": [
      "generating images for STILTON with prompt: best quality, high quality, image of Stilton on a wooden plate, with a plain white background, seen from above\n"
     ]
    },
    {
     "data": {
      "application/vnd.jupyter.widget-view+json": {
       "model_id": "8a767a6f4ea7484cba40ec67ec9b4cb3",
       "version_major": 2,
       "version_minor": 0
      },
      "text/plain": [
       "  0%|          | 0/20 [00:00<?, ?it/s]"
      ]
     },
     "metadata": {},
     "output_type": "display_data"
    },
    {
     "name": "stdout",
     "output_type": "stream",
     "text": [
      "generating images for STILTON with prompt: best quality, high quality, in its packaging\n"
     ]
    },
    {
     "data": {
      "application/vnd.jupyter.widget-view+json": {
       "model_id": "da64c04cf3134c4ca73c4cdb7c992a9c",
       "version_major": 2,
       "version_minor": 0
      },
      "text/plain": [
       "  0%|          | 0/20 [00:00<?, ?it/s]"
      ]
     },
     "metadata": {},
     "output_type": "display_data"
    },
    {
     "name": "stdout",
     "output_type": "stream",
     "text": [
      "/Data/hala.gamouh/cheese_classification_challenge/dataset/val/STILTON/000018.jpg\n",
      "generating images for STILTON with prompt: best quality, high quality, image of Stilton on a wooden plate, with a kitchen background, seen from a side view\n"
     ]
    },
    {
     "data": {
      "application/vnd.jupyter.widget-view+json": {
       "model_id": "466b9544d1c74168bc53f1b9e4bb9e6d",
       "version_major": 2,
       "version_minor": 0
      },
      "text/plain": [
       "  0%|          | 0/20 [00:00<?, ?it/s]"
      ]
     },
     "metadata": {},
     "output_type": "display_data"
    },
    {
     "name": "stdout",
     "output_type": "stream",
     "text": [
      "generating images for STILTON with prompt: best quality, high quality, image of Stilton on a wooden plate, with a plain white background, seen from above\n"
     ]
    },
    {
     "data": {
      "application/vnd.jupyter.widget-view+json": {
       "model_id": "38e4a3bf921c4961852212ccc496e6df",
       "version_major": 2,
       "version_minor": 0
      },
      "text/plain": [
       "  0%|          | 0/20 [00:00<?, ?it/s]"
      ]
     },
     "metadata": {},
     "output_type": "display_data"
    },
    {
     "name": "stdout",
     "output_type": "stream",
     "text": [
      "generating images for STILTON with prompt: best quality, high quality, image of Stilton on a plain white background, with a cheese cave background, seen from a side view\n"
     ]
    },
    {
     "data": {
      "application/vnd.jupyter.widget-view+json": {
       "model_id": "692cc4348c77441db6b42183a0fe4077",
       "version_major": 2,
       "version_minor": 0
      },
      "text/plain": [
       "  0%|          | 0/20 [00:00<?, ?it/s]"
      ]
     },
     "metadata": {},
     "output_type": "display_data"
    },
    {
     "name": "stdout",
     "output_type": "stream",
     "text": [
      "/Data/hala.gamouh/cheese_classification_challenge/dataset/val/STILTON/000019.jpg\n",
      "generating images for STILTON with prompt: best quality, high quality, image of Stilton on a marble plate, with a shop background, seen from an angled shot\n"
     ]
    },
    {
     "data": {
      "application/vnd.jupyter.widget-view+json": {
       "model_id": "eb5b9cf724884d1da3899a23634268b5",
       "version_major": 2,
       "version_minor": 0
      },
      "text/plain": [
       "  0%|          | 0/20 [00:00<?, ?it/s]"
      ]
     },
     "metadata": {},
     "output_type": "display_data"
    },
    {
     "name": "stdout",
     "output_type": "stream",
     "text": [
      "generating images for STILTON with prompt: best quality, high quality, in its packaging\n"
     ]
    },
    {
     "data": {
      "application/vnd.jupyter.widget-view+json": {
       "model_id": "ae83e3b50e2649ffb61edc182e1daa07",
       "version_major": 2,
       "version_minor": 0
      },
      "text/plain": [
       "  0%|          | 0/20 [00:00<?, ?it/s]"
      ]
     },
     "metadata": {},
     "output_type": "display_data"
    },
    {
     "name": "stdout",
     "output_type": "stream",
     "text": [
      "generating images for STILTON with prompt: best quality, high quality, image of Stilton on a slate board, with a cheese cave background, seen from above\n"
     ]
    },
    {
     "data": {
      "application/vnd.jupyter.widget-view+json": {
       "model_id": "f2e5d61daf9d4465b4e24b27888b83fd",
       "version_major": 2,
       "version_minor": 0
      },
      "text/plain": [
       "  0%|          | 0/20 [00:00<?, ?it/s]"
      ]
     },
     "metadata": {},
     "output_type": "display_data"
    },
    {
     "name": "stdout",
     "output_type": "stream",
     "text": [
      "/Data/hala.gamouh/cheese_classification_challenge/dataset/val/STILTON/000020.jpg\n",
      "generating images for STILTON with prompt: best quality, high quality, in its packaging\n"
     ]
    },
    {
     "data": {
      "application/vnd.jupyter.widget-view+json": {
       "model_id": "14c1d008a00746a2b228f02c651e8cda",
       "version_major": 2,
       "version_minor": 0
      },
      "text/plain": [
       "  0%|          | 0/20 [00:00<?, ?it/s]"
      ]
     },
     "metadata": {},
     "output_type": "display_data"
    },
    {
     "name": "stdout",
     "output_type": "stream",
     "text": [
      "generating images for STILTON with prompt: best quality, high quality, image of Stilton on a marble plate, with a shop background, seen from an angled shot\n"
     ]
    },
    {
     "data": {
      "application/vnd.jupyter.widget-view+json": {
       "model_id": "d79e0f067c234516be4dafbf91a6bff5",
       "version_major": 2,
       "version_minor": 0
      },
      "text/plain": [
       "  0%|          | 0/20 [00:00<?, ?it/s]"
      ]
     },
     "metadata": {},
     "output_type": "display_data"
    },
    {
     "name": "stdout",
     "output_type": "stream",
     "text": [
      "generating images for STILTON with prompt: best quality, high quality, image of Stilton on a plain white background, with a cheese cave background, seen from a side view\n"
     ]
    },
    {
     "data": {
      "application/vnd.jupyter.widget-view+json": {
       "model_id": "14f3cdf58b0b440f891c8b28768004a6",
       "version_major": 2,
       "version_minor": 0
      },
      "text/plain": [
       "  0%|          | 0/20 [00:00<?, ?it/s]"
      ]
     },
     "metadata": {},
     "output_type": "display_data"
    },
    {
     "name": "stdout",
     "output_type": "stream",
     "text": [
      "/Data/hala.gamouh/cheese_classification_challenge/dataset/val/STILTON/000021.jpg\n",
      "generating images for STILTON with prompt: best quality, high quality, image of Stilton on a plain white background, with a cheese cave background, seen from a side view\n"
     ]
    },
    {
     "data": {
      "application/vnd.jupyter.widget-view+json": {
       "model_id": "8dd8b27107ea4b06b28960c33b61de17",
       "version_major": 2,
       "version_minor": 0
      },
      "text/plain": [
       "  0%|          | 0/20 [00:00<?, ?it/s]"
      ]
     },
     "metadata": {},
     "output_type": "display_data"
    },
    {
     "name": "stdout",
     "output_type": "stream",
     "text": [
      "generating images for STILTON with prompt: best quality, high quality, image of Stilton on a plain white background, with a plain white background, seen from a face view\n"
     ]
    },
    {
     "data": {
      "application/vnd.jupyter.widget-view+json": {
       "model_id": "3a74486877084170a01218533d576c5e",
       "version_major": 2,
       "version_minor": 0
      },
      "text/plain": [
       "  0%|          | 0/20 [00:00<?, ?it/s]"
      ]
     },
     "metadata": {},
     "output_type": "display_data"
    },
    {
     "name": "stdout",
     "output_type": "stream",
     "text": [
      "generating images for STILTON with prompt: best quality, high quality, image of Stilton on a marble plate, with a shop background, seen from an angled shot\n"
     ]
    },
    {
     "data": {
      "application/vnd.jupyter.widget-view+json": {
       "model_id": "55f94cb0b6ad4ebfb6f7943ec3228093",
       "version_major": 2,
       "version_minor": 0
      },
      "text/plain": [
       "  0%|          | 0/20 [00:00<?, ?it/s]"
      ]
     },
     "metadata": {},
     "output_type": "display_data"
    },
    {
     "name": "stdout",
     "output_type": "stream",
     "text": [
      "/Data/hala.gamouh/cheese_classification_challenge/dataset/val/STILTON/000022.jpg\n",
      "generating images for STILTON with prompt: best quality, high quality, image of Stilton on a white plate, with a plain white background, seen from above\n"
     ]
    },
    {
     "data": {
      "application/vnd.jupyter.widget-view+json": {
       "model_id": "c8b1747de7774634885c376b1f40cfc6",
       "version_major": 2,
       "version_minor": 0
      },
      "text/plain": [
       "  0%|          | 0/20 [00:00<?, ?it/s]"
      ]
     },
     "metadata": {},
     "output_type": "display_data"
    },
    {
     "name": "stdout",
     "output_type": "stream",
     "text": [
      "generating images for STILTON with prompt: best quality, high quality, image of Stilton on a slate board, with a cheese cave background, seen from above\n"
     ]
    },
    {
     "data": {
      "application/vnd.jupyter.widget-view+json": {
       "model_id": "6d7b8a49a43a4ffb82c194441c89ed10",
       "version_major": 2,
       "version_minor": 0
      },
      "text/plain": [
       "  0%|          | 0/20 [00:00<?, ?it/s]"
      ]
     },
     "metadata": {},
     "output_type": "display_data"
    },
    {
     "name": "stdout",
     "output_type": "stream",
     "text": [
      "generating images for STILTON with prompt: best quality, high quality, image of Stilton on a plain white background, with a cheese cave background, seen from a side view\n"
     ]
    },
    {
     "data": {
      "application/vnd.jupyter.widget-view+json": {
       "model_id": "b6d22d522abc4609a09420f2f3ecd588",
       "version_major": 2,
       "version_minor": 0
      },
      "text/plain": [
       "  0%|          | 0/20 [00:00<?, ?it/s]"
      ]
     },
     "metadata": {},
     "output_type": "display_data"
    },
    {
     "name": "stdout",
     "output_type": "stream",
     "text": [
      "/Data/hala.gamouh/cheese_classification_challenge/dataset/val/STILTON/000023.jpg\n",
      "generating images for STILTON with prompt: best quality, high quality, image of Stilton on a white plate, with a cheese factory background, seen from an angled shot\n"
     ]
    },
    {
     "data": {
      "application/vnd.jupyter.widget-view+json": {
       "model_id": "f2aece55bc4b4a64beb5568053ea90f0",
       "version_major": 2,
       "version_minor": 0
      },
      "text/plain": [
       "  0%|          | 0/20 [00:00<?, ?it/s]"
      ]
     },
     "metadata": {},
     "output_type": "display_data"
    },
    {
     "name": "stdout",
     "output_type": "stream",
     "text": [
      "generating images for STILTON with prompt: best quality, high quality, image of Stilton on a wooden plate, with a plain white background, seen from above\n"
     ]
    },
    {
     "data": {
      "application/vnd.jupyter.widget-view+json": {
       "model_id": "81e9020f12d04b1c8bd582f626b89c92",
       "version_major": 2,
       "version_minor": 0
      },
      "text/plain": [
       "  0%|          | 0/20 [00:00<?, ?it/s]"
      ]
     },
     "metadata": {},
     "output_type": "display_data"
    },
    {
     "name": "stdout",
     "output_type": "stream",
     "text": [
      "generating images for STILTON with prompt: best quality, high quality, image of Stilton on a white plate, with a plain white background, seen from above\n"
     ]
    },
    {
     "data": {
      "application/vnd.jupyter.widget-view+json": {
       "model_id": "212fa8f0c4ad4710bf2330fb45e15489",
       "version_major": 2,
       "version_minor": 0
      },
      "text/plain": [
       "  0%|          | 0/20 [00:00<?, ?it/s]"
      ]
     },
     "metadata": {},
     "output_type": "display_data"
    },
    {
     "name": "stdout",
     "output_type": "stream",
     "text": [
      "/Data/hala.gamouh/cheese_classification_challenge/dataset/val/STILTON/000024.jpg\n",
      "generating images for STILTON with prompt: best quality, high quality, image of Stilton on a slate board, with a shop background, seen from above\n"
     ]
    },
    {
     "data": {
      "application/vnd.jupyter.widget-view+json": {
       "model_id": "53d267b7669e4dc0baac4d72d298d5c8",
       "version_major": 2,
       "version_minor": 0
      },
      "text/plain": [
       "  0%|          | 0/20 [00:00<?, ?it/s]"
      ]
     },
     "metadata": {},
     "output_type": "display_data"
    },
    {
     "name": "stdout",
     "output_type": "stream",
     "text": [
      "generating images for STILTON with prompt: best quality, high quality, image of Stilton on a plain white background, with a plain white background, seen from a face view\n"
     ]
    },
    {
     "data": {
      "application/vnd.jupyter.widget-view+json": {
       "model_id": "7cfa2c43f75a4e17aece9c00910891d8",
       "version_major": 2,
       "version_minor": 0
      },
      "text/plain": [
       "  0%|          | 0/20 [00:00<?, ?it/s]"
      ]
     },
     "metadata": {},
     "output_type": "display_data"
    },
    {
     "name": "stdout",
     "output_type": "stream",
     "text": [
      "generating images for STILTON with prompt: best quality, high quality, image of Stilton on a plain white background, with a plain white background, seen from a face view\n"
     ]
    },
    {
     "data": {
      "application/vnd.jupyter.widget-view+json": {
       "model_id": "18ed3253d50644c1b39f428da99f28a4",
       "version_major": 2,
       "version_minor": 0
      },
      "text/plain": [
       "  0%|          | 0/20 [00:00<?, ?it/s]"
      ]
     },
     "metadata": {},
     "output_type": "display_data"
    },
    {
     "name": "stdout",
     "output_type": "stream",
     "text": [
      "/Data/hala.gamouh/cheese_classification_challenge/dataset/val/STILTON/000000.jpg\n",
      "generating images for STILTON with prompt: best quality, high quality, image of Stilton on a slate board, with a cheese cave background, seen from above\n"
     ]
    },
    {
     "data": {
      "application/vnd.jupyter.widget-view+json": {
       "model_id": "be2425b2329349209a411f41b1b82a2e",
       "version_major": 2,
       "version_minor": 0
      },
      "text/plain": [
       "  0%|          | 0/20 [00:00<?, ?it/s]"
      ]
     },
     "metadata": {},
     "output_type": "display_data"
    },
    {
     "name": "stdout",
     "output_type": "stream",
     "text": [
      "generating images for STILTON with prompt: best quality, high quality, in its packaging\n"
     ]
    },
    {
     "data": {
      "application/vnd.jupyter.widget-view+json": {
       "model_id": "c48105d254494815bf6391b1b03175e7",
       "version_major": 2,
       "version_minor": 0
      },
      "text/plain": [
       "  0%|          | 0/20 [00:00<?, ?it/s]"
      ]
     },
     "metadata": {},
     "output_type": "display_data"
    },
    {
     "name": "stdout",
     "output_type": "stream",
     "text": [
      "generating images for STILTON with prompt: best quality, high quality, in its packaging\n"
     ]
    },
    {
     "data": {
      "application/vnd.jupyter.widget-view+json": {
       "model_id": "6642d165f3754ded90b50f648bde92b7",
       "version_major": 2,
       "version_minor": 0
      },
      "text/plain": [
       "  0%|          | 0/20 [00:00<?, ?it/s]"
      ]
     },
     "metadata": {},
     "output_type": "display_data"
    },
    {
     "name": "stdout",
     "output_type": "stream",
     "text": [
      "/Data/hala.gamouh/cheese_classification_challenge/dataset/val/STILTON/000001.jpg\n",
      "generating images for STILTON with prompt: best quality, high quality, image of Stilton on a slate board, with a cheese cave background, seen from above\n"
     ]
    },
    {
     "data": {
      "application/vnd.jupyter.widget-view+json": {
       "model_id": "6b68c9b8f0294e1fa8782b184d528db5",
       "version_major": 2,
       "version_minor": 0
      },
      "text/plain": [
       "  0%|          | 0/20 [00:00<?, ?it/s]"
      ]
     },
     "metadata": {},
     "output_type": "display_data"
    },
    {
     "name": "stdout",
     "output_type": "stream",
     "text": [
      "generating images for STILTON with prompt: best quality, high quality, in its packaging\n"
     ]
    },
    {
     "data": {
      "application/vnd.jupyter.widget-view+json": {
       "model_id": "ef9dd870bf2a4d7ca74dc124a207f91c",
       "version_major": 2,
       "version_minor": 0
      },
      "text/plain": [
       "  0%|          | 0/20 [00:00<?, ?it/s]"
      ]
     },
     "metadata": {},
     "output_type": "display_data"
    },
    {
     "name": "stdout",
     "output_type": "stream",
     "text": [
      "generating images for STILTON with prompt: best quality, high quality, image of Stilton on a marble plate, with a shop background, seen from an angled shot\n"
     ]
    },
    {
     "data": {
      "application/vnd.jupyter.widget-view+json": {
       "model_id": "2dba580a566a4cf98220b1ee95c0c4cd",
       "version_major": 2,
       "version_minor": 0
      },
      "text/plain": [
       "  0%|          | 0/20 [00:00<?, ?it/s]"
      ]
     },
     "metadata": {},
     "output_type": "display_data"
    },
    {
     "name": "stdout",
     "output_type": "stream",
     "text": [
      "/Data/hala.gamouh/cheese_classification_challenge/dataset/val/STILTON/000002.jpg\n",
      "generating images for STILTON with prompt: best quality, high quality, image of Stilton on a plain white background, with a cheese cave background, seen from a side view\n"
     ]
    },
    {
     "data": {
      "application/vnd.jupyter.widget-view+json": {
       "model_id": "d8f66ca9cfde497b8f16f37a1ed28ec1",
       "version_major": 2,
       "version_minor": 0
      },
      "text/plain": [
       "  0%|          | 0/20 [00:00<?, ?it/s]"
      ]
     },
     "metadata": {},
     "output_type": "display_data"
    },
    {
     "name": "stdout",
     "output_type": "stream",
     "text": [
      "generating images for STILTON with prompt: best quality, high quality, image of Stilton on a wooden plate, with a kitchen background, seen from a side view\n"
     ]
    },
    {
     "data": {
      "application/vnd.jupyter.widget-view+json": {
       "model_id": "c3b804096ae24928a84c8321353e2fb5",
       "version_major": 2,
       "version_minor": 0
      },
      "text/plain": [
       "  0%|          | 0/20 [00:00<?, ?it/s]"
      ]
     },
     "metadata": {},
     "output_type": "display_data"
    },
    {
     "name": "stdout",
     "output_type": "stream",
     "text": [
      "generating images for STILTON with prompt: best quality, high quality, image of Stilton on a marble plate, with a kitchen background, seen from a side view\n"
     ]
    },
    {
     "data": {
      "application/vnd.jupyter.widget-view+json": {
       "model_id": "ed95b47b6a854d898f8eebe9c158321f",
       "version_major": 2,
       "version_minor": 0
      },
      "text/plain": [
       "  0%|          | 0/20 [00:00<?, ?it/s]"
      ]
     },
     "metadata": {},
     "output_type": "display_data"
    },
    {
     "name": "stdout",
     "output_type": "stream",
     "text": [
      "/Data/hala.gamouh/cheese_classification_challenge/dataset/val/STILTON/000003.jpg\n",
      "generating images for STILTON with prompt: best quality, high quality, image of Stilton on a plain white background, with a cheese cave background, seen from a side view\n"
     ]
    },
    {
     "data": {
      "application/vnd.jupyter.widget-view+json": {
       "model_id": "1570e7a8eac44d65b5597632f38c77c7",
       "version_major": 2,
       "version_minor": 0
      },
      "text/plain": [
       "  0%|          | 0/20 [00:00<?, ?it/s]"
      ]
     },
     "metadata": {},
     "output_type": "display_data"
    },
    {
     "name": "stdout",
     "output_type": "stream",
     "text": [
      "generating images for STILTON with prompt: best quality, high quality, image of Stilton on a plain white background, with a plain white background, seen from a face view\n"
     ]
    },
    {
     "data": {
      "application/vnd.jupyter.widget-view+json": {
       "model_id": "bf4bfb00d6d84453b12a55709763edf5",
       "version_major": 2,
       "version_minor": 0
      },
      "text/plain": [
       "  0%|          | 0/20 [00:00<?, ?it/s]"
      ]
     },
     "metadata": {},
     "output_type": "display_data"
    },
    {
     "name": "stdout",
     "output_type": "stream",
     "text": [
      "generating images for STILTON with prompt: best quality, high quality, image of Stilton on a plain white background, with a plain white background, seen from a face view\n"
     ]
    },
    {
     "data": {
      "application/vnd.jupyter.widget-view+json": {
       "model_id": "80dac5103c8f495f9de1036b67b3b092",
       "version_major": 2,
       "version_minor": 0
      },
      "text/plain": [
       "  0%|          | 0/20 [00:00<?, ?it/s]"
      ]
     },
     "metadata": {},
     "output_type": "display_data"
    },
    {
     "name": "stdout",
     "output_type": "stream",
     "text": [
      "/Data/hala.gamouh/cheese_classification_challenge/dataset/val/STILTON/000004.jpg\n",
      "generating images for STILTON with prompt: best quality, high quality, in its packaging\n"
     ]
    },
    {
     "data": {
      "application/vnd.jupyter.widget-view+json": {
       "model_id": "960af98657334127849048d507d278d7",
       "version_major": 2,
       "version_minor": 0
      },
      "text/plain": [
       "  0%|          | 0/20 [00:00<?, ?it/s]"
      ]
     },
     "metadata": {},
     "output_type": "display_data"
    },
    {
     "name": "stdout",
     "output_type": "stream",
     "text": [
      "generating images for STILTON with prompt: best quality, high quality, image of Stilton on a plain white background, with a plain white background, seen from a face view\n"
     ]
    },
    {
     "data": {
      "application/vnd.jupyter.widget-view+json": {
       "model_id": "e96d1b63874d49709965bd7b511bb674",
       "version_major": 2,
       "version_minor": 0
      },
      "text/plain": [
       "  0%|          | 0/20 [00:00<?, ?it/s]"
      ]
     },
     "metadata": {},
     "output_type": "display_data"
    },
    {
     "name": "stdout",
     "output_type": "stream",
     "text": [
      "generating images for STILTON with prompt: best quality, high quality, image of Stilton on a wooden plate, with a plain white background, seen from above\n"
     ]
    },
    {
     "data": {
      "application/vnd.jupyter.widget-view+json": {
       "model_id": "63c9f6d0762b4aabb9470f1ac601e3fa",
       "version_major": 2,
       "version_minor": 0
      },
      "text/plain": [
       "  0%|          | 0/20 [00:00<?, ?it/s]"
      ]
     },
     "metadata": {},
     "output_type": "display_data"
    },
    {
     "name": "stdout",
     "output_type": "stream",
     "text": [
      "/Data/hala.gamouh/cheese_classification_challenge/dataset/val/STILTON/000005.jpg\n",
      "generating images for STILTON with prompt: best quality, high quality, image of Stilton on a marble plate, with a shop background, seen from an angled shot\n"
     ]
    },
    {
     "data": {
      "application/vnd.jupyter.widget-view+json": {
       "model_id": "233568e10cdc428c99067ce2c2221d1b",
       "version_major": 2,
       "version_minor": 0
      },
      "text/plain": [
       "  0%|          | 0/20 [00:00<?, ?it/s]"
      ]
     },
     "metadata": {},
     "output_type": "display_data"
    },
    {
     "name": "stdout",
     "output_type": "stream",
     "text": [
      "generating images for STILTON with prompt: best quality, high quality, image of Stilton on a marble plate, with a kitchen background, seen from a side view\n"
     ]
    },
    {
     "data": {
      "application/vnd.jupyter.widget-view+json": {
       "model_id": "da55d75ed6e5458bbcd120c0605db78c",
       "version_major": 2,
       "version_minor": 0
      },
      "text/plain": [
       "  0%|          | 0/20 [00:00<?, ?it/s]"
      ]
     },
     "metadata": {},
     "output_type": "display_data"
    },
    {
     "name": "stdout",
     "output_type": "stream",
     "text": [
      "generating images for STILTON with prompt: best quality, high quality, image of Stilton on a wooden plate, with a plain white background, seen from above\n"
     ]
    },
    {
     "data": {
      "application/vnd.jupyter.widget-view+json": {
       "model_id": "0f5a9a7accd446e0b63a22d8cb7eae5f",
       "version_major": 2,
       "version_minor": 0
      },
      "text/plain": [
       "  0%|          | 0/20 [00:00<?, ?it/s]"
      ]
     },
     "metadata": {},
     "output_type": "display_data"
    },
    {
     "name": "stdout",
     "output_type": "stream",
     "text": [
      "/Data/hala.gamouh/cheese_classification_challenge/dataset/val/STILTON/000006.jpg\n",
      "generating images for STILTON with prompt: best quality, high quality, image of Stilton on a white plate, with a cheese factory background, seen from an angled shot\n"
     ]
    },
    {
     "data": {
      "application/vnd.jupyter.widget-view+json": {
       "model_id": "80e32544f1e3488b992fc724dbc16557",
       "version_major": 2,
       "version_minor": 0
      },
      "text/plain": [
       "  0%|          | 0/20 [00:00<?, ?it/s]"
      ]
     },
     "metadata": {},
     "output_type": "display_data"
    },
    {
     "name": "stdout",
     "output_type": "stream",
     "text": [
      "generating images for STILTON with prompt: best quality, high quality, in its packaging\n"
     ]
    },
    {
     "data": {
      "application/vnd.jupyter.widget-view+json": {
       "model_id": "70331bbe0cd64e3ebe18c8e173a60abb",
       "version_major": 2,
       "version_minor": 0
      },
      "text/plain": [
       "  0%|          | 0/20 [00:00<?, ?it/s]"
      ]
     },
     "metadata": {},
     "output_type": "display_data"
    },
    {
     "name": "stdout",
     "output_type": "stream",
     "text": [
      "generating images for STILTON with prompt: best quality, high quality, image of Stilton on a white plate, with a plain white background, seen from above\n"
     ]
    },
    {
     "data": {
      "application/vnd.jupyter.widget-view+json": {
       "model_id": "dea8e3b085f248baa43d6dc8a917a83e",
       "version_major": 2,
       "version_minor": 0
      },
      "text/plain": [
       "  0%|          | 0/20 [00:00<?, ?it/s]"
      ]
     },
     "metadata": {},
     "output_type": "display_data"
    },
    {
     "name": "stdout",
     "output_type": "stream",
     "text": [
      "/Data/hala.gamouh/cheese_classification_challenge/dataset/val/STILTON/000007.jpg\n",
      "generating images for STILTON with prompt: best quality, high quality, image of Stilton on a white plate, with a plain white background, seen from above\n"
     ]
    },
    {
     "data": {
      "application/vnd.jupyter.widget-view+json": {
       "model_id": "ea045d72955c4ca097f1155803ef808f",
       "version_major": 2,
       "version_minor": 0
      },
      "text/plain": [
       "  0%|          | 0/20 [00:00<?, ?it/s]"
      ]
     },
     "metadata": {},
     "output_type": "display_data"
    },
    {
     "name": "stdout",
     "output_type": "stream",
     "text": [
      "generating images for STILTON with prompt: best quality, high quality, in its packaging\n"
     ]
    },
    {
     "data": {
      "application/vnd.jupyter.widget-view+json": {
       "model_id": "d6ffa0c178e74f288cbbac53d2776d4d",
       "version_major": 2,
       "version_minor": 0
      },
      "text/plain": [
       "  0%|          | 0/20 [00:00<?, ?it/s]"
      ]
     },
     "metadata": {},
     "output_type": "display_data"
    },
    {
     "name": "stdout",
     "output_type": "stream",
     "text": [
      "generating images for STILTON with prompt: best quality, high quality, image of Stilton on a slate board, with a shop background, seen from above\n"
     ]
    },
    {
     "data": {
      "application/vnd.jupyter.widget-view+json": {
       "model_id": "4d0b709333e3422695a80b12bb568788",
       "version_major": 2,
       "version_minor": 0
      },
      "text/plain": [
       "  0%|          | 0/20 [00:00<?, ?it/s]"
      ]
     },
     "metadata": {},
     "output_type": "display_data"
    },
    {
     "name": "stdout",
     "output_type": "stream",
     "text": [
      "/Data/hala.gamouh/cheese_classification_challenge/dataset/val/STILTON/000008.jpg\n",
      "generating images for STILTON with prompt: best quality, high quality, image of Stilton on a white plate, with a cheese factory background, seen from an angled shot\n"
     ]
    },
    {
     "data": {
      "application/vnd.jupyter.widget-view+json": {
       "model_id": "8f0712720ec04a6d9245ba1733c8f232",
       "version_major": 2,
       "version_minor": 0
      },
      "text/plain": [
       "  0%|          | 0/20 [00:00<?, ?it/s]"
      ]
     },
     "metadata": {},
     "output_type": "display_data"
    },
    {
     "name": "stdout",
     "output_type": "stream",
     "text": [
      "generating images for STILTON with prompt: best quality, high quality, image of Stilton on a wooden plate, with a plain white background, seen from above\n"
     ]
    },
    {
     "data": {
      "application/vnd.jupyter.widget-view+json": {
       "model_id": "5609ad0da75f4e189c5acdfb89c999ce",
       "version_major": 2,
       "version_minor": 0
      },
      "text/plain": [
       "  0%|          | 0/20 [00:00<?, ?it/s]"
      ]
     },
     "metadata": {},
     "output_type": "display_data"
    },
    {
     "name": "stdout",
     "output_type": "stream",
     "text": [
      "generating images for STILTON with prompt: best quality, high quality, image of Stilton on a slate board, with a shop background, seen from above\n"
     ]
    },
    {
     "data": {
      "application/vnd.jupyter.widget-view+json": {
       "model_id": "18259130af0c4b969cf18d6cdbd669f3",
       "version_major": 2,
       "version_minor": 0
      },
      "text/plain": [
       "  0%|          | 0/20 [00:00<?, ?it/s]"
      ]
     },
     "metadata": {},
     "output_type": "display_data"
    },
    {
     "name": "stdout",
     "output_type": "stream",
     "text": [
      "/Data/hala.gamouh/cheese_classification_challenge/dataset/val/STILTON/000009.jpg\n",
      "generating images for STILTON with prompt: best quality, high quality, image of Stilton on a slate board, with a cheese cave background, seen from above\n"
     ]
    },
    {
     "data": {
      "application/vnd.jupyter.widget-view+json": {
       "model_id": "12211818bd514d3b97b5838b21d20621",
       "version_major": 2,
       "version_minor": 0
      },
      "text/plain": [
       "  0%|          | 0/20 [00:00<?, ?it/s]"
      ]
     },
     "metadata": {},
     "output_type": "display_data"
    },
    {
     "name": "stdout",
     "output_type": "stream",
     "text": [
      "generating images for STILTON with prompt: best quality, high quality, image of Stilton on a marble plate, with a shop background, seen from an angled shot\n"
     ]
    },
    {
     "data": {
      "application/vnd.jupyter.widget-view+json": {
       "model_id": "5e2587642032415c859e774168608d00",
       "version_major": 2,
       "version_minor": 0
      },
      "text/plain": [
       "  0%|          | 0/20 [00:00<?, ?it/s]"
      ]
     },
     "metadata": {},
     "output_type": "display_data"
    },
    {
     "name": "stdout",
     "output_type": "stream",
     "text": [
      "generating images for STILTON with prompt: best quality, high quality, image of Stilton on a plain white background, with a cheese cave background, seen from a side view\n"
     ]
    },
    {
     "data": {
      "application/vnd.jupyter.widget-view+json": {
       "model_id": "a7004571d277468d9c31aab39257d4d5",
       "version_major": 2,
       "version_minor": 0
      },
      "text/plain": [
       "  0%|          | 0/20 [00:00<?, ?it/s]"
      ]
     },
     "metadata": {},
     "output_type": "display_data"
    },
    {
     "name": "stdout",
     "output_type": "stream",
     "text": [
      "/Data/hala.gamouh/cheese_classification_challenge/dataset/val/STILTON/000010.jpg\n",
      "generating images for STILTON with prompt: best quality, high quality, image of Stilton on a wooden plate, with a plain white background, seen from above\n"
     ]
    },
    {
     "data": {
      "application/vnd.jupyter.widget-view+json": {
       "model_id": "2f50e7ecb17a4e03bcf40099568e7847",
       "version_major": 2,
       "version_minor": 0
      },
      "text/plain": [
       "  0%|          | 0/20 [00:00<?, ?it/s]"
      ]
     },
     "metadata": {},
     "output_type": "display_data"
    },
    {
     "name": "stdout",
     "output_type": "stream",
     "text": [
      "generating images for STILTON with prompt: best quality, high quality, image of Stilton on a slate board, with a shop background, seen from above\n"
     ]
    },
    {
     "data": {
      "application/vnd.jupyter.widget-view+json": {
       "model_id": "2d1ce5aa16f5494990efa3f72ad39cdb",
       "version_major": 2,
       "version_minor": 0
      },
      "text/plain": [
       "  0%|          | 0/20 [00:00<?, ?it/s]"
      ]
     },
     "metadata": {},
     "output_type": "display_data"
    },
    {
     "name": "stdout",
     "output_type": "stream",
     "text": [
      "generating images for STILTON with prompt: best quality, high quality, image of Stilton on a plain white background, with a plain white background, seen from a face view\n"
     ]
    },
    {
     "data": {
      "application/vnd.jupyter.widget-view+json": {
       "model_id": "524eb46d2876481eaa87868c0496895b",
       "version_major": 2,
       "version_minor": 0
      },
      "text/plain": [
       "  0%|          | 0/20 [00:00<?, ?it/s]"
      ]
     },
     "metadata": {},
     "output_type": "display_data"
    },
    {
     "name": "stdout",
     "output_type": "stream",
     "text": [
      "/Data/hala.gamouh/cheese_classification_challenge/dataset/val/STILTON/000011.jpg\n",
      "generating images for STILTON with prompt: best quality, high quality, image of Stilton on a plain white background, with a plain white background, seen from a face view\n"
     ]
    },
    {
     "data": {
      "application/vnd.jupyter.widget-view+json": {
       "model_id": "fd093d9d18a5439eaf4904c3e12ce3cc",
       "version_major": 2,
       "version_minor": 0
      },
      "text/plain": [
       "  0%|          | 0/20 [00:00<?, ?it/s]"
      ]
     },
     "metadata": {},
     "output_type": "display_data"
    },
    {
     "name": "stdout",
     "output_type": "stream",
     "text": [
      "generating images for STILTON with prompt: best quality, high quality, image of Stilton on a slate board, with a shop background, seen from above\n"
     ]
    },
    {
     "data": {
      "application/vnd.jupyter.widget-view+json": {
       "model_id": "1b442456918d4b06a1c825dcdb19aae4",
       "version_major": 2,
       "version_minor": 0
      },
      "text/plain": [
       "  0%|          | 0/20 [00:00<?, ?it/s]"
      ]
     },
     "metadata": {},
     "output_type": "display_data"
    },
    {
     "name": "stdout",
     "output_type": "stream",
     "text": [
      "generating images for STILTON with prompt: best quality, high quality, image of Stilton on a white plate, with a cheese factory background, seen from an angled shot\n"
     ]
    },
    {
     "data": {
      "application/vnd.jupyter.widget-view+json": {
       "model_id": "6ccd95ce1b0745ed9ac586db86d77a49",
       "version_major": 2,
       "version_minor": 0
      },
      "text/plain": [
       "  0%|          | 0/20 [00:00<?, ?it/s]"
      ]
     },
     "metadata": {},
     "output_type": "display_data"
    },
    {
     "name": "stdout",
     "output_type": "stream",
     "text": [
      "/Data/hala.gamouh/cheese_classification_challenge/dataset/val/STILTON/000012.jpg\n",
      "generating images for STILTON with prompt: best quality, high quality, image of Stilton on a white plate, with a cheese factory background, seen from an angled shot\n"
     ]
    },
    {
     "data": {
      "application/vnd.jupyter.widget-view+json": {
       "model_id": "dcf9a1290fee459f87596250fdd3ce47",
       "version_major": 2,
       "version_minor": 0
      },
      "text/plain": [
       "  0%|          | 0/20 [00:00<?, ?it/s]"
      ]
     },
     "metadata": {},
     "output_type": "display_data"
    },
    {
     "name": "stdout",
     "output_type": "stream",
     "text": [
      "generating images for STILTON with prompt: best quality, high quality, image of Stilton on a slate board, with a cheese cave background, seen from above\n"
     ]
    },
    {
     "data": {
      "application/vnd.jupyter.widget-view+json": {
       "model_id": "7604344abcf2437db3abdab6dbf8ad0d",
       "version_major": 2,
       "version_minor": 0
      },
      "text/plain": [
       "  0%|          | 0/20 [00:00<?, ?it/s]"
      ]
     },
     "metadata": {},
     "output_type": "display_data"
    },
    {
     "name": "stdout",
     "output_type": "stream",
     "text": [
      "generating images for STILTON with prompt: best quality, high quality, image of Stilton on a wooden plate, with a kitchen background, seen from a side view\n"
     ]
    },
    {
     "data": {
      "application/vnd.jupyter.widget-view+json": {
       "model_id": "e088da5608f144e59bbd7756ff7ef355",
       "version_major": 2,
       "version_minor": 0
      },
      "text/plain": [
       "  0%|          | 0/20 [00:00<?, ?it/s]"
      ]
     },
     "metadata": {},
     "output_type": "display_data"
    },
    {
     "name": "stdout",
     "output_type": "stream",
     "text": [
      "/Data/hala.gamouh/cheese_classification_challenge/dataset/val/STILTON/000013.jpg\n",
      "generating images for STILTON with prompt: best quality, high quality, in its packaging\n"
     ]
    },
    {
     "data": {
      "application/vnd.jupyter.widget-view+json": {
       "model_id": "d8e2d5b41d23466eaf348f9771d1c1e3",
       "version_major": 2,
       "version_minor": 0
      },
      "text/plain": [
       "  0%|          | 0/20 [00:00<?, ?it/s]"
      ]
     },
     "metadata": {},
     "output_type": "display_data"
    },
    {
     "name": "stdout",
     "output_type": "stream",
     "text": [
      "generating images for STILTON with prompt: best quality, high quality, image of Stilton on a plain white background, with a plain white background, seen from a face view\n"
     ]
    },
    {
     "data": {
      "application/vnd.jupyter.widget-view+json": {
       "model_id": "16d801d327d5465f88cd7cf3dda849ed",
       "version_major": 2,
       "version_minor": 0
      },
      "text/plain": [
       "  0%|          | 0/20 [00:00<?, ?it/s]"
      ]
     },
     "metadata": {},
     "output_type": "display_data"
    },
    {
     "name": "stdout",
     "output_type": "stream",
     "text": [
      "generating images for STILTON with prompt: best quality, high quality, in its packaging\n"
     ]
    },
    {
     "data": {
      "application/vnd.jupyter.widget-view+json": {
       "model_id": "b9d46ff797674de4baa93f46780a1c3a",
       "version_major": 2,
       "version_minor": 0
      },
      "text/plain": [
       "  0%|          | 0/20 [00:00<?, ?it/s]"
      ]
     },
     "metadata": {},
     "output_type": "display_data"
    },
    {
     "name": "stdout",
     "output_type": "stream",
     "text": [
      "/Data/hala.gamouh/cheese_classification_challenge/dataset/val/STILTON/000014.jpg\n",
      "generating images for STILTON with prompt: best quality, high quality, image of Stilton on a white plate, with a plain white background, seen from above\n"
     ]
    },
    {
     "data": {
      "application/vnd.jupyter.widget-view+json": {
       "model_id": "138b3558998c40649f8a5f5653def970",
       "version_major": 2,
       "version_minor": 0
      },
      "text/plain": [
       "  0%|          | 0/20 [00:00<?, ?it/s]"
      ]
     },
     "metadata": {},
     "output_type": "display_data"
    },
    {
     "name": "stdout",
     "output_type": "stream",
     "text": [
      "generating images for STILTON with prompt: best quality, high quality, image of Stilton on a white plate, with a plain white background, seen from above\n"
     ]
    },
    {
     "data": {
      "application/vnd.jupyter.widget-view+json": {
       "model_id": "aa7ebd6eba2d4818be815f18d30acb25",
       "version_major": 2,
       "version_minor": 0
      },
      "text/plain": [
       "  0%|          | 0/20 [00:00<?, ?it/s]"
      ]
     },
     "metadata": {},
     "output_type": "display_data"
    },
    {
     "name": "stdout",
     "output_type": "stream",
     "text": [
      "generating images for STILTON with prompt: best quality, high quality, image of Stilton on a slate board, with a cheese cave background, seen from above\n"
     ]
    },
    {
     "data": {
      "application/vnd.jupyter.widget-view+json": {
       "model_id": "b27facdd43f0495381a6effac9226b80",
       "version_major": 2,
       "version_minor": 0
      },
      "text/plain": [
       "  0%|          | 0/20 [00:00<?, ?it/s]"
      ]
     },
     "metadata": {},
     "output_type": "display_data"
    },
    {
     "name": "stdout",
     "output_type": "stream",
     "text": [
      "/Data/hala.gamouh/cheese_classification_challenge/dataset/val/STILTON/000015.jpg\n",
      "generating images for STILTON with prompt: best quality, high quality, image of Stilton on a wooden plate, with a plain white background, seen from above\n"
     ]
    },
    {
     "data": {
      "application/vnd.jupyter.widget-view+json": {
       "model_id": "f7afdf941b6e4fe4b8336a9e4946bba2",
       "version_major": 2,
       "version_minor": 0
      },
      "text/plain": [
       "  0%|          | 0/20 [00:00<?, ?it/s]"
      ]
     },
     "metadata": {},
     "output_type": "display_data"
    },
    {
     "name": "stdout",
     "output_type": "stream",
     "text": [
      "generating images for STILTON with prompt: best quality, high quality, image of Stilton on a white plate, with a cheese factory background, seen from an angled shot\n"
     ]
    },
    {
     "data": {
      "application/vnd.jupyter.widget-view+json": {
       "model_id": "a3d621de0201410ba9a4900d761272b9",
       "version_major": 2,
       "version_minor": 0
      },
      "text/plain": [
       "  0%|          | 0/20 [00:00<?, ?it/s]"
      ]
     },
     "metadata": {},
     "output_type": "display_data"
    },
    {
     "name": "stdout",
     "output_type": "stream",
     "text": [
      "generating images for STILTON with prompt: best quality, high quality, image of Stilton on a slate board, with a shop background, seen from above\n"
     ]
    },
    {
     "data": {
      "application/vnd.jupyter.widget-view+json": {
       "model_id": "61c730b6c4e644489094f0802ddb5974",
       "version_major": 2,
       "version_minor": 0
      },
      "text/plain": [
       "  0%|          | 0/20 [00:00<?, ?it/s]"
      ]
     },
     "metadata": {},
     "output_type": "display_data"
    },
    {
     "name": "stdout",
     "output_type": "stream",
     "text": [
      "/Data/hala.gamouh/cheese_classification_challenge/dataset/val/STILTON/000016.jpg\n",
      "generating images for STILTON with prompt: best quality, high quality, image of Stilton on a white plate, with a plain white background, seen from above\n"
     ]
    },
    {
     "data": {
      "application/vnd.jupyter.widget-view+json": {
       "model_id": "90ec756f920d4d24b056aee5d34a0a9e",
       "version_major": 2,
       "version_minor": 0
      },
      "text/plain": [
       "  0%|          | 0/20 [00:00<?, ?it/s]"
      ]
     },
     "metadata": {},
     "output_type": "display_data"
    },
    {
     "name": "stdout",
     "output_type": "stream",
     "text": [
      "generating images for STILTON with prompt: best quality, high quality, image of Stilton on a wooden plate, with a kitchen background, seen from a side view\n"
     ]
    },
    {
     "data": {
      "application/vnd.jupyter.widget-view+json": {
       "model_id": "feb880c9cdee43ae86506baba999d617",
       "version_major": 2,
       "version_minor": 0
      },
      "text/plain": [
       "  0%|          | 0/20 [00:00<?, ?it/s]"
      ]
     },
     "metadata": {},
     "output_type": "display_data"
    },
    {
     "name": "stdout",
     "output_type": "stream",
     "text": [
      "generating images for STILTON with prompt: best quality, high quality, image of Stilton on a wooden plate, with a plain white background, seen from above\n"
     ]
    },
    {
     "data": {
      "application/vnd.jupyter.widget-view+json": {
       "model_id": "fa2896822ffd405986ae388999ab6b58",
       "version_major": 2,
       "version_minor": 0
      },
      "text/plain": [
       "  0%|          | 0/20 [00:00<?, ?it/s]"
      ]
     },
     "metadata": {},
     "output_type": "display_data"
    },
    {
     "name": "stdout",
     "output_type": "stream",
     "text": [
      "/Data/hala.gamouh/cheese_classification_challenge/dataset/val/STILTON/000017.jpg\n",
      "generating images for STILTON with prompt: best quality, high quality, image of Stilton on a marble plate, with a shop background, seen from an angled shot\n"
     ]
    },
    {
     "data": {
      "application/vnd.jupyter.widget-view+json": {
       "model_id": "bc19c4fc65534d808b815dab609dcf93",
       "version_major": 2,
       "version_minor": 0
      },
      "text/plain": [
       "  0%|          | 0/20 [00:00<?, ?it/s]"
      ]
     },
     "metadata": {},
     "output_type": "display_data"
    },
    {
     "name": "stdout",
     "output_type": "stream",
     "text": [
      "generating images for STILTON with prompt: best quality, high quality, image of Stilton on a slate board, with a shop background, seen from above\n"
     ]
    },
    {
     "data": {
      "application/vnd.jupyter.widget-view+json": {
       "model_id": "0156b29e75894c13bce798fe9793d3cf",
       "version_major": 2,
       "version_minor": 0
      },
      "text/plain": [
       "  0%|          | 0/20 [00:00<?, ?it/s]"
      ]
     },
     "metadata": {},
     "output_type": "display_data"
    },
    {
     "name": "stdout",
     "output_type": "stream",
     "text": [
      "generating images for STILTON with prompt: best quality, high quality, image of Stilton on a wooden plate, with a kitchen background, seen from a side view\n"
     ]
    },
    {
     "data": {
      "application/vnd.jupyter.widget-view+json": {
       "model_id": "12aed3c9d9914ca09b18ca4707119e1e",
       "version_major": 2,
       "version_minor": 0
      },
      "text/plain": [
       "  0%|          | 0/20 [00:00<?, ?it/s]"
      ]
     },
     "metadata": {},
     "output_type": "display_data"
    },
    {
     "name": "stdout",
     "output_type": "stream",
     "text": [
      "/Data/hala.gamouh/cheese_classification_challenge/dataset/val/STILTON/000018.jpg\n",
      "generating images for STILTON with prompt: best quality, high quality, in its packaging\n"
     ]
    },
    {
     "data": {
      "application/vnd.jupyter.widget-view+json": {
       "model_id": "4e15e168ccdf4b40afdfce804e9dfdc2",
       "version_major": 2,
       "version_minor": 0
      },
      "text/plain": [
       "  0%|          | 0/20 [00:00<?, ?it/s]"
      ]
     },
     "metadata": {},
     "output_type": "display_data"
    },
    {
     "name": "stdout",
     "output_type": "stream",
     "text": [
      "generating images for STILTON with prompt: best quality, high quality, image of Stilton on a marble plate, with a kitchen background, seen from a side view\n"
     ]
    },
    {
     "data": {
      "application/vnd.jupyter.widget-view+json": {
       "model_id": "9fb929dd18f64d7395f9083bd199cf96",
       "version_major": 2,
       "version_minor": 0
      },
      "text/plain": [
       "  0%|          | 0/20 [00:00<?, ?it/s]"
      ]
     },
     "metadata": {},
     "output_type": "display_data"
    },
    {
     "name": "stdout",
     "output_type": "stream",
     "text": [
      "generating images for STILTON with prompt: best quality, high quality, in its packaging\n"
     ]
    },
    {
     "data": {
      "application/vnd.jupyter.widget-view+json": {
       "model_id": "cf27f207bbad40d1b92c2528cd554de5",
       "version_major": 2,
       "version_minor": 0
      },
      "text/plain": [
       "  0%|          | 0/20 [00:00<?, ?it/s]"
      ]
     },
     "metadata": {},
     "output_type": "display_data"
    },
    {
     "name": "stdout",
     "output_type": "stream",
     "text": [
      "/Data/hala.gamouh/cheese_classification_challenge/dataset/val/STILTON/000019.jpg\n",
      "generating images for STILTON with prompt: best quality, high quality, image of Stilton on a slate board, with a shop background, seen from above\n"
     ]
    },
    {
     "data": {
      "application/vnd.jupyter.widget-view+json": {
       "model_id": "03d30ebbf8f74e05bf0216cc019fcf79",
       "version_major": 2,
       "version_minor": 0
      },
      "text/plain": [
       "  0%|          | 0/20 [00:00<?, ?it/s]"
      ]
     },
     "metadata": {},
     "output_type": "display_data"
    },
    {
     "name": "stdout",
     "output_type": "stream",
     "text": [
      "generating images for STILTON with prompt: best quality, high quality, image of Stilton on a plain white background, with a cheese cave background, seen from a side view\n"
     ]
    },
    {
     "data": {
      "application/vnd.jupyter.widget-view+json": {
       "model_id": "a3431065d4fa455db8018c367774d649",
       "version_major": 2,
       "version_minor": 0
      },
      "text/plain": [
       "  0%|          | 0/20 [00:00<?, ?it/s]"
      ]
     },
     "metadata": {},
     "output_type": "display_data"
    },
    {
     "name": "stdout",
     "output_type": "stream",
     "text": [
      "generating images for STILTON with prompt: best quality, high quality, image of Stilton on a plain white background, with a plain white background, seen from a face view\n"
     ]
    },
    {
     "data": {
      "application/vnd.jupyter.widget-view+json": {
       "model_id": "fdb59812bf2f46c08892238417e03b77",
       "version_major": 2,
       "version_minor": 0
      },
      "text/plain": [
       "  0%|          | 0/20 [00:00<?, ?it/s]"
      ]
     },
     "metadata": {},
     "output_type": "display_data"
    },
    {
     "name": "stdout",
     "output_type": "stream",
     "text": [
      "/Data/hala.gamouh/cheese_classification_challenge/dataset/val/STILTON/000020.jpg\n",
      "generating images for STILTON with prompt: best quality, high quality, image of Stilton on a marble plate, with a shop background, seen from an angled shot\n"
     ]
    },
    {
     "data": {
      "application/vnd.jupyter.widget-view+json": {
       "model_id": "d31ad9fdb9d9408eb3fba63b0bfa6879",
       "version_major": 2,
       "version_minor": 0
      },
      "text/plain": [
       "  0%|          | 0/20 [00:00<?, ?it/s]"
      ]
     },
     "metadata": {},
     "output_type": "display_data"
    },
    {
     "name": "stdout",
     "output_type": "stream",
     "text": [
      "generating images for STILTON with prompt: best quality, high quality, image of Stilton on a slate board, with a cheese cave background, seen from above\n"
     ]
    },
    {
     "data": {
      "application/vnd.jupyter.widget-view+json": {
       "model_id": "7fbb363acf10474e95a490cfd4421b57",
       "version_major": 2,
       "version_minor": 0
      },
      "text/plain": [
       "  0%|          | 0/20 [00:00<?, ?it/s]"
      ]
     },
     "metadata": {},
     "output_type": "display_data"
    },
    {
     "name": "stdout",
     "output_type": "stream",
     "text": [
      "generating images for STILTON with prompt: best quality, high quality, image of Stilton on a plain white background, with a plain white background, seen from a face view\n"
     ]
    },
    {
     "data": {
      "application/vnd.jupyter.widget-view+json": {
       "model_id": "d21f48ad701d4c76a3b6313d3233bb4c",
       "version_major": 2,
       "version_minor": 0
      },
      "text/plain": [
       "  0%|          | 0/20 [00:00<?, ?it/s]"
      ]
     },
     "metadata": {},
     "output_type": "display_data"
    },
    {
     "name": "stdout",
     "output_type": "stream",
     "text": [
      "/Data/hala.gamouh/cheese_classification_challenge/dataset/val/STILTON/000021.jpg\n",
      "generating images for STILTON with prompt: best quality, high quality, image of Stilton on a slate board, with a cheese cave background, seen from above\n"
     ]
    },
    {
     "data": {
      "application/vnd.jupyter.widget-view+json": {
       "model_id": "508bdf0ccc5e490e9b4741d440cc0f04",
       "version_major": 2,
       "version_minor": 0
      },
      "text/plain": [
       "  0%|          | 0/20 [00:00<?, ?it/s]"
      ]
     },
     "metadata": {},
     "output_type": "display_data"
    },
    {
     "name": "stdout",
     "output_type": "stream",
     "text": [
      "generating images for STILTON with prompt: best quality, high quality, image of Stilton on a white plate, with a cheese factory background, seen from an angled shot\n"
     ]
    },
    {
     "data": {
      "application/vnd.jupyter.widget-view+json": {
       "model_id": "9efbec6a7493426aba4c649887cc49e5",
       "version_major": 2,
       "version_minor": 0
      },
      "text/plain": [
       "  0%|          | 0/20 [00:00<?, ?it/s]"
      ]
     },
     "metadata": {},
     "output_type": "display_data"
    },
    {
     "name": "stdout",
     "output_type": "stream",
     "text": [
      "generating images for STILTON with prompt: best quality, high quality, image of Stilton on a white plate, with a plain white background, seen from above\n"
     ]
    },
    {
     "data": {
      "application/vnd.jupyter.widget-view+json": {
       "model_id": "a1493c408276443faca100a23bb81a45",
       "version_major": 2,
       "version_minor": 0
      },
      "text/plain": [
       "  0%|          | 0/20 [00:00<?, ?it/s]"
      ]
     },
     "metadata": {},
     "output_type": "display_data"
    },
    {
     "name": "stdout",
     "output_type": "stream",
     "text": [
      "/Data/hala.gamouh/cheese_classification_challenge/dataset/val/STILTON/000022.jpg\n",
      "generating images for STILTON with prompt: best quality, high quality, image of Stilton on a slate board, with a cheese cave background, seen from above\n"
     ]
    },
    {
     "data": {
      "application/vnd.jupyter.widget-view+json": {
       "model_id": "5c53eebbfe1d411a9cdaa4fc2bf588f7",
       "version_major": 2,
       "version_minor": 0
      },
      "text/plain": [
       "  0%|          | 0/20 [00:00<?, ?it/s]"
      ]
     },
     "metadata": {},
     "output_type": "display_data"
    },
    {
     "name": "stdout",
     "output_type": "stream",
     "text": [
      "generating images for STILTON with prompt: best quality, high quality, image of Stilton on a wooden plate, with a kitchen background, seen from a side view\n"
     ]
    },
    {
     "data": {
      "application/vnd.jupyter.widget-view+json": {
       "model_id": "41fbd98ba9b94344b537619f3f5519ee",
       "version_major": 2,
       "version_minor": 0
      },
      "text/plain": [
       "  0%|          | 0/20 [00:00<?, ?it/s]"
      ]
     },
     "metadata": {},
     "output_type": "display_data"
    },
    {
     "name": "stdout",
     "output_type": "stream",
     "text": [
      "generating images for STILTON with prompt: best quality, high quality, image of Stilton on a slate board, with a shop background, seen from above\n"
     ]
    },
    {
     "data": {
      "application/vnd.jupyter.widget-view+json": {
       "model_id": "0b890f9af00841a6972a4268c9f07800",
       "version_major": 2,
       "version_minor": 0
      },
      "text/plain": [
       "  0%|          | 0/20 [00:00<?, ?it/s]"
      ]
     },
     "metadata": {},
     "output_type": "display_data"
    },
    {
     "name": "stdout",
     "output_type": "stream",
     "text": [
      "/Data/hala.gamouh/cheese_classification_challenge/dataset/val/STILTON/000023.jpg\n",
      "generating images for STILTON with prompt: best quality, high quality, image of Stilton on a wooden plate, with a kitchen background, seen from a side view\n"
     ]
    },
    {
     "data": {
      "application/vnd.jupyter.widget-view+json": {
       "model_id": "35f69247d8fa4fd89405895c341ec242",
       "version_major": 2,
       "version_minor": 0
      },
      "text/plain": [
       "  0%|          | 0/20 [00:00<?, ?it/s]"
      ]
     },
     "metadata": {},
     "output_type": "display_data"
    },
    {
     "name": "stdout",
     "output_type": "stream",
     "text": [
      "generating images for STILTON with prompt: best quality, high quality, image of Stilton on a white plate, with a cheese factory background, seen from an angled shot\n"
     ]
    },
    {
     "data": {
      "application/vnd.jupyter.widget-view+json": {
       "model_id": "d213a0ec439445eaa621d793d14473d1",
       "version_major": 2,
       "version_minor": 0
      },
      "text/plain": [
       "  0%|          | 0/20 [00:00<?, ?it/s]"
      ]
     },
     "metadata": {},
     "output_type": "display_data"
    },
    {
     "name": "stdout",
     "output_type": "stream",
     "text": [
      "generating images for STILTON with prompt: best quality, high quality, image of Stilton on a white plate, with a cheese factory background, seen from an angled shot\n"
     ]
    },
    {
     "data": {
      "application/vnd.jupyter.widget-view+json": {
       "model_id": "66b8a26ecab64780affdf0fbbd8d38fa",
       "version_major": 2,
       "version_minor": 0
      },
      "text/plain": [
       "  0%|          | 0/20 [00:00<?, ?it/s]"
      ]
     },
     "metadata": {},
     "output_type": "display_data"
    },
    {
     "name": "stdout",
     "output_type": "stream",
     "text": [
      "/Data/hala.gamouh/cheese_classification_challenge/dataset/val/STILTON/000024.jpg\n",
      "generating images for STILTON with prompt: best quality, high quality, image of Stilton on a plain white background, with a cheese cave background, seen from a side view\n"
     ]
    },
    {
     "data": {
      "application/vnd.jupyter.widget-view+json": {
       "model_id": "00c8ce620da64dfaa7b1555272dd4f3e",
       "version_major": 2,
       "version_minor": 0
      },
      "text/plain": [
       "  0%|          | 0/20 [00:00<?, ?it/s]"
      ]
     },
     "metadata": {},
     "output_type": "display_data"
    },
    {
     "name": "stdout",
     "output_type": "stream",
     "text": [
      "generating images for STILTON with prompt: best quality, high quality, image of Stilton on a marble plate, with a shop background, seen from an angled shot\n"
     ]
    },
    {
     "data": {
      "application/vnd.jupyter.widget-view+json": {
       "model_id": "4dd90553a16344c3870f32624e5dd7ae",
       "version_major": 2,
       "version_minor": 0
      },
      "text/plain": [
       "  0%|          | 0/20 [00:00<?, ?it/s]"
      ]
     },
     "metadata": {},
     "output_type": "display_data"
    },
    {
     "name": "stdout",
     "output_type": "stream",
     "text": [
      "generating images for STILTON with prompt: best quality, high quality, image of Stilton on a white plate, with a plain white background, seen from above\n"
     ]
    },
    {
     "data": {
      "application/vnd.jupyter.widget-view+json": {
       "model_id": "2db45a801a4446c79155eed6bc316eef",
       "version_major": 2,
       "version_minor": 0
      },
      "text/plain": [
       "  0%|          | 0/20 [00:00<?, ?it/s]"
      ]
     },
     "metadata": {},
     "output_type": "display_data"
    },
    {
     "name": "stdout",
     "output_type": "stream",
     "text": [
      "/Data/hala.gamouh/cheese_classification_challenge/dataset/val/BEAUFORT/000001.jpg\n",
      "generating images for BEAUFORT with prompt: best quality, high quality, image of Beaufort on a wooden plate, with a kitchen background, seen from a side view\n"
     ]
    },
    {
     "data": {
      "application/vnd.jupyter.widget-view+json": {
       "model_id": "7a29b2e409b141c59c614688118eb6a7",
       "version_major": 2,
       "version_minor": 0
      },
      "text/plain": [
       "  0%|          | 0/20 [00:00<?, ?it/s]"
      ]
     },
     "metadata": {},
     "output_type": "display_data"
    },
    {
     "name": "stdout",
     "output_type": "stream",
     "text": [
      "generating images for BEAUFORT with prompt: best quality, high quality, in its packaging\n"
     ]
    },
    {
     "data": {
      "application/vnd.jupyter.widget-view+json": {
       "model_id": "99adabdf563d49b9bf137e76bbf6cba8",
       "version_major": 2,
       "version_minor": 0
      },
      "text/plain": [
       "  0%|          | 0/20 [00:00<?, ?it/s]"
      ]
     },
     "metadata": {},
     "output_type": "display_data"
    },
    {
     "name": "stdout",
     "output_type": "stream",
     "text": [
      "generating images for BEAUFORT with prompt: best quality, high quality, image of Beaufort on a slate board, with a cheese cave background, seen from above\n"
     ]
    },
    {
     "data": {
      "application/vnd.jupyter.widget-view+json": {
       "model_id": "96a55ee6287045b28954b030cbff9e9b",
       "version_major": 2,
       "version_minor": 0
      },
      "text/plain": [
       "  0%|          | 0/20 [00:00<?, ?it/s]"
      ]
     },
     "metadata": {},
     "output_type": "display_data"
    },
    {
     "name": "stdout",
     "output_type": "stream",
     "text": [
      "/Data/hala.gamouh/cheese_classification_challenge/dataset/val/BEAUFORT/000003.jpg\n",
      "generating images for BEAUFORT with prompt: best quality, high quality, image of Beaufort on a plain white background, with a cheese cave background, seen from a side view\n"
     ]
    },
    {
     "data": {
      "application/vnd.jupyter.widget-view+json": {
       "model_id": "1041f88bdf5f4dde97c13208534989af",
       "version_major": 2,
       "version_minor": 0
      },
      "text/plain": [
       "  0%|          | 0/20 [00:00<?, ?it/s]"
      ]
     },
     "metadata": {},
     "output_type": "display_data"
    },
    {
     "name": "stdout",
     "output_type": "stream",
     "text": [
      "generating images for BEAUFORT with prompt: best quality, high quality, image of Beaufort on a white plate, with a cheese factory background, seen from an angled shot\n"
     ]
    },
    {
     "data": {
      "application/vnd.jupyter.widget-view+json": {
       "model_id": "71ef0ae7499f4d3c80fd1f23bc8a2e92",
       "version_major": 2,
       "version_minor": 0
      },
      "text/plain": [
       "  0%|          | 0/20 [00:00<?, ?it/s]"
      ]
     },
     "metadata": {},
     "output_type": "display_data"
    },
    {
     "name": "stdout",
     "output_type": "stream",
     "text": [
      "generating images for BEAUFORT with prompt: best quality, high quality, image of Beaufort on a wooden plate, with a kitchen background, seen from a side view\n"
     ]
    },
    {
     "data": {
      "application/vnd.jupyter.widget-view+json": {
       "model_id": "9ade3f65bbbc46febfc65a4dd4d7c880",
       "version_major": 2,
       "version_minor": 0
      },
      "text/plain": [
       "  0%|          | 0/20 [00:00<?, ?it/s]"
      ]
     },
     "metadata": {},
     "output_type": "display_data"
    },
    {
     "name": "stdout",
     "output_type": "stream",
     "text": [
      "/Data/hala.gamouh/cheese_classification_challenge/dataset/val/BEAUFORT/000004.jpg\n",
      "generating images for BEAUFORT with prompt: best quality, high quality, image of Beaufort on a marble plate, with a shop background, seen from an angled shot\n"
     ]
    },
    {
     "data": {
      "application/vnd.jupyter.widget-view+json": {
       "model_id": "d799b387c66d49d6b78a1308baa362d7",
       "version_major": 2,
       "version_minor": 0
      },
      "text/plain": [
       "  0%|          | 0/20 [00:00<?, ?it/s]"
      ]
     },
     "metadata": {},
     "output_type": "display_data"
    },
    {
     "name": "stdout",
     "output_type": "stream",
     "text": [
      "generating images for BEAUFORT with prompt: best quality, high quality, image of Beaufort on a slate board, with a shop background, seen from above\n"
     ]
    },
    {
     "data": {
      "application/vnd.jupyter.widget-view+json": {
       "model_id": "f9c29d13490149799b099de0f63b4c44",
       "version_major": 2,
       "version_minor": 0
      },
      "text/plain": [
       "  0%|          | 0/20 [00:00<?, ?it/s]"
      ]
     },
     "metadata": {},
     "output_type": "display_data"
    },
    {
     "name": "stdout",
     "output_type": "stream",
     "text": [
      "generating images for BEAUFORT with prompt: best quality, high quality, image of Beaufort on a white plate, with a plain white background, seen from above\n"
     ]
    },
    {
     "data": {
      "application/vnd.jupyter.widget-view+json": {
       "model_id": "8df1324872054c0db46132d3524d8cb5",
       "version_major": 2,
       "version_minor": 0
      },
      "text/plain": [
       "  0%|          | 0/20 [00:00<?, ?it/s]"
      ]
     },
     "metadata": {},
     "output_type": "display_data"
    },
    {
     "name": "stdout",
     "output_type": "stream",
     "text": [
      "/Data/hala.gamouh/cheese_classification_challenge/dataset/val/BEAUFORT/000005.jpg\n",
      "generating images for BEAUFORT with prompt: best quality, high quality, in its packaging\n"
     ]
    },
    {
     "data": {
      "application/vnd.jupyter.widget-view+json": {
       "model_id": "22559219325a4f3dbf27f47e422b6d52",
       "version_major": 2,
       "version_minor": 0
      },
      "text/plain": [
       "  0%|          | 0/20 [00:00<?, ?it/s]"
      ]
     },
     "metadata": {},
     "output_type": "display_data"
    },
    {
     "name": "stdout",
     "output_type": "stream",
     "text": [
      "generating images for BEAUFORT with prompt: best quality, high quality, image of Beaufort on a wooden plate, with a kitchen background, seen from a side view\n"
     ]
    },
    {
     "data": {
      "application/vnd.jupyter.widget-view+json": {
       "model_id": "7d2575721c75479eae1d2ddb9986a035",
       "version_major": 2,
       "version_minor": 0
      },
      "text/plain": [
       "  0%|          | 0/20 [00:00<?, ?it/s]"
      ]
     },
     "metadata": {},
     "output_type": "display_data"
    },
    {
     "name": "stdout",
     "output_type": "stream",
     "text": [
      "generating images for BEAUFORT with prompt: best quality, high quality, image of Beaufort on a marble plate, with a shop background, seen from an angled shot\n"
     ]
    },
    {
     "data": {
      "application/vnd.jupyter.widget-view+json": {
       "model_id": "92efdb1b99434d608b04b6d1c6f9b2c3",
       "version_major": 2,
       "version_minor": 0
      },
      "text/plain": [
       "  0%|          | 0/20 [00:00<?, ?it/s]"
      ]
     },
     "metadata": {},
     "output_type": "display_data"
    },
    {
     "name": "stdout",
     "output_type": "stream",
     "text": [
      "/Data/hala.gamouh/cheese_classification_challenge/dataset/val/BEAUFORT/000006.jpg\n",
      "generating images for BEAUFORT with prompt: best quality, high quality, image of Beaufort on a marble plate, with a kitchen background, seen from a side view\n"
     ]
    },
    {
     "data": {
      "application/vnd.jupyter.widget-view+json": {
       "model_id": "81656f2251ab4df38ccf2372f01ae0c5",
       "version_major": 2,
       "version_minor": 0
      },
      "text/plain": [
       "  0%|          | 0/20 [00:00<?, ?it/s]"
      ]
     },
     "metadata": {},
     "output_type": "display_data"
    },
    {
     "name": "stdout",
     "output_type": "stream",
     "text": [
      "generating images for BEAUFORT with prompt: best quality, high quality, image of Beaufort on a white plate, with a plain white background, seen from above\n"
     ]
    },
    {
     "data": {
      "application/vnd.jupyter.widget-view+json": {
       "model_id": "47b7c5898dc740f594aa5a1bdee4722e",
       "version_major": 2,
       "version_minor": 0
      },
      "text/plain": [
       "  0%|          | 0/20 [00:00<?, ?it/s]"
      ]
     },
     "metadata": {},
     "output_type": "display_data"
    },
    {
     "name": "stdout",
     "output_type": "stream",
     "text": [
      "generating images for BEAUFORT with prompt: best quality, high quality, image of Beaufort on a slate board, with a shop background, seen from above\n"
     ]
    },
    {
     "data": {
      "application/vnd.jupyter.widget-view+json": {
       "model_id": "c304d810972141f8a1dc6f1695c1d21d",
       "version_major": 2,
       "version_minor": 0
      },
      "text/plain": [
       "  0%|          | 0/20 [00:00<?, ?it/s]"
      ]
     },
     "metadata": {},
     "output_type": "display_data"
    },
    {
     "name": "stdout",
     "output_type": "stream",
     "text": [
      "/Data/hala.gamouh/cheese_classification_challenge/dataset/val/BEAUFORT/000007.jpg\n",
      "generating images for BEAUFORT with prompt: best quality, high quality, image of Beaufort on a plain white background, with a cheese cave background, seen from a side view\n"
     ]
    },
    {
     "data": {
      "application/vnd.jupyter.widget-view+json": {
       "model_id": "e82a2b02a0624531bae4dd252345d19c",
       "version_major": 2,
       "version_minor": 0
      },
      "text/plain": [
       "  0%|          | 0/20 [00:00<?, ?it/s]"
      ]
     },
     "metadata": {},
     "output_type": "display_data"
    },
    {
     "name": "stdout",
     "output_type": "stream",
     "text": [
      "generating images for BEAUFORT with prompt: best quality, high quality, image of Beaufort on a plain white background, with a plain white background, seen from a face view\n"
     ]
    },
    {
     "data": {
      "application/vnd.jupyter.widget-view+json": {
       "model_id": "8e84c5a665224d67b98de9586bdc4005",
       "version_major": 2,
       "version_minor": 0
      },
      "text/plain": [
       "  0%|          | 0/20 [00:00<?, ?it/s]"
      ]
     },
     "metadata": {},
     "output_type": "display_data"
    },
    {
     "name": "stdout",
     "output_type": "stream",
     "text": [
      "generating images for BEAUFORT with prompt: best quality, high quality, image of Beaufort on a slate board, with a cheese cave background, seen from above\n"
     ]
    },
    {
     "data": {
      "application/vnd.jupyter.widget-view+json": {
       "model_id": "52d12f2ad5ab4aa494b01f2e36378b0f",
       "version_major": 2,
       "version_minor": 0
      },
      "text/plain": [
       "  0%|          | 0/20 [00:00<?, ?it/s]"
      ]
     },
     "metadata": {},
     "output_type": "display_data"
    },
    {
     "name": "stdout",
     "output_type": "stream",
     "text": [
      "/Data/hala.gamouh/cheese_classification_challenge/dataset/val/BEAUFORT/000008.jpg\n",
      "generating images for BEAUFORT with prompt: best quality, high quality, image of Beaufort on a marble plate, with a shop background, seen from an angled shot\n"
     ]
    },
    {
     "data": {
      "application/vnd.jupyter.widget-view+json": {
       "model_id": "29e5689791f74b289154ca4044c6af1b",
       "version_major": 2,
       "version_minor": 0
      },
      "text/plain": [
       "  0%|          | 0/20 [00:00<?, ?it/s]"
      ]
     },
     "metadata": {},
     "output_type": "display_data"
    },
    {
     "name": "stdout",
     "output_type": "stream",
     "text": [
      "generating images for BEAUFORT with prompt: best quality, high quality, image of Beaufort on a slate board, with a cheese cave background, seen from above\n"
     ]
    },
    {
     "data": {
      "application/vnd.jupyter.widget-view+json": {
       "model_id": "d9483eb50fea4a538d2d8e92caa91bb2",
       "version_major": 2,
       "version_minor": 0
      },
      "text/plain": [
       "  0%|          | 0/20 [00:00<?, ?it/s]"
      ]
     },
     "metadata": {},
     "output_type": "display_data"
    },
    {
     "name": "stdout",
     "output_type": "stream",
     "text": [
      "generating images for BEAUFORT with prompt: best quality, high quality, image of Beaufort on a marble plate, with a kitchen background, seen from a side view\n"
     ]
    },
    {
     "data": {
      "application/vnd.jupyter.widget-view+json": {
       "model_id": "471e98775e234a2b9ec33683e28deaa7",
       "version_major": 2,
       "version_minor": 0
      },
      "text/plain": [
       "  0%|          | 0/20 [00:00<?, ?it/s]"
      ]
     },
     "metadata": {},
     "output_type": "display_data"
    },
    {
     "name": "stdout",
     "output_type": "stream",
     "text": [
      "/Data/hala.gamouh/cheese_classification_challenge/dataset/val/BEAUFORT/000009.jpg\n",
      "generating images for BEAUFORT with prompt: best quality, high quality, image of Beaufort on a marble plate, with a kitchen background, seen from a side view\n"
     ]
    },
    {
     "data": {
      "application/vnd.jupyter.widget-view+json": {
       "model_id": "8d39a8791a804f84ae8ff02477c61cf0",
       "version_major": 2,
       "version_minor": 0
      },
      "text/plain": [
       "  0%|          | 0/20 [00:00<?, ?it/s]"
      ]
     },
     "metadata": {},
     "output_type": "display_data"
    },
    {
     "name": "stdout",
     "output_type": "stream",
     "text": [
      "generating images for BEAUFORT with prompt: best quality, high quality, image of Beaufort on a slate board, with a shop background, seen from above\n"
     ]
    },
    {
     "data": {
      "application/vnd.jupyter.widget-view+json": {
       "model_id": "ea7a1844f8ca4d1e911fb286f0880f9a",
       "version_major": 2,
       "version_minor": 0
      },
      "text/plain": [
       "  0%|          | 0/20 [00:00<?, ?it/s]"
      ]
     },
     "metadata": {},
     "output_type": "display_data"
    },
    {
     "name": "stdout",
     "output_type": "stream",
     "text": [
      "generating images for BEAUFORT with prompt: best quality, high quality, image of Beaufort on a marble plate, with a shop background, seen from an angled shot\n"
     ]
    },
    {
     "data": {
      "application/vnd.jupyter.widget-view+json": {
       "model_id": "121fb3e357ea44deb136bda885fe7c60",
       "version_major": 2,
       "version_minor": 0
      },
      "text/plain": [
       "  0%|          | 0/20 [00:00<?, ?it/s]"
      ]
     },
     "metadata": {},
     "output_type": "display_data"
    },
    {
     "name": "stdout",
     "output_type": "stream",
     "text": [
      "/Data/hala.gamouh/cheese_classification_challenge/dataset/val/BEAUFORT/000010.jpg\n",
      "generating images for BEAUFORT with prompt: best quality, high quality, image of Beaufort on a plain white background, with a cheese cave background, seen from a side view\n"
     ]
    },
    {
     "data": {
      "application/vnd.jupyter.widget-view+json": {
       "model_id": "79d9932ac3954e1aa3d979f0057aedf0",
       "version_major": 2,
       "version_minor": 0
      },
      "text/plain": [
       "  0%|          | 0/20 [00:00<?, ?it/s]"
      ]
     },
     "metadata": {},
     "output_type": "display_data"
    },
    {
     "name": "stdout",
     "output_type": "stream",
     "text": [
      "generating images for BEAUFORT with prompt: best quality, high quality, image of Beaufort on a marble plate, with a shop background, seen from an angled shot\n"
     ]
    },
    {
     "data": {
      "application/vnd.jupyter.widget-view+json": {
       "model_id": "0d25b60aaf1f469497b9985e4cc9e397",
       "version_major": 2,
       "version_minor": 0
      },
      "text/plain": [
       "  0%|          | 0/20 [00:00<?, ?it/s]"
      ]
     },
     "metadata": {},
     "output_type": "display_data"
    },
    {
     "name": "stdout",
     "output_type": "stream",
     "text": [
      "generating images for BEAUFORT with prompt: best quality, high quality, image of Beaufort on a slate board, with a cheese cave background, seen from above\n"
     ]
    },
    {
     "data": {
      "application/vnd.jupyter.widget-view+json": {
       "model_id": "fc55771d2b6d4edbad3c7cae2724a199",
       "version_major": 2,
       "version_minor": 0
      },
      "text/plain": [
       "  0%|          | 0/20 [00:00<?, ?it/s]"
      ]
     },
     "metadata": {},
     "output_type": "display_data"
    },
    {
     "name": "stdout",
     "output_type": "stream",
     "text": [
      "/Data/hala.gamouh/cheese_classification_challenge/dataset/val/BEAUFORT/000011.jpg\n",
      "generating images for BEAUFORT with prompt: best quality, high quality, image of Beaufort on a white plate, with a cheese factory background, seen from an angled shot\n"
     ]
    },
    {
     "data": {
      "application/vnd.jupyter.widget-view+json": {
       "model_id": "2a0ae5f59d9e4a8a92f66e776d6a4d16",
       "version_major": 2,
       "version_minor": 0
      },
      "text/plain": [
       "  0%|          | 0/20 [00:00<?, ?it/s]"
      ]
     },
     "metadata": {},
     "output_type": "display_data"
    },
    {
     "name": "stdout",
     "output_type": "stream",
     "text": [
      "generating images for BEAUFORT with prompt: best quality, high quality, image of Beaufort on a plain white background, with a cheese cave background, seen from a side view\n"
     ]
    },
    {
     "data": {
      "application/vnd.jupyter.widget-view+json": {
       "model_id": "534c4776d1864aacb62b8fc272322150",
       "version_major": 2,
       "version_minor": 0
      },
      "text/plain": [
       "  0%|          | 0/20 [00:00<?, ?it/s]"
      ]
     },
     "metadata": {},
     "output_type": "display_data"
    },
    {
     "name": "stdout",
     "output_type": "stream",
     "text": [
      "generating images for BEAUFORT with prompt: best quality, high quality, image of Beaufort on a wooden plate, with a kitchen background, seen from a side view\n"
     ]
    },
    {
     "data": {
      "application/vnd.jupyter.widget-view+json": {
       "model_id": "c05074ae26a14414bcfa85b5ab9c7e79",
       "version_major": 2,
       "version_minor": 0
      },
      "text/plain": [
       "  0%|          | 0/20 [00:00<?, ?it/s]"
      ]
     },
     "metadata": {},
     "output_type": "display_data"
    },
    {
     "name": "stdout",
     "output_type": "stream",
     "text": [
      "/Data/hala.gamouh/cheese_classification_challenge/dataset/val/BEAUFORT/000012.jpg\n",
      "generating images for BEAUFORT with prompt: best quality, high quality, image of Beaufort on a marble plate, with a shop background, seen from an angled shot\n"
     ]
    },
    {
     "data": {
      "application/vnd.jupyter.widget-view+json": {
       "model_id": "5babb57f0c1944db9eb40d3187c3deba",
       "version_major": 2,
       "version_minor": 0
      },
      "text/plain": [
       "  0%|          | 0/20 [00:00<?, ?it/s]"
      ]
     },
     "metadata": {},
     "output_type": "display_data"
    },
    {
     "name": "stdout",
     "output_type": "stream",
     "text": [
      "generating images for BEAUFORT with prompt: best quality, high quality, image of Beaufort on a marble plate, with a shop background, seen from an angled shot\n"
     ]
    },
    {
     "data": {
      "application/vnd.jupyter.widget-view+json": {
       "model_id": "44dc5d260cc4434ead72770842387e4c",
       "version_major": 2,
       "version_minor": 0
      },
      "text/plain": [
       "  0%|          | 0/20 [00:00<?, ?it/s]"
      ]
     },
     "metadata": {},
     "output_type": "display_data"
    },
    {
     "name": "stdout",
     "output_type": "stream",
     "text": [
      "generating images for BEAUFORT with prompt: best quality, high quality, image of Beaufort on a slate board, with a shop background, seen from above\n"
     ]
    },
    {
     "data": {
      "application/vnd.jupyter.widget-view+json": {
       "model_id": "b7990ebcb3a34394bb1b7552aed7d6ee",
       "version_major": 2,
       "version_minor": 0
      },
      "text/plain": [
       "  0%|          | 0/20 [00:00<?, ?it/s]"
      ]
     },
     "metadata": {},
     "output_type": "display_data"
    },
    {
     "name": "stdout",
     "output_type": "stream",
     "text": [
      "/Data/hala.gamouh/cheese_classification_challenge/dataset/val/BEAUFORT/000013.jpg\n",
      "generating images for BEAUFORT with prompt: best quality, high quality, image of Beaufort on a slate board, with a cheese cave background, seen from above\n"
     ]
    },
    {
     "data": {
      "application/vnd.jupyter.widget-view+json": {
       "model_id": "a361c81833004d6cbbe8ad4110487a11",
       "version_major": 2,
       "version_minor": 0
      },
      "text/plain": [
       "  0%|          | 0/20 [00:00<?, ?it/s]"
      ]
     },
     "metadata": {},
     "output_type": "display_data"
    },
    {
     "name": "stdout",
     "output_type": "stream",
     "text": [
      "generating images for BEAUFORT with prompt: best quality, high quality, image of Beaufort on a marble plate, with a shop background, seen from an angled shot\n"
     ]
    },
    {
     "data": {
      "application/vnd.jupyter.widget-view+json": {
       "model_id": "1ad7c80271ae4125a1e5631b3dcfbbd9",
       "version_major": 2,
       "version_minor": 0
      },
      "text/plain": [
       "  0%|          | 0/20 [00:00<?, ?it/s]"
      ]
     },
     "metadata": {},
     "output_type": "display_data"
    },
    {
     "name": "stdout",
     "output_type": "stream",
     "text": [
      "generating images for BEAUFORT with prompt: best quality, high quality, image of Beaufort on a wooden plate, with a kitchen background, seen from a side view\n"
     ]
    },
    {
     "data": {
      "application/vnd.jupyter.widget-view+json": {
       "model_id": "b3b3f57aa42c469384fdefd78721b698",
       "version_major": 2,
       "version_minor": 0
      },
      "text/plain": [
       "  0%|          | 0/20 [00:00<?, ?it/s]"
      ]
     },
     "metadata": {},
     "output_type": "display_data"
    },
    {
     "name": "stdout",
     "output_type": "stream",
     "text": [
      "/Data/hala.gamouh/cheese_classification_challenge/dataset/val/BEAUFORT/000014.jpg\n",
      "generating images for BEAUFORT with prompt: best quality, high quality, in its packaging\n"
     ]
    },
    {
     "data": {
      "application/vnd.jupyter.widget-view+json": {
       "model_id": "898ba00887a542449ffb8ab3bc8ea09d",
       "version_major": 2,
       "version_minor": 0
      },
      "text/plain": [
       "  0%|          | 0/20 [00:00<?, ?it/s]"
      ]
     },
     "metadata": {},
     "output_type": "display_data"
    },
    {
     "name": "stdout",
     "output_type": "stream",
     "text": [
      "generating images for BEAUFORT with prompt: best quality, high quality, image of Beaufort on a slate board, with a cheese cave background, seen from above\n"
     ]
    },
    {
     "data": {
      "application/vnd.jupyter.widget-view+json": {
       "model_id": "e69852e5df6b4b7196d9aa4d1a20b531",
       "version_major": 2,
       "version_minor": 0
      },
      "text/plain": [
       "  0%|          | 0/20 [00:00<?, ?it/s]"
      ]
     },
     "metadata": {},
     "output_type": "display_data"
    },
    {
     "name": "stdout",
     "output_type": "stream",
     "text": [
      "generating images for BEAUFORT with prompt: best quality, high quality, image of Beaufort on a slate board, with a shop background, seen from above\n"
     ]
    },
    {
     "data": {
      "application/vnd.jupyter.widget-view+json": {
       "model_id": "8edb4e1c656d4ca19c39f54e70d82c34",
       "version_major": 2,
       "version_minor": 0
      },
      "text/plain": [
       "  0%|          | 0/20 [00:00<?, ?it/s]"
      ]
     },
     "metadata": {},
     "output_type": "display_data"
    },
    {
     "name": "stdout",
     "output_type": "stream",
     "text": [
      "/Data/hala.gamouh/cheese_classification_challenge/dataset/val/BEAUFORT/000015.jpg\n",
      "generating images for BEAUFORT with prompt: best quality, high quality, image of Beaufort on a white plate, with a cheese factory background, seen from an angled shot\n"
     ]
    },
    {
     "data": {
      "application/vnd.jupyter.widget-view+json": {
       "model_id": "d1a2e6d4723b4685890e17532286bffe",
       "version_major": 2,
       "version_minor": 0
      },
      "text/plain": [
       "  0%|          | 0/20 [00:00<?, ?it/s]"
      ]
     },
     "metadata": {},
     "output_type": "display_data"
    },
    {
     "name": "stdout",
     "output_type": "stream",
     "text": [
      "generating images for BEAUFORT with prompt: best quality, high quality, image of Beaufort on a plain white background, with a plain white background, seen from a face view\n"
     ]
    },
    {
     "data": {
      "application/vnd.jupyter.widget-view+json": {
       "model_id": "8d36211949794e97a811bd5606b7b8ce",
       "version_major": 2,
       "version_minor": 0
      },
      "text/plain": [
       "  0%|          | 0/20 [00:00<?, ?it/s]"
      ]
     },
     "metadata": {},
     "output_type": "display_data"
    },
    {
     "name": "stdout",
     "output_type": "stream",
     "text": [
      "generating images for BEAUFORT with prompt: best quality, high quality, in its packaging\n"
     ]
    },
    {
     "data": {
      "application/vnd.jupyter.widget-view+json": {
       "model_id": "773dc963591e495cb0bcc374968fc836",
       "version_major": 2,
       "version_minor": 0
      },
      "text/plain": [
       "  0%|          | 0/20 [00:00<?, ?it/s]"
      ]
     },
     "metadata": {},
     "output_type": "display_data"
    },
    {
     "name": "stdout",
     "output_type": "stream",
     "text": [
      "/Data/hala.gamouh/cheese_classification_challenge/dataset/val/BEAUFORT/000016.jpg\n",
      "generating images for BEAUFORT with prompt: best quality, high quality, image of Beaufort on a plain white background, with a plain white background, seen from a face view\n"
     ]
    },
    {
     "data": {
      "application/vnd.jupyter.widget-view+json": {
       "model_id": "de9387ccb10c4208bd29aed17a70c4a7",
       "version_major": 2,
       "version_minor": 0
      },
      "text/plain": [
       "  0%|          | 0/20 [00:00<?, ?it/s]"
      ]
     },
     "metadata": {},
     "output_type": "display_data"
    },
    {
     "name": "stdout",
     "output_type": "stream",
     "text": [
      "generating images for BEAUFORT with prompt: best quality, high quality, image of Beaufort on a white plate, with a plain white background, seen from above\n"
     ]
    },
    {
     "data": {
      "application/vnd.jupyter.widget-view+json": {
       "model_id": "5e1c141db14b465c9fabc6677019ad83",
       "version_major": 2,
       "version_minor": 0
      },
      "text/plain": [
       "  0%|          | 0/20 [00:00<?, ?it/s]"
      ]
     },
     "metadata": {},
     "output_type": "display_data"
    },
    {
     "name": "stdout",
     "output_type": "stream",
     "text": [
      "generating images for BEAUFORT with prompt: best quality, high quality, image of Beaufort on a wooden plate, with a kitchen background, seen from a side view\n"
     ]
    },
    {
     "data": {
      "application/vnd.jupyter.widget-view+json": {
       "model_id": "adc259573fa94cfbacbeb29fac5bf1cd",
       "version_major": 2,
       "version_minor": 0
      },
      "text/plain": [
       "  0%|          | 0/20 [00:00<?, ?it/s]"
      ]
     },
     "metadata": {},
     "output_type": "display_data"
    },
    {
     "name": "stdout",
     "output_type": "stream",
     "text": [
      "/Data/hala.gamouh/cheese_classification_challenge/dataset/val/BEAUFORT/000017.jpg\n",
      "generating images for BEAUFORT with prompt: best quality, high quality, image of Beaufort on a plain white background, with a plain white background, seen from a face view\n"
     ]
    },
    {
     "data": {
      "application/vnd.jupyter.widget-view+json": {
       "model_id": "e4e8c170ca76455eaab1b95685322bca",
       "version_major": 2,
       "version_minor": 0
      },
      "text/plain": [
       "  0%|          | 0/20 [00:00<?, ?it/s]"
      ]
     },
     "metadata": {},
     "output_type": "display_data"
    },
    {
     "name": "stdout",
     "output_type": "stream",
     "text": [
      "generating images for BEAUFORT with prompt: best quality, high quality, image of Beaufort on a marble plate, with a kitchen background, seen from a side view\n"
     ]
    },
    {
     "data": {
      "application/vnd.jupyter.widget-view+json": {
       "model_id": "fd0e08d7bb374df48072b33d3f0d9fd1",
       "version_major": 2,
       "version_minor": 0
      },
      "text/plain": [
       "  0%|          | 0/20 [00:00<?, ?it/s]"
      ]
     },
     "metadata": {},
     "output_type": "display_data"
    },
    {
     "name": "stdout",
     "output_type": "stream",
     "text": [
      "generating images for BEAUFORT with prompt: best quality, high quality, image of Beaufort on a wooden plate, with a kitchen background, seen from a side view\n"
     ]
    },
    {
     "data": {
      "application/vnd.jupyter.widget-view+json": {
       "model_id": "872191e27cf14e97a806ca5cbfece8e9",
       "version_major": 2,
       "version_minor": 0
      },
      "text/plain": [
       "  0%|          | 0/20 [00:00<?, ?it/s]"
      ]
     },
     "metadata": {},
     "output_type": "display_data"
    },
    {
     "name": "stdout",
     "output_type": "stream",
     "text": [
      "/Data/hala.gamouh/cheese_classification_challenge/dataset/val/BEAUFORT/000018.jpg\n",
      "generating images for BEAUFORT with prompt: best quality, high quality, image of Beaufort on a marble plate, with a shop background, seen from an angled shot\n"
     ]
    },
    {
     "data": {
      "application/vnd.jupyter.widget-view+json": {
       "model_id": "ba9fedada67849feb8b5d9648e1e4b8e",
       "version_major": 2,
       "version_minor": 0
      },
      "text/plain": [
       "  0%|          | 0/20 [00:00<?, ?it/s]"
      ]
     },
     "metadata": {},
     "output_type": "display_data"
    },
    {
     "name": "stdout",
     "output_type": "stream",
     "text": [
      "generating images for BEAUFORT with prompt: best quality, high quality, in its packaging\n"
     ]
    },
    {
     "data": {
      "application/vnd.jupyter.widget-view+json": {
       "model_id": "30d2438a084646a1a6aae4387e194c26",
       "version_major": 2,
       "version_minor": 0
      },
      "text/plain": [
       "  0%|          | 0/20 [00:00<?, ?it/s]"
      ]
     },
     "metadata": {},
     "output_type": "display_data"
    },
    {
     "name": "stdout",
     "output_type": "stream",
     "text": [
      "generating images for BEAUFORT with prompt: best quality, high quality, image of Beaufort on a white plate, with a cheese factory background, seen from an angled shot\n"
     ]
    },
    {
     "data": {
      "application/vnd.jupyter.widget-view+json": {
       "model_id": "a55d4af007c14f7f87f893ac77954eb8",
       "version_major": 2,
       "version_minor": 0
      },
      "text/plain": [
       "  0%|          | 0/20 [00:00<?, ?it/s]"
      ]
     },
     "metadata": {},
     "output_type": "display_data"
    },
    {
     "name": "stdout",
     "output_type": "stream",
     "text": [
      "/Data/hala.gamouh/cheese_classification_challenge/dataset/val/BEAUFORT/000019.jpg\n",
      "generating images for BEAUFORT with prompt: best quality, high quality, image of Beaufort on a white plate, with a plain white background, seen from above\n"
     ]
    },
    {
     "data": {
      "application/vnd.jupyter.widget-view+json": {
       "model_id": "69922ee6de5a4d55addecd60e702445d",
       "version_major": 2,
       "version_minor": 0
      },
      "text/plain": [
       "  0%|          | 0/20 [00:00<?, ?it/s]"
      ]
     },
     "metadata": {},
     "output_type": "display_data"
    },
    {
     "name": "stdout",
     "output_type": "stream",
     "text": [
      "generating images for BEAUFORT with prompt: best quality, high quality, image of Beaufort on a slate board, with a cheese cave background, seen from above\n"
     ]
    },
    {
     "data": {
      "application/vnd.jupyter.widget-view+json": {
       "model_id": "ac3b70d179824572b3d56ef70576ba44",
       "version_major": 2,
       "version_minor": 0
      },
      "text/plain": [
       "  0%|          | 0/20 [00:00<?, ?it/s]"
      ]
     },
     "metadata": {},
     "output_type": "display_data"
    },
    {
     "name": "stdout",
     "output_type": "stream",
     "text": [
      "generating images for BEAUFORT with prompt: best quality, high quality, image of Beaufort on a white plate, with a cheese factory background, seen from an angled shot\n"
     ]
    },
    {
     "data": {
      "application/vnd.jupyter.widget-view+json": {
       "model_id": "a8948191f61843a5b539b1d201807078",
       "version_major": 2,
       "version_minor": 0
      },
      "text/plain": [
       "  0%|          | 0/20 [00:00<?, ?it/s]"
      ]
     },
     "metadata": {},
     "output_type": "display_data"
    },
    {
     "name": "stdout",
     "output_type": "stream",
     "text": [
      "/Data/hala.gamouh/cheese_classification_challenge/dataset/val/BEAUFORT/000020.jpg\n",
      "generating images for BEAUFORT with prompt: best quality, high quality, image of Beaufort on a slate board, with a shop background, seen from above\n"
     ]
    },
    {
     "data": {
      "application/vnd.jupyter.widget-view+json": {
       "model_id": "6823d3814a844aa99323e598710d429d",
       "version_major": 2,
       "version_minor": 0
      },
      "text/plain": [
       "  0%|          | 0/20 [00:00<?, ?it/s]"
      ]
     },
     "metadata": {},
     "output_type": "display_data"
    },
    {
     "name": "stdout",
     "output_type": "stream",
     "text": [
      "generating images for BEAUFORT with prompt: best quality, high quality, image of Beaufort on a marble plate, with a shop background, seen from an angled shot\n"
     ]
    },
    {
     "data": {
      "application/vnd.jupyter.widget-view+json": {
       "model_id": "205173a25c1a48639b7b5451c103ce91",
       "version_major": 2,
       "version_minor": 0
      },
      "text/plain": [
       "  0%|          | 0/20 [00:00<?, ?it/s]"
      ]
     },
     "metadata": {},
     "output_type": "display_data"
    },
    {
     "name": "stdout",
     "output_type": "stream",
     "text": [
      "generating images for BEAUFORT with prompt: best quality, high quality, image of Beaufort on a white plate, with a plain white background, seen from above\n"
     ]
    },
    {
     "data": {
      "application/vnd.jupyter.widget-view+json": {
       "model_id": "37d09222dd324d599b7f03954404c549",
       "version_major": 2,
       "version_minor": 0
      },
      "text/plain": [
       "  0%|          | 0/20 [00:00<?, ?it/s]"
      ]
     },
     "metadata": {},
     "output_type": "display_data"
    },
    {
     "name": "stdout",
     "output_type": "stream",
     "text": [
      "/Data/hala.gamouh/cheese_classification_challenge/dataset/val/BEAUFORT/000021.jpg\n",
      "generating images for BEAUFORT with prompt: best quality, high quality, image of Beaufort on a white plate, with a plain white background, seen from above\n"
     ]
    },
    {
     "data": {
      "application/vnd.jupyter.widget-view+json": {
       "model_id": "9f2f5859c9bf40f3bb34f292c92fa1b6",
       "version_major": 2,
       "version_minor": 0
      },
      "text/plain": [
       "  0%|          | 0/20 [00:00<?, ?it/s]"
      ]
     },
     "metadata": {},
     "output_type": "display_data"
    },
    {
     "name": "stdout",
     "output_type": "stream",
     "text": [
      "generating images for BEAUFORT with prompt: best quality, high quality, image of Beaufort on a wooden plate, with a plain white background, seen from above\n"
     ]
    },
    {
     "data": {
      "application/vnd.jupyter.widget-view+json": {
       "model_id": "eb7da41e9896405b8647ed828873fcf1",
       "version_major": 2,
       "version_minor": 0
      },
      "text/plain": [
       "  0%|          | 0/20 [00:00<?, ?it/s]"
      ]
     },
     "metadata": {},
     "output_type": "display_data"
    },
    {
     "name": "stdout",
     "output_type": "stream",
     "text": [
      "generating images for BEAUFORT with prompt: best quality, high quality, image of Beaufort on a marble plate, with a shop background, seen from an angled shot\n"
     ]
    },
    {
     "data": {
      "application/vnd.jupyter.widget-view+json": {
       "model_id": "4cdacd788b4e450ca0d2ed23480843f4",
       "version_major": 2,
       "version_minor": 0
      },
      "text/plain": [
       "  0%|          | 0/20 [00:00<?, ?it/s]"
      ]
     },
     "metadata": {},
     "output_type": "display_data"
    },
    {
     "name": "stdout",
     "output_type": "stream",
     "text": [
      "/Data/hala.gamouh/cheese_classification_challenge/dataset/val/BEAUFORT/000022.jpg\n",
      "generating images for BEAUFORT with prompt: best quality, high quality, image of Beaufort on a wooden plate, with a kitchen background, seen from a side view\n"
     ]
    },
    {
     "data": {
      "application/vnd.jupyter.widget-view+json": {
       "model_id": "6f50e26d30f140eaa34b94540d0bc3f9",
       "version_major": 2,
       "version_minor": 0
      },
      "text/plain": [
       "  0%|          | 0/20 [00:00<?, ?it/s]"
      ]
     },
     "metadata": {},
     "output_type": "display_data"
    },
    {
     "name": "stdout",
     "output_type": "stream",
     "text": [
      "generating images for BEAUFORT with prompt: best quality, high quality, image of Beaufort on a slate board, with a cheese cave background, seen from above\n"
     ]
    },
    {
     "data": {
      "application/vnd.jupyter.widget-view+json": {
       "model_id": "8768ccbca2e4467597c644eb9b0011f0",
       "version_major": 2,
       "version_minor": 0
      },
      "text/plain": [
       "  0%|          | 0/20 [00:00<?, ?it/s]"
      ]
     },
     "metadata": {},
     "output_type": "display_data"
    },
    {
     "name": "stdout",
     "output_type": "stream",
     "text": [
      "generating images for BEAUFORT with prompt: best quality, high quality, image of Beaufort on a plain white background, with a plain white background, seen from a face view\n"
     ]
    },
    {
     "data": {
      "application/vnd.jupyter.widget-view+json": {
       "model_id": "101b9a5b41a848d2ab22f4b6c47c3cc7",
       "version_major": 2,
       "version_minor": 0
      },
      "text/plain": [
       "  0%|          | 0/20 [00:00<?, ?it/s]"
      ]
     },
     "metadata": {},
     "output_type": "display_data"
    },
    {
     "name": "stdout",
     "output_type": "stream",
     "text": [
      "/Data/hala.gamouh/cheese_classification_challenge/dataset/val/BEAUFORT/000023.jpg\n",
      "generating images for BEAUFORT with prompt: best quality, high quality, image of Beaufort on a marble plate, with a shop background, seen from an angled shot\n"
     ]
    },
    {
     "data": {
      "application/vnd.jupyter.widget-view+json": {
       "model_id": "ce070c14fd1d446ebede50ece7ffd590",
       "version_major": 2,
       "version_minor": 0
      },
      "text/plain": [
       "  0%|          | 0/20 [00:00<?, ?it/s]"
      ]
     },
     "metadata": {},
     "output_type": "display_data"
    },
    {
     "name": "stdout",
     "output_type": "stream",
     "text": [
      "generating images for BEAUFORT with prompt: best quality, high quality, in its packaging\n"
     ]
    },
    {
     "data": {
      "application/vnd.jupyter.widget-view+json": {
       "model_id": "6ca26712300d4dc3a9ef0ed4281dfbc1",
       "version_major": 2,
       "version_minor": 0
      },
      "text/plain": [
       "  0%|          | 0/20 [00:00<?, ?it/s]"
      ]
     },
     "metadata": {},
     "output_type": "display_data"
    },
    {
     "name": "stdout",
     "output_type": "stream",
     "text": [
      "generating images for BEAUFORT with prompt: best quality, high quality, image of Beaufort on a slate board, with a shop background, seen from above\n"
     ]
    },
    {
     "data": {
      "application/vnd.jupyter.widget-view+json": {
       "model_id": "71a644f7d9a64f458660efe5905fcc2f",
       "version_major": 2,
       "version_minor": 0
      },
      "text/plain": [
       "  0%|          | 0/20 [00:00<?, ?it/s]"
      ]
     },
     "metadata": {},
     "output_type": "display_data"
    },
    {
     "name": "stdout",
     "output_type": "stream",
     "text": [
      "/Data/hala.gamouh/cheese_classification_challenge/dataset/val/BEAUFORT/000024.jpg\n",
      "generating images for BEAUFORT with prompt: best quality, high quality, image of Beaufort on a slate board, with a shop background, seen from above\n"
     ]
    },
    {
     "data": {
      "application/vnd.jupyter.widget-view+json": {
       "model_id": "ca219efcb1e34dba998a6cc0729b5bad",
       "version_major": 2,
       "version_minor": 0
      },
      "text/plain": [
       "  0%|          | 0/20 [00:00<?, ?it/s]"
      ]
     },
     "metadata": {},
     "output_type": "display_data"
    },
    {
     "name": "stdout",
     "output_type": "stream",
     "text": [
      "generating images for BEAUFORT with prompt: best quality, high quality, in its packaging\n"
     ]
    },
    {
     "data": {
      "application/vnd.jupyter.widget-view+json": {
       "model_id": "fb6c5b5647ad4acea9ed229f13e0e12f",
       "version_major": 2,
       "version_minor": 0
      },
      "text/plain": [
       "  0%|          | 0/20 [00:00<?, ?it/s]"
      ]
     },
     "metadata": {},
     "output_type": "display_data"
    },
    {
     "name": "stdout",
     "output_type": "stream",
     "text": [
      "generating images for BEAUFORT with prompt: best quality, high quality, in its packaging\n"
     ]
    },
    {
     "data": {
      "application/vnd.jupyter.widget-view+json": {
       "model_id": "04f3f000247647e584f37e8b3765ce30",
       "version_major": 2,
       "version_minor": 0
      },
      "text/plain": [
       "  0%|          | 0/20 [00:00<?, ?it/s]"
      ]
     },
     "metadata": {},
     "output_type": "display_data"
    },
    {
     "name": "stdout",
     "output_type": "stream",
     "text": [
      "/Data/hala.gamouh/cheese_classification_challenge/dataset/val/BEAUFORT/000001.jpg\n",
      "generating images for BEAUFORT with prompt: best quality, high quality, image of Beaufort on a slate board, with a cheese cave background, seen from above\n"
     ]
    },
    {
     "data": {
      "application/vnd.jupyter.widget-view+json": {
       "model_id": "186afcb1889f4e359c7686f3d8e6bc2c",
       "version_major": 2,
       "version_minor": 0
      },
      "text/plain": [
       "  0%|          | 0/20 [00:00<?, ?it/s]"
      ]
     },
     "metadata": {},
     "output_type": "display_data"
    },
    {
     "name": "stdout",
     "output_type": "stream",
     "text": [
      "generating images for BEAUFORT with prompt: best quality, high quality, image of Beaufort on a slate board, with a shop background, seen from above\n"
     ]
    },
    {
     "data": {
      "application/vnd.jupyter.widget-view+json": {
       "model_id": "3cad0a2d6b414744893d5d0112e87562",
       "version_major": 2,
       "version_minor": 0
      },
      "text/plain": [
       "  0%|          | 0/20 [00:00<?, ?it/s]"
      ]
     },
     "metadata": {},
     "output_type": "display_data"
    },
    {
     "name": "stdout",
     "output_type": "stream",
     "text": [
      "generating images for BEAUFORT with prompt: best quality, high quality, image of Beaufort on a marble plate, with a kitchen background, seen from a side view\n"
     ]
    },
    {
     "data": {
      "application/vnd.jupyter.widget-view+json": {
       "model_id": "f89690cc32754f63a71f99e70a27bcdc",
       "version_major": 2,
       "version_minor": 0
      },
      "text/plain": [
       "  0%|          | 0/20 [00:00<?, ?it/s]"
      ]
     },
     "metadata": {},
     "output_type": "display_data"
    },
    {
     "name": "stdout",
     "output_type": "stream",
     "text": [
      "/Data/hala.gamouh/cheese_classification_challenge/dataset/val/BEAUFORT/000003.jpg\n",
      "generating images for BEAUFORT with prompt: best quality, high quality, image of Beaufort on a wooden plate, with a plain white background, seen from above\n"
     ]
    },
    {
     "data": {
      "application/vnd.jupyter.widget-view+json": {
       "model_id": "a06979d698b2476b934945e05f74e390",
       "version_major": 2,
       "version_minor": 0
      },
      "text/plain": [
       "  0%|          | 0/20 [00:00<?, ?it/s]"
      ]
     },
     "metadata": {},
     "output_type": "display_data"
    },
    {
     "name": "stdout",
     "output_type": "stream",
     "text": [
      "generating images for BEAUFORT with prompt: best quality, high quality, in its packaging\n"
     ]
    },
    {
     "data": {
      "application/vnd.jupyter.widget-view+json": {
       "model_id": "0ff2d6361b404417923973c781078bb0",
       "version_major": 2,
       "version_minor": 0
      },
      "text/plain": [
       "  0%|          | 0/20 [00:00<?, ?it/s]"
      ]
     },
     "metadata": {},
     "output_type": "display_data"
    },
    {
     "name": "stdout",
     "output_type": "stream",
     "text": [
      "generating images for BEAUFORT with prompt: best quality, high quality, image of Beaufort on a white plate, with a plain white background, seen from above\n"
     ]
    },
    {
     "data": {
      "application/vnd.jupyter.widget-view+json": {
       "model_id": "7a709826792d4c239a8cf5b7c28d1f7b",
       "version_major": 2,
       "version_minor": 0
      },
      "text/plain": [
       "  0%|          | 0/20 [00:00<?, ?it/s]"
      ]
     },
     "metadata": {},
     "output_type": "display_data"
    },
    {
     "name": "stdout",
     "output_type": "stream",
     "text": [
      "/Data/hala.gamouh/cheese_classification_challenge/dataset/val/BEAUFORT/000004.jpg\n",
      "generating images for BEAUFORT with prompt: best quality, high quality, image of Beaufort on a plain white background, with a cheese cave background, seen from a side view\n"
     ]
    },
    {
     "data": {
      "application/vnd.jupyter.widget-view+json": {
       "model_id": "479ac5289753442f95ab610174e08d92",
       "version_major": 2,
       "version_minor": 0
      },
      "text/plain": [
       "  0%|          | 0/20 [00:00<?, ?it/s]"
      ]
     },
     "metadata": {},
     "output_type": "display_data"
    },
    {
     "name": "stdout",
     "output_type": "stream",
     "text": [
      "generating images for BEAUFORT with prompt: best quality, high quality, image of Beaufort on a plain white background, with a cheese cave background, seen from a side view\n"
     ]
    },
    {
     "data": {
      "application/vnd.jupyter.widget-view+json": {
       "model_id": "fc7317e6a4f64b4b98f40bf412fc3802",
       "version_major": 2,
       "version_minor": 0
      },
      "text/plain": [
       "  0%|          | 0/20 [00:00<?, ?it/s]"
      ]
     },
     "metadata": {},
     "output_type": "display_data"
    },
    {
     "name": "stdout",
     "output_type": "stream",
     "text": [
      "generating images for BEAUFORT with prompt: best quality, high quality, image of Beaufort on a wooden plate, with a plain white background, seen from above\n"
     ]
    },
    {
     "data": {
      "application/vnd.jupyter.widget-view+json": {
       "model_id": "1ff0f6a5c61c40d7ae0f8f9845e75305",
       "version_major": 2,
       "version_minor": 0
      },
      "text/plain": [
       "  0%|          | 0/20 [00:00<?, ?it/s]"
      ]
     },
     "metadata": {},
     "output_type": "display_data"
    },
    {
     "name": "stdout",
     "output_type": "stream",
     "text": [
      "/Data/hala.gamouh/cheese_classification_challenge/dataset/val/BEAUFORT/000005.jpg\n",
      "generating images for BEAUFORT with prompt: best quality, high quality, image of Beaufort on a marble plate, with a kitchen background, seen from a side view\n"
     ]
    },
    {
     "data": {
      "application/vnd.jupyter.widget-view+json": {
       "model_id": "bf79aa23d6c04d6c92e00136293dc938",
       "version_major": 2,
       "version_minor": 0
      },
      "text/plain": [
       "  0%|          | 0/20 [00:00<?, ?it/s]"
      ]
     },
     "metadata": {},
     "output_type": "display_data"
    },
    {
     "name": "stdout",
     "output_type": "stream",
     "text": [
      "generating images for BEAUFORT with prompt: best quality, high quality, in its packaging\n"
     ]
    },
    {
     "data": {
      "application/vnd.jupyter.widget-view+json": {
       "model_id": "8c3a9f39c21c4f0c8091ce9108840071",
       "version_major": 2,
       "version_minor": 0
      },
      "text/plain": [
       "  0%|          | 0/20 [00:00<?, ?it/s]"
      ]
     },
     "metadata": {},
     "output_type": "display_data"
    },
    {
     "name": "stdout",
     "output_type": "stream",
     "text": [
      "generating images for BEAUFORT with prompt: best quality, high quality, image of Beaufort on a wooden plate, with a plain white background, seen from above\n"
     ]
    },
    {
     "data": {
      "application/vnd.jupyter.widget-view+json": {
       "model_id": "13df8e20a25544698458d37e7e8ddf76",
       "version_major": 2,
       "version_minor": 0
      },
      "text/plain": [
       "  0%|          | 0/20 [00:00<?, ?it/s]"
      ]
     },
     "metadata": {},
     "output_type": "display_data"
    },
    {
     "name": "stdout",
     "output_type": "stream",
     "text": [
      "/Data/hala.gamouh/cheese_classification_challenge/dataset/val/BEAUFORT/000006.jpg\n",
      "generating images for BEAUFORT with prompt: best quality, high quality, image of Beaufort on a plain white background, with a plain white background, seen from a face view\n"
     ]
    },
    {
     "data": {
      "application/vnd.jupyter.widget-view+json": {
       "model_id": "20d5e3d9f6ed4abbaaf91a18c47fc4f5",
       "version_major": 2,
       "version_minor": 0
      },
      "text/plain": [
       "  0%|          | 0/20 [00:00<?, ?it/s]"
      ]
     },
     "metadata": {},
     "output_type": "display_data"
    },
    {
     "name": "stdout",
     "output_type": "stream",
     "text": [
      "generating images for BEAUFORT with prompt: best quality, high quality, image of Beaufort on a white plate, with a cheese factory background, seen from an angled shot\n"
     ]
    },
    {
     "data": {
      "application/vnd.jupyter.widget-view+json": {
       "model_id": "57e705f749b54850ab0626915bac4737",
       "version_major": 2,
       "version_minor": 0
      },
      "text/plain": [
       "  0%|          | 0/20 [00:00<?, ?it/s]"
      ]
     },
     "metadata": {},
     "output_type": "display_data"
    },
    {
     "name": "stdout",
     "output_type": "stream",
     "text": [
      "generating images for BEAUFORT with prompt: best quality, high quality, image of Beaufort on a wooden plate, with a plain white background, seen from above\n"
     ]
    },
    {
     "data": {
      "application/vnd.jupyter.widget-view+json": {
       "model_id": "aab611485fc84bc883729c128bd3ac6b",
       "version_major": 2,
       "version_minor": 0
      },
      "text/plain": [
       "  0%|          | 0/20 [00:00<?, ?it/s]"
      ]
     },
     "metadata": {},
     "output_type": "display_data"
    },
    {
     "name": "stdout",
     "output_type": "stream",
     "text": [
      "/Data/hala.gamouh/cheese_classification_challenge/dataset/val/BEAUFORT/000007.jpg\n",
      "generating images for BEAUFORT with prompt: best quality, high quality, in its packaging\n"
     ]
    },
    {
     "data": {
      "application/vnd.jupyter.widget-view+json": {
       "model_id": "fad7a2cc0e78446ebf2c54455764cb22",
       "version_major": 2,
       "version_minor": 0
      },
      "text/plain": [
       "  0%|          | 0/20 [00:00<?, ?it/s]"
      ]
     },
     "metadata": {},
     "output_type": "display_data"
    },
    {
     "name": "stdout",
     "output_type": "stream",
     "text": [
      "generating images for BEAUFORT with prompt: best quality, high quality, image of Beaufort on a plain white background, with a plain white background, seen from a face view\n"
     ]
    },
    {
     "data": {
      "application/vnd.jupyter.widget-view+json": {
       "model_id": "78b4de073c974a8c94be5d193ae33674",
       "version_major": 2,
       "version_minor": 0
      },
      "text/plain": [
       "  0%|          | 0/20 [00:00<?, ?it/s]"
      ]
     },
     "metadata": {},
     "output_type": "display_data"
    },
    {
     "name": "stdout",
     "output_type": "stream",
     "text": [
      "generating images for BEAUFORT with prompt: best quality, high quality, in its packaging\n"
     ]
    },
    {
     "data": {
      "application/vnd.jupyter.widget-view+json": {
       "model_id": "4b4c325458fb4a3b80ce1e9720faa801",
       "version_major": 2,
       "version_minor": 0
      },
      "text/plain": [
       "  0%|          | 0/20 [00:00<?, ?it/s]"
      ]
     },
     "metadata": {},
     "output_type": "display_data"
    },
    {
     "name": "stdout",
     "output_type": "stream",
     "text": [
      "/Data/hala.gamouh/cheese_classification_challenge/dataset/val/BEAUFORT/000008.jpg\n",
      "generating images for BEAUFORT with prompt: best quality, high quality, image of Beaufort on a plain white background, with a plain white background, seen from a face view\n"
     ]
    },
    {
     "data": {
      "application/vnd.jupyter.widget-view+json": {
       "model_id": "125e23b8d8f141f08d50baa50c24852f",
       "version_major": 2,
       "version_minor": 0
      },
      "text/plain": [
       "  0%|          | 0/20 [00:00<?, ?it/s]"
      ]
     },
     "metadata": {},
     "output_type": "display_data"
    },
    {
     "name": "stdout",
     "output_type": "stream",
     "text": [
      "generating images for BEAUFORT with prompt: best quality, high quality, image of Beaufort on a plain white background, with a plain white background, seen from a face view\n"
     ]
    },
    {
     "data": {
      "application/vnd.jupyter.widget-view+json": {
       "model_id": "9b933b84dec64c17a40496af76998c7f",
       "version_major": 2,
       "version_minor": 0
      },
      "text/plain": [
       "  0%|          | 0/20 [00:00<?, ?it/s]"
      ]
     },
     "metadata": {},
     "output_type": "display_data"
    },
    {
     "name": "stdout",
     "output_type": "stream",
     "text": [
      "generating images for BEAUFORT with prompt: best quality, high quality, image of Beaufort on a wooden plate, with a kitchen background, seen from a side view\n"
     ]
    },
    {
     "data": {
      "application/vnd.jupyter.widget-view+json": {
       "model_id": "f3d13896b5b547a3919cfb1f1d4e59bc",
       "version_major": 2,
       "version_minor": 0
      },
      "text/plain": [
       "  0%|          | 0/20 [00:00<?, ?it/s]"
      ]
     },
     "metadata": {},
     "output_type": "display_data"
    },
    {
     "name": "stdout",
     "output_type": "stream",
     "text": [
      "/Data/hala.gamouh/cheese_classification_challenge/dataset/val/BEAUFORT/000009.jpg\n",
      "generating images for BEAUFORT with prompt: best quality, high quality, image of Beaufort on a white plate, with a plain white background, seen from above\n"
     ]
    },
    {
     "data": {
      "application/vnd.jupyter.widget-view+json": {
       "model_id": "198ac5497c1a4fac91c41a04f940ed03",
       "version_major": 2,
       "version_minor": 0
      },
      "text/plain": [
       "  0%|          | 0/20 [00:00<?, ?it/s]"
      ]
     },
     "metadata": {},
     "output_type": "display_data"
    },
    {
     "name": "stdout",
     "output_type": "stream",
     "text": [
      "generating images for BEAUFORT with prompt: best quality, high quality, image of Beaufort on a slate board, with a cheese cave background, seen from above\n"
     ]
    },
    {
     "data": {
      "application/vnd.jupyter.widget-view+json": {
       "model_id": "293d9fdfb60b4f37a87d85c8bf297373",
       "version_major": 2,
       "version_minor": 0
      },
      "text/plain": [
       "  0%|          | 0/20 [00:00<?, ?it/s]"
      ]
     },
     "metadata": {},
     "output_type": "display_data"
    },
    {
     "name": "stdout",
     "output_type": "stream",
     "text": [
      "generating images for BEAUFORT with prompt: best quality, high quality, image of Beaufort on a wooden plate, with a kitchen background, seen from a side view\n"
     ]
    },
    {
     "data": {
      "application/vnd.jupyter.widget-view+json": {
       "model_id": "d3adb9e1c6f841d0951b633afadafa79",
       "version_major": 2,
       "version_minor": 0
      },
      "text/plain": [
       "  0%|          | 0/20 [00:00<?, ?it/s]"
      ]
     },
     "metadata": {},
     "output_type": "display_data"
    },
    {
     "name": "stdout",
     "output_type": "stream",
     "text": [
      "/Data/hala.gamouh/cheese_classification_challenge/dataset/val/BEAUFORT/000010.jpg\n",
      "generating images for BEAUFORT with prompt: best quality, high quality, image of Beaufort on a wooden plate, with a kitchen background, seen from a side view\n"
     ]
    },
    {
     "data": {
      "application/vnd.jupyter.widget-view+json": {
       "model_id": "679324ba648446b7af7d8e61c4804294",
       "version_major": 2,
       "version_minor": 0
      },
      "text/plain": [
       "  0%|          | 0/20 [00:00<?, ?it/s]"
      ]
     },
     "metadata": {},
     "output_type": "display_data"
    },
    {
     "name": "stdout",
     "output_type": "stream",
     "text": [
      "generating images for BEAUFORT with prompt: best quality, high quality, image of Beaufort on a plain white background, with a cheese cave background, seen from a side view\n"
     ]
    },
    {
     "data": {
      "application/vnd.jupyter.widget-view+json": {
       "model_id": "40310863159148bd86c1a923dd4a5e66",
       "version_major": 2,
       "version_minor": 0
      },
      "text/plain": [
       "  0%|          | 0/20 [00:00<?, ?it/s]"
      ]
     },
     "metadata": {},
     "output_type": "display_data"
    },
    {
     "name": "stdout",
     "output_type": "stream",
     "text": [
      "generating images for BEAUFORT with prompt: best quality, high quality, in its packaging\n"
     ]
    },
    {
     "data": {
      "application/vnd.jupyter.widget-view+json": {
       "model_id": "36be8e50e4e54b498a2eebdab12419ea",
       "version_major": 2,
       "version_minor": 0
      },
      "text/plain": [
       "  0%|          | 0/20 [00:00<?, ?it/s]"
      ]
     },
     "metadata": {},
     "output_type": "display_data"
    },
    {
     "name": "stdout",
     "output_type": "stream",
     "text": [
      "/Data/hala.gamouh/cheese_classification_challenge/dataset/val/BEAUFORT/000011.jpg\n",
      "generating images for BEAUFORT with prompt: best quality, high quality, image of Beaufort on a marble plate, with a kitchen background, seen from a side view\n"
     ]
    },
    {
     "data": {
      "application/vnd.jupyter.widget-view+json": {
       "model_id": "be79330427434a44806cdb56ff2cd7eb",
       "version_major": 2,
       "version_minor": 0
      },
      "text/plain": [
       "  0%|          | 0/20 [00:00<?, ?it/s]"
      ]
     },
     "metadata": {},
     "output_type": "display_data"
    },
    {
     "name": "stdout",
     "output_type": "stream",
     "text": [
      "generating images for BEAUFORT with prompt: best quality, high quality, in its packaging\n"
     ]
    },
    {
     "data": {
      "application/vnd.jupyter.widget-view+json": {
       "model_id": "ee0a80a3b9e8480e944d244b6bd1a256",
       "version_major": 2,
       "version_minor": 0
      },
      "text/plain": [
       "  0%|          | 0/20 [00:00<?, ?it/s]"
      ]
     },
     "metadata": {},
     "output_type": "display_data"
    },
    {
     "name": "stdout",
     "output_type": "stream",
     "text": [
      "generating images for BEAUFORT with prompt: best quality, high quality, image of Beaufort on a white plate, with a cheese factory background, seen from an angled shot\n"
     ]
    },
    {
     "data": {
      "application/vnd.jupyter.widget-view+json": {
       "model_id": "dff72b761a9e47bb8cf4fc79fcf193f4",
       "version_major": 2,
       "version_minor": 0
      },
      "text/plain": [
       "  0%|          | 0/20 [00:00<?, ?it/s]"
      ]
     },
     "metadata": {},
     "output_type": "display_data"
    },
    {
     "name": "stdout",
     "output_type": "stream",
     "text": [
      "/Data/hala.gamouh/cheese_classification_challenge/dataset/val/BEAUFORT/000012.jpg\n",
      "generating images for BEAUFORT with prompt: best quality, high quality, image of Beaufort on a plain white background, with a plain white background, seen from a face view\n"
     ]
    },
    {
     "data": {
      "application/vnd.jupyter.widget-view+json": {
       "model_id": "f3e247547e764d48837f8a8088230d2e",
       "version_major": 2,
       "version_minor": 0
      },
      "text/plain": [
       "  0%|          | 0/20 [00:00<?, ?it/s]"
      ]
     },
     "metadata": {},
     "output_type": "display_data"
    },
    {
     "name": "stdout",
     "output_type": "stream",
     "text": [
      "generating images for BEAUFORT with prompt: best quality, high quality, image of Beaufort on a plain white background, with a cheese cave background, seen from a side view\n"
     ]
    },
    {
     "data": {
      "application/vnd.jupyter.widget-view+json": {
       "model_id": "3c1f9c76a2d54a588de372dc4d1f95c8",
       "version_major": 2,
       "version_minor": 0
      },
      "text/plain": [
       "  0%|          | 0/20 [00:00<?, ?it/s]"
      ]
     },
     "metadata": {},
     "output_type": "display_data"
    },
    {
     "name": "stdout",
     "output_type": "stream",
     "text": [
      "generating images for BEAUFORT with prompt: best quality, high quality, image of Beaufort on a wooden plate, with a kitchen background, seen from a side view\n"
     ]
    },
    {
     "data": {
      "application/vnd.jupyter.widget-view+json": {
       "model_id": "a7f372a09c6c496a9248633ceed1e9af",
       "version_major": 2,
       "version_minor": 0
      },
      "text/plain": [
       "  0%|          | 0/20 [00:00<?, ?it/s]"
      ]
     },
     "metadata": {},
     "output_type": "display_data"
    },
    {
     "name": "stdout",
     "output_type": "stream",
     "text": [
      "/Data/hala.gamouh/cheese_classification_challenge/dataset/val/BEAUFORT/000013.jpg\n",
      "generating images for BEAUFORT with prompt: best quality, high quality, image of Beaufort on a slate board, with a shop background, seen from above\n"
     ]
    },
    {
     "data": {
      "application/vnd.jupyter.widget-view+json": {
       "model_id": "d0c47a3d156c43beb6b4c28fd790ddff",
       "version_major": 2,
       "version_minor": 0
      },
      "text/plain": [
       "  0%|          | 0/20 [00:00<?, ?it/s]"
      ]
     },
     "metadata": {},
     "output_type": "display_data"
    },
    {
     "name": "stdout",
     "output_type": "stream",
     "text": [
      "generating images for BEAUFORT with prompt: best quality, high quality, in its packaging\n"
     ]
    },
    {
     "data": {
      "application/vnd.jupyter.widget-view+json": {
       "model_id": "8db8adad85734f268831527014dedfef",
       "version_major": 2,
       "version_minor": 0
      },
      "text/plain": [
       "  0%|          | 0/20 [00:00<?, ?it/s]"
      ]
     },
     "metadata": {},
     "output_type": "display_data"
    },
    {
     "name": "stdout",
     "output_type": "stream",
     "text": [
      "generating images for BEAUFORT with prompt: best quality, high quality, image of Beaufort on a marble plate, with a kitchen background, seen from a side view\n"
     ]
    },
    {
     "data": {
      "application/vnd.jupyter.widget-view+json": {
       "model_id": "ab89353cf3a942c3a2d89d783636a27e",
       "version_major": 2,
       "version_minor": 0
      },
      "text/plain": [
       "  0%|          | 0/20 [00:00<?, ?it/s]"
      ]
     },
     "metadata": {},
     "output_type": "display_data"
    },
    {
     "name": "stdout",
     "output_type": "stream",
     "text": [
      "/Data/hala.gamouh/cheese_classification_challenge/dataset/val/BEAUFORT/000014.jpg\n",
      "generating images for BEAUFORT with prompt: best quality, high quality, image of Beaufort on a white plate, with a cheese factory background, seen from an angled shot\n"
     ]
    },
    {
     "data": {
      "application/vnd.jupyter.widget-view+json": {
       "model_id": "dc54399f72504b058be752b16634fc35",
       "version_major": 2,
       "version_minor": 0
      },
      "text/plain": [
       "  0%|          | 0/20 [00:00<?, ?it/s]"
      ]
     },
     "metadata": {},
     "output_type": "display_data"
    },
    {
     "name": "stdout",
     "output_type": "stream",
     "text": [
      "generating images for BEAUFORT with prompt: best quality, high quality, image of Beaufort on a plain white background, with a cheese cave background, seen from a side view\n"
     ]
    },
    {
     "data": {
      "application/vnd.jupyter.widget-view+json": {
       "model_id": "e73a1c4cb46f4956a1acb65419b3c01a",
       "version_major": 2,
       "version_minor": 0
      },
      "text/plain": [
       "  0%|          | 0/20 [00:00<?, ?it/s]"
      ]
     },
     "metadata": {},
     "output_type": "display_data"
    },
    {
     "name": "stdout",
     "output_type": "stream",
     "text": [
      "generating images for BEAUFORT with prompt: best quality, high quality, image of Beaufort on a slate board, with a cheese cave background, seen from above\n"
     ]
    },
    {
     "data": {
      "application/vnd.jupyter.widget-view+json": {
       "model_id": "1234d7c974424542a9eda8e0c625fb80",
       "version_major": 2,
       "version_minor": 0
      },
      "text/plain": [
       "  0%|          | 0/20 [00:00<?, ?it/s]"
      ]
     },
     "metadata": {},
     "output_type": "display_data"
    },
    {
     "name": "stdout",
     "output_type": "stream",
     "text": [
      "/Data/hala.gamouh/cheese_classification_challenge/dataset/val/BEAUFORT/000015.jpg\n",
      "generating images for BEAUFORT with prompt: best quality, high quality, image of Beaufort on a white plate, with a plain white background, seen from above\n"
     ]
    },
    {
     "data": {
      "application/vnd.jupyter.widget-view+json": {
       "model_id": "468292132979486a90199602bfe6f098",
       "version_major": 2,
       "version_minor": 0
      },
      "text/plain": [
       "  0%|          | 0/20 [00:00<?, ?it/s]"
      ]
     },
     "metadata": {},
     "output_type": "display_data"
    },
    {
     "name": "stdout",
     "output_type": "stream",
     "text": [
      "generating images for BEAUFORT with prompt: best quality, high quality, image of Beaufort on a plain white background, with a cheese cave background, seen from a side view\n"
     ]
    },
    {
     "data": {
      "application/vnd.jupyter.widget-view+json": {
       "model_id": "abcb399b20d04880bf6f0a3ae4cdc997",
       "version_major": 2,
       "version_minor": 0
      },
      "text/plain": [
       "  0%|          | 0/20 [00:00<?, ?it/s]"
      ]
     },
     "metadata": {},
     "output_type": "display_data"
    },
    {
     "name": "stdout",
     "output_type": "stream",
     "text": [
      "generating images for BEAUFORT with prompt: best quality, high quality, image of Beaufort on a plain white background, with a plain white background, seen from a face view\n"
     ]
    },
    {
     "data": {
      "application/vnd.jupyter.widget-view+json": {
       "model_id": "b6494d7302d54006a2d63be7ec80c678",
       "version_major": 2,
       "version_minor": 0
      },
      "text/plain": [
       "  0%|          | 0/20 [00:00<?, ?it/s]"
      ]
     },
     "metadata": {},
     "output_type": "display_data"
    },
    {
     "name": "stdout",
     "output_type": "stream",
     "text": [
      "/Data/hala.gamouh/cheese_classification_challenge/dataset/val/BEAUFORT/000016.jpg\n",
      "generating images for BEAUFORT with prompt: best quality, high quality, image of Beaufort on a marble plate, with a kitchen background, seen from a side view\n"
     ]
    },
    {
     "data": {
      "application/vnd.jupyter.widget-view+json": {
       "model_id": "42189f520d904dfda4e4bdabc70296aa",
       "version_major": 2,
       "version_minor": 0
      },
      "text/plain": [
       "  0%|          | 0/20 [00:00<?, ?it/s]"
      ]
     },
     "metadata": {},
     "output_type": "display_data"
    },
    {
     "name": "stdout",
     "output_type": "stream",
     "text": [
      "generating images for BEAUFORT with prompt: best quality, high quality, image of Beaufort on a white plate, with a plain white background, seen from above\n"
     ]
    },
    {
     "data": {
      "application/vnd.jupyter.widget-view+json": {
       "model_id": "c9575f4949ab43e3a30422258003d43a",
       "version_major": 2,
       "version_minor": 0
      },
      "text/plain": [
       "  0%|          | 0/20 [00:00<?, ?it/s]"
      ]
     },
     "metadata": {},
     "output_type": "display_data"
    },
    {
     "name": "stdout",
     "output_type": "stream",
     "text": [
      "generating images for BEAUFORT with prompt: best quality, high quality, image of Beaufort on a marble plate, with a kitchen background, seen from a side view\n"
     ]
    },
    {
     "data": {
      "application/vnd.jupyter.widget-view+json": {
       "model_id": "a828ad6b35674a96b8a567e05cf179cb",
       "version_major": 2,
       "version_minor": 0
      },
      "text/plain": [
       "  0%|          | 0/20 [00:00<?, ?it/s]"
      ]
     },
     "metadata": {},
     "output_type": "display_data"
    },
    {
     "name": "stdout",
     "output_type": "stream",
     "text": [
      "/Data/hala.gamouh/cheese_classification_challenge/dataset/val/BEAUFORT/000017.jpg\n",
      "generating images for BEAUFORT with prompt: best quality, high quality, image of Beaufort on a marble plate, with a shop background, seen from an angled shot\n"
     ]
    },
    {
     "data": {
      "application/vnd.jupyter.widget-view+json": {
       "model_id": "b1527f07ccac42808984468406cddce8",
       "version_major": 2,
       "version_minor": 0
      },
      "text/plain": [
       "  0%|          | 0/20 [00:00<?, ?it/s]"
      ]
     },
     "metadata": {},
     "output_type": "display_data"
    },
    {
     "name": "stdout",
     "output_type": "stream",
     "text": [
      "generating images for BEAUFORT with prompt: best quality, high quality, image of Beaufort on a marble plate, with a kitchen background, seen from a side view\n"
     ]
    },
    {
     "data": {
      "application/vnd.jupyter.widget-view+json": {
       "model_id": "6d3fd0adc1b5496fbce1ea04526cf0fa",
       "version_major": 2,
       "version_minor": 0
      },
      "text/plain": [
       "  0%|          | 0/20 [00:00<?, ?it/s]"
      ]
     },
     "metadata": {},
     "output_type": "display_data"
    },
    {
     "name": "stdout",
     "output_type": "stream",
     "text": [
      "generating images for BEAUFORT with prompt: best quality, high quality, image of Beaufort on a plain white background, with a plain white background, seen from a face view\n"
     ]
    },
    {
     "data": {
      "application/vnd.jupyter.widget-view+json": {
       "model_id": "b7180381639d4fd5a7f7517e264245a3",
       "version_major": 2,
       "version_minor": 0
      },
      "text/plain": [
       "  0%|          | 0/20 [00:00<?, ?it/s]"
      ]
     },
     "metadata": {},
     "output_type": "display_data"
    },
    {
     "name": "stdout",
     "output_type": "stream",
     "text": [
      "/Data/hala.gamouh/cheese_classification_challenge/dataset/val/BEAUFORT/000018.jpg\n",
      "generating images for BEAUFORT with prompt: best quality, high quality, image of Beaufort on a wooden plate, with a plain white background, seen from above\n"
     ]
    },
    {
     "data": {
      "application/vnd.jupyter.widget-view+json": {
       "model_id": "99505f61fd3f473ab6b5c0ace64a852a",
       "version_major": 2,
       "version_minor": 0
      },
      "text/plain": [
       "  0%|          | 0/20 [00:00<?, ?it/s]"
      ]
     },
     "metadata": {},
     "output_type": "display_data"
    },
    {
     "name": "stdout",
     "output_type": "stream",
     "text": [
      "generating images for BEAUFORT with prompt: best quality, high quality, image of Beaufort on a marble plate, with a shop background, seen from an angled shot\n"
     ]
    },
    {
     "data": {
      "application/vnd.jupyter.widget-view+json": {
       "model_id": "6db78ec9734b4dd7bb1bf2fcea420d3b",
       "version_major": 2,
       "version_minor": 0
      },
      "text/plain": [
       "  0%|          | 0/20 [00:00<?, ?it/s]"
      ]
     },
     "metadata": {},
     "output_type": "display_data"
    },
    {
     "name": "stdout",
     "output_type": "stream",
     "text": [
      "generating images for BEAUFORT with prompt: best quality, high quality, image of Beaufort on a plain white background, with a cheese cave background, seen from a side view\n"
     ]
    },
    {
     "data": {
      "application/vnd.jupyter.widget-view+json": {
       "model_id": "313d3e8b904344b6bea4492210b3b686",
       "version_major": 2,
       "version_minor": 0
      },
      "text/plain": [
       "  0%|          | 0/20 [00:00<?, ?it/s]"
      ]
     },
     "metadata": {},
     "output_type": "display_data"
    },
    {
     "name": "stdout",
     "output_type": "stream",
     "text": [
      "/Data/hala.gamouh/cheese_classification_challenge/dataset/val/BEAUFORT/000019.jpg\n",
      "generating images for BEAUFORT with prompt: best quality, high quality, image of Beaufort on a white plate, with a cheese factory background, seen from an angled shot\n"
     ]
    },
    {
     "data": {
      "application/vnd.jupyter.widget-view+json": {
       "model_id": "74ea4ada88c3470fb1b506528ab84b9f",
       "version_major": 2,
       "version_minor": 0
      },
      "text/plain": [
       "  0%|          | 0/20 [00:00<?, ?it/s]"
      ]
     },
     "metadata": {},
     "output_type": "display_data"
    },
    {
     "name": "stdout",
     "output_type": "stream",
     "text": [
      "generating images for BEAUFORT with prompt: best quality, high quality, image of Beaufort on a white plate, with a cheese factory background, seen from an angled shot\n"
     ]
    },
    {
     "data": {
      "application/vnd.jupyter.widget-view+json": {
       "model_id": "45d3059c30444fcf9126bb5b99a3028e",
       "version_major": 2,
       "version_minor": 0
      },
      "text/plain": [
       "  0%|          | 0/20 [00:00<?, ?it/s]"
      ]
     },
     "metadata": {},
     "output_type": "display_data"
    },
    {
     "name": "stdout",
     "output_type": "stream",
     "text": [
      "generating images for BEAUFORT with prompt: best quality, high quality, image of Beaufort on a white plate, with a plain white background, seen from above\n"
     ]
    },
    {
     "data": {
      "application/vnd.jupyter.widget-view+json": {
       "model_id": "f4c36952659547aab49800ef3a9b7be4",
       "version_major": 2,
       "version_minor": 0
      },
      "text/plain": [
       "  0%|          | 0/20 [00:00<?, ?it/s]"
      ]
     },
     "metadata": {},
     "output_type": "display_data"
    },
    {
     "name": "stdout",
     "output_type": "stream",
     "text": [
      "/Data/hala.gamouh/cheese_classification_challenge/dataset/val/BEAUFORT/000020.jpg\n",
      "generating images for BEAUFORT with prompt: best quality, high quality, in its packaging\n"
     ]
    },
    {
     "data": {
      "application/vnd.jupyter.widget-view+json": {
       "model_id": "8d22fdc25cb341e7bef7a1add7450e86",
       "version_major": 2,
       "version_minor": 0
      },
      "text/plain": [
       "  0%|          | 0/20 [00:00<?, ?it/s]"
      ]
     },
     "metadata": {},
     "output_type": "display_data"
    },
    {
     "name": "stdout",
     "output_type": "stream",
     "text": [
      "generating images for BEAUFORT with prompt: best quality, high quality, image of Beaufort on a white plate, with a plain white background, seen from above\n"
     ]
    },
    {
     "data": {
      "application/vnd.jupyter.widget-view+json": {
       "model_id": "9c7b3077928b49009f6183d38735d462",
       "version_major": 2,
       "version_minor": 0
      },
      "text/plain": [
       "  0%|          | 0/20 [00:00<?, ?it/s]"
      ]
     },
     "metadata": {},
     "output_type": "display_data"
    },
    {
     "name": "stdout",
     "output_type": "stream",
     "text": [
      "generating images for BEAUFORT with prompt: best quality, high quality, image of Beaufort on a marble plate, with a kitchen background, seen from a side view\n"
     ]
    },
    {
     "data": {
      "application/vnd.jupyter.widget-view+json": {
       "model_id": "9c654c3125144840bce83d7649a9efb6",
       "version_major": 2,
       "version_minor": 0
      },
      "text/plain": [
       "  0%|          | 0/20 [00:00<?, ?it/s]"
      ]
     },
     "metadata": {},
     "output_type": "display_data"
    },
    {
     "name": "stdout",
     "output_type": "stream",
     "text": [
      "/Data/hala.gamouh/cheese_classification_challenge/dataset/val/BEAUFORT/000021.jpg\n",
      "generating images for BEAUFORT with prompt: best quality, high quality, image of Beaufort on a marble plate, with a shop background, seen from an angled shot\n"
     ]
    },
    {
     "data": {
      "application/vnd.jupyter.widget-view+json": {
       "model_id": "5e1b06bd35be43c78af4743e8fefe268",
       "version_major": 2,
       "version_minor": 0
      },
      "text/plain": [
       "  0%|          | 0/20 [00:00<?, ?it/s]"
      ]
     },
     "metadata": {},
     "output_type": "display_data"
    },
    {
     "name": "stdout",
     "output_type": "stream",
     "text": [
      "generating images for BEAUFORT with prompt: best quality, high quality, image of Beaufort on a wooden plate, with a plain white background, seen from above\n"
     ]
    },
    {
     "data": {
      "application/vnd.jupyter.widget-view+json": {
       "model_id": "4424f59609e14391b4a3f359c005ce3c",
       "version_major": 2,
       "version_minor": 0
      },
      "text/plain": [
       "  0%|          | 0/20 [00:00<?, ?it/s]"
      ]
     },
     "metadata": {},
     "output_type": "display_data"
    },
    {
     "name": "stdout",
     "output_type": "stream",
     "text": [
      "generating images for BEAUFORT with prompt: best quality, high quality, image of Beaufort on a slate board, with a cheese cave background, seen from above\n"
     ]
    },
    {
     "data": {
      "application/vnd.jupyter.widget-view+json": {
       "model_id": "e8573cf3e29e42e48239d49eb4f6c84d",
       "version_major": 2,
       "version_minor": 0
      },
      "text/plain": [
       "  0%|          | 0/20 [00:00<?, ?it/s]"
      ]
     },
     "metadata": {},
     "output_type": "display_data"
    },
    {
     "name": "stdout",
     "output_type": "stream",
     "text": [
      "/Data/hala.gamouh/cheese_classification_challenge/dataset/val/BEAUFORT/000022.jpg\n",
      "generating images for BEAUFORT with prompt: best quality, high quality, image of Beaufort on a plain white background, with a cheese cave background, seen from a side view\n"
     ]
    },
    {
     "data": {
      "application/vnd.jupyter.widget-view+json": {
       "model_id": "308a3fdce86648c39209d38b4ab16e2b",
       "version_major": 2,
       "version_minor": 0
      },
      "text/plain": [
       "  0%|          | 0/20 [00:00<?, ?it/s]"
      ]
     },
     "metadata": {},
     "output_type": "display_data"
    },
    {
     "name": "stdout",
     "output_type": "stream",
     "text": [
      "generating images for BEAUFORT with prompt: best quality, high quality, image of Beaufort on a white plate, with a plain white background, seen from above\n"
     ]
    },
    {
     "data": {
      "application/vnd.jupyter.widget-view+json": {
       "model_id": "5b0afcda31594a1daeffe78a399abfde",
       "version_major": 2,
       "version_minor": 0
      },
      "text/plain": [
       "  0%|          | 0/20 [00:00<?, ?it/s]"
      ]
     },
     "metadata": {},
     "output_type": "display_data"
    },
    {
     "name": "stdout",
     "output_type": "stream",
     "text": [
      "generating images for BEAUFORT with prompt: best quality, high quality, image of Beaufort on a plain white background, with a cheese cave background, seen from a side view\n"
     ]
    },
    {
     "data": {
      "application/vnd.jupyter.widget-view+json": {
       "model_id": "beea0cfca19e402eb94cd729539cfabb",
       "version_major": 2,
       "version_minor": 0
      },
      "text/plain": [
       "  0%|          | 0/20 [00:00<?, ?it/s]"
      ]
     },
     "metadata": {},
     "output_type": "display_data"
    },
    {
     "name": "stdout",
     "output_type": "stream",
     "text": [
      "/Data/hala.gamouh/cheese_classification_challenge/dataset/val/BEAUFORT/000023.jpg\n",
      "generating images for BEAUFORT with prompt: best quality, high quality, image of Beaufort on a plain white background, with a cheese cave background, seen from a side view\n"
     ]
    },
    {
     "data": {
      "application/vnd.jupyter.widget-view+json": {
       "model_id": "dd4eaa80b4c04fbc894456d9cb721296",
       "version_major": 2,
       "version_minor": 0
      },
      "text/plain": [
       "  0%|          | 0/20 [00:00<?, ?it/s]"
      ]
     },
     "metadata": {},
     "output_type": "display_data"
    },
    {
     "name": "stdout",
     "output_type": "stream",
     "text": [
      "generating images for BEAUFORT with prompt: best quality, high quality, image of Beaufort on a white plate, with a cheese factory background, seen from an angled shot\n"
     ]
    },
    {
     "data": {
      "application/vnd.jupyter.widget-view+json": {
       "model_id": "961462164acc4a3d8d62448551603552",
       "version_major": 2,
       "version_minor": 0
      },
      "text/plain": [
       "  0%|          | 0/20 [00:00<?, ?it/s]"
      ]
     },
     "metadata": {},
     "output_type": "display_data"
    },
    {
     "name": "stdout",
     "output_type": "stream",
     "text": [
      "generating images for BEAUFORT with prompt: best quality, high quality, image of Beaufort on a white plate, with a plain white background, seen from above\n"
     ]
    },
    {
     "data": {
      "application/vnd.jupyter.widget-view+json": {
       "model_id": "db16e3b3b9e74ae0b429c935d83adb07",
       "version_major": 2,
       "version_minor": 0
      },
      "text/plain": [
       "  0%|          | 0/20 [00:00<?, ?it/s]"
      ]
     },
     "metadata": {},
     "output_type": "display_data"
    },
    {
     "name": "stdout",
     "output_type": "stream",
     "text": [
      "/Data/hala.gamouh/cheese_classification_challenge/dataset/val/BEAUFORT/000024.jpg\n",
      "generating images for BEAUFORT with prompt: best quality, high quality, image of Beaufort on a plain white background, with a plain white background, seen from a face view\n"
     ]
    },
    {
     "data": {
      "application/vnd.jupyter.widget-view+json": {
       "model_id": "b10f95de1e894c4ba2578197881be8c7",
       "version_major": 2,
       "version_minor": 0
      },
      "text/plain": [
       "  0%|          | 0/20 [00:00<?, ?it/s]"
      ]
     },
     "metadata": {},
     "output_type": "display_data"
    },
    {
     "name": "stdout",
     "output_type": "stream",
     "text": [
      "generating images for BEAUFORT with prompt: best quality, high quality, image of Beaufort on a white plate, with a cheese factory background, seen from an angled shot\n"
     ]
    },
    {
     "data": {
      "application/vnd.jupyter.widget-view+json": {
       "model_id": "c0b1fd793dbe42c4b1a2e98daf969cbe",
       "version_major": 2,
       "version_minor": 0
      },
      "text/plain": [
       "  0%|          | 0/20 [00:00<?, ?it/s]"
      ]
     },
     "metadata": {},
     "output_type": "display_data"
    },
    {
     "name": "stdout",
     "output_type": "stream",
     "text": [
      "generating images for BEAUFORT with prompt: best quality, high quality, image of Beaufort on a marble plate, with a shop background, seen from an angled shot\n"
     ]
    },
    {
     "data": {
      "application/vnd.jupyter.widget-view+json": {
       "model_id": "d479adda5e6c4bae828488f2a5104f4c",
       "version_major": 2,
       "version_minor": 0
      },
      "text/plain": [
       "  0%|          | 0/20 [00:00<?, ?it/s]"
      ]
     },
     "metadata": {},
     "output_type": "display_data"
    },
    {
     "name": "stdout",
     "output_type": "stream",
     "text": [
      "/Data/hala.gamouh/cheese_classification_challenge/dataset/val/BEAUFORT/000001.jpg\n",
      "generating images for BEAUFORT with prompt: best quality, high quality, image of Beaufort on a slate board, with a shop background, seen from above\n"
     ]
    },
    {
     "data": {
      "application/vnd.jupyter.widget-view+json": {
       "model_id": "16b129a1c8b44361bbba6bf5a9a3eb2d",
       "version_major": 2,
       "version_minor": 0
      },
      "text/plain": [
       "  0%|          | 0/20 [00:00<?, ?it/s]"
      ]
     },
     "metadata": {},
     "output_type": "display_data"
    },
    {
     "name": "stdout",
     "output_type": "stream",
     "text": [
      "generating images for BEAUFORT with prompt: best quality, high quality, image of Beaufort on a slate board, with a shop background, seen from above\n"
     ]
    },
    {
     "data": {
      "application/vnd.jupyter.widget-view+json": {
       "model_id": "330d16725d734131b4266e97f5f43abc",
       "version_major": 2,
       "version_minor": 0
      },
      "text/plain": [
       "  0%|          | 0/20 [00:00<?, ?it/s]"
      ]
     },
     "metadata": {},
     "output_type": "display_data"
    },
    {
     "name": "stdout",
     "output_type": "stream",
     "text": [
      "generating images for BEAUFORT with prompt: best quality, high quality, image of Beaufort on a slate board, with a shop background, seen from above\n"
     ]
    },
    {
     "data": {
      "application/vnd.jupyter.widget-view+json": {
       "model_id": "e6d9d8d52d314c188af550bee963694f",
       "version_major": 2,
       "version_minor": 0
      },
      "text/plain": [
       "  0%|          | 0/20 [00:00<?, ?it/s]"
      ]
     },
     "metadata": {},
     "output_type": "display_data"
    },
    {
     "name": "stdout",
     "output_type": "stream",
     "text": [
      "/Data/hala.gamouh/cheese_classification_challenge/dataset/val/BEAUFORT/000003.jpg\n",
      "generating images for BEAUFORT with prompt: best quality, high quality, image of Beaufort on a wooden plate, with a plain white background, seen from above\n"
     ]
    },
    {
     "data": {
      "application/vnd.jupyter.widget-view+json": {
       "model_id": "7bd82d930b374ca2a7d6b3f013550ca3",
       "version_major": 2,
       "version_minor": 0
      },
      "text/plain": [
       "  0%|          | 0/20 [00:00<?, ?it/s]"
      ]
     },
     "metadata": {},
     "output_type": "display_data"
    },
    {
     "name": "stdout",
     "output_type": "stream",
     "text": [
      "generating images for BEAUFORT with prompt: best quality, high quality, image of Beaufort on a plain white background, with a cheese cave background, seen from a side view\n"
     ]
    },
    {
     "data": {
      "application/vnd.jupyter.widget-view+json": {
       "model_id": "6148af66ca5c4414bb2b1f8e945a187a",
       "version_major": 2,
       "version_minor": 0
      },
      "text/plain": [
       "  0%|          | 0/20 [00:00<?, ?it/s]"
      ]
     },
     "metadata": {},
     "output_type": "display_data"
    },
    {
     "name": "stdout",
     "output_type": "stream",
     "text": [
      "generating images for BEAUFORT with prompt: best quality, high quality, image of Beaufort on a plain white background, with a plain white background, seen from a face view\n"
     ]
    },
    {
     "data": {
      "application/vnd.jupyter.widget-view+json": {
       "model_id": "199cbb901dbc46d5ba053c100e34c29c",
       "version_major": 2,
       "version_minor": 0
      },
      "text/plain": [
       "  0%|          | 0/20 [00:00<?, ?it/s]"
      ]
     },
     "metadata": {},
     "output_type": "display_data"
    },
    {
     "name": "stdout",
     "output_type": "stream",
     "text": [
      "/Data/hala.gamouh/cheese_classification_challenge/dataset/val/BEAUFORT/000004.jpg\n",
      "generating images for BEAUFORT with prompt: best quality, high quality, image of Beaufort on a white plate, with a cheese factory background, seen from an angled shot\n"
     ]
    },
    {
     "data": {
      "application/vnd.jupyter.widget-view+json": {
       "model_id": "9715d575ae35483a90040aa3277860f6",
       "version_major": 2,
       "version_minor": 0
      },
      "text/plain": [
       "  0%|          | 0/20 [00:00<?, ?it/s]"
      ]
     },
     "metadata": {},
     "output_type": "display_data"
    },
    {
     "name": "stdout",
     "output_type": "stream",
     "text": [
      "generating images for BEAUFORT with prompt: best quality, high quality, image of Beaufort on a slate board, with a cheese cave background, seen from above\n"
     ]
    },
    {
     "data": {
      "application/vnd.jupyter.widget-view+json": {
       "model_id": "09ac8e6596974e5698fde7b81ed6bb86",
       "version_major": 2,
       "version_minor": 0
      },
      "text/plain": [
       "  0%|          | 0/20 [00:00<?, ?it/s]"
      ]
     },
     "metadata": {},
     "output_type": "display_data"
    },
    {
     "name": "stdout",
     "output_type": "stream",
     "text": [
      "generating images for BEAUFORT with prompt: best quality, high quality, image of Beaufort on a wooden plate, with a kitchen background, seen from a side view\n"
     ]
    },
    {
     "data": {
      "application/vnd.jupyter.widget-view+json": {
       "model_id": "ed9953c61abf422caba0cd25c16d4169",
       "version_major": 2,
       "version_minor": 0
      },
      "text/plain": [
       "  0%|          | 0/20 [00:00<?, ?it/s]"
      ]
     },
     "metadata": {},
     "output_type": "display_data"
    },
    {
     "name": "stdout",
     "output_type": "stream",
     "text": [
      "/Data/hala.gamouh/cheese_classification_challenge/dataset/val/BEAUFORT/000005.jpg\n",
      "generating images for BEAUFORT with prompt: best quality, high quality, image of Beaufort on a white plate, with a cheese factory background, seen from an angled shot\n"
     ]
    },
    {
     "data": {
      "application/vnd.jupyter.widget-view+json": {
       "model_id": "925f83780e13414ab0546b93596f47a9",
       "version_major": 2,
       "version_minor": 0
      },
      "text/plain": [
       "  0%|          | 0/20 [00:00<?, ?it/s]"
      ]
     },
     "metadata": {},
     "output_type": "display_data"
    },
    {
     "name": "stdout",
     "output_type": "stream",
     "text": [
      "generating images for BEAUFORT with prompt: best quality, high quality, image of Beaufort on a white plate, with a plain white background, seen from above\n"
     ]
    },
    {
     "data": {
      "application/vnd.jupyter.widget-view+json": {
       "model_id": "4bed8bd48ca14e3cb1f1ff7764ba9235",
       "version_major": 2,
       "version_minor": 0
      },
      "text/plain": [
       "  0%|          | 0/20 [00:00<?, ?it/s]"
      ]
     },
     "metadata": {},
     "output_type": "display_data"
    },
    {
     "name": "stdout",
     "output_type": "stream",
     "text": [
      "generating images for BEAUFORT with prompt: best quality, high quality, image of Beaufort on a wooden plate, with a plain white background, seen from above\n"
     ]
    },
    {
     "data": {
      "application/vnd.jupyter.widget-view+json": {
       "model_id": "336c0d9e549545baaecda69f7c32c69e",
       "version_major": 2,
       "version_minor": 0
      },
      "text/plain": [
       "  0%|          | 0/20 [00:00<?, ?it/s]"
      ]
     },
     "metadata": {},
     "output_type": "display_data"
    },
    {
     "name": "stdout",
     "output_type": "stream",
     "text": [
      "/Data/hala.gamouh/cheese_classification_challenge/dataset/val/BEAUFORT/000006.jpg\n",
      "generating images for BEAUFORT with prompt: best quality, high quality, image of Beaufort on a white plate, with a cheese factory background, seen from an angled shot\n"
     ]
    },
    {
     "data": {
      "application/vnd.jupyter.widget-view+json": {
       "model_id": "23567856c5e04e3eb4edc561296dd938",
       "version_major": 2,
       "version_minor": 0
      },
      "text/plain": [
       "  0%|          | 0/20 [00:00<?, ?it/s]"
      ]
     },
     "metadata": {},
     "output_type": "display_data"
    },
    {
     "name": "stdout",
     "output_type": "stream",
     "text": [
      "generating images for BEAUFORT with prompt: best quality, high quality, in its packaging\n"
     ]
    },
    {
     "data": {
      "application/vnd.jupyter.widget-view+json": {
       "model_id": "d41b1625c88f4c33bf6671e9b393aa82",
       "version_major": 2,
       "version_minor": 0
      },
      "text/plain": [
       "  0%|          | 0/20 [00:00<?, ?it/s]"
      ]
     },
     "metadata": {},
     "output_type": "display_data"
    },
    {
     "name": "stdout",
     "output_type": "stream",
     "text": [
      "generating images for BEAUFORT with prompt: best quality, high quality, image of Beaufort on a plain white background, with a cheese cave background, seen from a side view\n"
     ]
    },
    {
     "data": {
      "application/vnd.jupyter.widget-view+json": {
       "model_id": "99dec8d2c7494d8b9f11ad8d8039cb2c",
       "version_major": 2,
       "version_minor": 0
      },
      "text/plain": [
       "  0%|          | 0/20 [00:00<?, ?it/s]"
      ]
     },
     "metadata": {},
     "output_type": "display_data"
    },
    {
     "name": "stdout",
     "output_type": "stream",
     "text": [
      "/Data/hala.gamouh/cheese_classification_challenge/dataset/val/BEAUFORT/000007.jpg\n",
      "generating images for BEAUFORT with prompt: best quality, high quality, image of Beaufort on a wooden plate, with a plain white background, seen from above\n"
     ]
    },
    {
     "data": {
      "application/vnd.jupyter.widget-view+json": {
       "model_id": "52722fff48f2428cbe297a40832ad743",
       "version_major": 2,
       "version_minor": 0
      },
      "text/plain": [
       "  0%|          | 0/20 [00:00<?, ?it/s]"
      ]
     },
     "metadata": {},
     "output_type": "display_data"
    },
    {
     "name": "stdout",
     "output_type": "stream",
     "text": [
      "generating images for BEAUFORT with prompt: best quality, high quality, image of Beaufort on a white plate, with a cheese factory background, seen from an angled shot\n"
     ]
    },
    {
     "data": {
      "application/vnd.jupyter.widget-view+json": {
       "model_id": "e36988b08ea642fc8fa88d7697df832e",
       "version_major": 2,
       "version_minor": 0
      },
      "text/plain": [
       "  0%|          | 0/20 [00:00<?, ?it/s]"
      ]
     },
     "metadata": {},
     "output_type": "display_data"
    },
    {
     "name": "stdout",
     "output_type": "stream",
     "text": [
      "generating images for BEAUFORT with prompt: best quality, high quality, image of Beaufort on a wooden plate, with a plain white background, seen from above\n"
     ]
    },
    {
     "data": {
      "application/vnd.jupyter.widget-view+json": {
       "model_id": "f642eb5e2509431490f2833478422659",
       "version_major": 2,
       "version_minor": 0
      },
      "text/plain": [
       "  0%|          | 0/20 [00:00<?, ?it/s]"
      ]
     },
     "metadata": {},
     "output_type": "display_data"
    },
    {
     "name": "stdout",
     "output_type": "stream",
     "text": [
      "/Data/hala.gamouh/cheese_classification_challenge/dataset/val/BEAUFORT/000008.jpg\n",
      "generating images for BEAUFORT with prompt: best quality, high quality, image of Beaufort on a marble plate, with a shop background, seen from an angled shot\n"
     ]
    },
    {
     "data": {
      "application/vnd.jupyter.widget-view+json": {
       "model_id": "efcea994b2504840905ee6d4b7fc0480",
       "version_major": 2,
       "version_minor": 0
      },
      "text/plain": [
       "  0%|          | 0/20 [00:00<?, ?it/s]"
      ]
     },
     "metadata": {},
     "output_type": "display_data"
    },
    {
     "name": "stdout",
     "output_type": "stream",
     "text": [
      "generating images for BEAUFORT with prompt: best quality, high quality, in its packaging\n"
     ]
    },
    {
     "data": {
      "application/vnd.jupyter.widget-view+json": {
       "model_id": "12e089d003704525a728e5d74388ff30",
       "version_major": 2,
       "version_minor": 0
      },
      "text/plain": [
       "  0%|          | 0/20 [00:00<?, ?it/s]"
      ]
     },
     "metadata": {},
     "output_type": "display_data"
    },
    {
     "name": "stdout",
     "output_type": "stream",
     "text": [
      "generating images for BEAUFORT with prompt: best quality, high quality, image of Beaufort on a white plate, with a plain white background, seen from above\n"
     ]
    },
    {
     "data": {
      "application/vnd.jupyter.widget-view+json": {
       "model_id": "60adf14e2c364341a42f0edb207b7b50",
       "version_major": 2,
       "version_minor": 0
      },
      "text/plain": [
       "  0%|          | 0/20 [00:00<?, ?it/s]"
      ]
     },
     "metadata": {},
     "output_type": "display_data"
    },
    {
     "name": "stdout",
     "output_type": "stream",
     "text": [
      "/Data/hala.gamouh/cheese_classification_challenge/dataset/val/BEAUFORT/000009.jpg\n",
      "generating images for BEAUFORT with prompt: best quality, high quality, image of Beaufort on a slate board, with a shop background, seen from above\n"
     ]
    },
    {
     "data": {
      "application/vnd.jupyter.widget-view+json": {
       "model_id": "835b5f0ea2e746f6853f6c780c41bcf0",
       "version_major": 2,
       "version_minor": 0
      },
      "text/plain": [
       "  0%|          | 0/20 [00:00<?, ?it/s]"
      ]
     },
     "metadata": {},
     "output_type": "display_data"
    },
    {
     "name": "stdout",
     "output_type": "stream",
     "text": [
      "generating images for BEAUFORT with prompt: best quality, high quality, image of Beaufort on a marble plate, with a kitchen background, seen from a side view\n"
     ]
    },
    {
     "data": {
      "application/vnd.jupyter.widget-view+json": {
       "model_id": "dfb472e5e63b482987198e2f1f99f279",
       "version_major": 2,
       "version_minor": 0
      },
      "text/plain": [
       "  0%|          | 0/20 [00:00<?, ?it/s]"
      ]
     },
     "metadata": {},
     "output_type": "display_data"
    },
    {
     "name": "stdout",
     "output_type": "stream",
     "text": [
      "generating images for BEAUFORT with prompt: best quality, high quality, image of Beaufort on a plain white background, with a plain white background, seen from a face view\n"
     ]
    },
    {
     "data": {
      "application/vnd.jupyter.widget-view+json": {
       "model_id": "a97662b91f5b4eb9a92dbce7d482d52d",
       "version_major": 2,
       "version_minor": 0
      },
      "text/plain": [
       "  0%|          | 0/20 [00:00<?, ?it/s]"
      ]
     },
     "metadata": {},
     "output_type": "display_data"
    },
    {
     "name": "stdout",
     "output_type": "stream",
     "text": [
      "/Data/hala.gamouh/cheese_classification_challenge/dataset/val/BEAUFORT/000010.jpg\n",
      "generating images for BEAUFORT with prompt: best quality, high quality, image of Beaufort on a slate board, with a cheese cave background, seen from above\n"
     ]
    },
    {
     "data": {
      "application/vnd.jupyter.widget-view+json": {
       "model_id": "5b2e84e5728f41c8b90fcfed5bf7b901",
       "version_major": 2,
       "version_minor": 0
      },
      "text/plain": [
       "  0%|          | 0/20 [00:00<?, ?it/s]"
      ]
     },
     "metadata": {},
     "output_type": "display_data"
    },
    {
     "name": "stdout",
     "output_type": "stream",
     "text": [
      "generating images for BEAUFORT with prompt: best quality, high quality, image of Beaufort on a slate board, with a cheese cave background, seen from above\n"
     ]
    },
    {
     "data": {
      "application/vnd.jupyter.widget-view+json": {
       "model_id": "760bf1738a904ecd83e0431bc03f5f36",
       "version_major": 2,
       "version_minor": 0
      },
      "text/plain": [
       "  0%|          | 0/20 [00:00<?, ?it/s]"
      ]
     },
     "metadata": {},
     "output_type": "display_data"
    },
    {
     "name": "stdout",
     "output_type": "stream",
     "text": [
      "generating images for BEAUFORT with prompt: best quality, high quality, image of Beaufort on a white plate, with a plain white background, seen from above\n"
     ]
    },
    {
     "data": {
      "application/vnd.jupyter.widget-view+json": {
       "model_id": "1dd5be6dc732404280c14d51d7248d77",
       "version_major": 2,
       "version_minor": 0
      },
      "text/plain": [
       "  0%|          | 0/20 [00:00<?, ?it/s]"
      ]
     },
     "metadata": {},
     "output_type": "display_data"
    },
    {
     "name": "stdout",
     "output_type": "stream",
     "text": [
      "/Data/hala.gamouh/cheese_classification_challenge/dataset/val/BEAUFORT/000011.jpg\n",
      "generating images for BEAUFORT with prompt: best quality, high quality, image of Beaufort on a wooden plate, with a kitchen background, seen from a side view\n"
     ]
    },
    {
     "data": {
      "application/vnd.jupyter.widget-view+json": {
       "model_id": "8219a65a1d8446c7a6a6c81f5e600532",
       "version_major": 2,
       "version_minor": 0
      },
      "text/plain": [
       "  0%|          | 0/20 [00:00<?, ?it/s]"
      ]
     },
     "metadata": {},
     "output_type": "display_data"
    },
    {
     "name": "stdout",
     "output_type": "stream",
     "text": [
      "generating images for BEAUFORT with prompt: best quality, high quality, image of Beaufort on a wooden plate, with a kitchen background, seen from a side view\n"
     ]
    },
    {
     "data": {
      "application/vnd.jupyter.widget-view+json": {
       "model_id": "b3d7876b866a461fb0a53dd5dc2bf226",
       "version_major": 2,
       "version_minor": 0
      },
      "text/plain": [
       "  0%|          | 0/20 [00:00<?, ?it/s]"
      ]
     },
     "metadata": {},
     "output_type": "display_data"
    },
    {
     "name": "stdout",
     "output_type": "stream",
     "text": [
      "generating images for BEAUFORT with prompt: best quality, high quality, image of Beaufort on a plain white background, with a plain white background, seen from a face view\n"
     ]
    },
    {
     "data": {
      "application/vnd.jupyter.widget-view+json": {
       "model_id": "6295ef7e82724d09b03270542326cbd2",
       "version_major": 2,
       "version_minor": 0
      },
      "text/plain": [
       "  0%|          | 0/20 [00:00<?, ?it/s]"
      ]
     },
     "metadata": {},
     "output_type": "display_data"
    },
    {
     "name": "stdout",
     "output_type": "stream",
     "text": [
      "/Data/hala.gamouh/cheese_classification_challenge/dataset/val/BEAUFORT/000012.jpg\n",
      "generating images for BEAUFORT with prompt: best quality, high quality, image of Beaufort on a plain white background, with a plain white background, seen from a face view\n"
     ]
    },
    {
     "data": {
      "application/vnd.jupyter.widget-view+json": {
       "model_id": "8af878415003435b906ba561c8da727d",
       "version_major": 2,
       "version_minor": 0
      },
      "text/plain": [
       "  0%|          | 0/20 [00:00<?, ?it/s]"
      ]
     },
     "metadata": {},
     "output_type": "display_data"
    },
    {
     "name": "stdout",
     "output_type": "stream",
     "text": [
      "generating images for BEAUFORT with prompt: best quality, high quality, image of Beaufort on a marble plate, with a kitchen background, seen from a side view\n"
     ]
    },
    {
     "data": {
      "application/vnd.jupyter.widget-view+json": {
       "model_id": "239de9e1812b461ea2cb3e8ec9a2e706",
       "version_major": 2,
       "version_minor": 0
      },
      "text/plain": [
       "  0%|          | 0/20 [00:00<?, ?it/s]"
      ]
     },
     "metadata": {},
     "output_type": "display_data"
    },
    {
     "name": "stdout",
     "output_type": "stream",
     "text": [
      "generating images for BEAUFORT with prompt: best quality, high quality, image of Beaufort on a marble plate, with a shop background, seen from an angled shot\n"
     ]
    },
    {
     "data": {
      "application/vnd.jupyter.widget-view+json": {
       "model_id": "d6157e27f68743cd93c3be40a04ba014",
       "version_major": 2,
       "version_minor": 0
      },
      "text/plain": [
       "  0%|          | 0/20 [00:00<?, ?it/s]"
      ]
     },
     "metadata": {},
     "output_type": "display_data"
    },
    {
     "name": "stdout",
     "output_type": "stream",
     "text": [
      "/Data/hala.gamouh/cheese_classification_challenge/dataset/val/BEAUFORT/000013.jpg\n",
      "generating images for BEAUFORT with prompt: best quality, high quality, image of Beaufort on a wooden plate, with a kitchen background, seen from a side view\n"
     ]
    },
    {
     "data": {
      "application/vnd.jupyter.widget-view+json": {
       "model_id": "a02964ed9154427abe4f2415fa6d1a97",
       "version_major": 2,
       "version_minor": 0
      },
      "text/plain": [
       "  0%|          | 0/20 [00:00<?, ?it/s]"
      ]
     },
     "metadata": {},
     "output_type": "display_data"
    },
    {
     "name": "stdout",
     "output_type": "stream",
     "text": [
      "generating images for BEAUFORT with prompt: best quality, high quality, image of Beaufort on a plain white background, with a plain white background, seen from a face view\n"
     ]
    },
    {
     "data": {
      "application/vnd.jupyter.widget-view+json": {
       "model_id": "b204fac5d30b4df1accd100b1a51ca53",
       "version_major": 2,
       "version_minor": 0
      },
      "text/plain": [
       "  0%|          | 0/20 [00:00<?, ?it/s]"
      ]
     },
     "metadata": {},
     "output_type": "display_data"
    },
    {
     "name": "stdout",
     "output_type": "stream",
     "text": [
      "generating images for BEAUFORT with prompt: best quality, high quality, image of Beaufort on a plain white background, with a cheese cave background, seen from a side view\n"
     ]
    },
    {
     "data": {
      "application/vnd.jupyter.widget-view+json": {
       "model_id": "5fe97bdb349d4033b61078fd290a786d",
       "version_major": 2,
       "version_minor": 0
      },
      "text/plain": [
       "  0%|          | 0/20 [00:00<?, ?it/s]"
      ]
     },
     "metadata": {},
     "output_type": "display_data"
    },
    {
     "name": "stdout",
     "output_type": "stream",
     "text": [
      "/Data/hala.gamouh/cheese_classification_challenge/dataset/val/BEAUFORT/000014.jpg\n",
      "generating images for BEAUFORT with prompt: best quality, high quality, image of Beaufort on a wooden plate, with a kitchen background, seen from a side view\n"
     ]
    },
    {
     "data": {
      "application/vnd.jupyter.widget-view+json": {
       "model_id": "01ca5b46fae94bf98a6e89d6a54fea70",
       "version_major": 2,
       "version_minor": 0
      },
      "text/plain": [
       "  0%|          | 0/20 [00:00<?, ?it/s]"
      ]
     },
     "metadata": {},
     "output_type": "display_data"
    },
    {
     "name": "stdout",
     "output_type": "stream",
     "text": [
      "generating images for BEAUFORT with prompt: best quality, high quality, image of Beaufort on a wooden plate, with a plain white background, seen from above\n"
     ]
    },
    {
     "data": {
      "application/vnd.jupyter.widget-view+json": {
       "model_id": "f5828eb3f70a4a35838a2308a1680887",
       "version_major": 2,
       "version_minor": 0
      },
      "text/plain": [
       "  0%|          | 0/20 [00:00<?, ?it/s]"
      ]
     },
     "metadata": {},
     "output_type": "display_data"
    },
    {
     "name": "stdout",
     "output_type": "stream",
     "text": [
      "generating images for BEAUFORT with prompt: best quality, high quality, image of Beaufort on a white plate, with a cheese factory background, seen from an angled shot\n"
     ]
    },
    {
     "data": {
      "application/vnd.jupyter.widget-view+json": {
       "model_id": "6cd120db00e14d45930d96ee1bfd1ff2",
       "version_major": 2,
       "version_minor": 0
      },
      "text/plain": [
       "  0%|          | 0/20 [00:00<?, ?it/s]"
      ]
     },
     "metadata": {},
     "output_type": "display_data"
    },
    {
     "name": "stdout",
     "output_type": "stream",
     "text": [
      "/Data/hala.gamouh/cheese_classification_challenge/dataset/val/BEAUFORT/000015.jpg\n",
      "generating images for BEAUFORT with prompt: best quality, high quality, image of Beaufort on a slate board, with a shop background, seen from above\n"
     ]
    },
    {
     "data": {
      "application/vnd.jupyter.widget-view+json": {
       "model_id": "8d94be91e9224fe0a6cd679814085652",
       "version_major": 2,
       "version_minor": 0
      },
      "text/plain": [
       "  0%|          | 0/20 [00:00<?, ?it/s]"
      ]
     },
     "metadata": {},
     "output_type": "display_data"
    },
    {
     "name": "stdout",
     "output_type": "stream",
     "text": [
      "generating images for BEAUFORT with prompt: best quality, high quality, image of Beaufort on a plain white background, with a plain white background, seen from a face view\n"
     ]
    },
    {
     "data": {
      "application/vnd.jupyter.widget-view+json": {
       "model_id": "b682487f4fe3413c89246cd690287d9c",
       "version_major": 2,
       "version_minor": 0
      },
      "text/plain": [
       "  0%|          | 0/20 [00:00<?, ?it/s]"
      ]
     },
     "metadata": {},
     "output_type": "display_data"
    },
    {
     "name": "stdout",
     "output_type": "stream",
     "text": [
      "generating images for BEAUFORT with prompt: best quality, high quality, image of Beaufort on a slate board, with a cheese cave background, seen from above\n"
     ]
    },
    {
     "data": {
      "application/vnd.jupyter.widget-view+json": {
       "model_id": "fd2f6dba0e42490db3c914967d800f4a",
       "version_major": 2,
       "version_minor": 0
      },
      "text/plain": [
       "  0%|          | 0/20 [00:00<?, ?it/s]"
      ]
     },
     "metadata": {},
     "output_type": "display_data"
    },
    {
     "name": "stdout",
     "output_type": "stream",
     "text": [
      "/Data/hala.gamouh/cheese_classification_challenge/dataset/val/BEAUFORT/000016.jpg\n",
      "generating images for BEAUFORT with prompt: best quality, high quality, image of Beaufort on a slate board, with a shop background, seen from above\n"
     ]
    },
    {
     "data": {
      "application/vnd.jupyter.widget-view+json": {
       "model_id": "6c2ec0ea34a54284ae7ee91411c07180",
       "version_major": 2,
       "version_minor": 0
      },
      "text/plain": [
       "  0%|          | 0/20 [00:00<?, ?it/s]"
      ]
     },
     "metadata": {},
     "output_type": "display_data"
    },
    {
     "name": "stdout",
     "output_type": "stream",
     "text": [
      "generating images for BEAUFORT with prompt: best quality, high quality, in its packaging\n"
     ]
    },
    {
     "data": {
      "application/vnd.jupyter.widget-view+json": {
       "model_id": "9fb4e9306ffc4bad8617e1a0e2fde00e",
       "version_major": 2,
       "version_minor": 0
      },
      "text/plain": [
       "  0%|          | 0/20 [00:00<?, ?it/s]"
      ]
     },
     "metadata": {},
     "output_type": "display_data"
    },
    {
     "name": "stdout",
     "output_type": "stream",
     "text": [
      "generating images for BEAUFORT with prompt: best quality, high quality, image of Beaufort on a plain white background, with a plain white background, seen from a face view\n"
     ]
    },
    {
     "data": {
      "application/vnd.jupyter.widget-view+json": {
       "model_id": "83fc1751eb5d423f993def03d4006aff",
       "version_major": 2,
       "version_minor": 0
      },
      "text/plain": [
       "  0%|          | 0/20 [00:00<?, ?it/s]"
      ]
     },
     "metadata": {},
     "output_type": "display_data"
    },
    {
     "name": "stdout",
     "output_type": "stream",
     "text": [
      "/Data/hala.gamouh/cheese_classification_challenge/dataset/val/BEAUFORT/000017.jpg\n",
      "generating images for BEAUFORT with prompt: best quality, high quality, in its packaging\n"
     ]
    },
    {
     "data": {
      "application/vnd.jupyter.widget-view+json": {
       "model_id": "39ef9ef8064641e8a54d8681bf511b42",
       "version_major": 2,
       "version_minor": 0
      },
      "text/plain": [
       "  0%|          | 0/20 [00:00<?, ?it/s]"
      ]
     },
     "metadata": {},
     "output_type": "display_data"
    },
    {
     "name": "stdout",
     "output_type": "stream",
     "text": [
      "generating images for BEAUFORT with prompt: best quality, high quality, image of Beaufort on a wooden plate, with a kitchen background, seen from a side view\n"
     ]
    },
    {
     "data": {
      "application/vnd.jupyter.widget-view+json": {
       "model_id": "451b7a09c4e643d384b0a5663a41ac3a",
       "version_major": 2,
       "version_minor": 0
      },
      "text/plain": [
       "  0%|          | 0/20 [00:00<?, ?it/s]"
      ]
     },
     "metadata": {},
     "output_type": "display_data"
    },
    {
     "name": "stdout",
     "output_type": "stream",
     "text": [
      "generating images for BEAUFORT with prompt: best quality, high quality, image of Beaufort on a slate board, with a shop background, seen from above\n"
     ]
    },
    {
     "data": {
      "application/vnd.jupyter.widget-view+json": {
       "model_id": "38fba76dce0f44b986835a9583a34525",
       "version_major": 2,
       "version_minor": 0
      },
      "text/plain": [
       "  0%|          | 0/20 [00:00<?, ?it/s]"
      ]
     },
     "metadata": {},
     "output_type": "display_data"
    },
    {
     "name": "stdout",
     "output_type": "stream",
     "text": [
      "/Data/hala.gamouh/cheese_classification_challenge/dataset/val/BEAUFORT/000018.jpg\n",
      "generating images for BEAUFORT with prompt: best quality, high quality, image of Beaufort on a white plate, with a plain white background, seen from above\n"
     ]
    },
    {
     "data": {
      "application/vnd.jupyter.widget-view+json": {
       "model_id": "972693a4b7db4cd796503b0f54178e6b",
       "version_major": 2,
       "version_minor": 0
      },
      "text/plain": [
       "  0%|          | 0/20 [00:00<?, ?it/s]"
      ]
     },
     "metadata": {},
     "output_type": "display_data"
    },
    {
     "name": "stdout",
     "output_type": "stream",
     "text": [
      "generating images for BEAUFORT with prompt: best quality, high quality, image of Beaufort on a white plate, with a plain white background, seen from above\n"
     ]
    },
    {
     "data": {
      "application/vnd.jupyter.widget-view+json": {
       "model_id": "b9eadafba5a54300ab70c24bb8dd2669",
       "version_major": 2,
       "version_minor": 0
      },
      "text/plain": [
       "  0%|          | 0/20 [00:00<?, ?it/s]"
      ]
     },
     "metadata": {},
     "output_type": "display_data"
    },
    {
     "name": "stdout",
     "output_type": "stream",
     "text": [
      "generating images for BEAUFORT with prompt: best quality, high quality, image of Beaufort on a white plate, with a cheese factory background, seen from an angled shot\n"
     ]
    },
    {
     "data": {
      "application/vnd.jupyter.widget-view+json": {
       "model_id": "dbf1ca8b8cda48d48bba9e91ab35edde",
       "version_major": 2,
       "version_minor": 0
      },
      "text/plain": [
       "  0%|          | 0/20 [00:00<?, ?it/s]"
      ]
     },
     "metadata": {},
     "output_type": "display_data"
    },
    {
     "name": "stdout",
     "output_type": "stream",
     "text": [
      "/Data/hala.gamouh/cheese_classification_challenge/dataset/val/BEAUFORT/000019.jpg\n",
      "generating images for BEAUFORT with prompt: best quality, high quality, in its packaging\n"
     ]
    },
    {
     "data": {
      "application/vnd.jupyter.widget-view+json": {
       "model_id": "63d6aad8a91143b8b51c91667b21feed",
       "version_major": 2,
       "version_minor": 0
      },
      "text/plain": [
       "  0%|          | 0/20 [00:00<?, ?it/s]"
      ]
     },
     "metadata": {},
     "output_type": "display_data"
    },
    {
     "name": "stdout",
     "output_type": "stream",
     "text": [
      "generating images for BEAUFORT with prompt: best quality, high quality, image of Beaufort on a wooden plate, with a plain white background, seen from above\n"
     ]
    },
    {
     "data": {
      "application/vnd.jupyter.widget-view+json": {
       "model_id": "b1364d65005745e7a522e6882a673195",
       "version_major": 2,
       "version_minor": 0
      },
      "text/plain": [
       "  0%|          | 0/20 [00:00<?, ?it/s]"
      ]
     },
     "metadata": {},
     "output_type": "display_data"
    },
    {
     "name": "stdout",
     "output_type": "stream",
     "text": [
      "generating images for BEAUFORT with prompt: best quality, high quality, image of Beaufort on a marble plate, with a kitchen background, seen from a side view\n"
     ]
    },
    {
     "data": {
      "application/vnd.jupyter.widget-view+json": {
       "model_id": "ca1ec48f87bc46afaa4a34d76bac57fb",
       "version_major": 2,
       "version_minor": 0
      },
      "text/plain": [
       "  0%|          | 0/20 [00:00<?, ?it/s]"
      ]
     },
     "metadata": {},
     "output_type": "display_data"
    },
    {
     "name": "stdout",
     "output_type": "stream",
     "text": [
      "/Data/hala.gamouh/cheese_classification_challenge/dataset/val/BEAUFORT/000020.jpg\n",
      "generating images for BEAUFORT with prompt: best quality, high quality, in its packaging\n"
     ]
    },
    {
     "data": {
      "application/vnd.jupyter.widget-view+json": {
       "model_id": "bff61354a95f49ab9eb3469ebb50ebb8",
       "version_major": 2,
       "version_minor": 0
      },
      "text/plain": [
       "  0%|          | 0/20 [00:00<?, ?it/s]"
      ]
     },
     "metadata": {},
     "output_type": "display_data"
    },
    {
     "name": "stdout",
     "output_type": "stream",
     "text": [
      "generating images for BEAUFORT with prompt: best quality, high quality, image of Beaufort on a slate board, with a shop background, seen from above\n"
     ]
    },
    {
     "data": {
      "application/vnd.jupyter.widget-view+json": {
       "model_id": "fb7390a569ac4df2a80ca8296f9a1e7c",
       "version_major": 2,
       "version_minor": 0
      },
      "text/plain": [
       "  0%|          | 0/20 [00:00<?, ?it/s]"
      ]
     },
     "metadata": {},
     "output_type": "display_data"
    },
    {
     "name": "stdout",
     "output_type": "stream",
     "text": [
      "generating images for BEAUFORT with prompt: best quality, high quality, image of Beaufort on a slate board, with a shop background, seen from above\n"
     ]
    },
    {
     "data": {
      "application/vnd.jupyter.widget-view+json": {
       "model_id": "2971eec535984e488ac2f7a16f6089ae",
       "version_major": 2,
       "version_minor": 0
      },
      "text/plain": [
       "  0%|          | 0/20 [00:00<?, ?it/s]"
      ]
     },
     "metadata": {},
     "output_type": "display_data"
    },
    {
     "name": "stdout",
     "output_type": "stream",
     "text": [
      "/Data/hala.gamouh/cheese_classification_challenge/dataset/val/BEAUFORT/000021.jpg\n",
      "generating images for BEAUFORT with prompt: best quality, high quality, image of Beaufort on a slate board, with a shop background, seen from above\n"
     ]
    },
    {
     "data": {
      "application/vnd.jupyter.widget-view+json": {
       "model_id": "dcb04b1436ac422f8fd3b35c928b470d",
       "version_major": 2,
       "version_minor": 0
      },
      "text/plain": [
       "  0%|          | 0/20 [00:00<?, ?it/s]"
      ]
     },
     "metadata": {},
     "output_type": "display_data"
    },
    {
     "name": "stdout",
     "output_type": "stream",
     "text": [
      "generating images for BEAUFORT with prompt: best quality, high quality, image of Beaufort on a slate board, with a shop background, seen from above\n"
     ]
    },
    {
     "data": {
      "application/vnd.jupyter.widget-view+json": {
       "model_id": "1244a96a904643e5a307e2ae7b82f56c",
       "version_major": 2,
       "version_minor": 0
      },
      "text/plain": [
       "  0%|          | 0/20 [00:00<?, ?it/s]"
      ]
     },
     "metadata": {},
     "output_type": "display_data"
    },
    {
     "name": "stdout",
     "output_type": "stream",
     "text": [
      "generating images for BEAUFORT with prompt: best quality, high quality, image of Beaufort on a white plate, with a plain white background, seen from above\n"
     ]
    },
    {
     "data": {
      "application/vnd.jupyter.widget-view+json": {
       "model_id": "164e792417a546a99fe8842ba191a57c",
       "version_major": 2,
       "version_minor": 0
      },
      "text/plain": [
       "  0%|          | 0/20 [00:00<?, ?it/s]"
      ]
     },
     "metadata": {},
     "output_type": "display_data"
    },
    {
     "name": "stdout",
     "output_type": "stream",
     "text": [
      "/Data/hala.gamouh/cheese_classification_challenge/dataset/val/BEAUFORT/000022.jpg\n",
      "generating images for BEAUFORT with prompt: best quality, high quality, image of Beaufort on a marble plate, with a shop background, seen from an angled shot\n"
     ]
    },
    {
     "data": {
      "application/vnd.jupyter.widget-view+json": {
       "model_id": "cf2af7f44ff04ead8e74b96df7002bee",
       "version_major": 2,
       "version_minor": 0
      },
      "text/plain": [
       "  0%|          | 0/20 [00:00<?, ?it/s]"
      ]
     },
     "metadata": {},
     "output_type": "display_data"
    },
    {
     "name": "stdout",
     "output_type": "stream",
     "text": [
      "generating images for BEAUFORT with prompt: best quality, high quality, image of Beaufort on a slate board, with a cheese cave background, seen from above\n"
     ]
    },
    {
     "data": {
      "application/vnd.jupyter.widget-view+json": {
       "model_id": "5b80b5c961924c6e93f10fd9685a2e0c",
       "version_major": 2,
       "version_minor": 0
      },
      "text/plain": [
       "  0%|          | 0/20 [00:00<?, ?it/s]"
      ]
     },
     "metadata": {},
     "output_type": "display_data"
    },
    {
     "name": "stdout",
     "output_type": "stream",
     "text": [
      "generating images for BEAUFORT with prompt: best quality, high quality, image of Beaufort on a marble plate, with a kitchen background, seen from a side view\n"
     ]
    },
    {
     "data": {
      "application/vnd.jupyter.widget-view+json": {
       "model_id": "eab71e4d999e462ca2070e54d3e3e413",
       "version_major": 2,
       "version_minor": 0
      },
      "text/plain": [
       "  0%|          | 0/20 [00:00<?, ?it/s]"
      ]
     },
     "metadata": {},
     "output_type": "display_data"
    },
    {
     "name": "stdout",
     "output_type": "stream",
     "text": [
      "/Data/hala.gamouh/cheese_classification_challenge/dataset/val/BEAUFORT/000023.jpg\n",
      "generating images for BEAUFORT with prompt: best quality, high quality, image of Beaufort on a marble plate, with a kitchen background, seen from a side view\n"
     ]
    },
    {
     "data": {
      "application/vnd.jupyter.widget-view+json": {
       "model_id": "c64c08114318401f9094eeedc796c5da",
       "version_major": 2,
       "version_minor": 0
      },
      "text/plain": [
       "  0%|          | 0/20 [00:00<?, ?it/s]"
      ]
     },
     "metadata": {},
     "output_type": "display_data"
    },
    {
     "name": "stdout",
     "output_type": "stream",
     "text": [
      "generating images for BEAUFORT with prompt: best quality, high quality, image of Beaufort on a slate board, with a shop background, seen from above\n"
     ]
    },
    {
     "data": {
      "application/vnd.jupyter.widget-view+json": {
       "model_id": "59ff24b22be140d8a8964e2644611ce4",
       "version_major": 2,
       "version_minor": 0
      },
      "text/plain": [
       "  0%|          | 0/20 [00:00<?, ?it/s]"
      ]
     },
     "metadata": {},
     "output_type": "display_data"
    },
    {
     "name": "stdout",
     "output_type": "stream",
     "text": [
      "generating images for BEAUFORT with prompt: best quality, high quality, image of Beaufort on a plain white background, with a plain white background, seen from a face view\n"
     ]
    },
    {
     "data": {
      "application/vnd.jupyter.widget-view+json": {
       "model_id": "78e6fa7b67a341889574db46220fcf69",
       "version_major": 2,
       "version_minor": 0
      },
      "text/plain": [
       "  0%|          | 0/20 [00:00<?, ?it/s]"
      ]
     },
     "metadata": {},
     "output_type": "display_data"
    },
    {
     "name": "stdout",
     "output_type": "stream",
     "text": [
      "/Data/hala.gamouh/cheese_classification_challenge/dataset/val/BEAUFORT/000024.jpg\n",
      "generating images for BEAUFORT with prompt: best quality, high quality, image of Beaufort on a slate board, with a shop background, seen from above\n"
     ]
    },
    {
     "data": {
      "application/vnd.jupyter.widget-view+json": {
       "model_id": "aee6f99cf34a4548b5062986112f285b",
       "version_major": 2,
       "version_minor": 0
      },
      "text/plain": [
       "  0%|          | 0/20 [00:00<?, ?it/s]"
      ]
     },
     "metadata": {},
     "output_type": "display_data"
    },
    {
     "name": "stdout",
     "output_type": "stream",
     "text": [
      "generating images for BEAUFORT with prompt: best quality, high quality, image of Beaufort on a white plate, with a plain white background, seen from above\n"
     ]
    },
    {
     "data": {
      "application/vnd.jupyter.widget-view+json": {
       "model_id": "afb71856af19400b88fbf921427f9eaa",
       "version_major": 2,
       "version_minor": 0
      },
      "text/plain": [
       "  0%|          | 0/20 [00:00<?, ?it/s]"
      ]
     },
     "metadata": {},
     "output_type": "display_data"
    },
    {
     "name": "stdout",
     "output_type": "stream",
     "text": [
      "generating images for BEAUFORT with prompt: best quality, high quality, image of Beaufort on a slate board, with a cheese cave background, seen from above\n"
     ]
    },
    {
     "data": {
      "application/vnd.jupyter.widget-view+json": {
       "model_id": "fc2529db2d534c88a6c950c193fac347",
       "version_major": 2,
       "version_minor": 0
      },
      "text/plain": [
       "  0%|          | 0/20 [00:00<?, ?it/s]"
      ]
     },
     "metadata": {},
     "output_type": "display_data"
    }
   ],
   "source": [
    "import os\n",
    "import random\n",
    "from PIL import Image\n",
    "\n",
    "base_dir = \"/Data/hala.gamouh/cheese_classification_challenge/dataset/val\"\n",
    "output_base_dir = \"/Data/hala.gamouh/ip_adapt_on_val_only\"\n",
    "\n",
    "os.makedirs(output_base_dir, exist_ok=True)\n",
    "\n",
    "# Function to generate images for a given cheese name and prompt\n",
    "def generate_images_for_cheese(cheese_name, image_path, cheese_prompt, scale, ip_model, num_samples=1):\n",
    "    image = Image.open(image_path)\n",
    "    prompt = f\"best quality, high quality, {cheese_prompt}\"\n",
    "    print(f\"Generating images for {cheese_name} with prompt: {prompt}\")\n",
    "    \n",
    "    cheese_name = cheese_name.strip().upper()\n",
    "    special_cheeses = [\"FOURME D’AMBERT\", \"ROQUEFORT\", \"STILTON\"]\n",
    "    \n",
    "    if cheese_name in special_cheeses:\n",
    "        images = ip_model.generate(\n",
    "            pil_image=image, \n",
    "            num_samples=num_samples, \n",
    "            num_inference_steps=20, \n",
    "            seed=42, \n",
    "            prompt=prompt, \n",
    "            negative_prompt=\"blue stains, too blue, green stains, too green\", \n",
    "            scale=scale\n",
    "        )\n",
    "    else:\n",
    "        images = ip_model.generate(\n",
    "            pil_image=image, \n",
    "            num_samples=num_samples, \n",
    "            num_inference_steps=20, \n",
    "            seed=42, \n",
    "            prompt=prompt, \n",
    "            scale=scale\n",
    "        )\n",
    "\n",
    "    return images\n",
    "\n",
    "scales = [0.5,0.7,0.9]\n",
    "#seen = [\"BRIE DE MELUN\", \"CAMEMBERT\", \"EPOISSES\",\"FOURME D’AMBERT\", \"MORBIER\", \"RACLETTE\", \"SAINT-NECTAIRE\"]\n",
    "for cheese_name in simple_cheese_prompts.keys():\n",
    "    cheese_dir = os.path.join(base_dir, cheese_name)\n",
    "    cheese_output_dir = os.path.join(output_base_dir, cheese_name)\n",
    "\n",
    "    os.makedirs(cheese_output_dir, exist_ok=True)\n",
    "    for scale in scales:\n",
    "        for image_name in os.listdir(cheese_dir):\n",
    "            image_path = os.path.join(cheese_dir, image_name)\n",
    "            print(image_path)\n",
    "            for _ in range(3):  # Generate images three times per scale\n",
    "                drawn_prompt = random.choice(simple_cheese_prompts[cheese_name])\n",
    "                full_prompt = f\"best quality, high quality, {drawn_prompt}\"\n",
    "    \n",
    "                # Generate images for the current cheese and prompt\n",
    "                cheese_images = generate_images_for_cheese(cheese_name, image_path, full_prompt, scale, num_samples=1)\n",
    "                \n",
    "                for i, gen_image in enumerate(cheese_images):\n",
    "                    output_image_path = os.path.join(cheese_output_dir, f\"{cheese_name}_{image_name}_prompt{scale}_{_+1}_{i+1}_.jpg\")\n",
    "                    gen_image.save(output_image_path)\n",
    "                        "
   ]
  },
  {
   "cell_type": "code",
   "execution_count": null,
   "id": "a8a6a29a",
   "metadata": {},
   "outputs": [],
   "source": []
  }
 ],
 "metadata": {
  "kernelspec": {
   "display_name": "Python 3 (ipykernel)",
   "language": "python",
   "name": "python3"
  },
  "language_info": {
   "codemirror_mode": {
    "name": "ipython",
    "version": 3
   },
   "file_extension": ".py",
   "mimetype": "text/x-python",
   "name": "python",
   "nbconvert_exporter": "python",
   "pygments_lexer": "ipython3",
   "version": "3.12.3"
  }
 },
 "nbformat": 4,
 "nbformat_minor": 5
}
